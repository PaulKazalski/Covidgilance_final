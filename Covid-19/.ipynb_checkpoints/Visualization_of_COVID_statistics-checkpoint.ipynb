{
 "cells": [
  {
   "cell_type": "markdown",
   "metadata": {},
   "source": [
    "# Visualizations of COVID Statistics among States (U.S.) \n",
    "\n",
    "#### COVID-19 has had a tremendous impact on the United States, but its effects have not been uniform.  This Jupyter Notebook shows how the number of cases and deaths fluctuate by region, month, and even day of the week."
   ]
  },
  {
   "cell_type": "code",
   "execution_count": 3,
   "metadata": {},
   "outputs": [
    {
     "ename": "ModuleNotFoundError",
     "evalue": "No module named 'gmaps'",
     "output_type": "error",
     "traceback": [
      "\u001b[1;31m---------------------------------------------------------------------------\u001b[0m",
      "\u001b[1;31mModuleNotFoundError\u001b[0m                       Traceback (most recent call last)",
      "\u001b[1;32m<ipython-input-3-467a92bebaad>\u001b[0m in \u001b[0;36m<module>\u001b[1;34m\u001b[0m\n\u001b[0;32m     10\u001b[0m \u001b[1;31m#import folium\u001b[0m\u001b[1;33m\u001b[0m\u001b[1;33m\u001b[0m\u001b[1;33m\u001b[0m\u001b[0m\n\u001b[0;32m     11\u001b[0m \u001b[1;31m#from folium import plugins\u001b[0m\u001b[1;33m\u001b[0m\u001b[1;33m\u001b[0m\u001b[1;33m\u001b[0m\u001b[0m\n\u001b[1;32m---> 12\u001b[1;33m \u001b[1;32mimport\u001b[0m \u001b[0mgmaps\u001b[0m\u001b[1;33m\u001b[0m\u001b[1;33m\u001b[0m\u001b[0m\n\u001b[0m\u001b[0;32m     13\u001b[0m \u001b[1;32mimport\u001b[0m \u001b[0mos\u001b[0m\u001b[1;33m\u001b[0m\u001b[1;33m\u001b[0m\u001b[0m\n\u001b[0;32m     14\u001b[0m \u001b[1;32mfrom\u001b[0m \u001b[0mfbprophet\u001b[0m \u001b[1;32mimport\u001b[0m \u001b[0mProphet\u001b[0m\u001b[1;33m\u001b[0m\u001b[1;33m\u001b[0m\u001b[0m\n",
      "\u001b[1;31mModuleNotFoundError\u001b[0m: No module named 'gmaps'"
     ]
    }
   ],
   "source": [
    "# importing the required libraries\n",
    "import pandas as pd\n",
    "\n",
    "# Visualisation libraries\n",
    "import matplotlib.pyplot as plt\n",
    "%matplotlib inline\n",
    "import seaborn as sns\n",
    "import plotly.express as px\n",
    "import plotly.graph_objects as go\n",
    "import folium \n",
    "from folium import plugins\n",
    "import gmaps\n",
    "import os\n",
    "from fbprophet import Prophet\n",
    "\n",
    "# Manipulating the default plot size\n",
    "plt.rcParams['figure.figsize'] = 10, 12\n",
    "\n",
    "# Disable warnings \n",
    "import warnings\n",
    "warnings.filterwarnings('ignore')"
   ]
  },
  {
   "cell_type": "markdown",
   "metadata": {},
   "source": [
    "## 1. Color-based visualizations of Worldometer data\n",
    "\n",
    "#### https://www.worldometers.info/coronavirus/country/us/ has done an excellent job of tracking COIVD cases in the U.S.  To easily compare relative magnitudes, this section re-displays the table with a scaled colormap."
   ]
  },
  {
   "cell_type": "code",
   "execution_count": 2,
   "metadata": {},
   "outputs": [
    {
     "data": {
      "text/html": [
       "<div>\n",
       "<style scoped>\n",
       "    .dataframe tbody tr th:only-of-type {\n",
       "        vertical-align: middle;\n",
       "    }\n",
       "\n",
       "    .dataframe tbody tr th {\n",
       "        vertical-align: top;\n",
       "    }\n",
       "\n",
       "    .dataframe thead th {\n",
       "        text-align: right;\n",
       "    }\n",
       "</style>\n",
       "<table border=\"1\" class=\"dataframe\">\n",
       "  <thead>\n",
       "    <tr style=\"text-align: right;\">\n",
       "      <th></th>\n",
       "      <th>USAState</th>\n",
       "      <th>TotalCases</th>\n",
       "      <th>TotalDeaths</th>\n",
       "      <th>ActiveCases</th>\n",
       "      <th>Total_Cases/1M pop</th>\n",
       "      <th>Deaths/1M pop</th>\n",
       "      <th>TotalTests</th>\n",
       "      <th>Tests\\n1M pop</th>\n",
       "      <th>Latitude</th>\n",
       "      <th>Longitude</th>\n",
       "    </tr>\n",
       "  </thead>\n",
       "  <tbody>\n",
       "    <tr>\n",
       "      <th>0</th>\n",
       "      <td>USA Total</td>\n",
       "      <td>1,218,638</td>\n",
       "      <td>70,727</td>\n",
       "      <td>959,133</td>\n",
       "      <td>3,682</td>\n",
       "      <td>214</td>\n",
       "      <td>7,535,605</td>\n",
       "      <td>22,766</td>\n",
       "      <td>37.291140</td>\n",
       "      <td>-120.505736</td>\n",
       "    </tr>\n",
       "    <tr>\n",
       "      <th>1</th>\n",
       "      <td>New York</td>\n",
       "      <td>327,374</td>\n",
       "      <td>25,174</td>\n",
       "      <td>248,855</td>\n",
       "      <td>16,687</td>\n",
       "      <td>1,283</td>\n",
       "      <td>1,007,310</td>\n",
       "      <td>51,345</td>\n",
       "      <td>41.676259</td>\n",
       "      <td>-73.896615</td>\n",
       "    </tr>\n",
       "    <tr>\n",
       "      <th>2</th>\n",
       "      <td>New Jersey</td>\n",
       "      <td>129,345</td>\n",
       "      <td>7,951</td>\n",
       "      <td>120,123</td>\n",
       "      <td>14,563</td>\n",
       "      <td>895</td>\n",
       "      <td>275,900</td>\n",
       "      <td>31,063</td>\n",
       "      <td>40.700948</td>\n",
       "      <td>-74.173630</td>\n",
       "    </tr>\n",
       "    <tr>\n",
       "      <th>3</th>\n",
       "      <td>Massachusetts</td>\n",
       "      <td>69,087</td>\n",
       "      <td>4,090</td>\n",
       "      <td>56,879</td>\n",
       "      <td>10,115</td>\n",
       "      <td>599</td>\n",
       "      <td>324,268</td>\n",
       "      <td>47,476</td>\n",
       "      <td>42.350724</td>\n",
       "      <td>-71.324371</td>\n",
       "    </tr>\n",
       "    <tr>\n",
       "      <th>4</th>\n",
       "      <td>Illinois</td>\n",
       "      <td>63,840</td>\n",
       "      <td>2,662</td>\n",
       "      <td>60,533</td>\n",
       "      <td>4,979</td>\n",
       "      <td>208</td>\n",
       "      <td>333,147</td>\n",
       "      <td>25,983</td>\n",
       "      <td>41.780119</td>\n",
       "      <td>-87.643841</td>\n",
       "    </tr>\n",
       "    <tr>\n",
       "      <th>...</th>\n",
       "      <td>...</td>\n",
       "      <td>...</td>\n",
       "      <td>...</td>\n",
       "      <td>...</td>\n",
       "      <td>...</td>\n",
       "      <td>...</td>\n",
       "      <td>...</td>\n",
       "      <td>...</td>\n",
       "      <td>...</td>\n",
       "      <td>...</td>\n",
       "    </tr>\n",
       "    <tr>\n",
       "      <th>59</th>\n",
       "      <td>Federal Prisons</td>\n",
       "      <td>2,340</td>\n",
       "      <td>40</td>\n",
       "      <td>1,608</td>\n",
       "      <td>NaN</td>\n",
       "      <td>NaN</td>\n",
       "      <td>NaN</td>\n",
       "      <td>NaN</td>\n",
       "      <td>37.842690</td>\n",
       "      <td>-90.504733</td>\n",
       "    </tr>\n",
       "    <tr>\n",
       "      <th>60</th>\n",
       "      <td>Grand Princess Ship</td>\n",
       "      <td>103</td>\n",
       "      <td>3</td>\n",
       "      <td>100</td>\n",
       "      <td>NaN</td>\n",
       "      <td>NaN</td>\n",
       "      <td>NaN</td>\n",
       "      <td>NaN</td>\n",
       "      <td>41.141023</td>\n",
       "      <td>-94.984766</td>\n",
       "    </tr>\n",
       "    <tr>\n",
       "      <th>61</th>\n",
       "      <td>Wuhan Repatriated</td>\n",
       "      <td>3</td>\n",
       "      <td>NaN</td>\n",
       "      <td>3</td>\n",
       "      <td>NaN</td>\n",
       "      <td>NaN</td>\n",
       "      <td>3</td>\n",
       "      <td>NaN</td>\n",
       "      <td>20.881910</td>\n",
       "      <td>-156.520641</td>\n",
       "    </tr>\n",
       "    <tr>\n",
       "      <th>62</th>\n",
       "      <td>Diamond Princess Ship</td>\n",
       "      <td>46</td>\n",
       "      <td>NaN</td>\n",
       "      <td>46</td>\n",
       "      <td>NaN</td>\n",
       "      <td>NaN</td>\n",
       "      <td>46</td>\n",
       "      <td>NaN</td>\n",
       "      <td>39.766121</td>\n",
       "      <td>-105.606489</td>\n",
       "    </tr>\n",
       "    <tr>\n",
       "      <th>63</th>\n",
       "      <td>Total:</td>\n",
       "      <td>1,218,638</td>\n",
       "      <td>70,727</td>\n",
       "      <td>959,133</td>\n",
       "      <td>3,682</td>\n",
       "      <td>214</td>\n",
       "      <td>7,535,605</td>\n",
       "      <td>22,766</td>\n",
       "      <td>45.420063</td>\n",
       "      <td>12.375136</td>\n",
       "    </tr>\n",
       "  </tbody>\n",
       "</table>\n",
       "<p>64 rows × 10 columns</p>\n",
       "</div>"
      ],
      "text/plain": [
       "                 USAState TotalCases TotalDeaths ActiveCases  \\\n",
       "0               USA Total  1,218,638      70,727     959,133   \n",
       "1                New York    327,374      25,174     248,855   \n",
       "2              New Jersey    129,345       7,951     120,123   \n",
       "3           Massachusetts     69,087       4,090      56,879   \n",
       "4                Illinois     63,840       2,662      60,533   \n",
       "..                    ...        ...         ...         ...   \n",
       "59        Federal Prisons      2,340          40       1,608   \n",
       "60    Grand Princess Ship        103           3         100   \n",
       "61      Wuhan Repatriated          3         NaN           3   \n",
       "62  Diamond Princess Ship         46         NaN          46   \n",
       "63                 Total:  1,218,638      70,727     959,133   \n",
       "\n",
       "   Total_Cases/1M pop Deaths/1M pop TotalTests Tests\\n1M pop   Latitude  \\\n",
       "0               3,682           214  7,535,605        22,766  37.291140   \n",
       "1              16,687         1,283  1,007,310        51,345  41.676259   \n",
       "2              14,563           895    275,900        31,063  40.700948   \n",
       "3              10,115           599    324,268        47,476  42.350724   \n",
       "4               4,979           208    333,147        25,983  41.780119   \n",
       "..                ...           ...        ...           ...        ...   \n",
       "59                NaN           NaN        NaN           NaN  37.842690   \n",
       "60                NaN           NaN        NaN           NaN  41.141023   \n",
       "61                NaN           NaN          3           NaN  20.881910   \n",
       "62                NaN           NaN         46           NaN  39.766121   \n",
       "63              3,682           214  7,535,605        22,766  45.420063   \n",
       "\n",
       "     Longitude  \n",
       "0  -120.505736  \n",
       "1   -73.896615  \n",
       "2   -74.173630  \n",
       "3   -71.324371  \n",
       "4   -87.643841  \n",
       "..         ...  \n",
       "59  -90.504733  \n",
       "60  -94.984766  \n",
       "61 -156.520641  \n",
       "62 -105.606489  \n",
       "63   12.375136  \n",
       "\n",
       "[64 rows x 10 columns]"
      ]
     },
     "execution_count": 2,
     "metadata": {},
     "output_type": "execute_result"
    }
   ],
   "source": [
    "#Reading the data sets\n",
    "df = pd.read_csv('./Resources/worldmetersUS1.csv')\n",
    "#Load Data\n",
    "df_us = df.copy()\n",
    "df_us = df_us.drop(['NewCases','Unnamed: 0.1','NewDeaths','Unnamed: 0'], axis=1)\n",
    "df_us_old = df_us.copy()\n",
    "df_us"
   ]
  },
  {
   "cell_type": "markdown",
   "metadata": {},
   "source": [
    "### 1.1 Total Covid 19 Case as of May 3rd"
   ]
  },
  {
   "cell_type": "code",
   "execution_count": 3,
   "metadata": {},
   "outputs": [
    {
     "name": "stdout",
     "output_type": "stream",
     "text": [
      "The Total Covid 19 Cases Across the United States (As of May 3rd): 1,218,638\n"
     ]
    }
   ],
   "source": [
    "total_cases = df['TotalCases'][0]\n",
    "print(f'The Total Covid 19 Cases Across the United States (As of May 3rd): {total_cases}' )"
   ]
  },
  {
   "cell_type": "markdown",
   "metadata": {},
   "source": [
    "### 1.2 Data Cleaning - Make sure all table data are floats or integers"
   ]
  },
  {
   "cell_type": "code",
   "execution_count": 4,
   "metadata": {},
   "outputs": [
    {
     "data": {
      "text/plain": [
       "USAState               object\n",
       "TotalCases             object\n",
       "TotalDeaths            object\n",
       "ActiveCases            object\n",
       "Total_Cases/1M pop     object\n",
       "Deaths/1M pop          object\n",
       "TotalTests             object\n",
       "Tests\\n1M pop          object\n",
       "Latitude              float64\n",
       "Longitude             float64\n",
       "dtype: object"
      ]
     },
     "execution_count": 4,
     "metadata": {},
     "output_type": "execute_result"
    }
   ],
   "source": [
    "df_us.dtypes"
   ]
  },
  {
   "cell_type": "code",
   "execution_count": 27,
   "metadata": {},
   "outputs": [],
   "source": [
    "# Make a copy of the dataframe\n",
    "df_us_2 = df_us.copy()\n",
    "# Drop the first row of the table - the total U.S. data\n",
    "df_us_2 = df_us_2.drop(0, axis=0)\n",
    "# Change all of these columns from an object to either an integer or float\n",
    "df_us_2['TotalCases'] = df_us['TotalCases'].str.replace(\",\",\"\").astype(int)\n",
    "df_us_2['TotalDeaths'] = df_us['TotalDeaths'].str.replace(\",\",\"\").astype(float)\n",
    "df_us_2['ActiveCases'] = df_us['ActiveCases'].str.replace(\",\",\"\").astype(float)\n",
    "df_us_2['Total_Cases/1M pop'] = df_us['Total_Cases/1M pop'].str.replace(\",\",\"\").astype(float)\n",
    "df_us_2['Deaths/1M pop'] = df_us['Deaths/1M pop'].str.replace(\",\",\"\").astype(float)\n",
    "df_us_2['TotalTests'] = df_us['TotalTests'].str.replace(\",\",\"\").astype(float)\n",
    "df_us_2['Tests\\n1M pop'] = df_us['Tests\\n1M pop'].str.replace(\",\",\"\").astype(float)"
   ]
  },
  {
   "cell_type": "code",
   "execution_count": 34,
   "metadata": {},
   "outputs": [
    {
     "data": {
      "text/html": [
       "<div>\n",
       "<style scoped>\n",
       "    .dataframe tbody tr th:only-of-type {\n",
       "        vertical-align: middle;\n",
       "    }\n",
       "\n",
       "    .dataframe tbody tr th {\n",
       "        vertical-align: top;\n",
       "    }\n",
       "\n",
       "    .dataframe thead th {\n",
       "        text-align: right;\n",
       "    }\n",
       "</style>\n",
       "<table border=\"1\" class=\"dataframe\">\n",
       "  <thead>\n",
       "    <tr style=\"text-align: right;\">\n",
       "      <th></th>\n",
       "      <th>USAState</th>\n",
       "      <th>TotalCases</th>\n",
       "      <th>TotalDeaths</th>\n",
       "      <th>ActiveCases</th>\n",
       "      <th>Total_Cases/1M pop</th>\n",
       "      <th>Deaths/1M pop</th>\n",
       "      <th>TotalTests</th>\n",
       "      <th>Tests\\n1M pop</th>\n",
       "      <th>Latitude</th>\n",
       "      <th>Longitude</th>\n",
       "    </tr>\n",
       "  </thead>\n",
       "  <tbody>\n",
       "    <tr>\n",
       "      <th>1</th>\n",
       "      <td>New York</td>\n",
       "      <td>327374</td>\n",
       "      <td>25174.0</td>\n",
       "      <td>248855.0</td>\n",
       "      <td>16687.0</td>\n",
       "      <td>1283.0</td>\n",
       "      <td>1007310.0</td>\n",
       "      <td>51345.0</td>\n",
       "      <td>42.0</td>\n",
       "      <td>-74.0</td>\n",
       "    </tr>\n",
       "    <tr>\n",
       "      <th>2</th>\n",
       "      <td>New Jersey</td>\n",
       "      <td>129345</td>\n",
       "      <td>7951.0</td>\n",
       "      <td>120123.0</td>\n",
       "      <td>14563.0</td>\n",
       "      <td>895.0</td>\n",
       "      <td>275900.0</td>\n",
       "      <td>31063.0</td>\n",
       "      <td>41.0</td>\n",
       "      <td>-74.0</td>\n",
       "    </tr>\n",
       "    <tr>\n",
       "      <th>3</th>\n",
       "      <td>Massachusetts</td>\n",
       "      <td>69087</td>\n",
       "      <td>4090.0</td>\n",
       "      <td>56879.0</td>\n",
       "      <td>10115.0</td>\n",
       "      <td>599.0</td>\n",
       "      <td>324268.0</td>\n",
       "      <td>47476.0</td>\n",
       "      <td>42.0</td>\n",
       "      <td>-71.0</td>\n",
       "    </tr>\n",
       "    <tr>\n",
       "      <th>4</th>\n",
       "      <td>Illinois</td>\n",
       "      <td>63840</td>\n",
       "      <td>2662.0</td>\n",
       "      <td>60533.0</td>\n",
       "      <td>4979.0</td>\n",
       "      <td>208.0</td>\n",
       "      <td>333147.0</td>\n",
       "      <td>25983.0</td>\n",
       "      <td>42.0</td>\n",
       "      <td>-88.0</td>\n",
       "    </tr>\n",
       "    <tr>\n",
       "      <th>5</th>\n",
       "      <td>California</td>\n",
       "      <td>56306</td>\n",
       "      <td>2294.0</td>\n",
       "      <td>46448.0</td>\n",
       "      <td>1438.0</td>\n",
       "      <td>59.0</td>\n",
       "      <td>750287.0</td>\n",
       "      <td>19165.0</td>\n",
       "      <td>34.0</td>\n",
       "      <td>-118.0</td>\n",
       "    </tr>\n",
       "  </tbody>\n",
       "</table>\n",
       "</div>"
      ],
      "text/plain": [
       "        USAState  TotalCases  TotalDeaths  ActiveCases  Total_Cases/1M pop  \\\n",
       "1       New York      327374      25174.0     248855.0             16687.0   \n",
       "2     New Jersey      129345       7951.0     120123.0             14563.0   \n",
       "3  Massachusetts       69087       4090.0      56879.0             10115.0   \n",
       "4       Illinois       63840       2662.0      60533.0              4979.0   \n",
       "5     California       56306       2294.0      46448.0              1438.0   \n",
       "\n",
       "   Deaths/1M pop  TotalTests  Tests\\n1M pop  Latitude  Longitude  \n",
       "1         1283.0   1007310.0        51345.0      42.0      -74.0  \n",
       "2          895.0    275900.0        31063.0      41.0      -74.0  \n",
       "3          599.0    324268.0        47476.0      42.0      -71.0  \n",
       "4          208.0    333147.0        25983.0      42.0      -88.0  \n",
       "5           59.0    750287.0        19165.0      34.0     -118.0  "
      ]
     },
     "execution_count": 34,
     "metadata": {},
     "output_type": "execute_result"
    }
   ],
   "source": [
    "# Round-up all data to whole numbers\n",
    "df_us_2 = df_us_2.round(0)\n",
    "# Fill in any data as zeroes\n",
    "df_us_2 = df_us_2.fillna(0)\n",
    "df_us_2.head()"
   ]
  },
  {
   "cell_type": "code",
   "execution_count": 35,
   "metadata": {},
   "outputs": [],
   "source": [
    "# Drop the bottom row and drop the Latitude and Longitude column\n",
    "df_us_3 = df_us_2.drop(63, axis=0)\n",
    "df_us_3 = df_us_3.drop(['Latitude','Longitude'], axis=1)"
   ]
  },
  {
   "cell_type": "markdown",
   "metadata": {},
   "source": [
    "### 1.3 Presenting the Color Gradient Tables"
   ]
  },
  {
   "cell_type": "code",
   "execution_count": 36,
   "metadata": {
    "scrolled": true
   },
   "outputs": [
    {
     "data": {
      "text/html": [
       "<style  type=\"text/css\" >\n",
       "    #T_7486abe4_8fff_11ea_afda_24ee9a9cd771row0_col1 {\n",
       "            background-color:  #67000d;\n",
       "            color:  #f1f1f1;\n",
       "        }    #T_7486abe4_8fff_11ea_afda_24ee9a9cd771row0_col2 {\n",
       "            background-color:  #67000d;\n",
       "            color:  #f1f1f1;\n",
       "        }    #T_7486abe4_8fff_11ea_afda_24ee9a9cd771row0_col3 {\n",
       "            background-color:  #67000d;\n",
       "            color:  #f1f1f1;\n",
       "        }    #T_7486abe4_8fff_11ea_afda_24ee9a9cd771row0_col4 {\n",
       "            background-color:  #67000d;\n",
       "            color:  #f1f1f1;\n",
       "        }    #T_7486abe4_8fff_11ea_afda_24ee9a9cd771row0_col5 {\n",
       "            background-color:  #67000d;\n",
       "            color:  #f1f1f1;\n",
       "        }    #T_7486abe4_8fff_11ea_afda_24ee9a9cd771row0_col6 {\n",
       "            background-color:  #67000d;\n",
       "            color:  #f1f1f1;\n",
       "        }    #T_7486abe4_8fff_11ea_afda_24ee9a9cd771row0_col7 {\n",
       "            background-color:  #d72322;\n",
       "            color:  #f1f1f1;\n",
       "        }    #T_7486abe4_8fff_11ea_afda_24ee9a9cd771row1_col1 {\n",
       "            background-color:  #fc8b6b;\n",
       "            color:  #000000;\n",
       "        }    #T_7486abe4_8fff_11ea_afda_24ee9a9cd771row1_col2 {\n",
       "            background-color:  #fca689;\n",
       "            color:  #000000;\n",
       "        }    #T_7486abe4_8fff_11ea_afda_24ee9a9cd771row1_col3 {\n",
       "            background-color:  #fb7050;\n",
       "            color:  #000000;\n",
       "        }    #T_7486abe4_8fff_11ea_afda_24ee9a9cd771row1_col4 {\n",
       "            background-color:  #a50f15;\n",
       "            color:  #f1f1f1;\n",
       "        }    #T_7486abe4_8fff_11ea_afda_24ee9a9cd771row1_col5 {\n",
       "            background-color:  #da2723;\n",
       "            color:  #f1f1f1;\n",
       "        }    #T_7486abe4_8fff_11ea_afda_24ee9a9cd771row1_col6 {\n",
       "            background-color:  #fcb398;\n",
       "            color:  #000000;\n",
       "        }    #T_7486abe4_8fff_11ea_afda_24ee9a9cd771row1_col7 {\n",
       "            background-color:  #fc8161;\n",
       "            color:  #000000;\n",
       "        }    #T_7486abe4_8fff_11ea_afda_24ee9a9cd771row2_col1 {\n",
       "            background-color:  #fdc6b0;\n",
       "            color:  #000000;\n",
       "        }    #T_7486abe4_8fff_11ea_afda_24ee9a9cd771row2_col2 {\n",
       "            background-color:  #fdd5c4;\n",
       "            color:  #000000;\n",
       "        }    #T_7486abe4_8fff_11ea_afda_24ee9a9cd771row2_col3 {\n",
       "            background-color:  #fcc2aa;\n",
       "            color:  #000000;\n",
       "        }    #T_7486abe4_8fff_11ea_afda_24ee9a9cd771row2_col4 {\n",
       "            background-color:  #f14130;\n",
       "            color:  #f1f1f1;\n",
       "        }    #T_7486abe4_8fff_11ea_afda_24ee9a9cd771row2_col5 {\n",
       "            background-color:  #fb7555;\n",
       "            color:  #000000;\n",
       "        }    #T_7486abe4_8fff_11ea_afda_24ee9a9cd771row2_col6 {\n",
       "            background-color:  #fca486;\n",
       "            color:  #000000;\n",
       "        }    #T_7486abe4_8fff_11ea_afda_24ee9a9cd771row2_col7 {\n",
       "            background-color:  #e53228;\n",
       "            color:  #f1f1f1;\n",
       "        }    #T_7486abe4_8fff_11ea_afda_24ee9a9cd771row3_col1 {\n",
       "            background-color:  #fdccb8;\n",
       "            color:  #000000;\n",
       "        }    #T_7486abe4_8fff_11ea_afda_24ee9a9cd771row3_col2 {\n",
       "            background-color:  #fee3d7;\n",
       "            color:  #000000;\n",
       "        }    #T_7486abe4_8fff_11ea_afda_24ee9a9cd771row3_col3 {\n",
       "            background-color:  #fcbda4;\n",
       "            color:  #000000;\n",
       "        }    #T_7486abe4_8fff_11ea_afda_24ee9a9cd771row3_col4 {\n",
       "            background-color:  #fcab8f;\n",
       "            color:  #000000;\n",
       "        }    #T_7486abe4_8fff_11ea_afda_24ee9a9cd771row3_col5 {\n",
       "            background-color:  #fdd5c4;\n",
       "            color:  #000000;\n",
       "        }    #T_7486abe4_8fff_11ea_afda_24ee9a9cd771row3_col6 {\n",
       "            background-color:  #fca183;\n",
       "            color:  #000000;\n",
       "        }    #T_7486abe4_8fff_11ea_afda_24ee9a9cd771row3_col7 {\n",
       "            background-color:  #fc9879;\n",
       "            color:  #000000;\n",
       "        }    #T_7486abe4_8fff_11ea_afda_24ee9a9cd771row4_col1 {\n",
       "            background-color:  #fdd2bf;\n",
       "            color:  #000000;\n",
       "        }    #T_7486abe4_8fff_11ea_afda_24ee9a9cd771row4_col2 {\n",
       "            background-color:  #fee6da;\n",
       "            color:  #000000;\n",
       "        }    #T_7486abe4_8fff_11ea_afda_24ee9a9cd771row4_col3 {\n",
       "            background-color:  #fdcebb;\n",
       "            color:  #000000;\n",
       "        }    #T_7486abe4_8fff_11ea_afda_24ee9a9cd771row4_col4 {\n",
       "            background-color:  #fee7db;\n",
       "            color:  #000000;\n",
       "        }    #T_7486abe4_8fff_11ea_afda_24ee9a9cd771row4_col5 {\n",
       "            background-color:  #ffeee6;\n",
       "            color:  #000000;\n",
       "        }    #T_7486abe4_8fff_11ea_afda_24ee9a9cd771row4_col6 {\n",
       "            background-color:  #cc191e;\n",
       "            color:  #f1f1f1;\n",
       "        }    #T_7486abe4_8fff_11ea_afda_24ee9a9cd771row4_col7 {\n",
       "            background-color:  #fcb79c;\n",
       "            color:  #000000;\n",
       "        }    #T_7486abe4_8fff_11ea_afda_24ee9a9cd771row5_col1 {\n",
       "            background-color:  #fdd5c4;\n",
       "            color:  #000000;\n",
       "        }    #T_7486abe4_8fff_11ea_afda_24ee9a9cd771row5_col2 {\n",
       "            background-color:  #fee1d4;\n",
       "            color:  #000000;\n",
       "        }    #T_7486abe4_8fff_11ea_afda_24ee9a9cd771row5_col3 {\n",
       "            background-color:  #fdcbb6;\n",
       "            color:  #000000;\n",
       "        }    #T_7486abe4_8fff_11ea_afda_24ee9a9cd771row5_col4 {\n",
       "            background-color:  #fcbca2;\n",
       "            color:  #000000;\n",
       "        }    #T_7486abe4_8fff_11ea_afda_24ee9a9cd771row5_col5 {\n",
       "            background-color:  #fdd0bc;\n",
       "            color:  #000000;\n",
       "        }    #T_7486abe4_8fff_11ea_afda_24ee9a9cd771row5_col6 {\n",
       "            background-color:  #fcbca2;\n",
       "            color:  #000000;\n",
       "        }    #T_7486abe4_8fff_11ea_afda_24ee9a9cd771row5_col7 {\n",
       "            background-color:  #fcb499;\n",
       "            color:  #000000;\n",
       "        }    #T_7486abe4_8fff_11ea_afda_24ee9a9cd771row6_col1 {\n",
       "            background-color:  #fedecf;\n",
       "            color:  #000000;\n",
       "        }    #T_7486abe4_8fff_11ea_afda_24ee9a9cd771row6_col2 {\n",
       "            background-color:  #fdd4c2;\n",
       "            color:  #000000;\n",
       "        }    #T_7486abe4_8fff_11ea_afda_24ee9a9cd771row6_col3 {\n",
       "            background-color:  #fee5d9;\n",
       "            color:  #000000;\n",
       "        }    #T_7486abe4_8fff_11ea_afda_24ee9a9cd771row6_col4 {\n",
       "            background-color:  #fcb79c;\n",
       "            color:  #000000;\n",
       "        }    #T_7486abe4_8fff_11ea_afda_24ee9a9cd771row6_col5 {\n",
       "            background-color:  #fca486;\n",
       "            color:  #000000;\n",
       "        }    #T_7486abe4_8fff_11ea_afda_24ee9a9cd771row6_col6 {\n",
       "            background-color:  #fcc2aa;\n",
       "            color:  #000000;\n",
       "        }    #T_7486abe4_8fff_11ea_afda_24ee9a9cd771row6_col7 {\n",
       "            background-color:  #fca588;\n",
       "            color:  #000000;\n",
       "        }    #T_7486abe4_8fff_11ea_afda_24ee9a9cd771row7_col1 {\n",
       "            background-color:  #fee2d5;\n",
       "            color:  #000000;\n",
       "        }    #T_7486abe4_8fff_11ea_afda_24ee9a9cd771row7_col2 {\n",
       "            background-color:  #ffece3;\n",
       "            color:  #000000;\n",
       "        }    #T_7486abe4_8fff_11ea_afda_24ee9a9cd771row7_col3 {\n",
       "            background-color:  #fedbcc;\n",
       "            color:  #000000;\n",
       "        }    #T_7486abe4_8fff_11ea_afda_24ee9a9cd771row7_col4 {\n",
       "            background-color:  #fee3d7;\n",
       "            color:  #000000;\n",
       "        }    #T_7486abe4_8fff_11ea_afda_24ee9a9cd771row7_col5 {\n",
       "            background-color:  #ffece3;\n",
       "            color:  #000000;\n",
       "        }    #T_7486abe4_8fff_11ea_afda_24ee9a9cd771row7_col6 {\n",
       "            background-color:  #fb7656;\n",
       "            color:  #000000;\n",
       "        }    #T_7486abe4_8fff_11ea_afda_24ee9a9cd771row7_col7 {\n",
       "            background-color:  #fca689;\n",
       "            color:  #000000;\n",
       "        }    #T_7486abe4_8fff_11ea_afda_24ee9a9cd771row8_col1 {\n",
       "            background-color:  #fee5d8;\n",
       "            color:  #000000;\n",
       "        }    #T_7486abe4_8fff_11ea_afda_24ee9a9cd771row8_col2 {\n",
       "            background-color:  #ffefe8;\n",
       "            color:  #000000;\n",
       "        }    #T_7486abe4_8fff_11ea_afda_24ee9a9cd771row8_col3 {\n",
       "            background-color:  #feeae1;\n",
       "            color:  #000000;\n",
       "        }    #T_7486abe4_8fff_11ea_afda_24ee9a9cd771row8_col4 {\n",
       "            background-color:  #fee9df;\n",
       "            color:  #000000;\n",
       "        }    #T_7486abe4_8fff_11ea_afda_24ee9a9cd771row8_col5 {\n",
       "            background-color:  #fff1ea;\n",
       "            color:  #000000;\n",
       "        }    #T_7486abe4_8fff_11ea_afda_24ee9a9cd771row8_col6 {\n",
       "            background-color:  #fc8969;\n",
       "            color:  #000000;\n",
       "        }    #T_7486abe4_8fff_11ea_afda_24ee9a9cd771row8_col7 {\n",
       "            background-color:  #fdcab5;\n",
       "            color:  #000000;\n",
       "        }    #T_7486abe4_8fff_11ea_afda_24ee9a9cd771row9_col1 {\n",
       "            background-color:  #fee6da;\n",
       "            color:  #000000;\n",
       "        }    #T_7486abe4_8fff_11ea_afda_24ee9a9cd771row9_col2 {\n",
       "            background-color:  #fee5d8;\n",
       "            color:  #000000;\n",
       "        }    #T_7486abe4_8fff_11ea_afda_24ee9a9cd771row9_col3 {\n",
       "            background-color:  #fee3d6;\n",
       "            color:  #000000;\n",
       "        }    #T_7486abe4_8fff_11ea_afda_24ee9a9cd771row9_col4 {\n",
       "            background-color:  #fa6849;\n",
       "            color:  #000000;\n",
       "        }    #T_7486abe4_8fff_11ea_afda_24ee9a9cd771row9_col5 {\n",
       "            background-color:  #f6553c;\n",
       "            color:  #000000;\n",
       "        }    #T_7486abe4_8fff_11ea_afda_24ee9a9cd771row9_col6 {\n",
       "            background-color:  #fee4d8;\n",
       "            color:  #000000;\n",
       "        }    #T_7486abe4_8fff_11ea_afda_24ee9a9cd771row9_col7 {\n",
       "            background-color:  #fc8767;\n",
       "            color:  #000000;\n",
       "        }    #T_7486abe4_8fff_11ea_afda_24ee9a9cd771row10_col1 {\n",
       "            background-color:  #fee6da;\n",
       "            color:  #000000;\n",
       "        }    #T_7486abe4_8fff_11ea_afda_24ee9a9cd771row10_col2 {\n",
       "            background-color:  #fee8dd;\n",
       "            color:  #000000;\n",
       "        }    #T_7486abe4_8fff_11ea_afda_24ee9a9cd771row10_col3 {\n",
       "            background-color:  #ffeee7;\n",
       "            color:  #000000;\n",
       "        }    #T_7486abe4_8fff_11ea_afda_24ee9a9cd771row10_col4 {\n",
       "            background-color:  #fc9070;\n",
       "            color:  #000000;\n",
       "        }    #T_7486abe4_8fff_11ea_afda_24ee9a9cd771row10_col5 {\n",
       "            background-color:  #fc9c7d;\n",
       "            color:  #000000;\n",
       "        }    #T_7486abe4_8fff_11ea_afda_24ee9a9cd771row10_col6 {\n",
       "            background-color:  #fdd1be;\n",
       "            color:  #000000;\n",
       "        }    #T_7486abe4_8fff_11ea_afda_24ee9a9cd771row10_col7 {\n",
       "            background-color:  #f75c41;\n",
       "            color:  #000000;\n",
       "        }    #T_7486abe4_8fff_11ea_afda_24ee9a9cd771row11_col1 {\n",
       "            background-color:  #fee6da;\n",
       "            color:  #000000;\n",
       "        }    #T_7486abe4_8fff_11ea_afda_24ee9a9cd771row11_col2 {\n",
       "            background-color:  #ffede5;\n",
       "            color:  #000000;\n",
       "        }    #T_7486abe4_8fff_11ea_afda_24ee9a9cd771row11_col3 {\n",
       "            background-color:  #fee3d6;\n",
       "            color:  #000000;\n",
       "        }    #T_7486abe4_8fff_11ea_afda_24ee9a9cd771row11_col4 {\n",
       "            background-color:  #fdd2bf;\n",
       "            color:  #000000;\n",
       "        }    #T_7486abe4_8fff_11ea_afda_24ee9a9cd771row11_col5 {\n",
       "            background-color:  #fee5d9;\n",
       "            color:  #000000;\n",
       "        }    #T_7486abe4_8fff_11ea_afda_24ee9a9cd771row11_col6 {\n",
       "            background-color:  #fdcab5;\n",
       "            color:  #000000;\n",
       "        }    #T_7486abe4_8fff_11ea_afda_24ee9a9cd771row11_col7 {\n",
       "            background-color:  #fcb499;\n",
       "            color:  #000000;\n",
       "        }    #T_7486abe4_8fff_11ea_afda_24ee9a9cd771row12_col1 {\n",
       "            background-color:  #fee7dc;\n",
       "            color:  #000000;\n",
       "        }    #T_7486abe4_8fff_11ea_afda_24ee9a9cd771row12_col2 {\n",
       "            background-color:  #ffece3;\n",
       "            color:  #000000;\n",
       "        }    #T_7486abe4_8fff_11ea_afda_24ee9a9cd771row12_col3 {\n",
       "            background-color:  #fee5d9;\n",
       "            color:  #000000;\n",
       "        }    #T_7486abe4_8fff_11ea_afda_24ee9a9cd771row12_col4 {\n",
       "            background-color:  #fcb499;\n",
       "            color:  #000000;\n",
       "        }    #T_7486abe4_8fff_11ea_afda_24ee9a9cd771row12_col5 {\n",
       "            background-color:  #fdd0bc;\n",
       "            color:  #000000;\n",
       "        }    #T_7486abe4_8fff_11ea_afda_24ee9a9cd771row12_col6 {\n",
       "            background-color:  #fedccd;\n",
       "            color:  #000000;\n",
       "        }    #T_7486abe4_8fff_11ea_afda_24ee9a9cd771row12_col7 {\n",
       "            background-color:  #fca486;\n",
       "            color:  #000000;\n",
       "        }    #T_7486abe4_8fff_11ea_afda_24ee9a9cd771row13_col1 {\n",
       "            background-color:  #feeae1;\n",
       "            color:  #000000;\n",
       "        }    #T_7486abe4_8fff_11ea_afda_24ee9a9cd771row13_col2 {\n",
       "            background-color:  #ffece4;\n",
       "            color:  #000000;\n",
       "        }    #T_7486abe4_8fff_11ea_afda_24ee9a9cd771row13_col3 {\n",
       "            background-color:  #fee8dd;\n",
       "            color:  #000000;\n",
       "        }    #T_7486abe4_8fff_11ea_afda_24ee9a9cd771row13_col4 {\n",
       "            background-color:  #fdcdb9;\n",
       "            color:  #000000;\n",
       "        }    #T_7486abe4_8fff_11ea_afda_24ee9a9cd771row13_col5 {\n",
       "            background-color:  #fed8c7;\n",
       "            color:  #000000;\n",
       "        }    #T_7486abe4_8fff_11ea_afda_24ee9a9cd771row13_col6 {\n",
       "            background-color:  #fee2d5;\n",
       "            color:  #000000;\n",
       "        }    #T_7486abe4_8fff_11ea_afda_24ee9a9cd771row13_col7 {\n",
       "            background-color:  #fcbea5;\n",
       "            color:  #000000;\n",
       "        }    #T_7486abe4_8fff_11ea_afda_24ee9a9cd771row14_col1 {\n",
       "            background-color:  #feeae1;\n",
       "            color:  #000000;\n",
       "        }    #T_7486abe4_8fff_11ea_afda_24ee9a9cd771row14_col2 {\n",
       "            background-color:  #ffeee7;\n",
       "            color:  #000000;\n",
       "        }    #T_7486abe4_8fff_11ea_afda_24ee9a9cd771row14_col3 {\n",
       "            background-color:  #fee8de;\n",
       "            color:  #000000;\n",
       "        }    #T_7486abe4_8fff_11ea_afda_24ee9a9cd771row14_col4 {\n",
       "            background-color:  #fee4d8;\n",
       "            color:  #000000;\n",
       "        }    #T_7486abe4_8fff_11ea_afda_24ee9a9cd771row14_col5 {\n",
       "            background-color:  #fee9df;\n",
       "            color:  #000000;\n",
       "        }    #T_7486abe4_8fff_11ea_afda_24ee9a9cd771row14_col6 {\n",
       "            background-color:  #fed8c7;\n",
       "            color:  #000000;\n",
       "        }    #T_7486abe4_8fff_11ea_afda_24ee9a9cd771row14_col7 {\n",
       "            background-color:  #fdd0bc;\n",
       "            color:  #000000;\n",
       "        }    #T_7486abe4_8fff_11ea_afda_24ee9a9cd771row15_col1 {\n",
       "            background-color:  #ffebe2;\n",
       "            color:  #000000;\n",
       "        }    #T_7486abe4_8fff_11ea_afda_24ee9a9cd771row15_col2 {\n",
       "            background-color:  #fff0e9;\n",
       "            color:  #000000;\n",
       "        }    #T_7486abe4_8fff_11ea_afda_24ee9a9cd771row15_col3 {\n",
       "            background-color:  #feeae0;\n",
       "            color:  #000000;\n",
       "        }    #T_7486abe4_8fff_11ea_afda_24ee9a9cd771row15_col4 {\n",
       "            background-color:  #fedbcc;\n",
       "            color:  #000000;\n",
       "        }    #T_7486abe4_8fff_11ea_afda_24ee9a9cd771row15_col5 {\n",
       "            background-color:  #feeae1;\n",
       "            color:  #000000;\n",
       "        }    #T_7486abe4_8fff_11ea_afda_24ee9a9cd771row15_col6 {\n",
       "            background-color:  #fee0d2;\n",
       "            color:  #000000;\n",
       "        }    #T_7486abe4_8fff_11ea_afda_24ee9a9cd771row15_col7 {\n",
       "            background-color:  #fdc7b2;\n",
       "            color:  #000000;\n",
       "        }    #T_7486abe4_8fff_11ea_afda_24ee9a9cd771row16_col1 {\n",
       "            background-color:  #ffece4;\n",
       "            color:  #000000;\n",
       "        }    #T_7486abe4_8fff_11ea_afda_24ee9a9cd771row16_col2 {\n",
       "            background-color:  #fff0e8;\n",
       "            color:  #000000;\n",
       "        }    #T_7486abe4_8fff_11ea_afda_24ee9a9cd771row16_col3 {\n",
       "            background-color:  #ffebe2;\n",
       "            color:  #000000;\n",
       "        }    #T_7486abe4_8fff_11ea_afda_24ee9a9cd771row16_col4 {\n",
       "            background-color:  #fdd0bc;\n",
       "            color:  #000000;\n",
       "        }    #T_7486abe4_8fff_11ea_afda_24ee9a9cd771row16_col5 {\n",
       "            background-color:  #fee1d4;\n",
       "            color:  #000000;\n",
       "        }    #T_7486abe4_8fff_11ea_afda_24ee9a9cd771row16_col6 {\n",
       "            background-color:  #fee7dc;\n",
       "            color:  #000000;\n",
       "        }    #T_7486abe4_8fff_11ea_afda_24ee9a9cd771row16_col7 {\n",
       "            background-color:  #fdc7b2;\n",
       "            color:  #000000;\n",
       "        }    #T_7486abe4_8fff_11ea_afda_24ee9a9cd771row17_col1 {\n",
       "            background-color:  #ffede5;\n",
       "            color:  #000000;\n",
       "        }    #T_7486abe4_8fff_11ea_afda_24ee9a9cd771row17_col2 {\n",
       "            background-color:  #fff0e8;\n",
       "            color:  #000000;\n",
       "        }    #T_7486abe4_8fff_11ea_afda_24ee9a9cd771row17_col3 {\n",
       "            background-color:  #ffece4;\n",
       "            color:  #000000;\n",
       "        }    #T_7486abe4_8fff_11ea_afda_24ee9a9cd771row17_col4 {\n",
       "            background-color:  #fedfd0;\n",
       "            color:  #000000;\n",
       "        }    #T_7486abe4_8fff_11ea_afda_24ee9a9cd771row17_col5 {\n",
       "            background-color:  #fee6da;\n",
       "            color:  #000000;\n",
       "        }    #T_7486abe4_8fff_11ea_afda_24ee9a9cd771row17_col6 {\n",
       "            background-color:  #fdc6b0;\n",
       "            color:  #000000;\n",
       "        }    #T_7486abe4_8fff_11ea_afda_24ee9a9cd771row17_col7 {\n",
       "            background-color:  #fc8767;\n",
       "            color:  #000000;\n",
       "        }    #T_7486abe4_8fff_11ea_afda_24ee9a9cd771row18_col1 {\n",
       "            background-color:  #ffeee7;\n",
       "            color:  #000000;\n",
       "        }    #T_7486abe4_8fff_11ea_afda_24ee9a9cd771row18_col2 {\n",
       "            background-color:  #fff4ee;\n",
       "            color:  #000000;\n",
       "        }    #T_7486abe4_8fff_11ea_afda_24ee9a9cd771row18_col3 {\n",
       "            background-color:  #fff0e9;\n",
       "            color:  #000000;\n",
       "        }    #T_7486abe4_8fff_11ea_afda_24ee9a9cd771row18_col4 {\n",
       "            background-color:  #fee1d3;\n",
       "            color:  #000000;\n",
       "        }    #T_7486abe4_8fff_11ea_afda_24ee9a9cd771row18_col5 {\n",
       "            background-color:  #fff1ea;\n",
       "            color:  #000000;\n",
       "        }    #T_7486abe4_8fff_11ea_afda_24ee9a9cd771row18_col6 {\n",
       "            background-color:  #fdc7b2;\n",
       "            color:  #000000;\n",
       "        }    #T_7486abe4_8fff_11ea_afda_24ee9a9cd771row18_col7 {\n",
       "            background-color:  #fb7d5d;\n",
       "            color:  #000000;\n",
       "        }    #T_7486abe4_8fff_11ea_afda_24ee9a9cd771row19_col1 {\n",
       "            background-color:  #ffefe8;\n",
       "            color:  #000000;\n",
       "        }    #T_7486abe4_8fff_11ea_afda_24ee9a9cd771row19_col2 {\n",
       "            background-color:  #fff2ec;\n",
       "            color:  #000000;\n",
       "        }    #T_7486abe4_8fff_11ea_afda_24ee9a9cd771row19_col3 {\n",
       "            background-color:  #ffeee7;\n",
       "            color:  #000000;\n",
       "        }    #T_7486abe4_8fff_11ea_afda_24ee9a9cd771row19_col4 {\n",
       "            background-color:  #fee9df;\n",
       "            color:  #000000;\n",
       "        }    #T_7486abe4_8fff_11ea_afda_24ee9a9cd771row19_col5 {\n",
       "            background-color:  #fff0e8;\n",
       "            color:  #000000;\n",
       "        }    #T_7486abe4_8fff_11ea_afda_24ee9a9cd771row19_col6 {\n",
       "            background-color:  #fed9c9;\n",
       "            color:  #000000;\n",
       "        }    #T_7486abe4_8fff_11ea_afda_24ee9a9cd771row19_col7 {\n",
       "            background-color:  #fdc9b3;\n",
       "            color:  #000000;\n",
       "        }    #T_7486abe4_8fff_11ea_afda_24ee9a9cd771row20_col1 {\n",
       "            background-color:  #fff0e9;\n",
       "            color:  #000000;\n",
       "        }    #T_7486abe4_8fff_11ea_afda_24ee9a9cd771row20_col2 {\n",
       "            background-color:  #fff4ee;\n",
       "            color:  #000000;\n",
       "        }    #T_7486abe4_8fff_11ea_afda_24ee9a9cd771row20_col3 {\n",
       "            background-color:  #fff1ea;\n",
       "            color:  #000000;\n",
       "        }    #T_7486abe4_8fff_11ea_afda_24ee9a9cd771row20_col4 {\n",
       "            background-color:  #fdccb8;\n",
       "            color:  #000000;\n",
       "        }    #T_7486abe4_8fff_11ea_afda_24ee9a9cd771row20_col5 {\n",
       "            background-color:  #ffece4;\n",
       "            color:  #000000;\n",
       "        }    #T_7486abe4_8fff_11ea_afda_24ee9a9cd771row20_col6 {\n",
       "            background-color:  #ffece3;\n",
       "            color:  #000000;\n",
       "        }    #T_7486abe4_8fff_11ea_afda_24ee9a9cd771row20_col7 {\n",
       "            background-color:  #fcbba1;\n",
       "            color:  #000000;\n",
       "        }    #T_7486abe4_8fff_11ea_afda_24ee9a9cd771row21_col1 {\n",
       "            background-color:  #fff0e9;\n",
       "            color:  #000000;\n",
       "        }    #T_7486abe4_8fff_11ea_afda_24ee9a9cd771row21_col2 {\n",
       "            background-color:  #fff3ed;\n",
       "            color:  #000000;\n",
       "        }    #T_7486abe4_8fff_11ea_afda_24ee9a9cd771row21_col3 {\n",
       "            background-color:  #ffefe8;\n",
       "            color:  #000000;\n",
       "        }    #T_7486abe4_8fff_11ea_afda_24ee9a9cd771row21_col4 {\n",
       "            background-color:  #f5523a;\n",
       "            color:  #000000;\n",
       "        }    #T_7486abe4_8fff_11ea_afda_24ee9a9cd771row21_col5 {\n",
       "            background-color:  #fcb79c;\n",
       "            color:  #000000;\n",
       "        }    #T_7486abe4_8fff_11ea_afda_24ee9a9cd771row21_col6 {\n",
       "            background-color:  #fee8de;\n",
       "            color:  #000000;\n",
       "        }    #T_7486abe4_8fff_11ea_afda_24ee9a9cd771row21_col7 {\n",
       "            background-color:  #67000d;\n",
       "            color:  #f1f1f1;\n",
       "        }    #T_7486abe4_8fff_11ea_afda_24ee9a9cd771row22_col1 {\n",
       "            background-color:  #fff0e9;\n",
       "            color:  #000000;\n",
       "        }    #T_7486abe4_8fff_11ea_afda_24ee9a9cd771row22_col2 {\n",
       "            background-color:  #fff2ec;\n",
       "            color:  #000000;\n",
       "        }    #T_7486abe4_8fff_11ea_afda_24ee9a9cd771row22_col3 {\n",
       "            background-color:  #ffefe8;\n",
       "            color:  #000000;\n",
       "        }    #T_7486abe4_8fff_11ea_afda_24ee9a9cd771row22_col4 {\n",
       "            background-color:  #fee8dd;\n",
       "            color:  #000000;\n",
       "        }    #T_7486abe4_8fff_11ea_afda_24ee9a9cd771row22_col5 {\n",
       "            background-color:  #ffeee6;\n",
       "            color:  #000000;\n",
       "        }    #T_7486abe4_8fff_11ea_afda_24ee9a9cd771row22_col6 {\n",
       "            background-color:  #fee7dc;\n",
       "            color:  #000000;\n",
       "        }    #T_7486abe4_8fff_11ea_afda_24ee9a9cd771row22_col7 {\n",
       "            background-color:  #fdd3c1;\n",
       "            color:  #000000;\n",
       "        }    #T_7486abe4_8fff_11ea_afda_24ee9a9cd771row23_col1 {\n",
       "            background-color:  #fff1ea;\n",
       "            color:  #000000;\n",
       "        }    #T_7486abe4_8fff_11ea_afda_24ee9a9cd771row23_col2 {\n",
       "            background-color:  #fff3ed;\n",
       "            color:  #000000;\n",
       "        }    #T_7486abe4_8fff_11ea_afda_24ee9a9cd771row23_col3 {\n",
       "            background-color:  #fff1ea;\n",
       "            color:  #000000;\n",
       "        }    #T_7486abe4_8fff_11ea_afda_24ee9a9cd771row23_col4 {\n",
       "            background-color:  #fee7db;\n",
       "            color:  #000000;\n",
       "        }    #T_7486abe4_8fff_11ea_afda_24ee9a9cd771row23_col5 {\n",
       "            background-color:  #ffede5;\n",
       "            color:  #000000;\n",
       "        }    #T_7486abe4_8fff_11ea_afda_24ee9a9cd771row23_col6 {\n",
       "            background-color:  #fee6da;\n",
       "            color:  #000000;\n",
       "        }    #T_7486abe4_8fff_11ea_afda_24ee9a9cd771row23_col7 {\n",
       "            background-color:  #fdc9b3;\n",
       "            color:  #000000;\n",
       "        }    #T_7486abe4_8fff_11ea_afda_24ee9a9cd771row24_col1 {\n",
       "            background-color:  #fff1ea;\n",
       "            color:  #000000;\n",
       "        }    #T_7486abe4_8fff_11ea_afda_24ee9a9cd771row24_col2 {\n",
       "            background-color:  #fff3ed;\n",
       "            color:  #000000;\n",
       "        }    #T_7486abe4_8fff_11ea_afda_24ee9a9cd771row24_col3 {\n",
       "            background-color:  #fff2ec;\n",
       "            color:  #000000;\n",
       "        }    #T_7486abe4_8fff_11ea_afda_24ee9a9cd771row24_col4 {\n",
       "            background-color:  #fee7dc;\n",
       "            color:  #000000;\n",
       "        }    #T_7486abe4_8fff_11ea_afda_24ee9a9cd771row24_col5 {\n",
       "            background-color:  #ffeee6;\n",
       "            color:  #000000;\n",
       "        }    #T_7486abe4_8fff_11ea_afda_24ee9a9cd771row24_col6 {\n",
       "            background-color:  #fee7db;\n",
       "            color:  #000000;\n",
       "        }    #T_7486abe4_8fff_11ea_afda_24ee9a9cd771row24_col7 {\n",
       "            background-color:  #fdc6b0;\n",
       "            color:  #000000;\n",
       "        }    #T_7486abe4_8fff_11ea_afda_24ee9a9cd771row25_col1 {\n",
       "            background-color:  #fff1ea;\n",
       "            color:  #000000;\n",
       "        }    #T_7486abe4_8fff_11ea_afda_24ee9a9cd771row25_col2 {\n",
       "            background-color:  #fff3ed;\n",
       "            color:  #000000;\n",
       "        }    #T_7486abe4_8fff_11ea_afda_24ee9a9cd771row25_col3 {\n",
       "            background-color:  #fff0e8;\n",
       "            color:  #000000;\n",
       "        }    #T_7486abe4_8fff_11ea_afda_24ee9a9cd771row25_col4 {\n",
       "            background-color:  #fee5d8;\n",
       "            color:  #000000;\n",
       "        }    #T_7486abe4_8fff_11ea_afda_24ee9a9cd771row25_col5 {\n",
       "            background-color:  #ffede5;\n",
       "            color:  #000000;\n",
       "        }    #T_7486abe4_8fff_11ea_afda_24ee9a9cd771row25_col6 {\n",
       "            background-color:  #fee4d8;\n",
       "            color:  #000000;\n",
       "        }    #T_7486abe4_8fff_11ea_afda_24ee9a9cd771row25_col7 {\n",
       "            background-color:  #fcab8f;\n",
       "            color:  #000000;\n",
       "        }    #T_7486abe4_8fff_11ea_afda_24ee9a9cd771row26_col1 {\n",
       "            background-color:  #fff1ea;\n",
       "            color:  #000000;\n",
       "        }    #T_7486abe4_8fff_11ea_afda_24ee9a9cd771row26_col2 {\n",
       "            background-color:  #fff3ed;\n",
       "            color:  #000000;\n",
       "        }    #T_7486abe4_8fff_11ea_afda_24ee9a9cd771row26_col3 {\n",
       "            background-color:  #fff2ec;\n",
       "            color:  #000000;\n",
       "        }    #T_7486abe4_8fff_11ea_afda_24ee9a9cd771row26_col4 {\n",
       "            background-color:  #fdd7c6;\n",
       "            color:  #000000;\n",
       "        }    #T_7486abe4_8fff_11ea_afda_24ee9a9cd771row26_col5 {\n",
       "            background-color:  #fee8dd;\n",
       "            color:  #000000;\n",
       "        }    #T_7486abe4_8fff_11ea_afda_24ee9a9cd771row26_col6 {\n",
       "            background-color:  #fee8dd;\n",
       "            color:  #000000;\n",
       "        }    #T_7486abe4_8fff_11ea_afda_24ee9a9cd771row26_col7 {\n",
       "            background-color:  #fc9474;\n",
       "            color:  #000000;\n",
       "        }    #T_7486abe4_8fff_11ea_afda_24ee9a9cd771row27_col1 {\n",
       "            background-color:  #fff1ea;\n",
       "            color:  #000000;\n",
       "        }    #T_7486abe4_8fff_11ea_afda_24ee9a9cd771row27_col2 {\n",
       "            background-color:  #fff2ec;\n",
       "            color:  #000000;\n",
       "        }    #T_7486abe4_8fff_11ea_afda_24ee9a9cd771row27_col3 {\n",
       "            background-color:  #fff4ee;\n",
       "            color:  #000000;\n",
       "        }    #T_7486abe4_8fff_11ea_afda_24ee9a9cd771row27_col4 {\n",
       "            background-color:  #fee7dc;\n",
       "            color:  #000000;\n",
       "        }    #T_7486abe4_8fff_11ea_afda_24ee9a9cd771row27_col5 {\n",
       "            background-color:  #feeae1;\n",
       "            color:  #000000;\n",
       "        }    #T_7486abe4_8fff_11ea_afda_24ee9a9cd771row27_col6 {\n",
       "            background-color:  #fee7db;\n",
       "            color:  #000000;\n",
       "        }    #T_7486abe4_8fff_11ea_afda_24ee9a9cd771row27_col7 {\n",
       "            background-color:  #fcc4ad;\n",
       "            color:  #000000;\n",
       "        }    #T_7486abe4_8fff_11ea_afda_24ee9a9cd771row28_col1 {\n",
       "            background-color:  #fff2eb;\n",
       "            color:  #000000;\n",
       "        }    #T_7486abe4_8fff_11ea_afda_24ee9a9cd771row28_col2 {\n",
       "            background-color:  #fff4ee;\n",
       "            color:  #000000;\n",
       "        }    #T_7486abe4_8fff_11ea_afda_24ee9a9cd771row28_col3 {\n",
       "            background-color:  #fff4ef;\n",
       "            color:  #000000;\n",
       "        }    #T_7486abe4_8fff_11ea_afda_24ee9a9cd771row28_col4 {\n",
       "            background-color:  #fee8dd;\n",
       "            color:  #000000;\n",
       "        }    #T_7486abe4_8fff_11ea_afda_24ee9a9cd771row28_col5 {\n",
       "            background-color:  #ffeee6;\n",
       "            color:  #000000;\n",
       "        }    #T_7486abe4_8fff_11ea_afda_24ee9a9cd771row28_col6 {\n",
       "            background-color:  #feeae0;\n",
       "            color:  #000000;\n",
       "        }    #T_7486abe4_8fff_11ea_afda_24ee9a9cd771row28_col7 {\n",
       "            background-color:  #fdcdb9;\n",
       "            color:  #000000;\n",
       "        }    #T_7486abe4_8fff_11ea_afda_24ee9a9cd771row29_col1 {\n",
       "            background-color:  #fff2ec;\n",
       "            color:  #000000;\n",
       "        }    #T_7486abe4_8fff_11ea_afda_24ee9a9cd771row29_col2 {\n",
       "            background-color:  #fff5f0;\n",
       "            color:  #000000;\n",
       "        }    #T_7486abe4_8fff_11ea_afda_24ee9a9cd771row29_col3 {\n",
       "            background-color:  #fff1ea;\n",
       "            color:  #000000;\n",
       "        }    #T_7486abe4_8fff_11ea_afda_24ee9a9cd771row29_col4 {\n",
       "            background-color:  #fdccb8;\n",
       "            color:  #000000;\n",
       "        }    #T_7486abe4_8fff_11ea_afda_24ee9a9cd771row29_col5 {\n",
       "            background-color:  #fff0e8;\n",
       "            color:  #000000;\n",
       "        }    #T_7486abe4_8fff_11ea_afda_24ee9a9cd771row29_col6 {\n",
       "            background-color:  #fff0e8;\n",
       "            color:  #000000;\n",
       "        }    #T_7486abe4_8fff_11ea_afda_24ee9a9cd771row29_col7 {\n",
       "            background-color:  #fcbba1;\n",
       "            color:  #000000;\n",
       "        }    #T_7486abe4_8fff_11ea_afda_24ee9a9cd771row30_col1 {\n",
       "            background-color:  #fff2ec;\n",
       "            color:  #000000;\n",
       "        }    #T_7486abe4_8fff_11ea_afda_24ee9a9cd771row30_col2 {\n",
       "            background-color:  #fff4ee;\n",
       "            color:  #000000;\n",
       "        }    #T_7486abe4_8fff_11ea_afda_24ee9a9cd771row30_col3 {\n",
       "            background-color:  #fff4ee;\n",
       "            color:  #000000;\n",
       "        }    #T_7486abe4_8fff_11ea_afda_24ee9a9cd771row30_col4 {\n",
       "            background-color:  #fee2d5;\n",
       "            color:  #000000;\n",
       "        }    #T_7486abe4_8fff_11ea_afda_24ee9a9cd771row30_col5 {\n",
       "            background-color:  #fee9df;\n",
       "            color:  #000000;\n",
       "        }    #T_7486abe4_8fff_11ea_afda_24ee9a9cd771row30_col6 {\n",
       "            background-color:  #ffebe2;\n",
       "            color:  #000000;\n",
       "        }    #T_7486abe4_8fff_11ea_afda_24ee9a9cd771row30_col7 {\n",
       "            background-color:  #fcb296;\n",
       "            color:  #000000;\n",
       "        }    #T_7486abe4_8fff_11ea_afda_24ee9a9cd771row31_col1 {\n",
       "            background-color:  #fff2ec;\n",
       "            color:  #000000;\n",
       "        }    #T_7486abe4_8fff_11ea_afda_24ee9a9cd771row31_col2 {\n",
       "            background-color:  #fff4ef;\n",
       "            color:  #000000;\n",
       "        }    #T_7486abe4_8fff_11ea_afda_24ee9a9cd771row31_col3 {\n",
       "            background-color:  #fff2ec;\n",
       "            color:  #000000;\n",
       "        }    #T_7486abe4_8fff_11ea_afda_24ee9a9cd771row31_col4 {\n",
       "            background-color:  #fee3d6;\n",
       "            color:  #000000;\n",
       "        }    #T_7486abe4_8fff_11ea_afda_24ee9a9cd771row31_col5 {\n",
       "            background-color:  #ffeee7;\n",
       "            color:  #000000;\n",
       "        }    #T_7486abe4_8fff_11ea_afda_24ee9a9cd771row31_col6 {\n",
       "            background-color:  #ffefe8;\n",
       "            color:  #000000;\n",
       "        }    #T_7486abe4_8fff_11ea_afda_24ee9a9cd771row31_col7 {\n",
       "            background-color:  #fdd0bc;\n",
       "            color:  #000000;\n",
       "        }    #T_7486abe4_8fff_11ea_afda_24ee9a9cd771row32_col1 {\n",
       "            background-color:  #fff2ec;\n",
       "            color:  #000000;\n",
       "        }    #T_7486abe4_8fff_11ea_afda_24ee9a9cd771row32_col2 {\n",
       "            background-color:  #fff4ef;\n",
       "            color:  #000000;\n",
       "        }    #T_7486abe4_8fff_11ea_afda_24ee9a9cd771row32_col3 {\n",
       "            background-color:  #fff3ed;\n",
       "            color:  #000000;\n",
       "        }    #T_7486abe4_8fff_11ea_afda_24ee9a9cd771row32_col4 {\n",
       "            background-color:  #fc9e80;\n",
       "            color:  #000000;\n",
       "        }    #T_7486abe4_8fff_11ea_afda_24ee9a9cd771row32_col5 {\n",
       "            background-color:  #fed8c7;\n",
       "            color:  #000000;\n",
       "        }    #T_7486abe4_8fff_11ea_afda_24ee9a9cd771row32_col6 {\n",
       "            background-color:  #fff1ea;\n",
       "            color:  #000000;\n",
       "        }    #T_7486abe4_8fff_11ea_afda_24ee9a9cd771row32_col7 {\n",
       "            background-color:  #fc9879;\n",
       "            color:  #000000;\n",
       "        }    #T_7486abe4_8fff_11ea_afda_24ee9a9cd771row33_col1 {\n",
       "            background-color:  #fff2ec;\n",
       "            color:  #000000;\n",
       "        }    #T_7486abe4_8fff_11ea_afda_24ee9a9cd771row33_col2 {\n",
       "            background-color:  #fff4ee;\n",
       "            color:  #000000;\n",
       "        }    #T_7486abe4_8fff_11ea_afda_24ee9a9cd771row33_col3 {\n",
       "            background-color:  #fff2ec;\n",
       "            color:  #000000;\n",
       "        }    #T_7486abe4_8fff_11ea_afda_24ee9a9cd771row33_col4 {\n",
       "            background-color:  #fb7555;\n",
       "            color:  #000000;\n",
       "        }    #T_7486abe4_8fff_11ea_afda_24ee9a9cd771row33_col5 {\n",
       "            background-color:  #fcaa8d;\n",
       "            color:  #000000;\n",
       "        }    #T_7486abe4_8fff_11ea_afda_24ee9a9cd771row33_col6 {\n",
       "            background-color:  #fff1ea;\n",
       "            color:  #000000;\n",
       "        }    #T_7486abe4_8fff_11ea_afda_24ee9a9cd771row33_col7 {\n",
       "            background-color:  #fb6d4d;\n",
       "            color:  #000000;\n",
       "        }    #T_7486abe4_8fff_11ea_afda_24ee9a9cd771row34_col1 {\n",
       "            background-color:  #fff2ec;\n",
       "            color:  #000000;\n",
       "        }    #T_7486abe4_8fff_11ea_afda_24ee9a9cd771row34_col2 {\n",
       "            background-color:  #fff5f0;\n",
       "            color:  #000000;\n",
       "        }    #T_7486abe4_8fff_11ea_afda_24ee9a9cd771row34_col3 {\n",
       "            background-color:  #fff3ed;\n",
       "            color:  #000000;\n",
       "        }    #T_7486abe4_8fff_11ea_afda_24ee9a9cd771row34_col4 {\n",
       "            background-color:  #fee4d8;\n",
       "            color:  #000000;\n",
       "        }    #T_7486abe4_8fff_11ea_afda_24ee9a9cd771row34_col5 {\n",
       "            background-color:  #fff3ed;\n",
       "            color:  #000000;\n",
       "        }    #T_7486abe4_8fff_11ea_afda_24ee9a9cd771row34_col6 {\n",
       "            background-color:  #fee1d3;\n",
       "            color:  #000000;\n",
       "        }    #T_7486abe4_8fff_11ea_afda_24ee9a9cd771row34_col7 {\n",
       "            background-color:  #f5523a;\n",
       "            color:  #000000;\n",
       "        }    #T_7486abe4_8fff_11ea_afda_24ee9a9cd771row35_col1 {\n",
       "            background-color:  #fff2ec;\n",
       "            color:  #000000;\n",
       "        }    #T_7486abe4_8fff_11ea_afda_24ee9a9cd771row35_col2 {\n",
       "            background-color:  #fff4ee;\n",
       "            color:  #000000;\n",
       "        }    #T_7486abe4_8fff_11ea_afda_24ee9a9cd771row35_col3 {\n",
       "            background-color:  #fff3ed;\n",
       "            color:  #000000;\n",
       "        }    #T_7486abe4_8fff_11ea_afda_24ee9a9cd771row35_col4 {\n",
       "            background-color:  #fee9df;\n",
       "            color:  #000000;\n",
       "        }    #T_7486abe4_8fff_11ea_afda_24ee9a9cd771row35_col5 {\n",
       "            background-color:  #ffeee6;\n",
       "            color:  #000000;\n",
       "        }    #T_7486abe4_8fff_11ea_afda_24ee9a9cd771row35_col6 {\n",
       "            background-color:  #ffebe2;\n",
       "            color:  #000000;\n",
       "        }    #T_7486abe4_8fff_11ea_afda_24ee9a9cd771row35_col7 {\n",
       "            background-color:  #fdcebb;\n",
       "            color:  #000000;\n",
       "        }    #T_7486abe4_8fff_11ea_afda_24ee9a9cd771row36_col1 {\n",
       "            background-color:  #fff3ed;\n",
       "            color:  #000000;\n",
       "        }    #T_7486abe4_8fff_11ea_afda_24ee9a9cd771row36_col2 {\n",
       "            background-color:  #fff4ee;\n",
       "            color:  #000000;\n",
       "        }    #T_7486abe4_8fff_11ea_afda_24ee9a9cd771row36_col3 {\n",
       "            background-color:  #fff4ef;\n",
       "            color:  #000000;\n",
       "        }    #T_7486abe4_8fff_11ea_afda_24ee9a9cd771row36_col4 {\n",
       "            background-color:  #feeae1;\n",
       "            color:  #000000;\n",
       "        }    #T_7486abe4_8fff_11ea_afda_24ee9a9cd771row36_col5 {\n",
       "            background-color:  #ffede5;\n",
       "            color:  #000000;\n",
       "        }    #T_7486abe4_8fff_11ea_afda_24ee9a9cd771row36_col6 {\n",
       "            background-color:  #feeae0;\n",
       "            color:  #000000;\n",
       "        }    #T_7486abe4_8fff_11ea_afda_24ee9a9cd771row36_col7 {\n",
       "            background-color:  #fcbca2;\n",
       "            color:  #000000;\n",
       "        }    #T_7486abe4_8fff_11ea_afda_24ee9a9cd771row37_col1 {\n",
       "            background-color:  #fff3ed;\n",
       "            color:  #000000;\n",
       "        }    #T_7486abe4_8fff_11ea_afda_24ee9a9cd771row37_col2 {\n",
       "            background-color:  #fff4ef;\n",
       "            color:  #000000;\n",
       "        }    #T_7486abe4_8fff_11ea_afda_24ee9a9cd771row37_col3 {\n",
       "            background-color:  #fff3ed;\n",
       "            color:  #000000;\n",
       "        }    #T_7486abe4_8fff_11ea_afda_24ee9a9cd771row37_col4 {\n",
       "            background-color:  #fee2d5;\n",
       "            color:  #000000;\n",
       "        }    #T_7486abe4_8fff_11ea_afda_24ee9a9cd771row37_col5 {\n",
       "            background-color:  #ffece3;\n",
       "            color:  #000000;\n",
       "        }    #T_7486abe4_8fff_11ea_afda_24ee9a9cd771row37_col6 {\n",
       "            background-color:  #fee8dd;\n",
       "            color:  #000000;\n",
       "        }    #T_7486abe4_8fff_11ea_afda_24ee9a9cd771row37_col7 {\n",
       "            background-color:  #f75b40;\n",
       "            color:  #000000;\n",
       "        }    #T_7486abe4_8fff_11ea_afda_24ee9a9cd771row38_col1 {\n",
       "            background-color:  #fff4ee;\n",
       "            color:  #000000;\n",
       "        }    #T_7486abe4_8fff_11ea_afda_24ee9a9cd771row38_col2 {\n",
       "            background-color:  #fff5f0;\n",
       "            color:  #000000;\n",
       "        }    #T_7486abe4_8fff_11ea_afda_24ee9a9cd771row38_col3 {\n",
       "            background-color:  #fff4ef;\n",
       "            color:  #000000;\n",
       "        }    #T_7486abe4_8fff_11ea_afda_24ee9a9cd771row38_col4 {\n",
       "            background-color:  #feeae0;\n",
       "            color:  #000000;\n",
       "        }    #T_7486abe4_8fff_11ea_afda_24ee9a9cd771row38_col5 {\n",
       "            background-color:  #fff2eb;\n",
       "            color:  #000000;\n",
       "        }    #T_7486abe4_8fff_11ea_afda_24ee9a9cd771row38_col6 {\n",
       "            background-color:  #ffece4;\n",
       "            color:  #000000;\n",
       "        }    #T_7486abe4_8fff_11ea_afda_24ee9a9cd771row38_col7 {\n",
       "            background-color:  #fcbba1;\n",
       "            color:  #000000;\n",
       "        }    #T_7486abe4_8fff_11ea_afda_24ee9a9cd771row39_col1 {\n",
       "            background-color:  #fff4ee;\n",
       "            color:  #000000;\n",
       "        }    #T_7486abe4_8fff_11ea_afda_24ee9a9cd771row39_col2 {\n",
       "            background-color:  #fff4ef;\n",
       "            color:  #000000;\n",
       "        }    #T_7486abe4_8fff_11ea_afda_24ee9a9cd771row39_col3 {\n",
       "            background-color:  #fff4ef;\n",
       "            color:  #000000;\n",
       "        }    #T_7486abe4_8fff_11ea_afda_24ee9a9cd771row39_col4 {\n",
       "            background-color:  #ffeee7;\n",
       "            color:  #000000;\n",
       "        }    #T_7486abe4_8fff_11ea_afda_24ee9a9cd771row39_col5 {\n",
       "            background-color:  #fff2eb;\n",
       "            color:  #000000;\n",
       "        }    #T_7486abe4_8fff_11ea_afda_24ee9a9cd771row39_col6 {\n",
       "            background-color:  #feeae1;\n",
       "            color:  #000000;\n",
       "        }    #T_7486abe4_8fff_11ea_afda_24ee9a9cd771row39_col7 {\n",
       "            background-color:  #fdc5ae;\n",
       "            color:  #000000;\n",
       "        }    #T_7486abe4_8fff_11ea_afda_24ee9a9cd771row40_col1 {\n",
       "            background-color:  #fff4ee;\n",
       "            color:  #000000;\n",
       "        }    #T_7486abe4_8fff_11ea_afda_24ee9a9cd771row40_col2 {\n",
       "            background-color:  #fff5f0;\n",
       "            color:  #000000;\n",
       "        }    #T_7486abe4_8fff_11ea_afda_24ee9a9cd771row40_col3 {\n",
       "            background-color:  #fff5f0;\n",
       "            color:  #000000;\n",
       "        }    #T_7486abe4_8fff_11ea_afda_24ee9a9cd771row40_col4 {\n",
       "            background-color:  #fdcebb;\n",
       "            color:  #000000;\n",
       "        }    #T_7486abe4_8fff_11ea_afda_24ee9a9cd771row40_col5 {\n",
       "            background-color:  #fff2ec;\n",
       "            color:  #000000;\n",
       "        }    #T_7486abe4_8fff_11ea_afda_24ee9a9cd771row40_col6 {\n",
       "            background-color:  #fff2ec;\n",
       "            color:  #000000;\n",
       "        }    #T_7486abe4_8fff_11ea_afda_24ee9a9cd771row40_col7 {\n",
       "            background-color:  #fcab8f;\n",
       "            color:  #000000;\n",
       "        }    #T_7486abe4_8fff_11ea_afda_24ee9a9cd771row41_col1 {\n",
       "            background-color:  #fff4ee;\n",
       "            color:  #000000;\n",
       "        }    #T_7486abe4_8fff_11ea_afda_24ee9a9cd771row41_col2 {\n",
       "            background-color:  #fff5f0;\n",
       "            color:  #000000;\n",
       "        }    #T_7486abe4_8fff_11ea_afda_24ee9a9cd771row41_col3 {\n",
       "            background-color:  #fff4ef;\n",
       "            color:  #000000;\n",
       "        }    #T_7486abe4_8fff_11ea_afda_24ee9a9cd771row41_col4 {\n",
       "            background-color:  #fee2d5;\n",
       "            color:  #000000;\n",
       "        }    #T_7486abe4_8fff_11ea_afda_24ee9a9cd771row41_col5 {\n",
       "            background-color:  #ffede5;\n",
       "            color:  #000000;\n",
       "        }    #T_7486abe4_8fff_11ea_afda_24ee9a9cd771row41_col6 {\n",
       "            background-color:  #fff0e9;\n",
       "            color:  #000000;\n",
       "        }    #T_7486abe4_8fff_11ea_afda_24ee9a9cd771row41_col7 {\n",
       "            background-color:  #fca588;\n",
       "            color:  #000000;\n",
       "        }    #T_7486abe4_8fff_11ea_afda_24ee9a9cd771row42_col1 {\n",
       "            background-color:  #fff4ef;\n",
       "            color:  #000000;\n",
       "        }    #T_7486abe4_8fff_11ea_afda_24ee9a9cd771row42_col2 {\n",
       "            background-color:  #fff5f0;\n",
       "            color:  #000000;\n",
       "        }    #T_7486abe4_8fff_11ea_afda_24ee9a9cd771row42_col3 {\n",
       "            background-color:  #fff5f0;\n",
       "            color:  #000000;\n",
       "        }    #T_7486abe4_8fff_11ea_afda_24ee9a9cd771row42_col4 {\n",
       "            background-color:  #fee8de;\n",
       "            color:  #000000;\n",
       "        }    #T_7486abe4_8fff_11ea_afda_24ee9a9cd771row42_col5 {\n",
       "            background-color:  #fff0e9;\n",
       "            color:  #000000;\n",
       "        }    #T_7486abe4_8fff_11ea_afda_24ee9a9cd771row42_col6 {\n",
       "            background-color:  #fff0e9;\n",
       "            color:  #000000;\n",
       "        }    #T_7486abe4_8fff_11ea_afda_24ee9a9cd771row42_col7 {\n",
       "            background-color:  #fcbca2;\n",
       "            color:  #000000;\n",
       "        }    #T_7486abe4_8fff_11ea_afda_24ee9a9cd771row43_col1 {\n",
       "            background-color:  #fff5f0;\n",
       "            color:  #000000;\n",
       "        }    #T_7486abe4_8fff_11ea_afda_24ee9a9cd771row43_col2 {\n",
       "            background-color:  #fff5f0;\n",
       "            color:  #000000;\n",
       "        }    #T_7486abe4_8fff_11ea_afda_24ee9a9cd771row43_col3 {\n",
       "            background-color:  #fff5f0;\n",
       "            color:  #000000;\n",
       "        }    #T_7486abe4_8fff_11ea_afda_24ee9a9cd771row43_col4 {\n",
       "            background-color:  #fee5d8;\n",
       "            color:  #000000;\n",
       "        }    #T_7486abe4_8fff_11ea_afda_24ee9a9cd771row43_col5 {\n",
       "            background-color:  #fff1ea;\n",
       "            color:  #000000;\n",
       "        }    #T_7486abe4_8fff_11ea_afda_24ee9a9cd771row43_col6 {\n",
       "            background-color:  #ffefe8;\n",
       "            color:  #000000;\n",
       "        }    #T_7486abe4_8fff_11ea_afda_24ee9a9cd771row43_col7 {\n",
       "            background-color:  #e22e27;\n",
       "            color:  #f1f1f1;\n",
       "        }    #T_7486abe4_8fff_11ea_afda_24ee9a9cd771row44_col1 {\n",
       "            background-color:  #fff5f0;\n",
       "            color:  #000000;\n",
       "        }    #T_7486abe4_8fff_11ea_afda_24ee9a9cd771row44_col2 {\n",
       "            background-color:  #fff5f0;\n",
       "            color:  #000000;\n",
       "        }    #T_7486abe4_8fff_11ea_afda_24ee9a9cd771row44_col3 {\n",
       "            background-color:  #fff5f0;\n",
       "            color:  #000000;\n",
       "        }    #T_7486abe4_8fff_11ea_afda_24ee9a9cd771row44_col4 {\n",
       "            background-color:  #ffeee7;\n",
       "            color:  #000000;\n",
       "        }    #T_7486abe4_8fff_11ea_afda_24ee9a9cd771row44_col5 {\n",
       "            background-color:  #fff2eb;\n",
       "            color:  #000000;\n",
       "        }    #T_7486abe4_8fff_11ea_afda_24ee9a9cd771row44_col6 {\n",
       "            background-color:  #ffece4;\n",
       "            color:  #000000;\n",
       "        }    #T_7486abe4_8fff_11ea_afda_24ee9a9cd771row44_col7 {\n",
       "            background-color:  #fc8565;\n",
       "            color:  #000000;\n",
       "        }    #T_7486abe4_8fff_11ea_afda_24ee9a9cd771row45_col1 {\n",
       "            background-color:  #fff5f0;\n",
       "            color:  #000000;\n",
       "        }    #T_7486abe4_8fff_11ea_afda_24ee9a9cd771row45_col2 {\n",
       "            background-color:  #fff5f0;\n",
       "            color:  #000000;\n",
       "        }    #T_7486abe4_8fff_11ea_afda_24ee9a9cd771row45_col3 {\n",
       "            background-color:  #fff5f0;\n",
       "            color:  #000000;\n",
       "        }    #T_7486abe4_8fff_11ea_afda_24ee9a9cd771row45_col4 {\n",
       "            background-color:  #ffece3;\n",
       "            color:  #000000;\n",
       "        }    #T_7486abe4_8fff_11ea_afda_24ee9a9cd771row45_col5 {\n",
       "            background-color:  #ffefe8;\n",
       "            color:  #000000;\n",
       "        }    #T_7486abe4_8fff_11ea_afda_24ee9a9cd771row45_col6 {\n",
       "            background-color:  #fff2eb;\n",
       "            color:  #000000;\n",
       "        }    #T_7486abe4_8fff_11ea_afda_24ee9a9cd771row45_col7 {\n",
       "            background-color:  #fdc6b0;\n",
       "            color:  #000000;\n",
       "        }    #T_7486abe4_8fff_11ea_afda_24ee9a9cd771row46_col1 {\n",
       "            background-color:  #fff5f0;\n",
       "            color:  #000000;\n",
       "        }    #T_7486abe4_8fff_11ea_afda_24ee9a9cd771row46_col2 {\n",
       "            background-color:  #fff5f0;\n",
       "            color:  #000000;\n",
       "        }    #T_7486abe4_8fff_11ea_afda_24ee9a9cd771row46_col3 {\n",
       "            background-color:  #fff5f0;\n",
       "            color:  #000000;\n",
       "        }    #T_7486abe4_8fff_11ea_afda_24ee9a9cd771row46_col4 {\n",
       "            background-color:  #fee7db;\n",
       "            color:  #000000;\n",
       "        }    #T_7486abe4_8fff_11ea_afda_24ee9a9cd771row46_col5 {\n",
       "            background-color:  #feeae1;\n",
       "            color:  #000000;\n",
       "        }    #T_7486abe4_8fff_11ea_afda_24ee9a9cd771row46_col6 {\n",
       "            background-color:  #fff2ec;\n",
       "            color:  #000000;\n",
       "        }    #T_7486abe4_8fff_11ea_afda_24ee9a9cd771row46_col7 {\n",
       "            background-color:  #fc8e6e;\n",
       "            color:  #000000;\n",
       "        }    #T_7486abe4_8fff_11ea_afda_24ee9a9cd771row47_col1 {\n",
       "            background-color:  #fff5f0;\n",
       "            color:  #000000;\n",
       "        }    #T_7486abe4_8fff_11ea_afda_24ee9a9cd771row47_col2 {\n",
       "            background-color:  #fff5f0;\n",
       "            color:  #000000;\n",
       "        }    #T_7486abe4_8fff_11ea_afda_24ee9a9cd771row47_col3 {\n",
       "            background-color:  #fff5f0;\n",
       "            color:  #000000;\n",
       "        }    #T_7486abe4_8fff_11ea_afda_24ee9a9cd771row47_col4 {\n",
       "            background-color:  #fff1ea;\n",
       "            color:  #000000;\n",
       "        }    #T_7486abe4_8fff_11ea_afda_24ee9a9cd771row47_col5 {\n",
       "            background-color:  #fff4ee;\n",
       "            color:  #000000;\n",
       "        }    #T_7486abe4_8fff_11ea_afda_24ee9a9cd771row47_col6 {\n",
       "            background-color:  #fff0e8;\n",
       "            color:  #000000;\n",
       "        }    #T_7486abe4_8fff_11ea_afda_24ee9a9cd771row47_col7 {\n",
       "            background-color:  #fc9e80;\n",
       "            color:  #000000;\n",
       "        }    #T_7486abe4_8fff_11ea_afda_24ee9a9cd771row48_col1 {\n",
       "            background-color:  #fff5f0;\n",
       "            color:  #000000;\n",
       "        }    #T_7486abe4_8fff_11ea_afda_24ee9a9cd771row48_col2 {\n",
       "            background-color:  #fff5f0;\n",
       "            color:  #000000;\n",
       "        }    #T_7486abe4_8fff_11ea_afda_24ee9a9cd771row48_col3 {\n",
       "            background-color:  #fff5f0;\n",
       "            color:  #000000;\n",
       "        }    #T_7486abe4_8fff_11ea_afda_24ee9a9cd771row48_col4 {\n",
       "            background-color:  #ffebe2;\n",
       "            color:  #000000;\n",
       "        }    #T_7486abe4_8fff_11ea_afda_24ee9a9cd771row48_col5 {\n",
       "            background-color:  #fff4ee;\n",
       "            color:  #000000;\n",
       "        }    #T_7486abe4_8fff_11ea_afda_24ee9a9cd771row48_col6 {\n",
       "            background-color:  #fff4ee;\n",
       "            color:  #000000;\n",
       "        }    #T_7486abe4_8fff_11ea_afda_24ee9a9cd771row48_col7 {\n",
       "            background-color:  #fcbca2;\n",
       "            color:  #000000;\n",
       "        }    #T_7486abe4_8fff_11ea_afda_24ee9a9cd771row49_col1 {\n",
       "            background-color:  #fff5f0;\n",
       "            color:  #000000;\n",
       "        }    #T_7486abe4_8fff_11ea_afda_24ee9a9cd771row49_col2 {\n",
       "            background-color:  #fff5f0;\n",
       "            color:  #000000;\n",
       "        }    #T_7486abe4_8fff_11ea_afda_24ee9a9cd771row49_col3 {\n",
       "            background-color:  #fff5f0;\n",
       "            color:  #000000;\n",
       "        }    #T_7486abe4_8fff_11ea_afda_24ee9a9cd771row49_col4 {\n",
       "            background-color:  #fff1ea;\n",
       "            color:  #000000;\n",
       "        }    #T_7486abe4_8fff_11ea_afda_24ee9a9cd771row49_col5 {\n",
       "            background-color:  #fff4ee;\n",
       "            color:  #000000;\n",
       "        }    #T_7486abe4_8fff_11ea_afda_24ee9a9cd771row49_col6 {\n",
       "            background-color:  #fff3ed;\n",
       "            color:  #000000;\n",
       "        }    #T_7486abe4_8fff_11ea_afda_24ee9a9cd771row49_col7 {\n",
       "            background-color:  #fdcab5;\n",
       "            color:  #000000;\n",
       "        }    #T_7486abe4_8fff_11ea_afda_24ee9a9cd771row50_col1 {\n",
       "            background-color:  #fff5f0;\n",
       "            color:  #000000;\n",
       "        }    #T_7486abe4_8fff_11ea_afda_24ee9a9cd771row50_col2 {\n",
       "            background-color:  #fff5f0;\n",
       "            color:  #000000;\n",
       "        }    #T_7486abe4_8fff_11ea_afda_24ee9a9cd771row50_col3 {\n",
       "            background-color:  #fff5f0;\n",
       "            color:  #000000;\n",
       "        }    #T_7486abe4_8fff_11ea_afda_24ee9a9cd771row50_col4 {\n",
       "            background-color:  #fff0e9;\n",
       "            color:  #000000;\n",
       "        }    #T_7486abe4_8fff_11ea_afda_24ee9a9cd771row50_col5 {\n",
       "            background-color:  #fff4ee;\n",
       "            color:  #000000;\n",
       "        }    #T_7486abe4_8fff_11ea_afda_24ee9a9cd771row50_col6 {\n",
       "            background-color:  #fff2eb;\n",
       "            color:  #000000;\n",
       "        }    #T_7486abe4_8fff_11ea_afda_24ee9a9cd771row50_col7 {\n",
       "            background-color:  #fc8767;\n",
       "            color:  #000000;\n",
       "        }    #T_7486abe4_8fff_11ea_afda_24ee9a9cd771row51_col1 {\n",
       "            background-color:  #fff5f0;\n",
       "            color:  #000000;\n",
       "        }    #T_7486abe4_8fff_11ea_afda_24ee9a9cd771row51_col2 {\n",
       "            background-color:  #fff5f0;\n",
       "            color:  #000000;\n",
       "        }    #T_7486abe4_8fff_11ea_afda_24ee9a9cd771row51_col3 {\n",
       "            background-color:  #fff5f0;\n",
       "            color:  #000000;\n",
       "        }    #T_7486abe4_8fff_11ea_afda_24ee9a9cd771row51_col4 {\n",
       "            background-color:  #fff5f0;\n",
       "            color:  #000000;\n",
       "        }    #T_7486abe4_8fff_11ea_afda_24ee9a9cd771row51_col5 {\n",
       "            background-color:  #fff5f0;\n",
       "            color:  #000000;\n",
       "        }    #T_7486abe4_8fff_11ea_afda_24ee9a9cd771row51_col6 {\n",
       "            background-color:  #fff5f0;\n",
       "            color:  #000000;\n",
       "        }    #T_7486abe4_8fff_11ea_afda_24ee9a9cd771row51_col7 {\n",
       "            background-color:  #fff5f0;\n",
       "            color:  #000000;\n",
       "        }    #T_7486abe4_8fff_11ea_afda_24ee9a9cd771row52_col1 {\n",
       "            background-color:  #fff5f0;\n",
       "            color:  #000000;\n",
       "        }    #T_7486abe4_8fff_11ea_afda_24ee9a9cd771row52_col2 {\n",
       "            background-color:  #fff5f0;\n",
       "            color:  #000000;\n",
       "        }    #T_7486abe4_8fff_11ea_afda_24ee9a9cd771row52_col3 {\n",
       "            background-color:  #fff5f0;\n",
       "            color:  #000000;\n",
       "        }    #T_7486abe4_8fff_11ea_afda_24ee9a9cd771row52_col4 {\n",
       "            background-color:  #fff5f0;\n",
       "            color:  #000000;\n",
       "        }    #T_7486abe4_8fff_11ea_afda_24ee9a9cd771row52_col5 {\n",
       "            background-color:  #fff5f0;\n",
       "            color:  #000000;\n",
       "        }    #T_7486abe4_8fff_11ea_afda_24ee9a9cd771row52_col6 {\n",
       "            background-color:  #fff5f0;\n",
       "            color:  #000000;\n",
       "        }    #T_7486abe4_8fff_11ea_afda_24ee9a9cd771row52_col7 {\n",
       "            background-color:  #fff5f0;\n",
       "            color:  #000000;\n",
       "        }    #T_7486abe4_8fff_11ea_afda_24ee9a9cd771row53_col1 {\n",
       "            background-color:  #fff4ef;\n",
       "            color:  #000000;\n",
       "        }    #T_7486abe4_8fff_11ea_afda_24ee9a9cd771row53_col2 {\n",
       "            background-color:  #fff4ef;\n",
       "            color:  #000000;\n",
       "        }    #T_7486abe4_8fff_11ea_afda_24ee9a9cd771row53_col3 {\n",
       "            background-color:  #fff4ef;\n",
       "            color:  #000000;\n",
       "        }    #T_7486abe4_8fff_11ea_afda_24ee9a9cd771row53_col4 {\n",
       "            background-color:  #fff0e8;\n",
       "            color:  #000000;\n",
       "        }    #T_7486abe4_8fff_11ea_afda_24ee9a9cd771row53_col5 {\n",
       "            background-color:  #fff2eb;\n",
       "            color:  #000000;\n",
       "        }    #T_7486abe4_8fff_11ea_afda_24ee9a9cd771row53_col6 {\n",
       "            background-color:  #fff3ed;\n",
       "            color:  #000000;\n",
       "        }    #T_7486abe4_8fff_11ea_afda_24ee9a9cd771row53_col7 {\n",
       "            background-color:  #ffece4;\n",
       "            color:  #000000;\n",
       "        }    #T_7486abe4_8fff_11ea_afda_24ee9a9cd771row54_col1 {\n",
       "            background-color:  #fff5f0;\n",
       "            color:  #000000;\n",
       "        }    #T_7486abe4_8fff_11ea_afda_24ee9a9cd771row54_col2 {\n",
       "            background-color:  #fff5f0;\n",
       "            color:  #000000;\n",
       "        }    #T_7486abe4_8fff_11ea_afda_24ee9a9cd771row54_col3 {\n",
       "            background-color:  #fff5f0;\n",
       "            color:  #000000;\n",
       "        }    #T_7486abe4_8fff_11ea_afda_24ee9a9cd771row54_col4 {\n",
       "            background-color:  #fff5f0;\n",
       "            color:  #000000;\n",
       "        }    #T_7486abe4_8fff_11ea_afda_24ee9a9cd771row54_col5 {\n",
       "            background-color:  #fff5f0;\n",
       "            color:  #000000;\n",
       "        }    #T_7486abe4_8fff_11ea_afda_24ee9a9cd771row54_col6 {\n",
       "            background-color:  #fff5f0;\n",
       "            color:  #000000;\n",
       "        }    #T_7486abe4_8fff_11ea_afda_24ee9a9cd771row54_col7 {\n",
       "            background-color:  #fff5f0;\n",
       "            color:  #000000;\n",
       "        }    #T_7486abe4_8fff_11ea_afda_24ee9a9cd771row55_col1 {\n",
       "            background-color:  #fff0e9;\n",
       "            color:  #000000;\n",
       "        }    #T_7486abe4_8fff_11ea_afda_24ee9a9cd771row55_col2 {\n",
       "            background-color:  #fff0e9;\n",
       "            color:  #000000;\n",
       "        }    #T_7486abe4_8fff_11ea_afda_24ee9a9cd771row55_col3 {\n",
       "            background-color:  #ffefe8;\n",
       "            color:  #000000;\n",
       "        }    #T_7486abe4_8fff_11ea_afda_24ee9a9cd771row55_col4 {\n",
       "            background-color:  #fff5f0;\n",
       "            color:  #000000;\n",
       "        }    #T_7486abe4_8fff_11ea_afda_24ee9a9cd771row55_col5 {\n",
       "            background-color:  #fff5f0;\n",
       "            color:  #000000;\n",
       "        }    #T_7486abe4_8fff_11ea_afda_24ee9a9cd771row55_col6 {\n",
       "            background-color:  #fee3d7;\n",
       "            color:  #000000;\n",
       "        }    #T_7486abe4_8fff_11ea_afda_24ee9a9cd771row55_col7 {\n",
       "            background-color:  #fff5f0;\n",
       "            color:  #000000;\n",
       "        }    #T_7486abe4_8fff_11ea_afda_24ee9a9cd771row56_col1 {\n",
       "            background-color:  #fff2eb;\n",
       "            color:  #000000;\n",
       "        }    #T_7486abe4_8fff_11ea_afda_24ee9a9cd771row56_col2 {\n",
       "            background-color:  #fff5f0;\n",
       "            color:  #000000;\n",
       "        }    #T_7486abe4_8fff_11ea_afda_24ee9a9cd771row56_col3 {\n",
       "            background-color:  #fff2ec;\n",
       "            color:  #000000;\n",
       "        }    #T_7486abe4_8fff_11ea_afda_24ee9a9cd771row56_col4 {\n",
       "            background-color:  #fff5f0;\n",
       "            color:  #000000;\n",
       "        }    #T_7486abe4_8fff_11ea_afda_24ee9a9cd771row56_col5 {\n",
       "            background-color:  #fff5f0;\n",
       "            color:  #000000;\n",
       "        }    #T_7486abe4_8fff_11ea_afda_24ee9a9cd771row56_col6 {\n",
       "            background-color:  #fff5f0;\n",
       "            color:  #000000;\n",
       "        }    #T_7486abe4_8fff_11ea_afda_24ee9a9cd771row56_col7 {\n",
       "            background-color:  #fff5f0;\n",
       "            color:  #000000;\n",
       "        }    #T_7486abe4_8fff_11ea_afda_24ee9a9cd771row57_col1 {\n",
       "            background-color:  #fff4ef;\n",
       "            color:  #000000;\n",
       "        }    #T_7486abe4_8fff_11ea_afda_24ee9a9cd771row57_col2 {\n",
       "            background-color:  #fff5f0;\n",
       "            color:  #000000;\n",
       "        }    #T_7486abe4_8fff_11ea_afda_24ee9a9cd771row57_col3 {\n",
       "            background-color:  #fff4ee;\n",
       "            color:  #000000;\n",
       "        }    #T_7486abe4_8fff_11ea_afda_24ee9a9cd771row57_col4 {\n",
       "            background-color:  #fff5f0;\n",
       "            color:  #000000;\n",
       "        }    #T_7486abe4_8fff_11ea_afda_24ee9a9cd771row57_col5 {\n",
       "            background-color:  #fff5f0;\n",
       "            color:  #000000;\n",
       "        }    #T_7486abe4_8fff_11ea_afda_24ee9a9cd771row57_col6 {\n",
       "            background-color:  #fff4ee;\n",
       "            color:  #000000;\n",
       "        }    #T_7486abe4_8fff_11ea_afda_24ee9a9cd771row57_col7 {\n",
       "            background-color:  #fff5f0;\n",
       "            color:  #000000;\n",
       "        }    #T_7486abe4_8fff_11ea_afda_24ee9a9cd771row58_col1 {\n",
       "            background-color:  #fff4ef;\n",
       "            color:  #000000;\n",
       "        }    #T_7486abe4_8fff_11ea_afda_24ee9a9cd771row58_col2 {\n",
       "            background-color:  #fff5f0;\n",
       "            color:  #000000;\n",
       "        }    #T_7486abe4_8fff_11ea_afda_24ee9a9cd771row58_col3 {\n",
       "            background-color:  #fff4ef;\n",
       "            color:  #000000;\n",
       "        }    #T_7486abe4_8fff_11ea_afda_24ee9a9cd771row58_col4 {\n",
       "            background-color:  #fff5f0;\n",
       "            color:  #000000;\n",
       "        }    #T_7486abe4_8fff_11ea_afda_24ee9a9cd771row58_col5 {\n",
       "            background-color:  #fff5f0;\n",
       "            color:  #000000;\n",
       "        }    #T_7486abe4_8fff_11ea_afda_24ee9a9cd771row58_col6 {\n",
       "            background-color:  #fff5f0;\n",
       "            color:  #000000;\n",
       "        }    #T_7486abe4_8fff_11ea_afda_24ee9a9cd771row58_col7 {\n",
       "            background-color:  #fff5f0;\n",
       "            color:  #000000;\n",
       "        }    #T_7486abe4_8fff_11ea_afda_24ee9a9cd771row59_col1 {\n",
       "            background-color:  #fff5f0;\n",
       "            color:  #000000;\n",
       "        }    #T_7486abe4_8fff_11ea_afda_24ee9a9cd771row59_col2 {\n",
       "            background-color:  #fff5f0;\n",
       "            color:  #000000;\n",
       "        }    #T_7486abe4_8fff_11ea_afda_24ee9a9cd771row59_col3 {\n",
       "            background-color:  #fff5f0;\n",
       "            color:  #000000;\n",
       "        }    #T_7486abe4_8fff_11ea_afda_24ee9a9cd771row59_col4 {\n",
       "            background-color:  #fff5f0;\n",
       "            color:  #000000;\n",
       "        }    #T_7486abe4_8fff_11ea_afda_24ee9a9cd771row59_col5 {\n",
       "            background-color:  #fff5f0;\n",
       "            color:  #000000;\n",
       "        }    #T_7486abe4_8fff_11ea_afda_24ee9a9cd771row59_col6 {\n",
       "            background-color:  #fff5f0;\n",
       "            color:  #000000;\n",
       "        }    #T_7486abe4_8fff_11ea_afda_24ee9a9cd771row59_col7 {\n",
       "            background-color:  #fff5f0;\n",
       "            color:  #000000;\n",
       "        }    #T_7486abe4_8fff_11ea_afda_24ee9a9cd771row60_col1 {\n",
       "            background-color:  #fff5f0;\n",
       "            color:  #000000;\n",
       "        }    #T_7486abe4_8fff_11ea_afda_24ee9a9cd771row60_col2 {\n",
       "            background-color:  #fff5f0;\n",
       "            color:  #000000;\n",
       "        }    #T_7486abe4_8fff_11ea_afda_24ee9a9cd771row60_col3 {\n",
       "            background-color:  #fff5f0;\n",
       "            color:  #000000;\n",
       "        }    #T_7486abe4_8fff_11ea_afda_24ee9a9cd771row60_col4 {\n",
       "            background-color:  #fff5f0;\n",
       "            color:  #000000;\n",
       "        }    #T_7486abe4_8fff_11ea_afda_24ee9a9cd771row60_col5 {\n",
       "            background-color:  #fff5f0;\n",
       "            color:  #000000;\n",
       "        }    #T_7486abe4_8fff_11ea_afda_24ee9a9cd771row60_col6 {\n",
       "            background-color:  #fff5f0;\n",
       "            color:  #000000;\n",
       "        }    #T_7486abe4_8fff_11ea_afda_24ee9a9cd771row60_col7 {\n",
       "            background-color:  #fff5f0;\n",
       "            color:  #000000;\n",
       "        }    #T_7486abe4_8fff_11ea_afda_24ee9a9cd771row61_col1 {\n",
       "            background-color:  #fff5f0;\n",
       "            color:  #000000;\n",
       "        }    #T_7486abe4_8fff_11ea_afda_24ee9a9cd771row61_col2 {\n",
       "            background-color:  #fff5f0;\n",
       "            color:  #000000;\n",
       "        }    #T_7486abe4_8fff_11ea_afda_24ee9a9cd771row61_col3 {\n",
       "            background-color:  #fff5f0;\n",
       "            color:  #000000;\n",
       "        }    #T_7486abe4_8fff_11ea_afda_24ee9a9cd771row61_col4 {\n",
       "            background-color:  #fff5f0;\n",
       "            color:  #000000;\n",
       "        }    #T_7486abe4_8fff_11ea_afda_24ee9a9cd771row61_col5 {\n",
       "            background-color:  #fff5f0;\n",
       "            color:  #000000;\n",
       "        }    #T_7486abe4_8fff_11ea_afda_24ee9a9cd771row61_col6 {\n",
       "            background-color:  #fff5f0;\n",
       "            color:  #000000;\n",
       "        }    #T_7486abe4_8fff_11ea_afda_24ee9a9cd771row61_col7 {\n",
       "            background-color:  #fff5f0;\n",
       "            color:  #000000;\n",
       "        }</style><table id=\"T_7486abe4_8fff_11ea_afda_24ee9a9cd771\" ><thead>    <tr>        <th class=\"blank level0\" ></th>        <th class=\"col_heading level0 col0\" >USAState</th>        <th class=\"col_heading level0 col1\" >TotalCases</th>        <th class=\"col_heading level0 col2\" >TotalDeaths</th>        <th class=\"col_heading level0 col3\" >ActiveCases</th>        <th class=\"col_heading level0 col4\" >Total_Cases/1M pop</th>        <th class=\"col_heading level0 col5\" >Deaths/1M pop</th>        <th class=\"col_heading level0 col6\" >TotalTests</th>        <th class=\"col_heading level0 col7\" >Tests\n",
       "1M pop</th>    </tr></thead><tbody>\n",
       "                <tr>\n",
       "                        <th id=\"T_7486abe4_8fff_11ea_afda_24ee9a9cd771level0_row0\" class=\"row_heading level0 row0\" >1</th>\n",
       "                        <td id=\"T_7486abe4_8fff_11ea_afda_24ee9a9cd771row0_col0\" class=\"data row0 col0\" >New York</td>\n",
       "                        <td id=\"T_7486abe4_8fff_11ea_afda_24ee9a9cd771row0_col1\" class=\"data row0 col1\" >327374</td>\n",
       "                        <td id=\"T_7486abe4_8fff_11ea_afda_24ee9a9cd771row0_col2\" class=\"data row0 col2\" >25174.000000</td>\n",
       "                        <td id=\"T_7486abe4_8fff_11ea_afda_24ee9a9cd771row0_col3\" class=\"data row0 col3\" >248855.000000</td>\n",
       "                        <td id=\"T_7486abe4_8fff_11ea_afda_24ee9a9cd771row0_col4\" class=\"data row0 col4\" >16687.000000</td>\n",
       "                        <td id=\"T_7486abe4_8fff_11ea_afda_24ee9a9cd771row0_col5\" class=\"data row0 col5\" >1283.000000</td>\n",
       "                        <td id=\"T_7486abe4_8fff_11ea_afda_24ee9a9cd771row0_col6\" class=\"data row0 col6\" >1007310.000000</td>\n",
       "                        <td id=\"T_7486abe4_8fff_11ea_afda_24ee9a9cd771row0_col7\" class=\"data row0 col7\" >51345.000000</td>\n",
       "            </tr>\n",
       "            <tr>\n",
       "                        <th id=\"T_7486abe4_8fff_11ea_afda_24ee9a9cd771level0_row1\" class=\"row_heading level0 row1\" >2</th>\n",
       "                        <td id=\"T_7486abe4_8fff_11ea_afda_24ee9a9cd771row1_col0\" class=\"data row1 col0\" >New Jersey</td>\n",
       "                        <td id=\"T_7486abe4_8fff_11ea_afda_24ee9a9cd771row1_col1\" class=\"data row1 col1\" >129345</td>\n",
       "                        <td id=\"T_7486abe4_8fff_11ea_afda_24ee9a9cd771row1_col2\" class=\"data row1 col2\" >7951.000000</td>\n",
       "                        <td id=\"T_7486abe4_8fff_11ea_afda_24ee9a9cd771row1_col3\" class=\"data row1 col3\" >120123.000000</td>\n",
       "                        <td id=\"T_7486abe4_8fff_11ea_afda_24ee9a9cd771row1_col4\" class=\"data row1 col4\" >14563.000000</td>\n",
       "                        <td id=\"T_7486abe4_8fff_11ea_afda_24ee9a9cd771row1_col5\" class=\"data row1 col5\" >895.000000</td>\n",
       "                        <td id=\"T_7486abe4_8fff_11ea_afda_24ee9a9cd771row1_col6\" class=\"data row1 col6\" >275900.000000</td>\n",
       "                        <td id=\"T_7486abe4_8fff_11ea_afda_24ee9a9cd771row1_col7\" class=\"data row1 col7\" >31063.000000</td>\n",
       "            </tr>\n",
       "            <tr>\n",
       "                        <th id=\"T_7486abe4_8fff_11ea_afda_24ee9a9cd771level0_row2\" class=\"row_heading level0 row2\" >3</th>\n",
       "                        <td id=\"T_7486abe4_8fff_11ea_afda_24ee9a9cd771row2_col0\" class=\"data row2 col0\" >Massachusetts</td>\n",
       "                        <td id=\"T_7486abe4_8fff_11ea_afda_24ee9a9cd771row2_col1\" class=\"data row2 col1\" >69087</td>\n",
       "                        <td id=\"T_7486abe4_8fff_11ea_afda_24ee9a9cd771row2_col2\" class=\"data row2 col2\" >4090.000000</td>\n",
       "                        <td id=\"T_7486abe4_8fff_11ea_afda_24ee9a9cd771row2_col3\" class=\"data row2 col3\" >56879.000000</td>\n",
       "                        <td id=\"T_7486abe4_8fff_11ea_afda_24ee9a9cd771row2_col4\" class=\"data row2 col4\" >10115.000000</td>\n",
       "                        <td id=\"T_7486abe4_8fff_11ea_afda_24ee9a9cd771row2_col5\" class=\"data row2 col5\" >599.000000</td>\n",
       "                        <td id=\"T_7486abe4_8fff_11ea_afda_24ee9a9cd771row2_col6\" class=\"data row2 col6\" >324268.000000</td>\n",
       "                        <td id=\"T_7486abe4_8fff_11ea_afda_24ee9a9cd771row2_col7\" class=\"data row2 col7\" >47476.000000</td>\n",
       "            </tr>\n",
       "            <tr>\n",
       "                        <th id=\"T_7486abe4_8fff_11ea_afda_24ee9a9cd771level0_row3\" class=\"row_heading level0 row3\" >4</th>\n",
       "                        <td id=\"T_7486abe4_8fff_11ea_afda_24ee9a9cd771row3_col0\" class=\"data row3 col0\" >Illinois</td>\n",
       "                        <td id=\"T_7486abe4_8fff_11ea_afda_24ee9a9cd771row3_col1\" class=\"data row3 col1\" >63840</td>\n",
       "                        <td id=\"T_7486abe4_8fff_11ea_afda_24ee9a9cd771row3_col2\" class=\"data row3 col2\" >2662.000000</td>\n",
       "                        <td id=\"T_7486abe4_8fff_11ea_afda_24ee9a9cd771row3_col3\" class=\"data row3 col3\" >60533.000000</td>\n",
       "                        <td id=\"T_7486abe4_8fff_11ea_afda_24ee9a9cd771row3_col4\" class=\"data row3 col4\" >4979.000000</td>\n",
       "                        <td id=\"T_7486abe4_8fff_11ea_afda_24ee9a9cd771row3_col5\" class=\"data row3 col5\" >208.000000</td>\n",
       "                        <td id=\"T_7486abe4_8fff_11ea_afda_24ee9a9cd771row3_col6\" class=\"data row3 col6\" >333147.000000</td>\n",
       "                        <td id=\"T_7486abe4_8fff_11ea_afda_24ee9a9cd771row3_col7\" class=\"data row3 col7\" >25983.000000</td>\n",
       "            </tr>\n",
       "            <tr>\n",
       "                        <th id=\"T_7486abe4_8fff_11ea_afda_24ee9a9cd771level0_row4\" class=\"row_heading level0 row4\" >5</th>\n",
       "                        <td id=\"T_7486abe4_8fff_11ea_afda_24ee9a9cd771row4_col0\" class=\"data row4 col0\" >California</td>\n",
       "                        <td id=\"T_7486abe4_8fff_11ea_afda_24ee9a9cd771row4_col1\" class=\"data row4 col1\" >56306</td>\n",
       "                        <td id=\"T_7486abe4_8fff_11ea_afda_24ee9a9cd771row4_col2\" class=\"data row4 col2\" >2294.000000</td>\n",
       "                        <td id=\"T_7486abe4_8fff_11ea_afda_24ee9a9cd771row4_col3\" class=\"data row4 col3\" >46448.000000</td>\n",
       "                        <td id=\"T_7486abe4_8fff_11ea_afda_24ee9a9cd771row4_col4\" class=\"data row4 col4\" >1438.000000</td>\n",
       "                        <td id=\"T_7486abe4_8fff_11ea_afda_24ee9a9cd771row4_col5\" class=\"data row4 col5\" >59.000000</td>\n",
       "                        <td id=\"T_7486abe4_8fff_11ea_afda_24ee9a9cd771row4_col6\" class=\"data row4 col6\" >750287.000000</td>\n",
       "                        <td id=\"T_7486abe4_8fff_11ea_afda_24ee9a9cd771row4_col7\" class=\"data row4 col7\" >19165.000000</td>\n",
       "            </tr>\n",
       "            <tr>\n",
       "                        <th id=\"T_7486abe4_8fff_11ea_afda_24ee9a9cd771level0_row5\" class=\"row_heading level0 row5\" >6</th>\n",
       "                        <td id=\"T_7486abe4_8fff_11ea_afda_24ee9a9cd771row5_col0\" class=\"data row5 col0\" >Pennsylvania</td>\n",
       "                        <td id=\"T_7486abe4_8fff_11ea_afda_24ee9a9cd771row5_col1\" class=\"data row5 col1\" >52922</td>\n",
       "                        <td id=\"T_7486abe4_8fff_11ea_afda_24ee9a9cd771row5_col2\" class=\"data row5 col2\" >3012.000000</td>\n",
       "                        <td id=\"T_7486abe4_8fff_11ea_afda_24ee9a9cd771row5_col3\" class=\"data row5 col3\" >48927.000000</td>\n",
       "                        <td id=\"T_7486abe4_8fff_11ea_afda_24ee9a9cd771row5_col4\" class=\"data row5 col4\" >4137.000000</td>\n",
       "                        <td id=\"T_7486abe4_8fff_11ea_afda_24ee9a9cd771row5_col5\" class=\"data row5 col5\" >235.000000</td>\n",
       "                        <td id=\"T_7486abe4_8fff_11ea_afda_24ee9a9cd771row5_col6\" class=\"data row5 col6\" >250882.000000</td>\n",
       "                        <td id=\"T_7486abe4_8fff_11ea_afda_24ee9a9cd771row5_col7\" class=\"data row5 col7\" >19614.000000</td>\n",
       "            </tr>\n",
       "            <tr>\n",
       "                        <th id=\"T_7486abe4_8fff_11ea_afda_24ee9a9cd771level0_row6\" class=\"row_heading level0 row6\" >7</th>\n",
       "                        <td id=\"T_7486abe4_8fff_11ea_afda_24ee9a9cd771row6_col0\" class=\"data row6 col0\" >Michigan</td>\n",
       "                        <td id=\"T_7486abe4_8fff_11ea_afda_24ee9a9cd771row6_col1\" class=\"data row6 col1\" >43950</td>\n",
       "                        <td id=\"T_7486abe4_8fff_11ea_afda_24ee9a9cd771row6_col2\" class=\"data row6 col2\" >4135.000000</td>\n",
       "                        <td id=\"T_7486abe4_8fff_11ea_afda_24ee9a9cd771row6_col3\" class=\"data row6 col3\" >24156.000000</td>\n",
       "                        <td id=\"T_7486abe4_8fff_11ea_afda_24ee9a9cd771row6_col4\" class=\"data row6 col4\" >4414.000000</td>\n",
       "                        <td id=\"T_7486abe4_8fff_11ea_afda_24ee9a9cd771row6_col5\" class=\"data row6 col5\" >415.000000</td>\n",
       "                        <td id=\"T_7486abe4_8fff_11ea_afda_24ee9a9cd771row6_col6\" class=\"data row6 col6\" >229183.000000</td>\n",
       "                        <td id=\"T_7486abe4_8fff_11ea_afda_24ee9a9cd771row6_col7\" class=\"data row6 col7\" >23016.000000</td>\n",
       "            </tr>\n",
       "            <tr>\n",
       "                        <th id=\"T_7486abe4_8fff_11ea_afda_24ee9a9cd771level0_row7\" class=\"row_heading level0 row7\" >8</th>\n",
       "                        <td id=\"T_7486abe4_8fff_11ea_afda_24ee9a9cd771row7_col0\" class=\"data row7 col0\" >Florida</td>\n",
       "                        <td id=\"T_7486abe4_8fff_11ea_afda_24ee9a9cd771row7_col1\" class=\"data row7 col1\" >37439</td>\n",
       "                        <td id=\"T_7486abe4_8fff_11ea_afda_24ee9a9cd771row7_col2\" class=\"data row7 col2\" >1471.000000</td>\n",
       "                        <td id=\"T_7486abe4_8fff_11ea_afda_24ee9a9cd771row7_col3\" class=\"data row7 col3\" >35282.000000</td>\n",
       "                        <td id=\"T_7486abe4_8fff_11ea_afda_24ee9a9cd771row7_col4\" class=\"data row7 col4\" >1818.000000</td>\n",
       "                        <td id=\"T_7486abe4_8fff_11ea_afda_24ee9a9cd771row7_col5\" class=\"data row7 col5\" >71.000000</td>\n",
       "                        <td id=\"T_7486abe4_8fff_11ea_afda_24ee9a9cd771row7_col6\" class=\"data row7 col6\" >467553.000000</td>\n",
       "                        <td id=\"T_7486abe4_8fff_11ea_afda_24ee9a9cd771row7_col7\" class=\"data row7 col7\" >22699.000000</td>\n",
       "            </tr>\n",
       "            <tr>\n",
       "                        <th id=\"T_7486abe4_8fff_11ea_afda_24ee9a9cd771level0_row8\" class=\"row_heading level0 row8\" >9</th>\n",
       "                        <td id=\"T_7486abe4_8fff_11ea_afda_24ee9a9cd771row8_col0\" class=\"data row8 col0\" >Texas</td>\n",
       "                        <td id=\"T_7486abe4_8fff_11ea_afda_24ee9a9cd771row8_col1\" class=\"data row8 col1\" >33188</td>\n",
       "                        <td id=\"T_7486abe4_8fff_11ea_afda_24ee9a9cd771row8_col2\" class=\"data row8 col2\" >920.000000</td>\n",
       "                        <td id=\"T_7486abe4_8fff_11ea_afda_24ee9a9cd771row8_col3\" class=\"data row8 col3\" >15603.000000</td>\n",
       "                        <td id=\"T_7486abe4_8fff_11ea_afda_24ee9a9cd771row8_col4\" class=\"data row8 col4\" >1190.000000</td>\n",
       "                        <td id=\"T_7486abe4_8fff_11ea_afda_24ee9a9cd771row8_col5\" class=\"data row8 col5\" >33.000000</td>\n",
       "                        <td id=\"T_7486abe4_8fff_11ea_afda_24ee9a9cd771row8_col6\" class=\"data row8 col6\" >407528.000000</td>\n",
       "                        <td id=\"T_7486abe4_8fff_11ea_afda_24ee9a9cd771row8_col7\" class=\"data row8 col7\" >14614.000000</td>\n",
       "            </tr>\n",
       "            <tr>\n",
       "                        <th id=\"T_7486abe4_8fff_11ea_afda_24ee9a9cd771level0_row9\" class=\"row_heading level0 row9\" >10</th>\n",
       "                        <td id=\"T_7486abe4_8fff_11ea_afda_24ee9a9cd771row9_col0\" class=\"data row9 col0\" >Connecticut</td>\n",
       "                        <td id=\"T_7486abe4_8fff_11ea_afda_24ee9a9cd771row9_col1\" class=\"data row9 col1\" >30173</td>\n",
       "                        <td id=\"T_7486abe4_8fff_11ea_afda_24ee9a9cd771row9_col2\" class=\"data row9 col2\" >2556.000000</td>\n",
       "                        <td id=\"T_7486abe4_8fff_11ea_afda_24ee9a9cd771row9_col3\" class=\"data row9 col3\" >27552.000000</td>\n",
       "                        <td id=\"T_7486abe4_8fff_11ea_afda_24ee9a9cd771row9_col4\" class=\"data row9 col4\" >8425.000000</td>\n",
       "                        <td id=\"T_7486abe4_8fff_11ea_afda_24ee9a9cd771row9_col5\" class=\"data row9 col5\" >714.000000</td>\n",
       "                        <td id=\"T_7486abe4_8fff_11ea_afda_24ee9a9cd771row9_col6\" class=\"data row9 col6\" >105330.000000</td>\n",
       "                        <td id=\"T_7486abe4_8fff_11ea_afda_24ee9a9cd771row9_col7\" class=\"data row9 col7\" >29409.000000</td>\n",
       "            </tr>\n",
       "            <tr>\n",
       "                        <th id=\"T_7486abe4_8fff_11ea_afda_24ee9a9cd771level0_row10\" class=\"row_heading level0 row10\" >11</th>\n",
       "                        <td id=\"T_7486abe4_8fff_11ea_afda_24ee9a9cd771row10_col0\" class=\"data row10 col0\" >Louisiana</td>\n",
       "                        <td id=\"T_7486abe4_8fff_11ea_afda_24ee9a9cd771row10_col1\" class=\"data row10 col1\" >29673</td>\n",
       "                        <td id=\"T_7486abe4_8fff_11ea_afda_24ee9a9cd771row10_col2\" class=\"data row10 col2\" >2064.000000</td>\n",
       "                        <td id=\"T_7486abe4_8fff_11ea_afda_24ee9a9cd771row10_col3\" class=\"data row10 col3\" >10306.000000</td>\n",
       "                        <td id=\"T_7486abe4_8fff_11ea_afda_24ee9a9cd771row10_col4\" class=\"data row10 col4\" >6363.000000</td>\n",
       "                        <td id=\"T_7486abe4_8fff_11ea_afda_24ee9a9cd771row10_col5\" class=\"data row10 col5\" >443.000000</td>\n",
       "                        <td id=\"T_7486abe4_8fff_11ea_afda_24ee9a9cd771row10_col6\" class=\"data row10 col6\" >180931.000000</td>\n",
       "                        <td id=\"T_7486abe4_8fff_11ea_afda_24ee9a9cd771row10_col7\" class=\"data row10 col7\" >38796.000000</td>\n",
       "            </tr>\n",
       "            <tr>\n",
       "                        <th id=\"T_7486abe4_8fff_11ea_afda_24ee9a9cd771level0_row11\" class=\"row_heading level0 row11\" >12</th>\n",
       "                        <td id=\"T_7486abe4_8fff_11ea_afda_24ee9a9cd771row11_col0\" class=\"data row11 col0\" >Georgia</td>\n",
       "                        <td id=\"T_7486abe4_8fff_11ea_afda_24ee9a9cd771row11_col1\" class=\"data row11 col1\" >29560</td>\n",
       "                        <td id=\"T_7486abe4_8fff_11ea_afda_24ee9a9cd771row11_col2\" class=\"data row11 col2\" >1258.000000</td>\n",
       "                        <td id=\"T_7486abe4_8fff_11ea_afda_24ee9a9cd771row11_col3\" class=\"data row11 col3\" >27962.000000</td>\n",
       "                        <td id=\"T_7486abe4_8fff_11ea_afda_24ee9a9cd771row11_col4\" class=\"data row11 col4\" >2871.000000</td>\n",
       "                        <td id=\"T_7486abe4_8fff_11ea_afda_24ee9a9cd771row11_col5\" class=\"data row11 col5\" >122.000000</td>\n",
       "                        <td id=\"T_7486abe4_8fff_11ea_afda_24ee9a9cd771row11_col6\" class=\"data row11 col6\" >200814.000000</td>\n",
       "                        <td id=\"T_7486abe4_8fff_11ea_afda_24ee9a9cd771row11_col7\" class=\"data row11 col7\" >19501.000000</td>\n",
       "            </tr>\n",
       "            <tr>\n",
       "                        <th id=\"T_7486abe4_8fff_11ea_afda_24ee9a9cd771level0_row12\" class=\"row_heading level0 row12\" >13</th>\n",
       "                        <td id=\"T_7486abe4_8fff_11ea_afda_24ee9a9cd771row12_col0\" class=\"data row12 col0\" >Maryland</td>\n",
       "                        <td id=\"T_7486abe4_8fff_11ea_afda_24ee9a9cd771row12_col1\" class=\"data row12 col1\" >27117</td>\n",
       "                        <td id=\"T_7486abe4_8fff_11ea_afda_24ee9a9cd771row12_col2\" class=\"data row12 col2\" >1390.000000</td>\n",
       "                        <td id=\"T_7486abe4_8fff_11ea_afda_24ee9a9cd771row12_col3\" class=\"data row12 col3\" >24210.000000</td>\n",
       "                        <td id=\"T_7486abe4_8fff_11ea_afda_24ee9a9cd771row12_col4\" class=\"data row12 col4\" >4517.000000</td>\n",
       "                        <td id=\"T_7486abe4_8fff_11ea_afda_24ee9a9cd771row12_col5\" class=\"data row12 col5\" >232.000000</td>\n",
       "                        <td id=\"T_7486abe4_8fff_11ea_afda_24ee9a9cd771row12_col6\" class=\"data row12 col6\" >140103.000000</td>\n",
       "                        <td id=\"T_7486abe4_8fff_11ea_afda_24ee9a9cd771row12_col7\" class=\"data row12 col7\" >23337.000000</td>\n",
       "            </tr>\n",
       "            <tr>\n",
       "                        <th id=\"T_7486abe4_8fff_11ea_afda_24ee9a9cd771level0_row13\" class=\"row_heading level0 row13\" >14</th>\n",
       "                        <td id=\"T_7486abe4_8fff_11ea_afda_24ee9a9cd771row13_col0\" class=\"data row13 col0\" >Indiana</td>\n",
       "                        <td id=\"T_7486abe4_8fff_11ea_afda_24ee9a9cd771row13_col1\" class=\"data row13 col1\" >21033</td>\n",
       "                        <td id=\"T_7486abe4_8fff_11ea_afda_24ee9a9cd771row13_col2\" class=\"data row13 col2\" >1326.000000</td>\n",
       "                        <td id=\"T_7486abe4_8fff_11ea_afda_24ee9a9cd771row13_col3\" class=\"data row13 col3\" >19693.000000</td>\n",
       "                        <td id=\"T_7486abe4_8fff_11ea_afda_24ee9a9cd771row13_col4\" class=\"data row13 col4\" >3169.000000</td>\n",
       "                        <td id=\"T_7486abe4_8fff_11ea_afda_24ee9a9cd771row13_col5\" class=\"data row13 col5\" >200.000000</td>\n",
       "                        <td id=\"T_7486abe4_8fff_11ea_afda_24ee9a9cd771row13_col6\" class=\"data row13 col6\" >115834.000000</td>\n",
       "                        <td id=\"T_7486abe4_8fff_11ea_afda_24ee9a9cd771row13_col7\" class=\"data row13 col7\" >17452.000000</td>\n",
       "            </tr>\n",
       "            <tr>\n",
       "                        <th id=\"T_7486abe4_8fff_11ea_afda_24ee9a9cd771level0_row14\" class=\"row_heading level0 row14\" >15</th>\n",
       "                        <td id=\"T_7486abe4_8fff_11ea_afda_24ee9a9cd771row14_col0\" class=\"data row14 col0\" >Ohio</td>\n",
       "                        <td id=\"T_7486abe4_8fff_11ea_afda_24ee9a9cd771row14_col1\" class=\"data row14 col1\" >20476</td>\n",
       "                        <td id=\"T_7486abe4_8fff_11ea_afda_24ee9a9cd771row14_col2\" class=\"data row14 col2\" >1058.000000</td>\n",
       "                        <td id=\"T_7486abe4_8fff_11ea_afda_24ee9a9cd771row14_col3\" class=\"data row14 col3\" >18970.000000</td>\n",
       "                        <td id=\"T_7486abe4_8fff_11ea_afda_24ee9a9cd771row14_col4\" class=\"data row14 col4\" >1759.000000</td>\n",
       "                        <td id=\"T_7486abe4_8fff_11ea_afda_24ee9a9cd771row14_col5\" class=\"data row14 col5\" >91.000000</td>\n",
       "                        <td id=\"T_7486abe4_8fff_11ea_afda_24ee9a9cd771row14_col6\" class=\"data row14 col6\" >154290.000000</td>\n",
       "                        <td id=\"T_7486abe4_8fff_11ea_afda_24ee9a9cd771row14_col7\" class=\"data row14 col7\" >13253.000000</td>\n",
       "            </tr>\n",
       "            <tr>\n",
       "                        <th id=\"T_7486abe4_8fff_11ea_afda_24ee9a9cd771level0_row15\" class=\"row_heading level0 row15\" >16</th>\n",
       "                        <td id=\"T_7486abe4_8fff_11ea_afda_24ee9a9cd771row15_col0\" class=\"data row15 col0\" >Virginia</td>\n",
       "                        <td id=\"T_7486abe4_8fff_11ea_afda_24ee9a9cd771row15_col1\" class=\"data row15 col1\" >20256</td>\n",
       "                        <td id=\"T_7486abe4_8fff_11ea_afda_24ee9a9cd771row15_col2\" class=\"data row15 col2\" >713.000000</td>\n",
       "                        <td id=\"T_7486abe4_8fff_11ea_afda_24ee9a9cd771row15_col3\" class=\"data row15 col3\" >17046.000000</td>\n",
       "                        <td id=\"T_7486abe4_8fff_11ea_afda_24ee9a9cd771row15_col4\" class=\"data row15 col4\" >2407.000000</td>\n",
       "                        <td id=\"T_7486abe4_8fff_11ea_afda_24ee9a9cd771row15_col5\" class=\"data row15 col5\" >85.000000</td>\n",
       "                        <td id=\"T_7486abe4_8fff_11ea_afda_24ee9a9cd771row15_col6\" class=\"data row15 col6\" >127938.000000</td>\n",
       "                        <td id=\"T_7486abe4_8fff_11ea_afda_24ee9a9cd771row15_col7\" class=\"data row15 col7\" >15206.000000</td>\n",
       "            </tr>\n",
       "            <tr>\n",
       "                        <th id=\"T_7486abe4_8fff_11ea_afda_24ee9a9cd771level0_row16\" class=\"row_heading level0 row16\" >17</th>\n",
       "                        <td id=\"T_7486abe4_8fff_11ea_afda_24ee9a9cd771row16_col0\" class=\"data row16 col0\" >Colorado</td>\n",
       "                        <td id=\"T_7486abe4_8fff_11ea_afda_24ee9a9cd771row16_col1\" class=\"data row16 col1\" >16907</td>\n",
       "                        <td id=\"T_7486abe4_8fff_11ea_afda_24ee9a9cd771row16_col2\" class=\"data row16 col2\" >851.000000</td>\n",
       "                        <td id=\"T_7486abe4_8fff_11ea_afda_24ee9a9cd771row16_col3\" class=\"data row16 col3\" >15497.000000</td>\n",
       "                        <td id=\"T_7486abe4_8fff_11ea_afda_24ee9a9cd771row16_col4\" class=\"data row16 col4\" >3057.000000</td>\n",
       "                        <td id=\"T_7486abe4_8fff_11ea_afda_24ee9a9cd771row16_col5\" class=\"data row16 col5\" >154.000000</td>\n",
       "                        <td id=\"T_7486abe4_8fff_11ea_afda_24ee9a9cd771row16_col6\" class=\"data row16 col6\" >83266.000000</td>\n",
       "                        <td id=\"T_7486abe4_8fff_11ea_afda_24ee9a9cd771row16_col7\" class=\"data row16 col7\" >15054.000000</td>\n",
       "            </tr>\n",
       "            <tr>\n",
       "                        <th id=\"T_7486abe4_8fff_11ea_afda_24ee9a9cd771level0_row17\" class=\"row_heading level0 row17\" >18</th>\n",
       "                        <td id=\"T_7486abe4_8fff_11ea_afda_24ee9a9cd771row17_col0\" class=\"data row17 col0\" >Washington</td>\n",
       "                        <td id=\"T_7486abe4_8fff_11ea_afda_24ee9a9cd771row17_col1\" class=\"data row17 col1\" >16136</td>\n",
       "                        <td id=\"T_7486abe4_8fff_11ea_afda_24ee9a9cd771row17_col2\" class=\"data row17 col2\" >846.000000</td>\n",
       "                        <td id=\"T_7486abe4_8fff_11ea_afda_24ee9a9cd771row17_col3\" class=\"data row17 col3\" >12858.000000</td>\n",
       "                        <td id=\"T_7486abe4_8fff_11ea_afda_24ee9a9cd771row17_col4\" class=\"data row17 col4\" >2212.000000</td>\n",
       "                        <td id=\"T_7486abe4_8fff_11ea_afda_24ee9a9cd771row17_col5\" class=\"data row17 col5\" >116.000000</td>\n",
       "                        <td id=\"T_7486abe4_8fff_11ea_afda_24ee9a9cd771row17_col6\" class=\"data row17 col6\" >216320.000000</td>\n",
       "                        <td id=\"T_7486abe4_8fff_11ea_afda_24ee9a9cd771row17_col7\" class=\"data row17 col7\" >29656.000000</td>\n",
       "            </tr>\n",
       "            <tr>\n",
       "                        <th id=\"T_7486abe4_8fff_11ea_afda_24ee9a9cd771level0_row18\" class=\"row_heading level0 row18\" >19</th>\n",
       "                        <td id=\"T_7486abe4_8fff_11ea_afda_24ee9a9cd771row18_col0\" class=\"data row18 col0\" >Tennessee</td>\n",
       "                        <td id=\"T_7486abe4_8fff_11ea_afda_24ee9a9cd771row18_col1\" class=\"data row18 col1\" >13571</td>\n",
       "                        <td id=\"T_7486abe4_8fff_11ea_afda_24ee9a9cd771row18_col2\" class=\"data row18 col2\" >219.000000</td>\n",
       "                        <td id=\"T_7486abe4_8fff_11ea_afda_24ee9a9cd771row18_col3\" class=\"data row18 col3\" >7271.000000</td>\n",
       "                        <td id=\"T_7486abe4_8fff_11ea_afda_24ee9a9cd771row18_col4\" class=\"data row18 col4\" >2040.000000</td>\n",
       "                        <td id=\"T_7486abe4_8fff_11ea_afda_24ee9a9cd771row18_col5\" class=\"data row18 col5\" >33.000000</td>\n",
       "                        <td id=\"T_7486abe4_8fff_11ea_afda_24ee9a9cd771row18_col6\" class=\"data row18 col6\" >211443.000000</td>\n",
       "                        <td id=\"T_7486abe4_8fff_11ea_afda_24ee9a9cd771row18_col7\" class=\"data row18 col7\" >31791.000000</td>\n",
       "            </tr>\n",
       "            <tr>\n",
       "                        <th id=\"T_7486abe4_8fff_11ea_afda_24ee9a9cd771level0_row19\" class=\"row_heading level0 row19\" >20</th>\n",
       "                        <td id=\"T_7486abe4_8fff_11ea_afda_24ee9a9cd771row19_col0\" class=\"data row19 col0\" >North Carolina</td>\n",
       "                        <td id=\"T_7486abe4_8fff_11ea_afda_24ee9a9cd771row19_col1\" class=\"data row19 col1\" >12377</td>\n",
       "                        <td id=\"T_7486abe4_8fff_11ea_afda_24ee9a9cd771row19_col2\" class=\"data row19 col2\" >460.000000</td>\n",
       "                        <td id=\"T_7486abe4_8fff_11ea_afda_24ee9a9cd771row19_col3\" class=\"data row19 col3\" >10109.000000</td>\n",
       "                        <td id=\"T_7486abe4_8fff_11ea_afda_24ee9a9cd771row19_col4\" class=\"data row19 col4\" >1219.000000</td>\n",
       "                        <td id=\"T_7486abe4_8fff_11ea_afda_24ee9a9cd771row19_col5\" class=\"data row19 col5\" >45.000000</td>\n",
       "                        <td id=\"T_7486abe4_8fff_11ea_afda_24ee9a9cd771row19_col6\" class=\"data row19 col6\" >151800.000000</td>\n",
       "                        <td id=\"T_7486abe4_8fff_11ea_afda_24ee9a9cd771row19_col7\" class=\"data row19 col7\" >14947.000000</td>\n",
       "            </tr>\n",
       "            <tr>\n",
       "                        <th id=\"T_7486abe4_8fff_11ea_afda_24ee9a9cd771level0_row20\" class=\"row_heading level0 row20\" >21</th>\n",
       "                        <td id=\"T_7486abe4_8fff_11ea_afda_24ee9a9cd771row20_col0\" class=\"data row20 col0\" >Iowa</td>\n",
       "                        <td id=\"T_7486abe4_8fff_11ea_afda_24ee9a9cd771row20_col1\" class=\"data row20 col1\" >10111</td>\n",
       "                        <td id=\"T_7486abe4_8fff_11ea_afda_24ee9a9cd771row20_col2\" class=\"data row20 col2\" >207.000000</td>\n",
       "                        <td id=\"T_7486abe4_8fff_11ea_afda_24ee9a9cd771row20_col3\" class=\"data row20 col3\" >6332.000000</td>\n",
       "                        <td id=\"T_7486abe4_8fff_11ea_afda_24ee9a9cd771row20_col4\" class=\"data row20 col4\" >3228.000000</td>\n",
       "                        <td id=\"T_7486abe4_8fff_11ea_afda_24ee9a9cd771row20_col5\" class=\"data row20 col5\" >66.000000</td>\n",
       "                        <td id=\"T_7486abe4_8fff_11ea_afda_24ee9a9cd771row20_col6\" class=\"data row20 col6\" >57161.000000</td>\n",
       "                        <td id=\"T_7486abe4_8fff_11ea_afda_24ee9a9cd771row20_col7\" class=\"data row20 col7\" >18248.000000</td>\n",
       "            </tr>\n",
       "            <tr>\n",
       "                        <th id=\"T_7486abe4_8fff_11ea_afda_24ee9a9cd771level0_row21\" class=\"row_heading level0 row21\" >22</th>\n",
       "                        <td id=\"T_7486abe4_8fff_11ea_afda_24ee9a9cd771row21_col0\" class=\"data row21 col0\" >Rhode Island</td>\n",
       "                        <td id=\"T_7486abe4_8fff_11ea_afda_24ee9a9cd771row21_col1\" class=\"data row21 col1\" >9933</td>\n",
       "                        <td id=\"T_7486abe4_8fff_11ea_afda_24ee9a9cd771row21_col2\" class=\"data row21 col2\" >355.000000</td>\n",
       "                        <td id=\"T_7486abe4_8fff_11ea_afda_24ee9a9cd771row21_col3\" class=\"data row21 col3\" >9236.000000</td>\n",
       "                        <td id=\"T_7486abe4_8fff_11ea_afda_24ee9a9cd771row21_col4\" class=\"data row21 col4\" >9401.000000</td>\n",
       "                        <td id=\"T_7486abe4_8fff_11ea_afda_24ee9a9cd771row21_col5\" class=\"data row21 col5\" >336.000000</td>\n",
       "                        <td id=\"T_7486abe4_8fff_11ea_afda_24ee9a9cd771row21_col6\" class=\"data row21 col6\" >76435.000000</td>\n",
       "                        <td id=\"T_7486abe4_8fff_11ea_afda_24ee9a9cd771row21_col7\" class=\"data row21 col7\" >72340.000000</td>\n",
       "            </tr>\n",
       "            <tr>\n",
       "                        <th id=\"T_7486abe4_8fff_11ea_afda_24ee9a9cd771level0_row22\" class=\"row_heading level0 row22\" >23</th>\n",
       "                        <td id=\"T_7486abe4_8fff_11ea_afda_24ee9a9cd771row22_col0\" class=\"data row22 col0\" >Arizona</td>\n",
       "                        <td id=\"T_7486abe4_8fff_11ea_afda_24ee9a9cd771row22_col1\" class=\"data row22 col1\" >9305</td>\n",
       "                        <td id=\"T_7486abe4_8fff_11ea_afda_24ee9a9cd771row22_col2\" class=\"data row22 col2\" >395.000000</td>\n",
       "                        <td id=\"T_7486abe4_8fff_11ea_afda_24ee9a9cd771row22_col3\" class=\"data row22 col3\" >8840.000000</td>\n",
       "                        <td id=\"T_7486abe4_8fff_11ea_afda_24ee9a9cd771row22_col4\" class=\"data row22 col4\" >1339.000000</td>\n",
       "                        <td id=\"T_7486abe4_8fff_11ea_afda_24ee9a9cd771row22_col5\" class=\"data row22 col5\" >57.000000</td>\n",
       "                        <td id=\"T_7486abe4_8fff_11ea_afda_24ee9a9cd771row22_col6\" class=\"data row22 col6\" >85253.000000</td>\n",
       "                        <td id=\"T_7486abe4_8fff_11ea_afda_24ee9a9cd771row22_col7\" class=\"data row22 col7\" >12272.000000</td>\n",
       "            </tr>\n",
       "            <tr>\n",
       "                        <th id=\"T_7486abe4_8fff_11ea_afda_24ee9a9cd771level0_row23\" class=\"row_heading level0 row23\" >24</th>\n",
       "                        <td id=\"T_7486abe4_8fff_11ea_afda_24ee9a9cd771row23_col0\" class=\"data row23 col0\" >Missouri</td>\n",
       "                        <td id=\"T_7486abe4_8fff_11ea_afda_24ee9a9cd771row23_col1\" class=\"data row23 col1\" >8887</td>\n",
       "                        <td id=\"T_7486abe4_8fff_11ea_afda_24ee9a9cd771row23_col2\" class=\"data row23 col2\" >383.000000</td>\n",
       "                        <td id=\"T_7486abe4_8fff_11ea_afda_24ee9a9cd771row23_col3\" class=\"data row23 col3\" >6517.000000</td>\n",
       "                        <td id=\"T_7486abe4_8fff_11ea_afda_24ee9a9cd771row23_col4\" class=\"data row23 col4\" >1459.000000</td>\n",
       "                        <td id=\"T_7486abe4_8fff_11ea_afda_24ee9a9cd771row23_col5\" class=\"data row23 col5\" >63.000000</td>\n",
       "                        <td id=\"T_7486abe4_8fff_11ea_afda_24ee9a9cd771row23_col6\" class=\"data row23 col6\" >91083.000000</td>\n",
       "                        <td id=\"T_7486abe4_8fff_11ea_afda_24ee9a9cd771row23_col7\" class=\"data row23 col7\" >14956.000000</td>\n",
       "            </tr>\n",
       "            <tr>\n",
       "                        <th id=\"T_7486abe4_8fff_11ea_afda_24ee9a9cd771level0_row24\" class=\"row_heading level0 row24\" >25</th>\n",
       "                        <td id=\"T_7486abe4_8fff_11ea_afda_24ee9a9cd771row24_col0\" class=\"data row24 col0\" >Wisconsin</td>\n",
       "                        <td id=\"T_7486abe4_8fff_11ea_afda_24ee9a9cd771row24_col1\" class=\"data row24 col1\" >8236</td>\n",
       "                        <td id=\"T_7486abe4_8fff_11ea_afda_24ee9a9cd771row24_col2\" class=\"data row24 col2\" >340.000000</td>\n",
       "                        <td id=\"T_7486abe4_8fff_11ea_afda_24ee9a9cd771row24_col3\" class=\"data row24 col3\" >3923.000000</td>\n",
       "                        <td id=\"T_7486abe4_8fff_11ea_afda_24ee9a9cd771row24_col4\" class=\"data row24 col4\" >1425.000000</td>\n",
       "                        <td id=\"T_7486abe4_8fff_11ea_afda_24ee9a9cd771row24_col5\" class=\"data row24 col5\" >59.000000</td>\n",
       "                        <td id=\"T_7486abe4_8fff_11ea_afda_24ee9a9cd771row24_col6\" class=\"data row24 col6\" >88703.000000</td>\n",
       "                        <td id=\"T_7486abe4_8fff_11ea_afda_24ee9a9cd771row24_col7\" class=\"data row24 col7\" >15351.000000</td>\n",
       "            </tr>\n",
       "            <tr>\n",
       "                        <th id=\"T_7486abe4_8fff_11ea_afda_24ee9a9cd771level0_row25\" class=\"row_heading level0 row25\" >26</th>\n",
       "                        <td id=\"T_7486abe4_8fff_11ea_afda_24ee9a9cd771row25_col0\" class=\"data row25 col0\" >Alabama</td>\n",
       "                        <td id=\"T_7486abe4_8fff_11ea_afda_24ee9a9cd771row25_col1\" class=\"data row25 col1\" >8120</td>\n",
       "                        <td id=\"T_7486abe4_8fff_11ea_afda_24ee9a9cd771row25_col2\" class=\"data row25 col2\" >310.000000</td>\n",
       "                        <td id=\"T_7486abe4_8fff_11ea_afda_24ee9a9cd771row25_col3\" class=\"data row25 col3\" >7790.000000</td>\n",
       "                        <td id=\"T_7486abe4_8fff_11ea_afda_24ee9a9cd771row25_col4\" class=\"data row25 col4\" >1669.000000</td>\n",
       "                        <td id=\"T_7486abe4_8fff_11ea_afda_24ee9a9cd771row25_col5\" class=\"data row25 col5\" >64.000000</td>\n",
       "                        <td id=\"T_7486abe4_8fff_11ea_afda_24ee9a9cd771row25_col6\" class=\"data row25 col6\" >105083.000000</td>\n",
       "                        <td id=\"T_7486abe4_8fff_11ea_afda_24ee9a9cd771row25_col7\" class=\"data row25 col7\" >21601.000000</td>\n",
       "            </tr>\n",
       "            <tr>\n",
       "                        <th id=\"T_7486abe4_8fff_11ea_afda_24ee9a9cd771level0_row26\" class=\"row_heading level0 row26\" >27</th>\n",
       "                        <td id=\"T_7486abe4_8fff_11ea_afda_24ee9a9cd771row26_col0\" class=\"data row26 col0\" >Mississippi</td>\n",
       "                        <td id=\"T_7486abe4_8fff_11ea_afda_24ee9a9cd771row26_col1\" class=\"data row26 col1\" >7877</td>\n",
       "                        <td id=\"T_7486abe4_8fff_11ea_afda_24ee9a9cd771row26_col2\" class=\"data row26 col2\" >310.000000</td>\n",
       "                        <td id=\"T_7486abe4_8fff_11ea_afda_24ee9a9cd771row26_col3\" class=\"data row26 col3\" >4154.000000</td>\n",
       "                        <td id=\"T_7486abe4_8fff_11ea_afda_24ee9a9cd771row26_col4\" class=\"data row26 col4\" >2636.000000</td>\n",
       "                        <td id=\"T_7486abe4_8fff_11ea_afda_24ee9a9cd771row26_col5\" class=\"data row26 col5\" >104.000000</td>\n",
       "                        <td id=\"T_7486abe4_8fff_11ea_afda_24ee9a9cd771row26_col6\" class=\"data row26 col6\" >79677.000000</td>\n",
       "                        <td id=\"T_7486abe4_8fff_11ea_afda_24ee9a9cd771row26_col7\" class=\"data row26 col7\" >26659.000000</td>\n",
       "            </tr>\n",
       "            <tr>\n",
       "                        <th id=\"T_7486abe4_8fff_11ea_afda_24ee9a9cd771level0_row27\" class=\"row_heading level0 row27\" >28</th>\n",
       "                        <td id=\"T_7486abe4_8fff_11ea_afda_24ee9a9cd771row27_col0\" class=\"data row27 col0\" >Minnesota</td>\n",
       "                        <td id=\"T_7486abe4_8fff_11ea_afda_24ee9a9cd771row27_col1\" class=\"data row27 col1\" >7851</td>\n",
       "                        <td id=\"T_7486abe4_8fff_11ea_afda_24ee9a9cd771row27_col2\" class=\"data row27 col2\" >455.000000</td>\n",
       "                        <td id=\"T_7486abe4_8fff_11ea_afda_24ee9a9cd771row27_col3\" class=\"data row27 col3\" >2782.000000</td>\n",
       "                        <td id=\"T_7486abe4_8fff_11ea_afda_24ee9a9cd771row27_col4\" class=\"data row27 col4\" >1420.000000</td>\n",
       "                        <td id=\"T_7486abe4_8fff_11ea_afda_24ee9a9cd771row27_col5\" class=\"data row27 col5\" >82.000000</td>\n",
       "                        <td id=\"T_7486abe4_8fff_11ea_afda_24ee9a9cd771row27_col6\" class=\"data row27 col6\" >88009.000000</td>\n",
       "                        <td id=\"T_7486abe4_8fff_11ea_afda_24ee9a9cd771row27_col7\" class=\"data row27 col7\" >15922.000000</td>\n",
       "            </tr>\n",
       "            <tr>\n",
       "                        <th id=\"T_7486abe4_8fff_11ea_afda_24ee9a9cd771level0_row28\" class=\"row_heading level0 row28\" >29</th>\n",
       "                        <td id=\"T_7486abe4_8fff_11ea_afda_24ee9a9cd771row28_col0\" class=\"data row28 col0\" >South Carolina</td>\n",
       "                        <td id=\"T_7486abe4_8fff_11ea_afda_24ee9a9cd771row28_col1\" class=\"data row28 col1\" >6757</td>\n",
       "                        <td id=\"T_7486abe4_8fff_11ea_afda_24ee9a9cd771row28_col2\" class=\"data row28 col2\" >283.000000</td>\n",
       "                        <td id=\"T_7486abe4_8fff_11ea_afda_24ee9a9cd771row28_col3\" class=\"data row28 col3\" >1593.000000</td>\n",
       "                        <td id=\"T_7486abe4_8fff_11ea_afda_24ee9a9cd771row28_col4\" class=\"data row28 col4\" >1363.000000</td>\n",
       "                        <td id=\"T_7486abe4_8fff_11ea_afda_24ee9a9cd771row28_col5\" class=\"data row28 col5\" >57.000000</td>\n",
       "                        <td id=\"T_7486abe4_8fff_11ea_afda_24ee9a9cd771row28_col6\" class=\"data row28 col6\" >67771.000000</td>\n",
       "                        <td id=\"T_7486abe4_8fff_11ea_afda_24ee9a9cd771row28_col7\" class=\"data row28 col7\" >13675.000000</td>\n",
       "            </tr>\n",
       "            <tr>\n",
       "                        <th id=\"T_7486abe4_8fff_11ea_afda_24ee9a9cd771level0_row29\" class=\"row_heading level0 row29\" >30</th>\n",
       "                        <td id=\"T_7486abe4_8fff_11ea_afda_24ee9a9cd771row29_col0\" class=\"data row29 col0\" >Nebraska</td>\n",
       "                        <td id=\"T_7486abe4_8fff_11ea_afda_24ee9a9cd771row29_col1\" class=\"data row29 col1\" >6083</td>\n",
       "                        <td id=\"T_7486abe4_8fff_11ea_afda_24ee9a9cd771row29_col2\" class=\"data row29 col2\" >79.000000</td>\n",
       "                        <td id=\"T_7486abe4_8fff_11ea_afda_24ee9a9cd771row29_col3\" class=\"data row29 col3\" >5982.000000</td>\n",
       "                        <td id=\"T_7486abe4_8fff_11ea_afda_24ee9a9cd771row29_col4\" class=\"data row29 col4\" >3194.000000</td>\n",
       "                        <td id=\"T_7486abe4_8fff_11ea_afda_24ee9a9cd771row29_col5\" class=\"data row29 col5\" >41.000000</td>\n",
       "                        <td id=\"T_7486abe4_8fff_11ea_afda_24ee9a9cd771row29_col6\" class=\"data row29 col6\" >34675.000000</td>\n",
       "                        <td id=\"T_7486abe4_8fff_11ea_afda_24ee9a9cd771row29_col7\" class=\"data row29 col7\" >18204.000000</td>\n",
       "            </tr>\n",
       "            <tr>\n",
       "                        <th id=\"T_7486abe4_8fff_11ea_afda_24ee9a9cd771level0_row30\" class=\"row_heading level0 row30\" >31</th>\n",
       "                        <td id=\"T_7486abe4_8fff_11ea_afda_24ee9a9cd771row30_col0\" class=\"data row30 col0\" >Nevada</td>\n",
       "                        <td id=\"T_7486abe4_8fff_11ea_afda_24ee9a9cd771row30_col1\" class=\"data row30 col1\" >5594</td>\n",
       "                        <td id=\"T_7486abe4_8fff_11ea_afda_24ee9a9cd771row30_col2\" class=\"data row30 col2\" >267.000000</td>\n",
       "                        <td id=\"T_7486abe4_8fff_11ea_afda_24ee9a9cd771row30_col3\" class=\"data row30 col3\" >2422.000000</td>\n",
       "                        <td id=\"T_7486abe4_8fff_11ea_afda_24ee9a9cd771row30_col4\" class=\"data row30 col4\" >1914.000000</td>\n",
       "                        <td id=\"T_7486abe4_8fff_11ea_afda_24ee9a9cd771row30_col5\" class=\"data row30 col5\" >91.000000</td>\n",
       "                        <td id=\"T_7486abe4_8fff_11ea_afda_24ee9a9cd771row30_col6\" class=\"data row30 col6\" >59437.000000</td>\n",
       "                        <td id=\"T_7486abe4_8fff_11ea_afda_24ee9a9cd771row30_col7\" class=\"data row30 col7\" >20335.000000</td>\n",
       "            </tr>\n",
       "            <tr>\n",
       "                        <th id=\"T_7486abe4_8fff_11ea_afda_24ee9a9cd771level0_row31\" class=\"row_heading level0 row31\" >32</th>\n",
       "                        <td id=\"T_7486abe4_8fff_11ea_afda_24ee9a9cd771row31_col0\" class=\"data row31 col0\" >Kansas</td>\n",
       "                        <td id=\"T_7486abe4_8fff_11ea_afda_24ee9a9cd771row31_col1\" class=\"data row31 col1\" >5391</td>\n",
       "                        <td id=\"T_7486abe4_8fff_11ea_afda_24ee9a9cd771row31_col2\" class=\"data row31 col2\" >156.000000</td>\n",
       "                        <td id=\"T_7486abe4_8fff_11ea_afda_24ee9a9cd771row31_col3\" class=\"data row31 col3\" >4254.000000</td>\n",
       "                        <td id=\"T_7486abe4_8fff_11ea_afda_24ee9a9cd771row31_col4\" class=\"data row31 col4\" >1853.000000</td>\n",
       "                        <td id=\"T_7486abe4_8fff_11ea_afda_24ee9a9cd771row31_col5\" class=\"data row31 col5\" >54.000000</td>\n",
       "                        <td id=\"T_7486abe4_8fff_11ea_afda_24ee9a9cd771row31_col6\" class=\"data row31 col6\" >38603.000000</td>\n",
       "                        <td id=\"T_7486abe4_8fff_11ea_afda_24ee9a9cd771row31_col7\" class=\"data row31 col7\" >13271.000000</td>\n",
       "            </tr>\n",
       "            <tr>\n",
       "                        <th id=\"T_7486abe4_8fff_11ea_afda_24ee9a9cd771level0_row32\" class=\"row_heading level0 row32\" >33</th>\n",
       "                        <td id=\"T_7486abe4_8fff_11ea_afda_24ee9a9cd771row32_col0\" class=\"data row32 col0\" >Delaware</td>\n",
       "                        <td id=\"T_7486abe4_8fff_11ea_afda_24ee9a9cd771row32_col1\" class=\"data row32 col1\" >5371</td>\n",
       "                        <td id=\"T_7486abe4_8fff_11ea_afda_24ee9a9cd771row32_col2\" class=\"data row32 col2\" >187.000000</td>\n",
       "                        <td id=\"T_7486abe4_8fff_11ea_afda_24ee9a9cd771row32_col3\" class=\"data row32 col3\" >3337.000000</td>\n",
       "                        <td id=\"T_7486abe4_8fff_11ea_afda_24ee9a9cd771row32_col4\" class=\"data row32 col4\" >5657.000000</td>\n",
       "                        <td id=\"T_7486abe4_8fff_11ea_afda_24ee9a9cd771row32_col5\" class=\"data row32 col5\" >197.000000</td>\n",
       "                        <td id=\"T_7486abe4_8fff_11ea_afda_24ee9a9cd771row32_col6\" class=\"data row32 col6\" >24680.000000</td>\n",
       "                        <td id=\"T_7486abe4_8fff_11ea_afda_24ee9a9cd771row32_col7\" class=\"data row32 col7\" >25993.000000</td>\n",
       "            </tr>\n",
       "            <tr>\n",
       "                        <th id=\"T_7486abe4_8fff_11ea_afda_24ee9a9cd771level0_row33\" class=\"row_heading level0 row33\" >34</th>\n",
       "                        <td id=\"T_7486abe4_8fff_11ea_afda_24ee9a9cd771row33_col0\" class=\"data row33 col0\" >District Of Columbia</td>\n",
       "                        <td id=\"T_7486abe4_8fff_11ea_afda_24ee9a9cd771row33_col1\" class=\"data row33 col1\" >5322</td>\n",
       "                        <td id=\"T_7486abe4_8fff_11ea_afda_24ee9a9cd771row33_col2\" class=\"data row33 col2\" >264.000000</td>\n",
       "                        <td id=\"T_7486abe4_8fff_11ea_afda_24ee9a9cd771row33_col3\" class=\"data row33 col3\" >4391.000000</td>\n",
       "                        <td id=\"T_7486abe4_8fff_11ea_afda_24ee9a9cd771row33_col4\" class=\"data row33 col4\" >7775.000000</td>\n",
       "                        <td id=\"T_7486abe4_8fff_11ea_afda_24ee9a9cd771row33_col5\" class=\"data row33 col5\" >386.000000</td>\n",
       "                        <td id=\"T_7486abe4_8fff_11ea_afda_24ee9a9cd771row33_col6\" class=\"data row33 col6\" >24329.000000</td>\n",
       "                        <td id=\"T_7486abe4_8fff_11ea_afda_24ee9a9cd771row33_col7\" class=\"data row33 col7\" >35543.000000</td>\n",
       "            </tr>\n",
       "            <tr>\n",
       "                        <th id=\"T_7486abe4_8fff_11ea_afda_24ee9a9cd771level0_row34\" class=\"row_heading level0 row34\" >35</th>\n",
       "                        <td id=\"T_7486abe4_8fff_11ea_afda_24ee9a9cd771row34_col0\" class=\"data row34 col0\" >Utah</td>\n",
       "                        <td id=\"T_7486abe4_8fff_11ea_afda_24ee9a9cd771row34_col1\" class=\"data row34 col1\" >5317</td>\n",
       "                        <td id=\"T_7486abe4_8fff_11ea_afda_24ee9a9cd771row34_col2\" class=\"data row34 col2\" >50.000000</td>\n",
       "                        <td id=\"T_7486abe4_8fff_11ea_afda_24ee9a9cd771row34_col3\" class=\"data row34 col3\" >3082.000000</td>\n",
       "                        <td id=\"T_7486abe4_8fff_11ea_afda_24ee9a9cd771row34_col4\" class=\"data row34 col4\" >1746.000000</td>\n",
       "                        <td id=\"T_7486abe4_8fff_11ea_afda_24ee9a9cd771row34_col5\" class=\"data row34 col5\" >16.000000</td>\n",
       "                        <td id=\"T_7486abe4_8fff_11ea_afda_24ee9a9cd771row34_col6\" class=\"data row34 col6\" >124661.000000</td>\n",
       "                        <td id=\"T_7486abe4_8fff_11ea_afda_24ee9a9cd771row34_col7\" class=\"data row34 col7\" >40935.000000</td>\n",
       "            </tr>\n",
       "            <tr>\n",
       "                        <th id=\"T_7486abe4_8fff_11ea_afda_24ee9a9cd771level0_row35\" class=\"row_heading level0 row35\" >36</th>\n",
       "                        <td id=\"T_7486abe4_8fff_11ea_afda_24ee9a9cd771row35_col0\" class=\"data row35 col0\" >Kentucky</td>\n",
       "                        <td id=\"T_7486abe4_8fff_11ea_afda_24ee9a9cd771row35_col1\" class=\"data row35 col1\" >5245</td>\n",
       "                        <td id=\"T_7486abe4_8fff_11ea_afda_24ee9a9cd771row35_col2\" class=\"data row35 col2\" >261.000000</td>\n",
       "                        <td id=\"T_7486abe4_8fff_11ea_afda_24ee9a9cd771row35_col3\" class=\"data row35 col3\" >3862.000000</td>\n",
       "                        <td id=\"T_7486abe4_8fff_11ea_afda_24ee9a9cd771row35_col4\" class=\"data row35 col4\" >1181.000000</td>\n",
       "                        <td id=\"T_7486abe4_8fff_11ea_afda_24ee9a9cd771row35_col5\" class=\"data row35 col5\" >59.000000</td>\n",
       "                        <td id=\"T_7486abe4_8fff_11ea_afda_24ee9a9cd771row35_col6\" class=\"data row35 col6\" >60046.000000</td>\n",
       "                        <td id=\"T_7486abe4_8fff_11ea_afda_24ee9a9cd771row35_col7\" class=\"data row35 col7\" >13523.000000</td>\n",
       "            </tr>\n",
       "            <tr>\n",
       "                        <th id=\"T_7486abe4_8fff_11ea_afda_24ee9a9cd771level0_row36\" class=\"row_heading level0 row36\" >37</th>\n",
       "                        <td id=\"T_7486abe4_8fff_11ea_afda_24ee9a9cd771row36_col0\" class=\"data row36 col0\" >Oklahoma</td>\n",
       "                        <td id=\"T_7486abe4_8fff_11ea_afda_24ee9a9cd771row36_col1\" class=\"data row36 col1\" >4127</td>\n",
       "                        <td id=\"T_7486abe4_8fff_11ea_afda_24ee9a9cd771row36_col2\" class=\"data row36 col2\" >247.000000</td>\n",
       "                        <td id=\"T_7486abe4_8fff_11ea_afda_24ee9a9cd771row36_col3\" class=\"data row36 col3\" >1198.000000</td>\n",
       "                        <td id=\"T_7486abe4_8fff_11ea_afda_24ee9a9cd771row36_col4\" class=\"data row36 col4\" >1053.000000</td>\n",
       "                        <td id=\"T_7486abe4_8fff_11ea_afda_24ee9a9cd771row36_col5\" class=\"data row36 col5\" >63.000000</td>\n",
       "                        <td id=\"T_7486abe4_8fff_11ea_afda_24ee9a9cd771row36_col6\" class=\"data row36 col6\" >70368.000000</td>\n",
       "                        <td id=\"T_7486abe4_8fff_11ea_afda_24ee9a9cd771row36_col7\" class=\"data row36 col7\" >17960.000000</td>\n",
       "            </tr>\n",
       "            <tr>\n",
       "                        <th id=\"T_7486abe4_8fff_11ea_afda_24ee9a9cd771level0_row37\" class=\"row_heading level0 row37\" >38</th>\n",
       "                        <td id=\"T_7486abe4_8fff_11ea_afda_24ee9a9cd771row37_col0\" class=\"data row37 col0\" >New Mexico</td>\n",
       "                        <td id=\"T_7486abe4_8fff_11ea_afda_24ee9a9cd771row37_col1\" class=\"data row37 col1\" >4031</td>\n",
       "                        <td id=\"T_7486abe4_8fff_11ea_afda_24ee9a9cd771row37_col2\" class=\"data row37 col2\" >156.000000</td>\n",
       "                        <td id=\"T_7486abe4_8fff_11ea_afda_24ee9a9cd771row37_col3\" class=\"data row37 col3\" >3115.000000</td>\n",
       "                        <td id=\"T_7486abe4_8fff_11ea_afda_24ee9a9cd771row37_col4\" class=\"data row37 col4\" >1926.000000</td>\n",
       "                        <td id=\"T_7486abe4_8fff_11ea_afda_24ee9a9cd771row37_col5\" class=\"data row37 col5\" >75.000000</td>\n",
       "                        <td id=\"T_7486abe4_8fff_11ea_afda_24ee9a9cd771row37_col6\" class=\"data row37 col6\" >81720.000000</td>\n",
       "                        <td id=\"T_7486abe4_8fff_11ea_afda_24ee9a9cd771row37_col7\" class=\"data row37 col7\" >39055.000000</td>\n",
       "            </tr>\n",
       "            <tr>\n",
       "                        <th id=\"T_7486abe4_8fff_11ea_afda_24ee9a9cd771level0_row38\" class=\"row_heading level0 row38\" >39</th>\n",
       "                        <td id=\"T_7486abe4_8fff_11ea_afda_24ee9a9cd771row38_col0\" class=\"data row38 col0\" >Arkansas</td>\n",
       "                        <td id=\"T_7486abe4_8fff_11ea_afda_24ee9a9cd771row38_col1\" class=\"data row38 col1\" >3469</td>\n",
       "                        <td id=\"T_7486abe4_8fff_11ea_afda_24ee9a9cd771row38_col2\" class=\"data row38 col2\" >80.000000</td>\n",
       "                        <td id=\"T_7486abe4_8fff_11ea_afda_24ee9a9cd771row38_col3\" class=\"data row38 col3\" >1348.000000</td>\n",
       "                        <td id=\"T_7486abe4_8fff_11ea_afda_24ee9a9cd771row38_col4\" class=\"data row38 col4\" >1160.000000</td>\n",
       "                        <td id=\"T_7486abe4_8fff_11ea_afda_24ee9a9cd771row38_col5\" class=\"data row38 col5\" >27.000000</td>\n",
       "                        <td id=\"T_7486abe4_8fff_11ea_afda_24ee9a9cd771row38_col6\" class=\"data row38 col6\" >54608.000000</td>\n",
       "                        <td id=\"T_7486abe4_8fff_11ea_afda_24ee9a9cd771row38_col7\" class=\"data row38 col7\" >18259.000000</td>\n",
       "            </tr>\n",
       "            <tr>\n",
       "                        <th id=\"T_7486abe4_8fff_11ea_afda_24ee9a9cd771level0_row39\" class=\"row_heading level0 row39\" >40</th>\n",
       "                        <td id=\"T_7486abe4_8fff_11ea_afda_24ee9a9cd771row39_col0\" class=\"data row39 col0\" >Oregon</td>\n",
       "                        <td id=\"T_7486abe4_8fff_11ea_afda_24ee9a9cd771row39_col1\" class=\"data row39 col1\" >2759</td>\n",
       "                        <td id=\"T_7486abe4_8fff_11ea_afda_24ee9a9cd771row39_col2\" class=\"data row39 col2\" >109.000000</td>\n",
       "                        <td id=\"T_7486abe4_8fff_11ea_afda_24ee9a9cd771row39_col3\" class=\"data row39 col3\" >1790.000000</td>\n",
       "                        <td id=\"T_7486abe4_8fff_11ea_afda_24ee9a9cd771row39_col4\" class=\"data row39 col4\" >676.000000</td>\n",
       "                        <td id=\"T_7486abe4_8fff_11ea_afda_24ee9a9cd771row39_col5\" class=\"data row39 col5\" >27.000000</td>\n",
       "                        <td id=\"T_7486abe4_8fff_11ea_afda_24ee9a9cd771row39_col6\" class=\"data row39 col6\" >63443.000000</td>\n",
       "                        <td id=\"T_7486abe4_8fff_11ea_afda_24ee9a9cd771row39_col7\" class=\"data row39 col7\" >15542.000000</td>\n",
       "            </tr>\n",
       "            <tr>\n",
       "                        <th id=\"T_7486abe4_8fff_11ea_afda_24ee9a9cd771level0_row40\" class=\"row_heading level0 row40\" >41</th>\n",
       "                        <td id=\"T_7486abe4_8fff_11ea_afda_24ee9a9cd771row40_col0\" class=\"data row40 col0\" >South Dakota</td>\n",
       "                        <td id=\"T_7486abe4_8fff_11ea_afda_24ee9a9cd771row40_col1\" class=\"data row40 col1\" >2668</td>\n",
       "                        <td id=\"T_7486abe4_8fff_11ea_afda_24ee9a9cd771row40_col2\" class=\"data row40 col2\" >21.000000</td>\n",
       "                        <td id=\"T_7486abe4_8fff_11ea_afda_24ee9a9cd771row40_col3\" class=\"data row40 col3\" >817.000000</td>\n",
       "                        <td id=\"T_7486abe4_8fff_11ea_afda_24ee9a9cd771row40_col4\" class=\"data row40 col4\" >3087.000000</td>\n",
       "                        <td id=\"T_7486abe4_8fff_11ea_afda_24ee9a9cd771row40_col5\" class=\"data row40 col5\" >24.000000</td>\n",
       "                        <td id=\"T_7486abe4_8fff_11ea_afda_24ee9a9cd771row40_col6\" class=\"data row40 col6\" >18713.000000</td>\n",
       "                        <td id=\"T_7486abe4_8fff_11ea_afda_24ee9a9cd771row40_col7\" class=\"data row40 col7\" >21651.000000</td>\n",
       "            </tr>\n",
       "            <tr>\n",
       "                        <th id=\"T_7486abe4_8fff_11ea_afda_24ee9a9cd771level0_row41\" class=\"row_heading level0 row41\" >42</th>\n",
       "                        <td id=\"T_7486abe4_8fff_11ea_afda_24ee9a9cd771row41_col0\" class=\"data row41 col0\" >New Hampshire</td>\n",
       "                        <td id=\"T_7486abe4_8fff_11ea_afda_24ee9a9cd771row41_col1\" class=\"data row41 col1\" >2588</td>\n",
       "                        <td id=\"T_7486abe4_8fff_11ea_afda_24ee9a9cd771row41_col2\" class=\"data row41 col2\" >86.000000</td>\n",
       "                        <td id=\"T_7486abe4_8fff_11ea_afda_24ee9a9cd771row41_col3\" class=\"data row41 col3\" >1483.000000</td>\n",
       "                        <td id=\"T_7486abe4_8fff_11ea_afda_24ee9a9cd771row41_col4\" class=\"data row41 col4\" >1926.000000</td>\n",
       "                        <td id=\"T_7486abe4_8fff_11ea_afda_24ee9a9cd771row41_col5\" class=\"data row41 col5\" >64.000000</td>\n",
       "                        <td id=\"T_7486abe4_8fff_11ea_afda_24ee9a9cd771row41_col6\" class=\"data row41 col6\" >30836.000000</td>\n",
       "                        <td id=\"T_7486abe4_8fff_11ea_afda_24ee9a9cd771row41_col7\" class=\"data row41 col7\" >22950.000000</td>\n",
       "            </tr>\n",
       "            <tr>\n",
       "                        <th id=\"T_7486abe4_8fff_11ea_afda_24ee9a9cd771level0_row42\" class=\"row_heading level0 row42\" >43</th>\n",
       "                        <td id=\"T_7486abe4_8fff_11ea_afda_24ee9a9cd771row42_col0\" class=\"data row42 col0\" >Idaho</td>\n",
       "                        <td id=\"T_7486abe4_8fff_11ea_afda_24ee9a9cd771row42_col1\" class=\"data row42 col1\" >2106</td>\n",
       "                        <td id=\"T_7486abe4_8fff_11ea_afda_24ee9a9cd771row42_col2\" class=\"data row42 col2\" >64.000000</td>\n",
       "                        <td id=\"T_7486abe4_8fff_11ea_afda_24ee9a9cd771row42_col3\" class=\"data row42 col3\" >684.000000</td>\n",
       "                        <td id=\"T_7486abe4_8fff_11ea_afda_24ee9a9cd771row42_col4\" class=\"data row42 col4\" >1248.000000</td>\n",
       "                        <td id=\"T_7486abe4_8fff_11ea_afda_24ee9a9cd771row42_col5\" class=\"data row42 col5\" >38.000000</td>\n",
       "                        <td id=\"T_7486abe4_8fff_11ea_afda_24ee9a9cd771row42_col6\" class=\"data row42 col6\" >30146.000000</td>\n",
       "                        <td id=\"T_7486abe4_8fff_11ea_afda_24ee9a9cd771row42_col7\" class=\"data row42 col7\" >17861.000000</td>\n",
       "            </tr>\n",
       "            <tr>\n",
       "                        <th id=\"T_7486abe4_8fff_11ea_afda_24ee9a9cd771level0_row43\" class=\"row_heading level0 row43\" >44</th>\n",
       "                        <td id=\"T_7486abe4_8fff_11ea_afda_24ee9a9cd771row43_col0\" class=\"data row43 col0\" >North Dakota</td>\n",
       "                        <td id=\"T_7486abe4_8fff_11ea_afda_24ee9a9cd771row43_col1\" class=\"data row43 col1\" >1266</td>\n",
       "                        <td id=\"T_7486abe4_8fff_11ea_afda_24ee9a9cd771row43_col2\" class=\"data row43 col2\" >25.000000</td>\n",
       "                        <td id=\"T_7486abe4_8fff_11ea_afda_24ee9a9cd771row43_col3\" class=\"data row43 col3\" >682.000000</td>\n",
       "                        <td id=\"T_7486abe4_8fff_11ea_afda_24ee9a9cd771row43_col4\" class=\"data row43 col4\" >1683.000000</td>\n",
       "                        <td id=\"T_7486abe4_8fff_11ea_afda_24ee9a9cd771row43_col5\" class=\"data row43 col5\" >33.000000</td>\n",
       "                        <td id=\"T_7486abe4_8fff_11ea_afda_24ee9a9cd771row43_col6\" class=\"data row43 col6\" >36421.000000</td>\n",
       "                        <td id=\"T_7486abe4_8fff_11ea_afda_24ee9a9cd771row43_col7\" class=\"data row43 col7\" >48419.000000</td>\n",
       "            </tr>\n",
       "            <tr>\n",
       "                        <th id=\"T_7486abe4_8fff_11ea_afda_24ee9a9cd771level0_row44\" class=\"row_heading level0 row44\" >45</th>\n",
       "                        <td id=\"T_7486abe4_8fff_11ea_afda_24ee9a9cd771row44_col0\" class=\"data row44 col0\" >West Virginia</td>\n",
       "                        <td id=\"T_7486abe4_8fff_11ea_afda_24ee9a9cd771row44_col1\" class=\"data row44 col1\" >1238</td>\n",
       "                        <td id=\"T_7486abe4_8fff_11ea_afda_24ee9a9cd771row44_col2\" class=\"data row44 col2\" >50.000000</td>\n",
       "                        <td id=\"T_7486abe4_8fff_11ea_afda_24ee9a9cd771row44_col3\" class=\"data row44 col3\" >616.000000</td>\n",
       "                        <td id=\"T_7486abe4_8fff_11ea_afda_24ee9a9cd771row44_col4\" class=\"data row44 col4\" >677.000000</td>\n",
       "                        <td id=\"T_7486abe4_8fff_11ea_afda_24ee9a9cd771row44_col5\" class=\"data row44 col5\" >27.000000</td>\n",
       "                        <td id=\"T_7486abe4_8fff_11ea_afda_24ee9a9cd771row44_col6\" class=\"data row44 col6\" >54823.000000</td>\n",
       "                        <td id=\"T_7486abe4_8fff_11ea_afda_24ee9a9cd771row44_col7\" class=\"data row44 col7\" >29973.000000</td>\n",
       "            </tr>\n",
       "            <tr>\n",
       "                        <th id=\"T_7486abe4_8fff_11ea_afda_24ee9a9cd771level0_row45\" class=\"row_heading level0 row45\" >46</th>\n",
       "                        <td id=\"T_7486abe4_8fff_11ea_afda_24ee9a9cd771row45_col0\" class=\"data row45 col0\" >Maine</td>\n",
       "                        <td id=\"T_7486abe4_8fff_11ea_afda_24ee9a9cd771row45_col1\" class=\"data row45 col1\" >1226</td>\n",
       "                        <td id=\"T_7486abe4_8fff_11ea_afda_24ee9a9cd771row45_col2\" class=\"data row45 col2\" >61.000000</td>\n",
       "                        <td id=\"T_7486abe4_8fff_11ea_afda_24ee9a9cd771row45_col3\" class=\"data row45 col3\" >424.000000</td>\n",
       "                        <td id=\"T_7486abe4_8fff_11ea_afda_24ee9a9cd771row45_col4\" class=\"data row45 col4\" >920.000000</td>\n",
       "                        <td id=\"T_7486abe4_8fff_11ea_afda_24ee9a9cd771row45_col5\" class=\"data row45 col5\" >46.000000</td>\n",
       "                        <td id=\"T_7486abe4_8fff_11ea_afda_24ee9a9cd771row45_col6\" class=\"data row45 col6\" >20641.000000</td>\n",
       "                        <td id=\"T_7486abe4_8fff_11ea_afda_24ee9a9cd771row45_col7\" class=\"data row45 col7\" >15487.000000</td>\n",
       "            </tr>\n",
       "            <tr>\n",
       "                        <th id=\"T_7486abe4_8fff_11ea_afda_24ee9a9cd771level0_row46\" class=\"row_heading level0 row46\" >47</th>\n",
       "                        <td id=\"T_7486abe4_8fff_11ea_afda_24ee9a9cd771row46_col0\" class=\"data row46 col0\" >Vermont</td>\n",
       "                        <td id=\"T_7486abe4_8fff_11ea_afda_24ee9a9cd771row46_col1\" class=\"data row46 col1\" >907</td>\n",
       "                        <td id=\"T_7486abe4_8fff_11ea_afda_24ee9a9cd771row46_col2\" class=\"data row46 col2\" >52.000000</td>\n",
       "                        <td id=\"T_7486abe4_8fff_11ea_afda_24ee9a9cd771row46_col3\" class=\"data row46 col3\" >855.000000</td>\n",
       "                        <td id=\"T_7486abe4_8fff_11ea_afda_24ee9a9cd771row46_col4\" class=\"data row46 col4\" >1451.000000</td>\n",
       "                        <td id=\"T_7486abe4_8fff_11ea_afda_24ee9a9cd771row46_col5\" class=\"data row46 col5\" >83.000000</td>\n",
       "                        <td id=\"T_7486abe4_8fff_11ea_afda_24ee9a9cd771row46_col6\" class=\"data row46 col6\" >17518.000000</td>\n",
       "                        <td id=\"T_7486abe4_8fff_11ea_afda_24ee9a9cd771row46_col7\" class=\"data row46 col7\" >28030.000000</td>\n",
       "            </tr>\n",
       "            <tr>\n",
       "                        <th id=\"T_7486abe4_8fff_11ea_afda_24ee9a9cd771level0_row47\" class=\"row_heading level0 row47\" >48</th>\n",
       "                        <td id=\"T_7486abe4_8fff_11ea_afda_24ee9a9cd771row47_col0\" class=\"data row47 col0\" >Hawaii</td>\n",
       "                        <td id=\"T_7486abe4_8fff_11ea_afda_24ee9a9cd771row47_col1\" class=\"data row47 col1\" >621</td>\n",
       "                        <td id=\"T_7486abe4_8fff_11ea_afda_24ee9a9cd771row47_col2\" class=\"data row47 col2\" >17.000000</td>\n",
       "                        <td id=\"T_7486abe4_8fff_11ea_afda_24ee9a9cd771row47_col3\" class=\"data row47 col3\" >56.000000</td>\n",
       "                        <td id=\"T_7486abe4_8fff_11ea_afda_24ee9a9cd771row47_col4\" class=\"data row47 col4\" >437.000000</td>\n",
       "                        <td id=\"T_7486abe4_8fff_11ea_afda_24ee9a9cd771row47_col5\" class=\"data row47 col5\" >12.000000</td>\n",
       "                        <td id=\"T_7486abe4_8fff_11ea_afda_24ee9a9cd771row47_col6\" class=\"data row47 col6\" >34711.000000</td>\n",
       "                        <td id=\"T_7486abe4_8fff_11ea_afda_24ee9a9cd771row47_col7\" class=\"data row47 col7\" >24409.000000</td>\n",
       "            </tr>\n",
       "            <tr>\n",
       "                        <th id=\"T_7486abe4_8fff_11ea_afda_24ee9a9cd771level0_row48\" class=\"row_heading level0 row48\" >49</th>\n",
       "                        <td id=\"T_7486abe4_8fff_11ea_afda_24ee9a9cd771row48_col0\" class=\"data row48 col0\" >Wyoming</td>\n",
       "                        <td id=\"T_7486abe4_8fff_11ea_afda_24ee9a9cd771row48_col1\" class=\"data row48 col1\" >596</td>\n",
       "                        <td id=\"T_7486abe4_8fff_11ea_afda_24ee9a9cd771row48_col2\" class=\"data row48 col2\" >7.000000</td>\n",
       "                        <td id=\"T_7486abe4_8fff_11ea_afda_24ee9a9cd771row48_col3\" class=\"data row48 col3\" >184.000000</td>\n",
       "                        <td id=\"T_7486abe4_8fff_11ea_afda_24ee9a9cd771row48_col4\" class=\"data row48 col4\" >1024.000000</td>\n",
       "                        <td id=\"T_7486abe4_8fff_11ea_afda_24ee9a9cd771row48_col5\" class=\"data row48 col5\" >12.000000</td>\n",
       "                        <td id=\"T_7486abe4_8fff_11ea_afda_24ee9a9cd771row48_col6\" class=\"data row48 col6\" >10454.000000</td>\n",
       "                        <td id=\"T_7486abe4_8fff_11ea_afda_24ee9a9cd771row48_col7\" class=\"data row48 col7\" >17967.000000</td>\n",
       "            </tr>\n",
       "            <tr>\n",
       "                        <th id=\"T_7486abe4_8fff_11ea_afda_24ee9a9cd771level0_row49\" class=\"row_heading level0 row49\" >50</th>\n",
       "                        <td id=\"T_7486abe4_8fff_11ea_afda_24ee9a9cd771row49_col0\" class=\"data row49 col0\" >Montana</td>\n",
       "                        <td id=\"T_7486abe4_8fff_11ea_afda_24ee9a9cd771row49_col1\" class=\"data row49 col1\" >457</td>\n",
       "                        <td id=\"T_7486abe4_8fff_11ea_afda_24ee9a9cd771row49_col2\" class=\"data row49 col2\" >16.000000</td>\n",
       "                        <td id=\"T_7486abe4_8fff_11ea_afda_24ee9a9cd771row49_col3\" class=\"data row49 col3\" >31.000000</td>\n",
       "                        <td id=\"T_7486abe4_8fff_11ea_afda_24ee9a9cd771row49_col4\" class=\"data row49 col4\" >439.000000</td>\n",
       "                        <td id=\"T_7486abe4_8fff_11ea_afda_24ee9a9cd771row49_col5\" class=\"data row49 col5\" >15.000000</td>\n",
       "                        <td id=\"T_7486abe4_8fff_11ea_afda_24ee9a9cd771row49_col6\" class=\"data row49 col6\" >15272.000000</td>\n",
       "                        <td id=\"T_7486abe4_8fff_11ea_afda_24ee9a9cd771row49_col7\" class=\"data row49 col7\" >14660.000000</td>\n",
       "            </tr>\n",
       "            <tr>\n",
       "                        <th id=\"T_7486abe4_8fff_11ea_afda_24ee9a9cd771level0_row50\" class=\"row_heading level0 row50\" >51</th>\n",
       "                        <td id=\"T_7486abe4_8fff_11ea_afda_24ee9a9cd771row50_col0\" class=\"data row50 col0\" >Alaska</td>\n",
       "                        <td id=\"T_7486abe4_8fff_11ea_afda_24ee9a9cd771row50_col1\" class=\"data row50 col1\" >370</td>\n",
       "                        <td id=\"T_7486abe4_8fff_11ea_afda_24ee9a9cd771row50_col2\" class=\"data row50 col2\" >9.000000</td>\n",
       "                        <td id=\"T_7486abe4_8fff_11ea_afda_24ee9a9cd771row50_col3\" class=\"data row50 col3\" >98.000000</td>\n",
       "                        <td id=\"T_7486abe4_8fff_11ea_afda_24ee9a9cd771row50_col4\" class=\"data row50 col4\" >501.000000</td>\n",
       "                        <td id=\"T_7486abe4_8fff_11ea_afda_24ee9a9cd771row50_col5\" class=\"data row50 col5\" >12.000000</td>\n",
       "                        <td id=\"T_7486abe4_8fff_11ea_afda_24ee9a9cd771row50_col6\" class=\"data row50 col6\" >21723.000000</td>\n",
       "                        <td id=\"T_7486abe4_8fff_11ea_afda_24ee9a9cd771row50_col7\" class=\"data row50 col7\" >29414.000000</td>\n",
       "            </tr>\n",
       "            <tr>\n",
       "                        <th id=\"T_7486abe4_8fff_11ea_afda_24ee9a9cd771level0_row51\" class=\"row_heading level0 row51\" >52</th>\n",
       "                        <td id=\"T_7486abe4_8fff_11ea_afda_24ee9a9cd771row51_col0\" class=\"data row51 col0\" >Guam</td>\n",
       "                        <td id=\"T_7486abe4_8fff_11ea_afda_24ee9a9cd771row51_col1\" class=\"data row51 col1\" >149</td>\n",
       "                        <td id=\"T_7486abe4_8fff_11ea_afda_24ee9a9cd771row51_col2\" class=\"data row51 col2\" >5.000000</td>\n",
       "                        <td id=\"T_7486abe4_8fff_11ea_afda_24ee9a9cd771row51_col3\" class=\"data row51 col3\" >13.000000</td>\n",
       "                        <td id=\"T_7486abe4_8fff_11ea_afda_24ee9a9cd771row51_col4\" class=\"data row51 col4\" >0.000000</td>\n",
       "                        <td id=\"T_7486abe4_8fff_11ea_afda_24ee9a9cd771row51_col5\" class=\"data row51 col5\" >0.000000</td>\n",
       "                        <td id=\"T_7486abe4_8fff_11ea_afda_24ee9a9cd771row51_col6\" class=\"data row51 col6\" >605.000000</td>\n",
       "                        <td id=\"T_7486abe4_8fff_11ea_afda_24ee9a9cd771row51_col7\" class=\"data row51 col7\" >0.000000</td>\n",
       "            </tr>\n",
       "            <tr>\n",
       "                        <th id=\"T_7486abe4_8fff_11ea_afda_24ee9a9cd771level0_row52\" class=\"row_heading level0 row52\" >53</th>\n",
       "                        <td id=\"T_7486abe4_8fff_11ea_afda_24ee9a9cd771row52_col0\" class=\"data row52 col0\" >Northern Mariana Islands</td>\n",
       "                        <td id=\"T_7486abe4_8fff_11ea_afda_24ee9a9cd771row52_col1\" class=\"data row52 col1\" >14</td>\n",
       "                        <td id=\"T_7486abe4_8fff_11ea_afda_24ee9a9cd771row52_col2\" class=\"data row52 col2\" >2.000000</td>\n",
       "                        <td id=\"T_7486abe4_8fff_11ea_afda_24ee9a9cd771row52_col3\" class=\"data row52 col3\" >0.000000</td>\n",
       "                        <td id=\"T_7486abe4_8fff_11ea_afda_24ee9a9cd771row52_col4\" class=\"data row52 col4\" >0.000000</td>\n",
       "                        <td id=\"T_7486abe4_8fff_11ea_afda_24ee9a9cd771row52_col5\" class=\"data row52 col5\" >0.000000</td>\n",
       "                        <td id=\"T_7486abe4_8fff_11ea_afda_24ee9a9cd771row52_col6\" class=\"data row52 col6\" >948.000000</td>\n",
       "                        <td id=\"T_7486abe4_8fff_11ea_afda_24ee9a9cd771row52_col7\" class=\"data row52 col7\" >0.000000</td>\n",
       "            </tr>\n",
       "            <tr>\n",
       "                        <th id=\"T_7486abe4_8fff_11ea_afda_24ee9a9cd771level0_row53\" class=\"row_heading level0 row53\" >54</th>\n",
       "                        <td id=\"T_7486abe4_8fff_11ea_afda_24ee9a9cd771row53_col0\" class=\"data row53 col0\" >Puerto Rico</td>\n",
       "                        <td id=\"T_7486abe4_8fff_11ea_afda_24ee9a9cd771row53_col1\" class=\"data row53 col1\" >1924</td>\n",
       "                        <td id=\"T_7486abe4_8fff_11ea_afda_24ee9a9cd771row53_col2\" class=\"data row53 col2\" >99.000000</td>\n",
       "                        <td id=\"T_7486abe4_8fff_11ea_afda_24ee9a9cd771row53_col3\" class=\"data row53 col3\" >1450.000000</td>\n",
       "                        <td id=\"T_7486abe4_8fff_11ea_afda_24ee9a9cd771row53_col4\" class=\"data row53 col4\" >568.000000</td>\n",
       "                        <td id=\"T_7486abe4_8fff_11ea_afda_24ee9a9cd771row53_col5\" class=\"data row53 col5\" >29.000000</td>\n",
       "                        <td id=\"T_7486abe4_8fff_11ea_afda_24ee9a9cd771row53_col6\" class=\"data row53 col6\" >13022.000000</td>\n",
       "                        <td id=\"T_7486abe4_8fff_11ea_afda_24ee9a9cd771row53_col7\" class=\"data row53 col7\" >3845.000000</td>\n",
       "            </tr>\n",
       "            <tr>\n",
       "                        <th id=\"T_7486abe4_8fff_11ea_afda_24ee9a9cd771level0_row54\" class=\"row_heading level0 row54\" >55</th>\n",
       "                        <td id=\"T_7486abe4_8fff_11ea_afda_24ee9a9cd771row54_col0\" class=\"data row54 col0\" >United States Virgin Islands</td>\n",
       "                        <td id=\"T_7486abe4_8fff_11ea_afda_24ee9a9cd771row54_col1\" class=\"data row54 col1\" >66</td>\n",
       "                        <td id=\"T_7486abe4_8fff_11ea_afda_24ee9a9cd771row54_col2\" class=\"data row54 col2\" >4.000000</td>\n",
       "                        <td id=\"T_7486abe4_8fff_11ea_afda_24ee9a9cd771row54_col3\" class=\"data row54 col3\" >11.000000</td>\n",
       "                        <td id=\"T_7486abe4_8fff_11ea_afda_24ee9a9cd771row54_col4\" class=\"data row54 col4\" >0.000000</td>\n",
       "                        <td id=\"T_7486abe4_8fff_11ea_afda_24ee9a9cd771row54_col5\" class=\"data row54 col5\" >0.000000</td>\n",
       "                        <td id=\"T_7486abe4_8fff_11ea_afda_24ee9a9cd771row54_col6\" class=\"data row54 col6\" >1046.000000</td>\n",
       "                        <td id=\"T_7486abe4_8fff_11ea_afda_24ee9a9cd771row54_col7\" class=\"data row54 col7\" >0.000000</td>\n",
       "            </tr>\n",
       "            <tr>\n",
       "                        <th id=\"T_7486abe4_8fff_11ea_afda_24ee9a9cd771level0_row55\" class=\"row_heading level0 row55\" >56</th>\n",
       "                        <td id=\"T_7486abe4_8fff_11ea_afda_24ee9a9cd771row55_col0\" class=\"data row55 col0\" >Veteran Affairs</td>\n",
       "                        <td id=\"T_7486abe4_8fff_11ea_afda_24ee9a9cd771row55_col1\" class=\"data row55 col1\" >9627</td>\n",
       "                        <td id=\"T_7486abe4_8fff_11ea_afda_24ee9a9cd771row55_col2\" class=\"data row55 col2\" >722.000000</td>\n",
       "                        <td id=\"T_7486abe4_8fff_11ea_afda_24ee9a9cd771row55_col3\" class=\"data row55 col3\" >8905.000000</td>\n",
       "                        <td id=\"T_7486abe4_8fff_11ea_afda_24ee9a9cd771row55_col4\" class=\"data row55 col4\" >0.000000</td>\n",
       "                        <td id=\"T_7486abe4_8fff_11ea_afda_24ee9a9cd771row55_col5\" class=\"data row55 col5\" >0.000000</td>\n",
       "                        <td id=\"T_7486abe4_8fff_11ea_afda_24ee9a9cd771row55_col6\" class=\"data row55 col6\" >107178.000000</td>\n",
       "                        <td id=\"T_7486abe4_8fff_11ea_afda_24ee9a9cd771row55_col7\" class=\"data row55 col7\" >0.000000</td>\n",
       "            </tr>\n",
       "            <tr>\n",
       "                        <th id=\"T_7486abe4_8fff_11ea_afda_24ee9a9cd771level0_row56\" class=\"row_heading level0 row56\" >57</th>\n",
       "                        <td id=\"T_7486abe4_8fff_11ea_afda_24ee9a9cd771row56_col0\" class=\"data row56 col0\" >US Military</td>\n",
       "                        <td id=\"T_7486abe4_8fff_11ea_afda_24ee9a9cd771row56_col1\" class=\"data row56 col1\" >7434</td>\n",
       "                        <td id=\"T_7486abe4_8fff_11ea_afda_24ee9a9cd771row56_col2\" class=\"data row56 col2\" >27.000000</td>\n",
       "                        <td id=\"T_7486abe4_8fff_11ea_afda_24ee9a9cd771row56_col3\" class=\"data row56 col3\" >4539.000000</td>\n",
       "                        <td id=\"T_7486abe4_8fff_11ea_afda_24ee9a9cd771row56_col4\" class=\"data row56 col4\" >0.000000</td>\n",
       "                        <td id=\"T_7486abe4_8fff_11ea_afda_24ee9a9cd771row56_col5\" class=\"data row56 col5\" >0.000000</td>\n",
       "                        <td id=\"T_7486abe4_8fff_11ea_afda_24ee9a9cd771row56_col6\" class=\"data row56 col6\" >0.000000</td>\n",
       "                        <td id=\"T_7486abe4_8fff_11ea_afda_24ee9a9cd771row56_col7\" class=\"data row56 col7\" >0.000000</td>\n",
       "            </tr>\n",
       "            <tr>\n",
       "                        <th id=\"T_7486abe4_8fff_11ea_afda_24ee9a9cd771level0_row57\" class=\"row_heading level0 row57\" >58</th>\n",
       "                        <td id=\"T_7486abe4_8fff_11ea_afda_24ee9a9cd771row57_col0\" class=\"data row57 col0\" >Navajo Nation</td>\n",
       "                        <td id=\"T_7486abe4_8fff_11ea_afda_24ee9a9cd771row57_col1\" class=\"data row57 col1\" >2373</td>\n",
       "                        <td id=\"T_7486abe4_8fff_11ea_afda_24ee9a9cd771row57_col2\" class=\"data row57 col2\" >73.000000</td>\n",
       "                        <td id=\"T_7486abe4_8fff_11ea_afda_24ee9a9cd771row57_col3\" class=\"data row57 col3\" >2300.000000</td>\n",
       "                        <td id=\"T_7486abe4_8fff_11ea_afda_24ee9a9cd771row57_col4\" class=\"data row57 col4\" >0.000000</td>\n",
       "                        <td id=\"T_7486abe4_8fff_11ea_afda_24ee9a9cd771row57_col5\" class=\"data row57 col5\" >0.000000</td>\n",
       "                        <td id=\"T_7486abe4_8fff_11ea_afda_24ee9a9cd771row57_col6\" class=\"data row57 col6\" >11627.000000</td>\n",
       "                        <td id=\"T_7486abe4_8fff_11ea_afda_24ee9a9cd771row57_col7\" class=\"data row57 col7\" >0.000000</td>\n",
       "            </tr>\n",
       "            <tr>\n",
       "                        <th id=\"T_7486abe4_8fff_11ea_afda_24ee9a9cd771level0_row58\" class=\"row_heading level0 row58\" >59</th>\n",
       "                        <td id=\"T_7486abe4_8fff_11ea_afda_24ee9a9cd771row58_col0\" class=\"data row58 col0\" >Federal Prisons</td>\n",
       "                        <td id=\"T_7486abe4_8fff_11ea_afda_24ee9a9cd771row58_col1\" class=\"data row58 col1\" >2340</td>\n",
       "                        <td id=\"T_7486abe4_8fff_11ea_afda_24ee9a9cd771row58_col2\" class=\"data row58 col2\" >40.000000</td>\n",
       "                        <td id=\"T_7486abe4_8fff_11ea_afda_24ee9a9cd771row58_col3\" class=\"data row58 col3\" >1608.000000</td>\n",
       "                        <td id=\"T_7486abe4_8fff_11ea_afda_24ee9a9cd771row58_col4\" class=\"data row58 col4\" >0.000000</td>\n",
       "                        <td id=\"T_7486abe4_8fff_11ea_afda_24ee9a9cd771row58_col5\" class=\"data row58 col5\" >0.000000</td>\n",
       "                        <td id=\"T_7486abe4_8fff_11ea_afda_24ee9a9cd771row58_col6\" class=\"data row58 col6\" >0.000000</td>\n",
       "                        <td id=\"T_7486abe4_8fff_11ea_afda_24ee9a9cd771row58_col7\" class=\"data row58 col7\" >0.000000</td>\n",
       "            </tr>\n",
       "            <tr>\n",
       "                        <th id=\"T_7486abe4_8fff_11ea_afda_24ee9a9cd771level0_row59\" class=\"row_heading level0 row59\" >60</th>\n",
       "                        <td id=\"T_7486abe4_8fff_11ea_afda_24ee9a9cd771row59_col0\" class=\"data row59 col0\" >Grand Princess Ship</td>\n",
       "                        <td id=\"T_7486abe4_8fff_11ea_afda_24ee9a9cd771row59_col1\" class=\"data row59 col1\" >103</td>\n",
       "                        <td id=\"T_7486abe4_8fff_11ea_afda_24ee9a9cd771row59_col2\" class=\"data row59 col2\" >3.000000</td>\n",
       "                        <td id=\"T_7486abe4_8fff_11ea_afda_24ee9a9cd771row59_col3\" class=\"data row59 col3\" >100.000000</td>\n",
       "                        <td id=\"T_7486abe4_8fff_11ea_afda_24ee9a9cd771row59_col4\" class=\"data row59 col4\" >0.000000</td>\n",
       "                        <td id=\"T_7486abe4_8fff_11ea_afda_24ee9a9cd771row59_col5\" class=\"data row59 col5\" >0.000000</td>\n",
       "                        <td id=\"T_7486abe4_8fff_11ea_afda_24ee9a9cd771row59_col6\" class=\"data row59 col6\" >0.000000</td>\n",
       "                        <td id=\"T_7486abe4_8fff_11ea_afda_24ee9a9cd771row59_col7\" class=\"data row59 col7\" >0.000000</td>\n",
       "            </tr>\n",
       "            <tr>\n",
       "                        <th id=\"T_7486abe4_8fff_11ea_afda_24ee9a9cd771level0_row60\" class=\"row_heading level0 row60\" >61</th>\n",
       "                        <td id=\"T_7486abe4_8fff_11ea_afda_24ee9a9cd771row60_col0\" class=\"data row60 col0\" >Wuhan Repatriated</td>\n",
       "                        <td id=\"T_7486abe4_8fff_11ea_afda_24ee9a9cd771row60_col1\" class=\"data row60 col1\" >3</td>\n",
       "                        <td id=\"T_7486abe4_8fff_11ea_afda_24ee9a9cd771row60_col2\" class=\"data row60 col2\" >0.000000</td>\n",
       "                        <td id=\"T_7486abe4_8fff_11ea_afda_24ee9a9cd771row60_col3\" class=\"data row60 col3\" >3.000000</td>\n",
       "                        <td id=\"T_7486abe4_8fff_11ea_afda_24ee9a9cd771row60_col4\" class=\"data row60 col4\" >0.000000</td>\n",
       "                        <td id=\"T_7486abe4_8fff_11ea_afda_24ee9a9cd771row60_col5\" class=\"data row60 col5\" >0.000000</td>\n",
       "                        <td id=\"T_7486abe4_8fff_11ea_afda_24ee9a9cd771row60_col6\" class=\"data row60 col6\" >3.000000</td>\n",
       "                        <td id=\"T_7486abe4_8fff_11ea_afda_24ee9a9cd771row60_col7\" class=\"data row60 col7\" >0.000000</td>\n",
       "            </tr>\n",
       "            <tr>\n",
       "                        <th id=\"T_7486abe4_8fff_11ea_afda_24ee9a9cd771level0_row61\" class=\"row_heading level0 row61\" >62</th>\n",
       "                        <td id=\"T_7486abe4_8fff_11ea_afda_24ee9a9cd771row61_col0\" class=\"data row61 col0\" >Diamond Princess Ship</td>\n",
       "                        <td id=\"T_7486abe4_8fff_11ea_afda_24ee9a9cd771row61_col1\" class=\"data row61 col1\" >46</td>\n",
       "                        <td id=\"T_7486abe4_8fff_11ea_afda_24ee9a9cd771row61_col2\" class=\"data row61 col2\" >0.000000</td>\n",
       "                        <td id=\"T_7486abe4_8fff_11ea_afda_24ee9a9cd771row61_col3\" class=\"data row61 col3\" >46.000000</td>\n",
       "                        <td id=\"T_7486abe4_8fff_11ea_afda_24ee9a9cd771row61_col4\" class=\"data row61 col4\" >0.000000</td>\n",
       "                        <td id=\"T_7486abe4_8fff_11ea_afda_24ee9a9cd771row61_col5\" class=\"data row61 col5\" >0.000000</td>\n",
       "                        <td id=\"T_7486abe4_8fff_11ea_afda_24ee9a9cd771row61_col6\" class=\"data row61 col6\" >46.000000</td>\n",
       "                        <td id=\"T_7486abe4_8fff_11ea_afda_24ee9a9cd771row61_col7\" class=\"data row61 col7\" >0.000000</td>\n",
       "            </tr>\n",
       "    </tbody></table>"
      ],
      "text/plain": [
       "<pandas.io.formats.style.Styler at 0x2ce8e5a3648>"
      ]
     },
     "execution_count": 36,
     "metadata": {},
     "output_type": "execute_result"
    }
   ],
   "source": [
    "#Display all Data Using gradient\n",
    "#Total cases as of May 3rd\n",
    "df_us_3.style.background_gradient(cmap='Reds')"
   ]
  },
  {
   "cell_type": "code",
   "execution_count": 37,
   "metadata": {},
   "outputs": [
    {
     "data": {
      "text/html": [
       "<style  type=\"text/css\" >\n",
       "</style><table id=\"T_784dd834_8fff_11ea_918c_24ee9a9cd771\" ><thead>    <tr>        <th class=\"blank level0\" ></th>        <th class=\"col_heading level0 col0\" >USAState</th>        <th class=\"col_heading level0 col1\" >ActiveCases</th>    </tr></thead><tbody>\n",
       "                <tr>\n",
       "                        <th id=\"T_784dd834_8fff_11ea_918c_24ee9a9cd771level0_row0\" class=\"row_heading level0 row0\" >1</th>\n",
       "                        <td id=\"T_784dd834_8fff_11ea_918c_24ee9a9cd771row0_col0\" class=\"data row0 col0\" >New York</td>\n",
       "                        <td id=\"T_784dd834_8fff_11ea_918c_24ee9a9cd771row0_col1\" class=\"data row0 col1\" >248,855</td>\n",
       "            </tr>\n",
       "            <tr>\n",
       "                        <th id=\"T_784dd834_8fff_11ea_918c_24ee9a9cd771level0_row1\" class=\"row_heading level0 row1\" >2</th>\n",
       "                        <td id=\"T_784dd834_8fff_11ea_918c_24ee9a9cd771row1_col0\" class=\"data row1 col0\" >New Jersey</td>\n",
       "                        <td id=\"T_784dd834_8fff_11ea_918c_24ee9a9cd771row1_col1\" class=\"data row1 col1\" >120,123</td>\n",
       "            </tr>\n",
       "            <tr>\n",
       "                        <th id=\"T_784dd834_8fff_11ea_918c_24ee9a9cd771level0_row2\" class=\"row_heading level0 row2\" >3</th>\n",
       "                        <td id=\"T_784dd834_8fff_11ea_918c_24ee9a9cd771row2_col0\" class=\"data row2 col0\" >Massachusetts</td>\n",
       "                        <td id=\"T_784dd834_8fff_11ea_918c_24ee9a9cd771row2_col1\" class=\"data row2 col1\" >56,879</td>\n",
       "            </tr>\n",
       "            <tr>\n",
       "                        <th id=\"T_784dd834_8fff_11ea_918c_24ee9a9cd771level0_row3\" class=\"row_heading level0 row3\" >4</th>\n",
       "                        <td id=\"T_784dd834_8fff_11ea_918c_24ee9a9cd771row3_col0\" class=\"data row3 col0\" >Illinois</td>\n",
       "                        <td id=\"T_784dd834_8fff_11ea_918c_24ee9a9cd771row3_col1\" class=\"data row3 col1\" >60,533</td>\n",
       "            </tr>\n",
       "            <tr>\n",
       "                        <th id=\"T_784dd834_8fff_11ea_918c_24ee9a9cd771level0_row4\" class=\"row_heading level0 row4\" >5</th>\n",
       "                        <td id=\"T_784dd834_8fff_11ea_918c_24ee9a9cd771row4_col0\" class=\"data row4 col0\" >California</td>\n",
       "                        <td id=\"T_784dd834_8fff_11ea_918c_24ee9a9cd771row4_col1\" class=\"data row4 col1\" >46,448</td>\n",
       "            </tr>\n",
       "            <tr>\n",
       "                        <th id=\"T_784dd834_8fff_11ea_918c_24ee9a9cd771level0_row5\" class=\"row_heading level0 row5\" >6</th>\n",
       "                        <td id=\"T_784dd834_8fff_11ea_918c_24ee9a9cd771row5_col0\" class=\"data row5 col0\" >Pennsylvania</td>\n",
       "                        <td id=\"T_784dd834_8fff_11ea_918c_24ee9a9cd771row5_col1\" class=\"data row5 col1\" >48,927</td>\n",
       "            </tr>\n",
       "            <tr>\n",
       "                        <th id=\"T_784dd834_8fff_11ea_918c_24ee9a9cd771level0_row6\" class=\"row_heading level0 row6\" >7</th>\n",
       "                        <td id=\"T_784dd834_8fff_11ea_918c_24ee9a9cd771row6_col0\" class=\"data row6 col0\" >Michigan</td>\n",
       "                        <td id=\"T_784dd834_8fff_11ea_918c_24ee9a9cd771row6_col1\" class=\"data row6 col1\" >24,156</td>\n",
       "            </tr>\n",
       "            <tr>\n",
       "                        <th id=\"T_784dd834_8fff_11ea_918c_24ee9a9cd771level0_row7\" class=\"row_heading level0 row7\" >8</th>\n",
       "                        <td id=\"T_784dd834_8fff_11ea_918c_24ee9a9cd771row7_col0\" class=\"data row7 col0\" >Florida</td>\n",
       "                        <td id=\"T_784dd834_8fff_11ea_918c_24ee9a9cd771row7_col1\" class=\"data row7 col1\" >35,282</td>\n",
       "            </tr>\n",
       "            <tr>\n",
       "                        <th id=\"T_784dd834_8fff_11ea_918c_24ee9a9cd771level0_row8\" class=\"row_heading level0 row8\" >9</th>\n",
       "                        <td id=\"T_784dd834_8fff_11ea_918c_24ee9a9cd771row8_col0\" class=\"data row8 col0\" >Texas</td>\n",
       "                        <td id=\"T_784dd834_8fff_11ea_918c_24ee9a9cd771row8_col1\" class=\"data row8 col1\" >15,603</td>\n",
       "            </tr>\n",
       "            <tr>\n",
       "                        <th id=\"T_784dd834_8fff_11ea_918c_24ee9a9cd771level0_row9\" class=\"row_heading level0 row9\" >10</th>\n",
       "                        <td id=\"T_784dd834_8fff_11ea_918c_24ee9a9cd771row9_col0\" class=\"data row9 col0\" >Connecticut</td>\n",
       "                        <td id=\"T_784dd834_8fff_11ea_918c_24ee9a9cd771row9_col1\" class=\"data row9 col1\" >27,552</td>\n",
       "            </tr>\n",
       "            <tr>\n",
       "                        <th id=\"T_784dd834_8fff_11ea_918c_24ee9a9cd771level0_row10\" class=\"row_heading level0 row10\" >11</th>\n",
       "                        <td id=\"T_784dd834_8fff_11ea_918c_24ee9a9cd771row10_col0\" class=\"data row10 col0\" >Louisiana</td>\n",
       "                        <td id=\"T_784dd834_8fff_11ea_918c_24ee9a9cd771row10_col1\" class=\"data row10 col1\" >10,306</td>\n",
       "            </tr>\n",
       "            <tr>\n",
       "                        <th id=\"T_784dd834_8fff_11ea_918c_24ee9a9cd771level0_row11\" class=\"row_heading level0 row11\" >12</th>\n",
       "                        <td id=\"T_784dd834_8fff_11ea_918c_24ee9a9cd771row11_col0\" class=\"data row11 col0\" >Georgia</td>\n",
       "                        <td id=\"T_784dd834_8fff_11ea_918c_24ee9a9cd771row11_col1\" class=\"data row11 col1\" >27,962</td>\n",
       "            </tr>\n",
       "            <tr>\n",
       "                        <th id=\"T_784dd834_8fff_11ea_918c_24ee9a9cd771level0_row12\" class=\"row_heading level0 row12\" >13</th>\n",
       "                        <td id=\"T_784dd834_8fff_11ea_918c_24ee9a9cd771row12_col0\" class=\"data row12 col0\" >Maryland</td>\n",
       "                        <td id=\"T_784dd834_8fff_11ea_918c_24ee9a9cd771row12_col1\" class=\"data row12 col1\" >24,210</td>\n",
       "            </tr>\n",
       "            <tr>\n",
       "                        <th id=\"T_784dd834_8fff_11ea_918c_24ee9a9cd771level0_row13\" class=\"row_heading level0 row13\" >14</th>\n",
       "                        <td id=\"T_784dd834_8fff_11ea_918c_24ee9a9cd771row13_col0\" class=\"data row13 col0\" >Indiana</td>\n",
       "                        <td id=\"T_784dd834_8fff_11ea_918c_24ee9a9cd771row13_col1\" class=\"data row13 col1\" >19,693</td>\n",
       "            </tr>\n",
       "            <tr>\n",
       "                        <th id=\"T_784dd834_8fff_11ea_918c_24ee9a9cd771level0_row14\" class=\"row_heading level0 row14\" >15</th>\n",
       "                        <td id=\"T_784dd834_8fff_11ea_918c_24ee9a9cd771row14_col0\" class=\"data row14 col0\" >Ohio</td>\n",
       "                        <td id=\"T_784dd834_8fff_11ea_918c_24ee9a9cd771row14_col1\" class=\"data row14 col1\" >18,970</td>\n",
       "            </tr>\n",
       "            <tr>\n",
       "                        <th id=\"T_784dd834_8fff_11ea_918c_24ee9a9cd771level0_row15\" class=\"row_heading level0 row15\" >16</th>\n",
       "                        <td id=\"T_784dd834_8fff_11ea_918c_24ee9a9cd771row15_col0\" class=\"data row15 col0\" >Virginia</td>\n",
       "                        <td id=\"T_784dd834_8fff_11ea_918c_24ee9a9cd771row15_col1\" class=\"data row15 col1\" >17,046</td>\n",
       "            </tr>\n",
       "            <tr>\n",
       "                        <th id=\"T_784dd834_8fff_11ea_918c_24ee9a9cd771level0_row16\" class=\"row_heading level0 row16\" >17</th>\n",
       "                        <td id=\"T_784dd834_8fff_11ea_918c_24ee9a9cd771row16_col0\" class=\"data row16 col0\" >Colorado</td>\n",
       "                        <td id=\"T_784dd834_8fff_11ea_918c_24ee9a9cd771row16_col1\" class=\"data row16 col1\" >15,497</td>\n",
       "            </tr>\n",
       "            <tr>\n",
       "                        <th id=\"T_784dd834_8fff_11ea_918c_24ee9a9cd771level0_row17\" class=\"row_heading level0 row17\" >18</th>\n",
       "                        <td id=\"T_784dd834_8fff_11ea_918c_24ee9a9cd771row17_col0\" class=\"data row17 col0\" >Washington</td>\n",
       "                        <td id=\"T_784dd834_8fff_11ea_918c_24ee9a9cd771row17_col1\" class=\"data row17 col1\" >12,858</td>\n",
       "            </tr>\n",
       "            <tr>\n",
       "                        <th id=\"T_784dd834_8fff_11ea_918c_24ee9a9cd771level0_row18\" class=\"row_heading level0 row18\" >19</th>\n",
       "                        <td id=\"T_784dd834_8fff_11ea_918c_24ee9a9cd771row18_col0\" class=\"data row18 col0\" >Tennessee</td>\n",
       "                        <td id=\"T_784dd834_8fff_11ea_918c_24ee9a9cd771row18_col1\" class=\"data row18 col1\" >7,271</td>\n",
       "            </tr>\n",
       "            <tr>\n",
       "                        <th id=\"T_784dd834_8fff_11ea_918c_24ee9a9cd771level0_row19\" class=\"row_heading level0 row19\" >20</th>\n",
       "                        <td id=\"T_784dd834_8fff_11ea_918c_24ee9a9cd771row19_col0\" class=\"data row19 col0\" >North Carolina</td>\n",
       "                        <td id=\"T_784dd834_8fff_11ea_918c_24ee9a9cd771row19_col1\" class=\"data row19 col1\" >10,109</td>\n",
       "            </tr>\n",
       "            <tr>\n",
       "                        <th id=\"T_784dd834_8fff_11ea_918c_24ee9a9cd771level0_row20\" class=\"row_heading level0 row20\" >21</th>\n",
       "                        <td id=\"T_784dd834_8fff_11ea_918c_24ee9a9cd771row20_col0\" class=\"data row20 col0\" >Iowa</td>\n",
       "                        <td id=\"T_784dd834_8fff_11ea_918c_24ee9a9cd771row20_col1\" class=\"data row20 col1\" >6,332</td>\n",
       "            </tr>\n",
       "            <tr>\n",
       "                        <th id=\"T_784dd834_8fff_11ea_918c_24ee9a9cd771level0_row21\" class=\"row_heading level0 row21\" >22</th>\n",
       "                        <td id=\"T_784dd834_8fff_11ea_918c_24ee9a9cd771row21_col0\" class=\"data row21 col0\" >Rhode Island</td>\n",
       "                        <td id=\"T_784dd834_8fff_11ea_918c_24ee9a9cd771row21_col1\" class=\"data row21 col1\" >9,236</td>\n",
       "            </tr>\n",
       "            <tr>\n",
       "                        <th id=\"T_784dd834_8fff_11ea_918c_24ee9a9cd771level0_row22\" class=\"row_heading level0 row22\" >23</th>\n",
       "                        <td id=\"T_784dd834_8fff_11ea_918c_24ee9a9cd771row22_col0\" class=\"data row22 col0\" >Arizona</td>\n",
       "                        <td id=\"T_784dd834_8fff_11ea_918c_24ee9a9cd771row22_col1\" class=\"data row22 col1\" >8,840</td>\n",
       "            </tr>\n",
       "            <tr>\n",
       "                        <th id=\"T_784dd834_8fff_11ea_918c_24ee9a9cd771level0_row23\" class=\"row_heading level0 row23\" >24</th>\n",
       "                        <td id=\"T_784dd834_8fff_11ea_918c_24ee9a9cd771row23_col0\" class=\"data row23 col0\" >Missouri</td>\n",
       "                        <td id=\"T_784dd834_8fff_11ea_918c_24ee9a9cd771row23_col1\" class=\"data row23 col1\" >6,517</td>\n",
       "            </tr>\n",
       "            <tr>\n",
       "                        <th id=\"T_784dd834_8fff_11ea_918c_24ee9a9cd771level0_row24\" class=\"row_heading level0 row24\" >25</th>\n",
       "                        <td id=\"T_784dd834_8fff_11ea_918c_24ee9a9cd771row24_col0\" class=\"data row24 col0\" >Wisconsin</td>\n",
       "                        <td id=\"T_784dd834_8fff_11ea_918c_24ee9a9cd771row24_col1\" class=\"data row24 col1\" >3,923</td>\n",
       "            </tr>\n",
       "            <tr>\n",
       "                        <th id=\"T_784dd834_8fff_11ea_918c_24ee9a9cd771level0_row25\" class=\"row_heading level0 row25\" >26</th>\n",
       "                        <td id=\"T_784dd834_8fff_11ea_918c_24ee9a9cd771row25_col0\" class=\"data row25 col0\" >Alabama</td>\n",
       "                        <td id=\"T_784dd834_8fff_11ea_918c_24ee9a9cd771row25_col1\" class=\"data row25 col1\" >7,790</td>\n",
       "            </tr>\n",
       "            <tr>\n",
       "                        <th id=\"T_784dd834_8fff_11ea_918c_24ee9a9cd771level0_row26\" class=\"row_heading level0 row26\" >27</th>\n",
       "                        <td id=\"T_784dd834_8fff_11ea_918c_24ee9a9cd771row26_col0\" class=\"data row26 col0\" >Mississippi</td>\n",
       "                        <td id=\"T_784dd834_8fff_11ea_918c_24ee9a9cd771row26_col1\" class=\"data row26 col1\" >4,154</td>\n",
       "            </tr>\n",
       "            <tr>\n",
       "                        <th id=\"T_784dd834_8fff_11ea_918c_24ee9a9cd771level0_row27\" class=\"row_heading level0 row27\" >28</th>\n",
       "                        <td id=\"T_784dd834_8fff_11ea_918c_24ee9a9cd771row27_col0\" class=\"data row27 col0\" >Minnesota</td>\n",
       "                        <td id=\"T_784dd834_8fff_11ea_918c_24ee9a9cd771row27_col1\" class=\"data row27 col1\" >2,782</td>\n",
       "            </tr>\n",
       "            <tr>\n",
       "                        <th id=\"T_784dd834_8fff_11ea_918c_24ee9a9cd771level0_row28\" class=\"row_heading level0 row28\" >29</th>\n",
       "                        <td id=\"T_784dd834_8fff_11ea_918c_24ee9a9cd771row28_col0\" class=\"data row28 col0\" >South Carolina</td>\n",
       "                        <td id=\"T_784dd834_8fff_11ea_918c_24ee9a9cd771row28_col1\" class=\"data row28 col1\" >1,593</td>\n",
       "            </tr>\n",
       "            <tr>\n",
       "                        <th id=\"T_784dd834_8fff_11ea_918c_24ee9a9cd771level0_row29\" class=\"row_heading level0 row29\" >30</th>\n",
       "                        <td id=\"T_784dd834_8fff_11ea_918c_24ee9a9cd771row29_col0\" class=\"data row29 col0\" >Nebraska</td>\n",
       "                        <td id=\"T_784dd834_8fff_11ea_918c_24ee9a9cd771row29_col1\" class=\"data row29 col1\" >5,982</td>\n",
       "            </tr>\n",
       "            <tr>\n",
       "                        <th id=\"T_784dd834_8fff_11ea_918c_24ee9a9cd771level0_row30\" class=\"row_heading level0 row30\" >31</th>\n",
       "                        <td id=\"T_784dd834_8fff_11ea_918c_24ee9a9cd771row30_col0\" class=\"data row30 col0\" >Nevada</td>\n",
       "                        <td id=\"T_784dd834_8fff_11ea_918c_24ee9a9cd771row30_col1\" class=\"data row30 col1\" >2,422</td>\n",
       "            </tr>\n",
       "            <tr>\n",
       "                        <th id=\"T_784dd834_8fff_11ea_918c_24ee9a9cd771level0_row31\" class=\"row_heading level0 row31\" >32</th>\n",
       "                        <td id=\"T_784dd834_8fff_11ea_918c_24ee9a9cd771row31_col0\" class=\"data row31 col0\" >Kansas</td>\n",
       "                        <td id=\"T_784dd834_8fff_11ea_918c_24ee9a9cd771row31_col1\" class=\"data row31 col1\" >4,254</td>\n",
       "            </tr>\n",
       "            <tr>\n",
       "                        <th id=\"T_784dd834_8fff_11ea_918c_24ee9a9cd771level0_row32\" class=\"row_heading level0 row32\" >33</th>\n",
       "                        <td id=\"T_784dd834_8fff_11ea_918c_24ee9a9cd771row32_col0\" class=\"data row32 col0\" >Delaware</td>\n",
       "                        <td id=\"T_784dd834_8fff_11ea_918c_24ee9a9cd771row32_col1\" class=\"data row32 col1\" >3,337</td>\n",
       "            </tr>\n",
       "            <tr>\n",
       "                        <th id=\"T_784dd834_8fff_11ea_918c_24ee9a9cd771level0_row33\" class=\"row_heading level0 row33\" >34</th>\n",
       "                        <td id=\"T_784dd834_8fff_11ea_918c_24ee9a9cd771row33_col0\" class=\"data row33 col0\" >District Of Columbia</td>\n",
       "                        <td id=\"T_784dd834_8fff_11ea_918c_24ee9a9cd771row33_col1\" class=\"data row33 col1\" >4,391</td>\n",
       "            </tr>\n",
       "            <tr>\n",
       "                        <th id=\"T_784dd834_8fff_11ea_918c_24ee9a9cd771level0_row34\" class=\"row_heading level0 row34\" >35</th>\n",
       "                        <td id=\"T_784dd834_8fff_11ea_918c_24ee9a9cd771row34_col0\" class=\"data row34 col0\" >Utah</td>\n",
       "                        <td id=\"T_784dd834_8fff_11ea_918c_24ee9a9cd771row34_col1\" class=\"data row34 col1\" >3,082</td>\n",
       "            </tr>\n",
       "            <tr>\n",
       "                        <th id=\"T_784dd834_8fff_11ea_918c_24ee9a9cd771level0_row35\" class=\"row_heading level0 row35\" >36</th>\n",
       "                        <td id=\"T_784dd834_8fff_11ea_918c_24ee9a9cd771row35_col0\" class=\"data row35 col0\" >Kentucky</td>\n",
       "                        <td id=\"T_784dd834_8fff_11ea_918c_24ee9a9cd771row35_col1\" class=\"data row35 col1\" >3,862</td>\n",
       "            </tr>\n",
       "            <tr>\n",
       "                        <th id=\"T_784dd834_8fff_11ea_918c_24ee9a9cd771level0_row36\" class=\"row_heading level0 row36\" >37</th>\n",
       "                        <td id=\"T_784dd834_8fff_11ea_918c_24ee9a9cd771row36_col0\" class=\"data row36 col0\" >Oklahoma</td>\n",
       "                        <td id=\"T_784dd834_8fff_11ea_918c_24ee9a9cd771row36_col1\" class=\"data row36 col1\" >1,198</td>\n",
       "            </tr>\n",
       "            <tr>\n",
       "                        <th id=\"T_784dd834_8fff_11ea_918c_24ee9a9cd771level0_row37\" class=\"row_heading level0 row37\" >38</th>\n",
       "                        <td id=\"T_784dd834_8fff_11ea_918c_24ee9a9cd771row37_col0\" class=\"data row37 col0\" >New Mexico</td>\n",
       "                        <td id=\"T_784dd834_8fff_11ea_918c_24ee9a9cd771row37_col1\" class=\"data row37 col1\" >3,115</td>\n",
       "            </tr>\n",
       "            <tr>\n",
       "                        <th id=\"T_784dd834_8fff_11ea_918c_24ee9a9cd771level0_row38\" class=\"row_heading level0 row38\" >39</th>\n",
       "                        <td id=\"T_784dd834_8fff_11ea_918c_24ee9a9cd771row38_col0\" class=\"data row38 col0\" >Arkansas</td>\n",
       "                        <td id=\"T_784dd834_8fff_11ea_918c_24ee9a9cd771row38_col1\" class=\"data row38 col1\" >1,348</td>\n",
       "            </tr>\n",
       "            <tr>\n",
       "                        <th id=\"T_784dd834_8fff_11ea_918c_24ee9a9cd771level0_row39\" class=\"row_heading level0 row39\" >40</th>\n",
       "                        <td id=\"T_784dd834_8fff_11ea_918c_24ee9a9cd771row39_col0\" class=\"data row39 col0\" >Oregon</td>\n",
       "                        <td id=\"T_784dd834_8fff_11ea_918c_24ee9a9cd771row39_col1\" class=\"data row39 col1\" >1,790</td>\n",
       "            </tr>\n",
       "            <tr>\n",
       "                        <th id=\"T_784dd834_8fff_11ea_918c_24ee9a9cd771level0_row40\" class=\"row_heading level0 row40\" >41</th>\n",
       "                        <td id=\"T_784dd834_8fff_11ea_918c_24ee9a9cd771row40_col0\" class=\"data row40 col0\" >South Dakota</td>\n",
       "                        <td id=\"T_784dd834_8fff_11ea_918c_24ee9a9cd771row40_col1\" class=\"data row40 col1\" >817</td>\n",
       "            </tr>\n",
       "            <tr>\n",
       "                        <th id=\"T_784dd834_8fff_11ea_918c_24ee9a9cd771level0_row41\" class=\"row_heading level0 row41\" >42</th>\n",
       "                        <td id=\"T_784dd834_8fff_11ea_918c_24ee9a9cd771row41_col0\" class=\"data row41 col0\" >New Hampshire</td>\n",
       "                        <td id=\"T_784dd834_8fff_11ea_918c_24ee9a9cd771row41_col1\" class=\"data row41 col1\" >1,483</td>\n",
       "            </tr>\n",
       "            <tr>\n",
       "                        <th id=\"T_784dd834_8fff_11ea_918c_24ee9a9cd771level0_row42\" class=\"row_heading level0 row42\" >43</th>\n",
       "                        <td id=\"T_784dd834_8fff_11ea_918c_24ee9a9cd771row42_col0\" class=\"data row42 col0\" >Idaho</td>\n",
       "                        <td id=\"T_784dd834_8fff_11ea_918c_24ee9a9cd771row42_col1\" class=\"data row42 col1\" >684</td>\n",
       "            </tr>\n",
       "            <tr>\n",
       "                        <th id=\"T_784dd834_8fff_11ea_918c_24ee9a9cd771level0_row43\" class=\"row_heading level0 row43\" >44</th>\n",
       "                        <td id=\"T_784dd834_8fff_11ea_918c_24ee9a9cd771row43_col0\" class=\"data row43 col0\" >North Dakota</td>\n",
       "                        <td id=\"T_784dd834_8fff_11ea_918c_24ee9a9cd771row43_col1\" class=\"data row43 col1\" >682</td>\n",
       "            </tr>\n",
       "            <tr>\n",
       "                        <th id=\"T_784dd834_8fff_11ea_918c_24ee9a9cd771level0_row44\" class=\"row_heading level0 row44\" >45</th>\n",
       "                        <td id=\"T_784dd834_8fff_11ea_918c_24ee9a9cd771row44_col0\" class=\"data row44 col0\" >West Virginia</td>\n",
       "                        <td id=\"T_784dd834_8fff_11ea_918c_24ee9a9cd771row44_col1\" class=\"data row44 col1\" >616</td>\n",
       "            </tr>\n",
       "            <tr>\n",
       "                        <th id=\"T_784dd834_8fff_11ea_918c_24ee9a9cd771level0_row45\" class=\"row_heading level0 row45\" >46</th>\n",
       "                        <td id=\"T_784dd834_8fff_11ea_918c_24ee9a9cd771row45_col0\" class=\"data row45 col0\" >Maine</td>\n",
       "                        <td id=\"T_784dd834_8fff_11ea_918c_24ee9a9cd771row45_col1\" class=\"data row45 col1\" >424</td>\n",
       "            </tr>\n",
       "            <tr>\n",
       "                        <th id=\"T_784dd834_8fff_11ea_918c_24ee9a9cd771level0_row46\" class=\"row_heading level0 row46\" >47</th>\n",
       "                        <td id=\"T_784dd834_8fff_11ea_918c_24ee9a9cd771row46_col0\" class=\"data row46 col0\" >Vermont</td>\n",
       "                        <td id=\"T_784dd834_8fff_11ea_918c_24ee9a9cd771row46_col1\" class=\"data row46 col1\" >855</td>\n",
       "            </tr>\n",
       "            <tr>\n",
       "                        <th id=\"T_784dd834_8fff_11ea_918c_24ee9a9cd771level0_row47\" class=\"row_heading level0 row47\" >48</th>\n",
       "                        <td id=\"T_784dd834_8fff_11ea_918c_24ee9a9cd771row47_col0\" class=\"data row47 col0\" >Hawaii</td>\n",
       "                        <td id=\"T_784dd834_8fff_11ea_918c_24ee9a9cd771row47_col1\" class=\"data row47 col1\" >56</td>\n",
       "            </tr>\n",
       "            <tr>\n",
       "                        <th id=\"T_784dd834_8fff_11ea_918c_24ee9a9cd771level0_row48\" class=\"row_heading level0 row48\" >49</th>\n",
       "                        <td id=\"T_784dd834_8fff_11ea_918c_24ee9a9cd771row48_col0\" class=\"data row48 col0\" >Wyoming</td>\n",
       "                        <td id=\"T_784dd834_8fff_11ea_918c_24ee9a9cd771row48_col1\" class=\"data row48 col1\" >184</td>\n",
       "            </tr>\n",
       "            <tr>\n",
       "                        <th id=\"T_784dd834_8fff_11ea_918c_24ee9a9cd771level0_row49\" class=\"row_heading level0 row49\" >50</th>\n",
       "                        <td id=\"T_784dd834_8fff_11ea_918c_24ee9a9cd771row49_col0\" class=\"data row49 col0\" >Montana</td>\n",
       "                        <td id=\"T_784dd834_8fff_11ea_918c_24ee9a9cd771row49_col1\" class=\"data row49 col1\" >31</td>\n",
       "            </tr>\n",
       "            <tr>\n",
       "                        <th id=\"T_784dd834_8fff_11ea_918c_24ee9a9cd771level0_row50\" class=\"row_heading level0 row50\" >51</th>\n",
       "                        <td id=\"T_784dd834_8fff_11ea_918c_24ee9a9cd771row50_col0\" class=\"data row50 col0\" >Alaska</td>\n",
       "                        <td id=\"T_784dd834_8fff_11ea_918c_24ee9a9cd771row50_col1\" class=\"data row50 col1\" >98</td>\n",
       "            </tr>\n",
       "            <tr>\n",
       "                        <th id=\"T_784dd834_8fff_11ea_918c_24ee9a9cd771level0_row51\" class=\"row_heading level0 row51\" >52</th>\n",
       "                        <td id=\"T_784dd834_8fff_11ea_918c_24ee9a9cd771row51_col0\" class=\"data row51 col0\" >Guam</td>\n",
       "                        <td id=\"T_784dd834_8fff_11ea_918c_24ee9a9cd771row51_col1\" class=\"data row51 col1\" >13</td>\n",
       "            </tr>\n",
       "            <tr>\n",
       "                        <th id=\"T_784dd834_8fff_11ea_918c_24ee9a9cd771level0_row52\" class=\"row_heading level0 row52\" >53</th>\n",
       "                        <td id=\"T_784dd834_8fff_11ea_918c_24ee9a9cd771row52_col0\" class=\"data row52 col0\" >Northern Mariana Islands</td>\n",
       "                        <td id=\"T_784dd834_8fff_11ea_918c_24ee9a9cd771row52_col1\" class=\"data row52 col1\" >0</td>\n",
       "            </tr>\n",
       "            <tr>\n",
       "                        <th id=\"T_784dd834_8fff_11ea_918c_24ee9a9cd771level0_row53\" class=\"row_heading level0 row53\" >54</th>\n",
       "                        <td id=\"T_784dd834_8fff_11ea_918c_24ee9a9cd771row53_col0\" class=\"data row53 col0\" >Puerto Rico</td>\n",
       "                        <td id=\"T_784dd834_8fff_11ea_918c_24ee9a9cd771row53_col1\" class=\"data row53 col1\" >1,450</td>\n",
       "            </tr>\n",
       "            <tr>\n",
       "                        <th id=\"T_784dd834_8fff_11ea_918c_24ee9a9cd771level0_row54\" class=\"row_heading level0 row54\" >55</th>\n",
       "                        <td id=\"T_784dd834_8fff_11ea_918c_24ee9a9cd771row54_col0\" class=\"data row54 col0\" >United States Virgin Islands</td>\n",
       "                        <td id=\"T_784dd834_8fff_11ea_918c_24ee9a9cd771row54_col1\" class=\"data row54 col1\" >11</td>\n",
       "            </tr>\n",
       "            <tr>\n",
       "                        <th id=\"T_784dd834_8fff_11ea_918c_24ee9a9cd771level0_row55\" class=\"row_heading level0 row55\" >56</th>\n",
       "                        <td id=\"T_784dd834_8fff_11ea_918c_24ee9a9cd771row55_col0\" class=\"data row55 col0\" >Veteran Affairs</td>\n",
       "                        <td id=\"T_784dd834_8fff_11ea_918c_24ee9a9cd771row55_col1\" class=\"data row55 col1\" >8,905</td>\n",
       "            </tr>\n",
       "            <tr>\n",
       "                        <th id=\"T_784dd834_8fff_11ea_918c_24ee9a9cd771level0_row56\" class=\"row_heading level0 row56\" >57</th>\n",
       "                        <td id=\"T_784dd834_8fff_11ea_918c_24ee9a9cd771row56_col0\" class=\"data row56 col0\" >US Military</td>\n",
       "                        <td id=\"T_784dd834_8fff_11ea_918c_24ee9a9cd771row56_col1\" class=\"data row56 col1\" >4,539</td>\n",
       "            </tr>\n",
       "            <tr>\n",
       "                        <th id=\"T_784dd834_8fff_11ea_918c_24ee9a9cd771level0_row57\" class=\"row_heading level0 row57\" >58</th>\n",
       "                        <td id=\"T_784dd834_8fff_11ea_918c_24ee9a9cd771row57_col0\" class=\"data row57 col0\" >Navajo Nation</td>\n",
       "                        <td id=\"T_784dd834_8fff_11ea_918c_24ee9a9cd771row57_col1\" class=\"data row57 col1\" >2,300</td>\n",
       "            </tr>\n",
       "            <tr>\n",
       "                        <th id=\"T_784dd834_8fff_11ea_918c_24ee9a9cd771level0_row58\" class=\"row_heading level0 row58\" >59</th>\n",
       "                        <td id=\"T_784dd834_8fff_11ea_918c_24ee9a9cd771row58_col0\" class=\"data row58 col0\" >Federal Prisons</td>\n",
       "                        <td id=\"T_784dd834_8fff_11ea_918c_24ee9a9cd771row58_col1\" class=\"data row58 col1\" >1,608</td>\n",
       "            </tr>\n",
       "            <tr>\n",
       "                        <th id=\"T_784dd834_8fff_11ea_918c_24ee9a9cd771level0_row59\" class=\"row_heading level0 row59\" >60</th>\n",
       "                        <td id=\"T_784dd834_8fff_11ea_918c_24ee9a9cd771row59_col0\" class=\"data row59 col0\" >Grand Princess Ship</td>\n",
       "                        <td id=\"T_784dd834_8fff_11ea_918c_24ee9a9cd771row59_col1\" class=\"data row59 col1\" >100</td>\n",
       "            </tr>\n",
       "            <tr>\n",
       "                        <th id=\"T_784dd834_8fff_11ea_918c_24ee9a9cd771level0_row60\" class=\"row_heading level0 row60\" >61</th>\n",
       "                        <td id=\"T_784dd834_8fff_11ea_918c_24ee9a9cd771row60_col0\" class=\"data row60 col0\" >Wuhan Repatriated</td>\n",
       "                        <td id=\"T_784dd834_8fff_11ea_918c_24ee9a9cd771row60_col1\" class=\"data row60 col1\" >3</td>\n",
       "            </tr>\n",
       "            <tr>\n",
       "                        <th id=\"T_784dd834_8fff_11ea_918c_24ee9a9cd771level0_row61\" class=\"row_heading level0 row61\" >62</th>\n",
       "                        <td id=\"T_784dd834_8fff_11ea_918c_24ee9a9cd771row61_col0\" class=\"data row61 col0\" >Diamond Princess Ship</td>\n",
       "                        <td id=\"T_784dd834_8fff_11ea_918c_24ee9a9cd771row61_col1\" class=\"data row61 col1\" >46</td>\n",
       "            </tr>\n",
       "            <tr>\n",
       "                        <th id=\"T_784dd834_8fff_11ea_918c_24ee9a9cd771level0_row62\" class=\"row_heading level0 row62\" >63</th>\n",
       "                        <td id=\"T_784dd834_8fff_11ea_918c_24ee9a9cd771row62_col0\" class=\"data row62 col0\" >Total:</td>\n",
       "                        <td id=\"T_784dd834_8fff_11ea_918c_24ee9a9cd771row62_col1\" class=\"data row62 col1\" >959,133</td>\n",
       "            </tr>\n",
       "    </tbody></table>"
      ],
      "text/plain": [
       "<pandas.io.formats.style.Styler at 0x2ce8e5f18c8>"
      ]
     },
     "execution_count": 37,
     "metadata": {},
     "output_type": "execute_result"
    }
   ],
   "source": [
    "# Display just Active Cases Data Using gradient\n",
    "df_us_2 = df_us.drop(63, axis=0)\n",
    "df_us_2 = df_us.drop(0, axis=0)\n",
    "#Total Active Covid 19 Case\n",
    "total_active_us = df_us_2[['USAState','ActiveCases']]\n",
    "total_active_us.style.background_gradient(cmap='Reds')"
   ]
  },
  {
   "cell_type": "markdown",
   "metadata": {},
   "source": [
    "## 2.0 Creating a Heatmap of COVID Statistics Using Gmaps\n",
    "\n",
    "#### Due to the nature of pandemics, it is impossible to understand the spread of COVID without visualizing its impact on a map.  Here, we see which regions of the contiguous U.S. have the most active cases."
   ]
  },
  {
   "cell_type": "code",
   "execution_count": 38,
   "metadata": {},
   "outputs": [],
   "source": [
    "#Enter Google Geocode Key\n",
    "gkey = \"\""
   ]
  },
  {
   "cell_type": "code",
   "execution_count": 39,
   "metadata": {},
   "outputs": [],
   "source": [
    "# Configure gmaps with API key\n",
    "gmaps.configure(api_key=gkey)"
   ]
  },
  {
   "cell_type": "code",
   "execution_count": 40,
   "metadata": {},
   "outputs": [],
   "source": [
    "#Save lat and lng as a dataframe\n",
    "df_us_2 = df_us_2.drop(63, axis=0)\n",
    "locations = df_us_2[['Latitude','Longitude']]\n",
    "active_cases = df_us_3['ActiveCases']\n",
    "#Set active as weight\n",
    "max_cases = active_cases.max()"
   ]
  },
  {
   "cell_type": "code",
   "execution_count": 41,
   "metadata": {},
   "outputs": [],
   "source": [
    "#Customize the size of the figure\n",
    "figure_layout = {\n",
    "    'width': '700px',\n",
    "    'height': '500px',\n",
    "    'border': '1px solid black',\n",
    "    'padding': '1px',\n",
    "    'margin': '0 auto 0 auto'\n",
    "}"
   ]
  },
  {
   "cell_type": "code",
   "execution_count": 42,
   "metadata": {},
   "outputs": [
    {
     "data": {
      "application/vnd.jupyter.widget-view+json": {
       "model_id": "aee2aa2e0abb431eb1ca430242ea5b78",
       "version_major": 2,
       "version_minor": 0
      },
      "text/plain": [
       "Figure(layout=FigureLayout(border='1px solid black', height='500px', margin='0 auto 0 auto', padding='1px', wi…"
      ]
     },
     "metadata": {},
     "output_type": "display_data"
    }
   ],
   "source": [
    "fig = gmaps.figure(layout=figure_layout)\n",
    "heat_layer = gmaps.heatmap_layer(locations, weights = active_cases, dissipating=False, max_intensity=max_cases, point_radius=3)\n",
    "fig.add_layer(heat_layer)\n",
    "fig"
   ]
  },
  {
   "cell_type": "markdown",
   "metadata": {},
   "source": [
    "## 3.0 Plotting Confirmed and Recovered Cases in Seaborn\n",
    "\n",
    "#### Seaborn's visualization tools are a fantastic way to compare the recoveries of COVID to the total number of cases."
   ]
  },
  {
   "cell_type": "code",
   "execution_count": 43,
   "metadata": {},
   "outputs": [
    {
     "data": {
      "text/html": [
       "<div>\n",
       "<style scoped>\n",
       "    .dataframe tbody tr th:only-of-type {\n",
       "        vertical-align: middle;\n",
       "    }\n",
       "\n",
       "    .dataframe tbody tr th {\n",
       "        vertical-align: top;\n",
       "    }\n",
       "\n",
       "    .dataframe thead th {\n",
       "        text-align: right;\n",
       "    }\n",
       "</style>\n",
       "<table border=\"1\" class=\"dataframe\">\n",
       "  <thead>\n",
       "    <tr style=\"text-align: right;\">\n",
       "      <th></th>\n",
       "      <th>USAState</th>\n",
       "      <th>TotalCases</th>\n",
       "      <th>TotalDeaths</th>\n",
       "      <th>ActiveCases</th>\n",
       "      <th>Cured</th>\n",
       "    </tr>\n",
       "  </thead>\n",
       "  <tbody>\n",
       "    <tr>\n",
       "      <th>0</th>\n",
       "      <td>New York</td>\n",
       "      <td>327374</td>\n",
       "      <td>25174.0</td>\n",
       "      <td>248855.0</td>\n",
       "      <td>53345.0</td>\n",
       "    </tr>\n",
       "    <tr>\n",
       "      <th>1</th>\n",
       "      <td>New Jersey</td>\n",
       "      <td>129345</td>\n",
       "      <td>7951.0</td>\n",
       "      <td>120123.0</td>\n",
       "      <td>1271.0</td>\n",
       "    </tr>\n",
       "    <tr>\n",
       "      <th>2</th>\n",
       "      <td>Massachusetts</td>\n",
       "      <td>69087</td>\n",
       "      <td>4090.0</td>\n",
       "      <td>56879.0</td>\n",
       "      <td>8118.0</td>\n",
       "    </tr>\n",
       "    <tr>\n",
       "      <th>3</th>\n",
       "      <td>Illinois</td>\n",
       "      <td>63840</td>\n",
       "      <td>2662.0</td>\n",
       "      <td>60533.0</td>\n",
       "      <td>645.0</td>\n",
       "    </tr>\n",
       "    <tr>\n",
       "      <th>4</th>\n",
       "      <td>California</td>\n",
       "      <td>56306</td>\n",
       "      <td>2294.0</td>\n",
       "      <td>46448.0</td>\n",
       "      <td>7564.0</td>\n",
       "    </tr>\n",
       "    <tr>\n",
       "      <th>5</th>\n",
       "      <td>Pennsylvania</td>\n",
       "      <td>52922</td>\n",
       "      <td>3012.0</td>\n",
       "      <td>48927.0</td>\n",
       "      <td>983.0</td>\n",
       "    </tr>\n",
       "    <tr>\n",
       "      <th>6</th>\n",
       "      <td>Michigan</td>\n",
       "      <td>43950</td>\n",
       "      <td>4135.0</td>\n",
       "      <td>24156.0</td>\n",
       "      <td>15659.0</td>\n",
       "    </tr>\n",
       "    <tr>\n",
       "      <th>7</th>\n",
       "      <td>Florida</td>\n",
       "      <td>37439</td>\n",
       "      <td>1471.0</td>\n",
       "      <td>35282.0</td>\n",
       "      <td>686.0</td>\n",
       "    </tr>\n",
       "    <tr>\n",
       "      <th>8</th>\n",
       "      <td>Texas</td>\n",
       "      <td>33188</td>\n",
       "      <td>920.0</td>\n",
       "      <td>15603.0</td>\n",
       "      <td>16665.0</td>\n",
       "    </tr>\n",
       "    <tr>\n",
       "      <th>9</th>\n",
       "      <td>Connecticut</td>\n",
       "      <td>30173</td>\n",
       "      <td>2556.0</td>\n",
       "      <td>27552.0</td>\n",
       "      <td>65.0</td>\n",
       "    </tr>\n",
       "    <tr>\n",
       "      <th>10</th>\n",
       "      <td>Louisiana</td>\n",
       "      <td>29673</td>\n",
       "      <td>2064.0</td>\n",
       "      <td>10306.0</td>\n",
       "      <td>17303.0</td>\n",
       "    </tr>\n",
       "    <tr>\n",
       "      <th>11</th>\n",
       "      <td>Georgia</td>\n",
       "      <td>29560</td>\n",
       "      <td>1258.0</td>\n",
       "      <td>27962.0</td>\n",
       "      <td>340.0</td>\n",
       "    </tr>\n",
       "    <tr>\n",
       "      <th>12</th>\n",
       "      <td>Maryland</td>\n",
       "      <td>27117</td>\n",
       "      <td>1390.0</td>\n",
       "      <td>24210.0</td>\n",
       "      <td>1517.0</td>\n",
       "    </tr>\n",
       "    <tr>\n",
       "      <th>13</th>\n",
       "      <td>Indiana</td>\n",
       "      <td>21033</td>\n",
       "      <td>1326.0</td>\n",
       "      <td>19693.0</td>\n",
       "      <td>14.0</td>\n",
       "    </tr>\n",
       "    <tr>\n",
       "      <th>14</th>\n",
       "      <td>Ohio</td>\n",
       "      <td>20476</td>\n",
       "      <td>1058.0</td>\n",
       "      <td>18970.0</td>\n",
       "      <td>448.0</td>\n",
       "    </tr>\n",
       "    <tr>\n",
       "      <th>15</th>\n",
       "      <td>Virginia</td>\n",
       "      <td>20256</td>\n",
       "      <td>713.0</td>\n",
       "      <td>17046.0</td>\n",
       "      <td>2497.0</td>\n",
       "    </tr>\n",
       "    <tr>\n",
       "      <th>16</th>\n",
       "      <td>Colorado</td>\n",
       "      <td>16907</td>\n",
       "      <td>851.0</td>\n",
       "      <td>15497.0</td>\n",
       "      <td>559.0</td>\n",
       "    </tr>\n",
       "    <tr>\n",
       "      <th>17</th>\n",
       "      <td>Washington</td>\n",
       "      <td>16136</td>\n",
       "      <td>846.0</td>\n",
       "      <td>12858.0</td>\n",
       "      <td>2432.0</td>\n",
       "    </tr>\n",
       "    <tr>\n",
       "      <th>18</th>\n",
       "      <td>Tennessee</td>\n",
       "      <td>13571</td>\n",
       "      <td>219.0</td>\n",
       "      <td>7271.0</td>\n",
       "      <td>6081.0</td>\n",
       "    </tr>\n",
       "    <tr>\n",
       "      <th>19</th>\n",
       "      <td>North Carolina</td>\n",
       "      <td>12377</td>\n",
       "      <td>460.0</td>\n",
       "      <td>10109.0</td>\n",
       "      <td>1808.0</td>\n",
       "    </tr>\n",
       "    <tr>\n",
       "      <th>20</th>\n",
       "      <td>Iowa</td>\n",
       "      <td>10111</td>\n",
       "      <td>207.0</td>\n",
       "      <td>6332.0</td>\n",
       "      <td>3572.0</td>\n",
       "    </tr>\n",
       "    <tr>\n",
       "      <th>21</th>\n",
       "      <td>Rhode Island</td>\n",
       "      <td>9933</td>\n",
       "      <td>355.0</td>\n",
       "      <td>9236.0</td>\n",
       "      <td>342.0</td>\n",
       "    </tr>\n",
       "    <tr>\n",
       "      <th>22</th>\n",
       "      <td>Arizona</td>\n",
       "      <td>9305</td>\n",
       "      <td>395.0</td>\n",
       "      <td>8840.0</td>\n",
       "      <td>70.0</td>\n",
       "    </tr>\n",
       "    <tr>\n",
       "      <th>23</th>\n",
       "      <td>Missouri</td>\n",
       "      <td>8887</td>\n",
       "      <td>383.0</td>\n",
       "      <td>6517.0</td>\n",
       "      <td>1987.0</td>\n",
       "    </tr>\n",
       "    <tr>\n",
       "      <th>24</th>\n",
       "      <td>Wisconsin</td>\n",
       "      <td>8236</td>\n",
       "      <td>340.0</td>\n",
       "      <td>3923.0</td>\n",
       "      <td>3973.0</td>\n",
       "    </tr>\n",
       "    <tr>\n",
       "      <th>25</th>\n",
       "      <td>Alabama</td>\n",
       "      <td>8120</td>\n",
       "      <td>310.0</td>\n",
       "      <td>7790.0</td>\n",
       "      <td>20.0</td>\n",
       "    </tr>\n",
       "    <tr>\n",
       "      <th>26</th>\n",
       "      <td>Mississippi</td>\n",
       "      <td>7877</td>\n",
       "      <td>310.0</td>\n",
       "      <td>4154.0</td>\n",
       "      <td>3413.0</td>\n",
       "    </tr>\n",
       "    <tr>\n",
       "      <th>27</th>\n",
       "      <td>Minnesota</td>\n",
       "      <td>7851</td>\n",
       "      <td>455.0</td>\n",
       "      <td>2782.0</td>\n",
       "      <td>4614.0</td>\n",
       "    </tr>\n",
       "    <tr>\n",
       "      <th>28</th>\n",
       "      <td>South Carolina</td>\n",
       "      <td>6757</td>\n",
       "      <td>283.0</td>\n",
       "      <td>1593.0</td>\n",
       "      <td>4881.0</td>\n",
       "    </tr>\n",
       "    <tr>\n",
       "      <th>29</th>\n",
       "      <td>Nebraska</td>\n",
       "      <td>6083</td>\n",
       "      <td>79.0</td>\n",
       "      <td>5982.0</td>\n",
       "      <td>22.0</td>\n",
       "    </tr>\n",
       "    <tr>\n",
       "      <th>30</th>\n",
       "      <td>Nevada</td>\n",
       "      <td>5594</td>\n",
       "      <td>267.0</td>\n",
       "      <td>2422.0</td>\n",
       "      <td>2905.0</td>\n",
       "    </tr>\n",
       "    <tr>\n",
       "      <th>31</th>\n",
       "      <td>Kansas</td>\n",
       "      <td>5391</td>\n",
       "      <td>156.0</td>\n",
       "      <td>4254.0</td>\n",
       "      <td>981.0</td>\n",
       "    </tr>\n",
       "    <tr>\n",
       "      <th>32</th>\n",
       "      <td>Delaware</td>\n",
       "      <td>5371</td>\n",
       "      <td>187.0</td>\n",
       "      <td>3337.0</td>\n",
       "      <td>1847.0</td>\n",
       "    </tr>\n",
       "    <tr>\n",
       "      <th>33</th>\n",
       "      <td>District Of Columbia</td>\n",
       "      <td>5322</td>\n",
       "      <td>264.0</td>\n",
       "      <td>4391.0</td>\n",
       "      <td>667.0</td>\n",
       "    </tr>\n",
       "    <tr>\n",
       "      <th>34</th>\n",
       "      <td>Utah</td>\n",
       "      <td>5317</td>\n",
       "      <td>50.0</td>\n",
       "      <td>3082.0</td>\n",
       "      <td>2185.0</td>\n",
       "    </tr>\n",
       "    <tr>\n",
       "      <th>35</th>\n",
       "      <td>Kentucky</td>\n",
       "      <td>5245</td>\n",
       "      <td>261.0</td>\n",
       "      <td>3862.0</td>\n",
       "      <td>1122.0</td>\n",
       "    </tr>\n",
       "    <tr>\n",
       "      <th>36</th>\n",
       "      <td>Oklahoma</td>\n",
       "      <td>4127</td>\n",
       "      <td>247.0</td>\n",
       "      <td>1198.0</td>\n",
       "      <td>2682.0</td>\n",
       "    </tr>\n",
       "    <tr>\n",
       "      <th>37</th>\n",
       "      <td>New Mexico</td>\n",
       "      <td>4031</td>\n",
       "      <td>156.0</td>\n",
       "      <td>3115.0</td>\n",
       "      <td>760.0</td>\n",
       "    </tr>\n",
       "    <tr>\n",
       "      <th>38</th>\n",
       "      <td>Arkansas</td>\n",
       "      <td>3469</td>\n",
       "      <td>80.0</td>\n",
       "      <td>1348.0</td>\n",
       "      <td>2041.0</td>\n",
       "    </tr>\n",
       "    <tr>\n",
       "      <th>39</th>\n",
       "      <td>Oregon</td>\n",
       "      <td>2759</td>\n",
       "      <td>109.0</td>\n",
       "      <td>1790.0</td>\n",
       "      <td>860.0</td>\n",
       "    </tr>\n",
       "    <tr>\n",
       "      <th>40</th>\n",
       "      <td>South Dakota</td>\n",
       "      <td>2668</td>\n",
       "      <td>21.0</td>\n",
       "      <td>817.0</td>\n",
       "      <td>1830.0</td>\n",
       "    </tr>\n",
       "    <tr>\n",
       "      <th>41</th>\n",
       "      <td>New Hampshire</td>\n",
       "      <td>2588</td>\n",
       "      <td>86.0</td>\n",
       "      <td>1483.0</td>\n",
       "      <td>1019.0</td>\n",
       "    </tr>\n",
       "    <tr>\n",
       "      <th>42</th>\n",
       "      <td>Idaho</td>\n",
       "      <td>2106</td>\n",
       "      <td>64.0</td>\n",
       "      <td>684.0</td>\n",
       "      <td>1358.0</td>\n",
       "    </tr>\n",
       "    <tr>\n",
       "      <th>43</th>\n",
       "      <td>North Dakota</td>\n",
       "      <td>1266</td>\n",
       "      <td>25.0</td>\n",
       "      <td>682.0</td>\n",
       "      <td>559.0</td>\n",
       "    </tr>\n",
       "    <tr>\n",
       "      <th>44</th>\n",
       "      <td>West Virginia</td>\n",
       "      <td>1238</td>\n",
       "      <td>50.0</td>\n",
       "      <td>616.0</td>\n",
       "      <td>572.0</td>\n",
       "    </tr>\n",
       "    <tr>\n",
       "      <th>45</th>\n",
       "      <td>Maine</td>\n",
       "      <td>1226</td>\n",
       "      <td>61.0</td>\n",
       "      <td>424.0</td>\n",
       "      <td>741.0</td>\n",
       "    </tr>\n",
       "    <tr>\n",
       "      <th>46</th>\n",
       "      <td>Vermont</td>\n",
       "      <td>907</td>\n",
       "      <td>52.0</td>\n",
       "      <td>855.0</td>\n",
       "      <td>0.0</td>\n",
       "    </tr>\n",
       "    <tr>\n",
       "      <th>47</th>\n",
       "      <td>Hawaii</td>\n",
       "      <td>621</td>\n",
       "      <td>17.0</td>\n",
       "      <td>56.0</td>\n",
       "      <td>548.0</td>\n",
       "    </tr>\n",
       "    <tr>\n",
       "      <th>48</th>\n",
       "      <td>Wyoming</td>\n",
       "      <td>596</td>\n",
       "      <td>7.0</td>\n",
       "      <td>184.0</td>\n",
       "      <td>405.0</td>\n",
       "    </tr>\n",
       "    <tr>\n",
       "      <th>49</th>\n",
       "      <td>Montana</td>\n",
       "      <td>457</td>\n",
       "      <td>16.0</td>\n",
       "      <td>31.0</td>\n",
       "      <td>410.0</td>\n",
       "    </tr>\n",
       "    <tr>\n",
       "      <th>50</th>\n",
       "      <td>Alaska</td>\n",
       "      <td>370</td>\n",
       "      <td>9.0</td>\n",
       "      <td>98.0</td>\n",
       "      <td>263.0</td>\n",
       "    </tr>\n",
       "    <tr>\n",
       "      <th>51</th>\n",
       "      <td>Puerto Rico</td>\n",
       "      <td>1924</td>\n",
       "      <td>99.0</td>\n",
       "      <td>1450.0</td>\n",
       "      <td>375.0</td>\n",
       "    </tr>\n",
       "  </tbody>\n",
       "</table>\n",
       "</div>"
      ],
      "text/plain": [
       "                USAState  TotalCases  TotalDeaths  ActiveCases    Cured\n",
       "0               New York      327374      25174.0     248855.0  53345.0\n",
       "1             New Jersey      129345       7951.0     120123.0   1271.0\n",
       "2          Massachusetts       69087       4090.0      56879.0   8118.0\n",
       "3               Illinois       63840       2662.0      60533.0    645.0\n",
       "4             California       56306       2294.0      46448.0   7564.0\n",
       "5           Pennsylvania       52922       3012.0      48927.0    983.0\n",
       "6               Michigan       43950       4135.0      24156.0  15659.0\n",
       "7                Florida       37439       1471.0      35282.0    686.0\n",
       "8                  Texas       33188        920.0      15603.0  16665.0\n",
       "9            Connecticut       30173       2556.0      27552.0     65.0\n",
       "10             Louisiana       29673       2064.0      10306.0  17303.0\n",
       "11               Georgia       29560       1258.0      27962.0    340.0\n",
       "12              Maryland       27117       1390.0      24210.0   1517.0\n",
       "13               Indiana       21033       1326.0      19693.0     14.0\n",
       "14                  Ohio       20476       1058.0      18970.0    448.0\n",
       "15              Virginia       20256        713.0      17046.0   2497.0\n",
       "16              Colorado       16907        851.0      15497.0    559.0\n",
       "17            Washington       16136        846.0      12858.0   2432.0\n",
       "18             Tennessee       13571        219.0       7271.0   6081.0\n",
       "19        North Carolina       12377        460.0      10109.0   1808.0\n",
       "20                  Iowa       10111        207.0       6332.0   3572.0\n",
       "21          Rhode Island        9933        355.0       9236.0    342.0\n",
       "22               Arizona        9305        395.0       8840.0     70.0\n",
       "23              Missouri        8887        383.0       6517.0   1987.0\n",
       "24             Wisconsin        8236        340.0       3923.0   3973.0\n",
       "25               Alabama        8120        310.0       7790.0     20.0\n",
       "26           Mississippi        7877        310.0       4154.0   3413.0\n",
       "27             Minnesota        7851        455.0       2782.0   4614.0\n",
       "28        South Carolina        6757        283.0       1593.0   4881.0\n",
       "29              Nebraska        6083         79.0       5982.0     22.0\n",
       "30                Nevada        5594        267.0       2422.0   2905.0\n",
       "31                Kansas        5391        156.0       4254.0    981.0\n",
       "32              Delaware        5371        187.0       3337.0   1847.0\n",
       "33  District Of Columbia        5322        264.0       4391.0    667.0\n",
       "34                  Utah        5317         50.0       3082.0   2185.0\n",
       "35              Kentucky        5245        261.0       3862.0   1122.0\n",
       "36              Oklahoma        4127        247.0       1198.0   2682.0\n",
       "37            New Mexico        4031        156.0       3115.0    760.0\n",
       "38              Arkansas        3469         80.0       1348.0   2041.0\n",
       "39                Oregon        2759        109.0       1790.0    860.0\n",
       "40          South Dakota        2668         21.0        817.0   1830.0\n",
       "41         New Hampshire        2588         86.0       1483.0   1019.0\n",
       "42                 Idaho        2106         64.0        684.0   1358.0\n",
       "43          North Dakota        1266         25.0        682.0    559.0\n",
       "44         West Virginia        1238         50.0        616.0    572.0\n",
       "45                 Maine        1226         61.0        424.0    741.0\n",
       "46               Vermont         907         52.0        855.0      0.0\n",
       "47                Hawaii         621         17.0         56.0    548.0\n",
       "48               Wyoming         596          7.0        184.0    405.0\n",
       "49               Montana         457         16.0         31.0    410.0\n",
       "50                Alaska         370          9.0         98.0    263.0\n",
       "51           Puerto Rico        1924         99.0       1450.0    375.0"
      ]
     },
     "execution_count": 43,
     "metadata": {},
     "output_type": "execute_result"
    }
   ],
   "source": [
    "# Determine the number of Recovered Cases by Subtracting the deaths and \n",
    "# Active Cases from the total number of cases.\n",
    "\n",
    "df_us_4 = df_us_3.copy()\n",
    "df_us_4 = df_us_4[['USAState','TotalCases','TotalDeaths','ActiveCases']]\n",
    "df_us_4['Cured'] = df_us_4['TotalCases']-df_us_4['ActiveCases']-df_us_4['TotalDeaths']\n",
    "df_us_4 = df_us_4.drop([53,55,57,58,59,60,61,62,52,56], axis=0)\n",
    "df_us_4 = df_us_4.reset_index(drop=True)\n",
    "df_us_4"
   ]
  },
  {
   "cell_type": "code",
   "execution_count": 44,
   "metadata": {},
   "outputs": [
    {
     "data": {
      "image/png": "[encoded data removed]",
      "text/plain": [
       "<Figure size 1440x720 with 1 Axes>"
      ]
     },
     "metadata": {
      "needs_background": "light"
     },
     "output_type": "display_data"
    }
   ],
   "source": [
    "#Use Seaborn for visualization\n",
    "f, ax = plt.subplots(figsize=(20, 10))\n",
    "data = df_us_4[['USAState','TotalCases','Cured','TotalDeaths']]\n",
    "data.sort_values('TotalCases',ascending=False,inplace=True)\n",
    "sns.set_color_codes(\"pastel\")\n",
    "sns.barplot(x=\"TotalCases\", y=\"USAState\", data=data,label=\"Total\", color=\"r\")\n",
    "\n",
    "sns.set_color_codes(\"muted\")\n",
    "sns.barplot(x=\"Cured\", y=\"USAState\", data=data, label=\"Cured\", color=\"g\")\n",
    "\n",
    "\n",
    "# Add a legend and informative axis label\n",
    "ax.legend(ncol=2, loc=\"lower right\", frameon=True)\n",
    "ax.set(xlim=(0, 100000), ylabel=\"\",xlabel=\"Cases\")\n",
    "sns.despine(left=True, bottom=True)"
   ]
  },
  {
   "cell_type": "markdown",
   "metadata": {},
   "source": [
    "## 4.0 How Quickly are Coronavirus Cases Rising?\n",
    "\n",
    "#### Probably the most important question related to COVID.  This section uses Plotly to produce various visualizations that trend the rise of COVID statistics."
   ]
  },
  {
   "cell_type": "markdown",
   "metadata": {},
   "source": [
    "### 4.1 Cumulative Cases Data"
   ]
  },
  {
   "cell_type": "code",
   "execution_count": 45,
   "metadata": {},
   "outputs": [],
   "source": [
    "#Import Cumulative Cases By Date\n",
    "df2 = pd.read_csv(\"./Resources/us_county.csv\")"
   ]
  },
  {
   "cell_type": "code",
   "execution_count": 46,
   "metadata": {},
   "outputs": [
    {
     "data": {
      "text/html": [
       "<div>\n",
       "<style scoped>\n",
       "    .dataframe tbody tr th:only-of-type {\n",
       "        vertical-align: middle;\n",
       "    }\n",
       "\n",
       "    .dataframe tbody tr th {\n",
       "        vertical-align: top;\n",
       "    }\n",
       "\n",
       "    .dataframe thead th {\n",
       "        text-align: right;\n",
       "    }\n",
       "</style>\n",
       "<table border=\"1\" class=\"dataframe\">\n",
       "  <thead>\n",
       "    <tr style=\"text-align: right;\">\n",
       "      <th></th>\n",
       "      <th>date</th>\n",
       "      <th>county</th>\n",
       "      <th>state</th>\n",
       "      <th>fips</th>\n",
       "      <th>cases</th>\n",
       "      <th>deaths</th>\n",
       "    </tr>\n",
       "  </thead>\n",
       "  <tbody>\n",
       "    <tr>\n",
       "      <th>0</th>\n",
       "      <td>2020-01-21</td>\n",
       "      <td>Snohomish</td>\n",
       "      <td>Washington</td>\n",
       "      <td>53061.0</td>\n",
       "      <td>1</td>\n",
       "      <td>0</td>\n",
       "    </tr>\n",
       "    <tr>\n",
       "      <th>1</th>\n",
       "      <td>2020-01-22</td>\n",
       "      <td>Snohomish</td>\n",
       "      <td>Washington</td>\n",
       "      <td>53061.0</td>\n",
       "      <td>1</td>\n",
       "      <td>0</td>\n",
       "    </tr>\n",
       "    <tr>\n",
       "      <th>2</th>\n",
       "      <td>2020-01-23</td>\n",
       "      <td>Snohomish</td>\n",
       "      <td>Washington</td>\n",
       "      <td>53061.0</td>\n",
       "      <td>1</td>\n",
       "      <td>0</td>\n",
       "    </tr>\n",
       "    <tr>\n",
       "      <th>3</th>\n",
       "      <td>2020-01-24</td>\n",
       "      <td>Cook</td>\n",
       "      <td>Illinois</td>\n",
       "      <td>17031.0</td>\n",
       "      <td>1</td>\n",
       "      <td>0</td>\n",
       "    </tr>\n",
       "    <tr>\n",
       "      <th>4</th>\n",
       "      <td>2020-01-24</td>\n",
       "      <td>Snohomish</td>\n",
       "      <td>Washington</td>\n",
       "      <td>53061.0</td>\n",
       "      <td>1</td>\n",
       "      <td>0</td>\n",
       "    </tr>\n",
       "  </tbody>\n",
       "</table>\n",
       "</div>"
      ],
      "text/plain": [
       "         date     county       state     fips  cases  deaths\n",
       "0  2020-01-21  Snohomish  Washington  53061.0      1       0\n",
       "1  2020-01-22  Snohomish  Washington  53061.0      1       0\n",
       "2  2020-01-23  Snohomish  Washington  53061.0      1       0\n",
       "3  2020-01-24       Cook    Illinois  17031.0      1       0\n",
       "4  2020-01-24  Snohomish  Washington  53061.0      1       0"
      ]
     },
     "execution_count": 46,
     "metadata": {},
     "output_type": "execute_result"
    }
   ],
   "source": [
    "# Create copy\n",
    "us_county = df2.copy()\n",
    "us_county.head()"
   ]
  },
  {
   "cell_type": "code",
   "execution_count": 47,
   "metadata": {},
   "outputs": [],
   "source": [
    "#Groupby dates, sum the number of deaths and cases.\n",
    "us_county_dates = us_county.groupby('date')['cases','deaths'].sum()\n",
    "us_county_dates = us_county_dates.reset_index()\n"
   ]
  },
  {
   "cell_type": "markdown",
   "metadata": {},
   "source": [
    "### 4.2 New Cases Data"
   ]
  },
  {
   "cell_type": "code",
   "execution_count": 54,
   "metadata": {},
   "outputs": [],
   "source": [
    "#Import New Cases by Date\n",
    "us_newcases = pd.read_csv('./Resources/US_newcases.csv')\n",
    "us_newcases = us_newcases.drop(['Unnamed: 0','cases','deaths'], axis=1)"
   ]
  },
  {
   "cell_type": "code",
   "execution_count": 55,
   "metadata": {},
   "outputs": [
    {
     "data": {
      "text/html": [
       "<div>\n",
       "<style scoped>\n",
       "    .dataframe tbody tr th:only-of-type {\n",
       "        vertical-align: middle;\n",
       "    }\n",
       "\n",
       "    .dataframe tbody tr th {\n",
       "        vertical-align: top;\n",
       "    }\n",
       "\n",
       "    .dataframe thead th {\n",
       "        text-align: right;\n",
       "    }\n",
       "</style>\n",
       "<table border=\"1\" class=\"dataframe\">\n",
       "  <thead>\n",
       "    <tr style=\"text-align: right;\">\n",
       "      <th></th>\n",
       "      <th>date</th>\n",
       "      <th>NewCases</th>\n",
       "    </tr>\n",
       "  </thead>\n",
       "  <tbody>\n",
       "    <tr>\n",
       "      <th>0</th>\n",
       "      <td>1/21/2020</td>\n",
       "      <td>1</td>\n",
       "    </tr>\n",
       "    <tr>\n",
       "      <th>1</th>\n",
       "      <td>1/22/2020</td>\n",
       "      <td>0</td>\n",
       "    </tr>\n",
       "    <tr>\n",
       "      <th>2</th>\n",
       "      <td>1/23/2020</td>\n",
       "      <td>0</td>\n",
       "    </tr>\n",
       "    <tr>\n",
       "      <th>3</th>\n",
       "      <td>1/24/2020</td>\n",
       "      <td>1</td>\n",
       "    </tr>\n",
       "    <tr>\n",
       "      <th>4</th>\n",
       "      <td>1/25/2020</td>\n",
       "      <td>1</td>\n",
       "    </tr>\n",
       "    <tr>\n",
       "      <th>...</th>\n",
       "      <td>...</td>\n",
       "      <td>...</td>\n",
       "    </tr>\n",
       "    <tr>\n",
       "      <th>99</th>\n",
       "      <td>4/29/2020</td>\n",
       "      <td>26401</td>\n",
       "    </tr>\n",
       "    <tr>\n",
       "      <th>100</th>\n",
       "      <td>4/30/2020</td>\n",
       "      <td>30393</td>\n",
       "    </tr>\n",
       "    <tr>\n",
       "      <th>101</th>\n",
       "      <td>5/1/2020</td>\n",
       "      <td>33984</td>\n",
       "    </tr>\n",
       "    <tr>\n",
       "      <th>102</th>\n",
       "      <td>5/2/2020</td>\n",
       "      <td>29598</td>\n",
       "    </tr>\n",
       "    <tr>\n",
       "      <th>103</th>\n",
       "      <td>5/3/2020</td>\n",
       "      <td>25513</td>\n",
       "    </tr>\n",
       "  </tbody>\n",
       "</table>\n",
       "<p>104 rows × 2 columns</p>\n",
       "</div>"
      ],
      "text/plain": [
       "          date  NewCases\n",
       "0    1/21/2020         1\n",
       "1    1/22/2020         0\n",
       "2    1/23/2020         0\n",
       "3    1/24/2020         1\n",
       "4    1/25/2020         1\n",
       "..         ...       ...\n",
       "99   4/29/2020     26401\n",
       "100  4/30/2020     30393\n",
       "101   5/1/2020     33984\n",
       "102   5/2/2020     29598\n",
       "103   5/3/2020     25513\n",
       "\n",
       "[104 rows x 2 columns]"
      ]
     },
     "execution_count": 55,
     "metadata": {},
     "output_type": "execute_result"
    }
   ],
   "source": [
    "us_newcases"
   ]
  },
  {
   "cell_type": "markdown",
   "metadata": {},
   "source": [
    "### 4.3 Single Parameter Visualizations"
   ]
  },
  {
   "cell_type": "code",
   "execution_count": 56,
   "metadata": {},
   "outputs": [
    {
     "data": {
      "application/vnd.plotly.v1+json": {
       "config": {
        "plotlyServerURL": "https://plot.ly"
       },
       "data": [
        {
         "mode": "lines+markers",
         "name": "Total Cases",
         "type": "scatter",
         "x": [
          "2020-01-21",
          "2020-01-22",
          "2020-01-23",
          "2020-01-24",
          "2020-01-25",
          "2020-01-26",
          "2020-01-27",
          "2020-01-28",
          "2020-01-29",
          "2020-01-30",
          "2020-01-31",
          "2020-02-01",
          "2020-02-02",
          "2020-02-03",
          "2020-02-04",
          "2020-02-05",
          "2020-02-06",
          "2020-02-07",
          "2020-02-08",
          "2020-02-09",
          "2020-02-10",
          "2020-02-11",
          "2020-02-12",
          "2020-02-13",
          "2020-02-14",
          "2020-02-15",
          "2020-02-16",
          "2020-02-17",
          "2020-02-18",
          "2020-02-19",
          "2020-02-20",
          "2020-02-21",
          "2020-02-22",
          "2020-02-23",
          "2020-02-24",
          "2020-02-25",
          "2020-02-26",
          "2020-02-27",
          "2020-02-28",
          "2020-02-29",
          "2020-03-01",
          "2020-03-02",
          "2020-03-03",
          "2020-03-04",
          "2020-03-05",
          "2020-03-06",
          "2020-03-07",
          "2020-03-08",
          "2020-03-09",
          "2020-03-10",
          "2020-03-11",
          "2020-03-12",
          "2020-03-13",
          "2020-03-14",
          "2020-03-15",
          "2020-03-16",
          "2020-03-17",
          "2020-03-18",
          "2020-03-19",
          "2020-03-20",
          "2020-03-21",
          "2020-03-22",
          "2020-03-23",
          "2020-03-24",
          "2020-03-25",
          "2020-03-26",
          "2020-03-27",
          "2020-03-28",
          "2020-03-29",
          "2020-03-30",
          "2020-03-31",
          "2020-04-01",
          "2020-04-02",
          "2020-04-03",
          "2020-04-04",
          "2020-04-05",
          "2020-04-06",
          "2020-04-07",
          "2020-04-08",
          "2020-04-09",
          "2020-04-10",
          "2020-04-11",
          "2020-04-12",
          "2020-04-13",
          "2020-04-14",
          "2020-04-15",
          "2020-04-16",
          "2020-04-17",
          "2020-04-18",
          "2020-04-19",
          "2020-04-20",
          "2020-04-21",
          "2020-04-22",
          "2020-04-23",
          "2020-04-24",
          "2020-04-25",
          "2020-04-26",
          "2020-04-27",
          "2020-04-28",
          "2020-04-29",
          "2020-04-30",
          "2020-05-01",
          "2020-05-02",
          "2020-05-03"
         ],
         "y": [
          1,
          1,
          1,
          2,
          3,
          5,
          5,
          5,
          5,
          6,
          7,
          8,
          11,
          11,
          11,
          12,
          12,
          12,
          12,
          12,
          13,
          13,
          14,
          15,
          15,
          15,
          15,
          25,
          25,
          25,
          27,
          30,
          30,
          30,
          43,
          45,
          60,
          60,
          65,
          70,
          88,
          104,
          125,
          161,
          228,
          311,
          428,
          547,
          748,
          1018,
          1263,
          1668,
          2224,
          2898,
          3600,
          4507,
          5905,
          8345,
          12384,
          17999,
          24511,
          33050,
          43476,
          54139,
          68739,
          85578,
          102905,
          123802,
          142183,
          163602,
          187961,
          215013,
          244007,
          276201,
          310840,
          336405,
          369756,
          397746,
          429280,
          463689,
          496906,
          528414,
          555330,
          580900,
          607291,
          636879,
          668614,
          699863,
          728099,
          753319,
          780443,
          805773,
          833492,
          867276,
          904606,
          938758,
          965217,
          988149,
          1012767,
          1039168,
          1069561,
          1103545,
          1133143,
          1158656
         ]
        }
       ],
       "layout": {
        "plot_bgcolor": "rgb(230, 230, 230)",
        "template": {
         "data": {
          "bar": [
           {
            "error_x": {
             "color": "#2a3f5f"
            },
            "error_y": {
             "color": "#2a3f5f"
            },
            "marker": {
             "line": {
              "color": "#E5ECF6",
              "width": 0.5
             }
            },
            "type": "bar"
           }
          ],
          "barpolar": [
           {
            "marker": {
             "line": {
              "color": "#E5ECF6",
              "width": 0.5
             }
            },
            "type": "barpolar"
           }
          ],
          "carpet": [
           {
            "aaxis": {
             "endlinecolor": "#2a3f5f",
             "gridcolor": "white",
             "linecolor": "white",
             "minorgridcolor": "white",
             "startlinecolor": "#2a3f5f"
            },
            "baxis": {
             "endlinecolor": "#2a3f5f",
             "gridcolor": "white",
             "linecolor": "white",
             "minorgridcolor": "white",
             "startlinecolor": "#2a3f5f"
            },
            "type": "carpet"
           }
          ],
          "choropleth": [
           {
            "colorbar": {
             "outlinewidth": 0,
             "ticks": ""
            },
            "type": "choropleth"
           }
          ],
          "contour": [
           {
            "colorbar": {
             "outlinewidth": 0,
             "ticks": ""
            },
            "colorscale": [
             [
              0,
              "#0d0887"
             ],
             [
              0.1111111111111111,
              "#46039f"
             ],
             [
              0.2222222222222222,
              "#7201a8"
             ],
             [
              0.3333333333333333,
              "#9c179e"
             ],
             [
              0.4444444444444444,
              "#bd3786"
             ],
             [
              0.5555555555555556,
              "#d8576b"
             ],
             [
              0.6666666666666666,
              "#ed7953"
             ],
             [
              0.7777777777777778,
              "#fb9f3a"
             ],
             [
              0.8888888888888888,
              "#fdca26"
             ],
             [
              1,
              "#f0f921"
             ]
            ],
            "type": "contour"
           }
          ],
          "contourcarpet": [
           {
            "colorbar": {
             "outlinewidth": 0,
             "ticks": ""
            },
            "type": "contourcarpet"
           }
          ],
          "heatmap": [
           {
            "colorbar": {
             "outlinewidth": 0,
             "ticks": ""
            },
            "colorscale": [
             [
              0,
              "#0d0887"
             ],
             [
              0.1111111111111111,
              "#46039f"
             ],
             [
              0.2222222222222222,
              "#7201a8"
             ],
             [
              0.3333333333333333,
              "#9c179e"
             ],
             [
              0.4444444444444444,
              "#bd3786"
             ],
             [
              0.5555555555555556,
              "#d8576b"
             ],
             [
              0.6666666666666666,
              "#ed7953"
             ],
             [
              0.7777777777777778,
              "#fb9f3a"
             ],
             [
              0.8888888888888888,
              "#fdca26"
             ],
             [
              1,
              "#f0f921"
             ]
            ],
            "type": "heatmap"
           }
          ],
          "heatmapgl": [
           {
            "colorbar": {
             "outlinewidth": 0,
             "ticks": ""
            },
            "colorscale": [
             [
              0,
              "#0d0887"
             ],
             [
              0.1111111111111111,
              "#46039f"
             ],
             [
              0.2222222222222222,
              "#7201a8"
             ],
             [
              0.3333333333333333,
              "#9c179e"
             ],
             [
              0.4444444444444444,
              "#bd3786"
             ],
             [
              0.5555555555555556,
              "#d8576b"
             ],
             [
              0.6666666666666666,
              "#ed7953"
             ],
             [
              0.7777777777777778,
              "#fb9f3a"
             ],
             [
              0.8888888888888888,
              "#fdca26"
             ],
             [
              1,
              "#f0f921"
             ]
            ],
            "type": "heatmapgl"
           }
          ],
          "histogram": [
           {
            "marker": {
             "colorbar": {
              "outlinewidth": 0,
              "ticks": ""
             }
            },
            "type": "histogram"
           }
          ],
          "histogram2d": [
           {
            "colorbar": {
             "outlinewidth": 0,
             "ticks": ""
            },
            "colorscale": [
             [
              0,
              "#0d0887"
             ],
             [
              0.1111111111111111,
              "#46039f"
             ],
             [
              0.2222222222222222,
              "#7201a8"
             ],
             [
              0.3333333333333333,
              "#9c179e"
             ],
             [
              0.4444444444444444,
              "#bd3786"
             ],
             [
              0.5555555555555556,
              "#d8576b"
             ],
             [
              0.6666666666666666,
              "#ed7953"
             ],
             [
              0.7777777777777778,
              "#fb9f3a"
             ],
             [
              0.8888888888888888,
              "#fdca26"
             ],
             [
              1,
              "#f0f921"
             ]
            ],
            "type": "histogram2d"
           }
          ],
          "histogram2dcontour": [
           {
            "colorbar": {
             "outlinewidth": 0,
             "ticks": ""
            },
            "colorscale": [
             [
              0,
              "#0d0887"
             ],
             [
              0.1111111111111111,
              "#46039f"
             ],
             [
              0.2222222222222222,
              "#7201a8"
             ],
             [
              0.3333333333333333,
              "#9c179e"
             ],
             [
              0.4444444444444444,
              "#bd3786"
             ],
             [
              0.5555555555555556,
              "#d8576b"
             ],
             [
              0.6666666666666666,
              "#ed7953"
             ],
             [
              0.7777777777777778,
              "#fb9f3a"
             ],
             [
              0.8888888888888888,
              "#fdca26"
             ],
             [
              1,
              "#f0f921"
             ]
            ],
            "type": "histogram2dcontour"
           }
          ],
          "mesh3d": [
           {
            "colorbar": {
             "outlinewidth": 0,
             "ticks": ""
            },
            "type": "mesh3d"
           }
          ],
          "parcoords": [
           {
            "line": {
             "colorbar": {
              "outlinewidth": 0,
              "ticks": ""
             }
            },
            "type": "parcoords"
           }
          ],
          "pie": [
           {
            "automargin": true,
            "type": "pie"
           }
          ],
          "scatter": [
           {
            "marker": {
             "colorbar": {
              "outlinewidth": 0,
              "ticks": ""
             }
            },
            "type": "scatter"
           }
          ],
          "scatter3d": [
           {
            "line": {
             "colorbar": {
              "outlinewidth": 0,
              "ticks": ""
             }
            },
            "marker": {
             "colorbar": {
              "outlinewidth": 0,
              "ticks": ""
             }
            },
            "type": "scatter3d"
           }
          ],
          "scattercarpet": [
           {
            "marker": {
             "colorbar": {
              "outlinewidth": 0,
              "ticks": ""
             }
            },
            "type": "scattercarpet"
           }
          ],
          "scattergeo": [
           {
            "marker": {
             "colorbar": {
              "outlinewidth": 0,
              "ticks": ""
             }
            },
            "type": "scattergeo"
           }
          ],
          "scattergl": [
           {
            "marker": {
             "colorbar": {
              "outlinewidth": 0,
              "ticks": ""
             }
            },
            "type": "scattergl"
           }
          ],
          "scattermapbox": [
           {
            "marker": {
             "colorbar": {
              "outlinewidth": 0,
              "ticks": ""
             }
            },
            "type": "scattermapbox"
           }
          ],
          "scatterpolar": [
           {
            "marker": {
             "colorbar": {
              "outlinewidth": 0,
              "ticks": ""
             }
            },
            "type": "scatterpolar"
           }
          ],
          "scatterpolargl": [
           {
            "marker": {
             "colorbar": {
              "outlinewidth": 0,
              "ticks": ""
             }
            },
            "type": "scatterpolargl"
           }
          ],
          "scatterternary": [
           {
            "marker": {
             "colorbar": {
              "outlinewidth": 0,
              "ticks": ""
             }
            },
            "type": "scatterternary"
           }
          ],
          "surface": [
           {
            "colorbar": {
             "outlinewidth": 0,
             "ticks": ""
            },
            "colorscale": [
             [
              0,
              "#0d0887"
             ],
             [
              0.1111111111111111,
              "#46039f"
             ],
             [
              0.2222222222222222,
              "#7201a8"
             ],
             [
              0.3333333333333333,
              "#9c179e"
             ],
             [
              0.4444444444444444,
              "#bd3786"
             ],
             [
              0.5555555555555556,
              "#d8576b"
             ],
             [
              0.6666666666666666,
              "#ed7953"
             ],
             [
              0.7777777777777778,
              "#fb9f3a"
             ],
             [
              0.8888888888888888,
              "#fdca26"
             ],
             [
              1,
              "#f0f921"
             ]
            ],
            "type": "surface"
           }
          ],
          "table": [
           {
            "cells": {
             "fill": {
              "color": "#EBF0F8"
             },
             "line": {
              "color": "white"
             }
            },
            "header": {
             "fill": {
              "color": "#C8D4E3"
             },
             "line": {
              "color": "white"
             }
            },
            "type": "table"
           }
          ]
         },
         "layout": {
          "annotationdefaults": {
           "arrowcolor": "#2a3f5f",
           "arrowhead": 0,
           "arrowwidth": 1
          },
          "coloraxis": {
           "colorbar": {
            "outlinewidth": 0,
            "ticks": ""
           }
          },
          "colorscale": {
           "diverging": [
            [
             0,
             "#8e0152"
            ],
            [
             0.1,
             "#c51b7d"
            ],
            [
             0.2,
             "#de77ae"
            ],
            [
             0.3,
             "#f1b6da"
            ],
            [
             0.4,
             "#fde0ef"
            ],
            [
             0.5,
             "#f7f7f7"
            ],
            [
             0.6,
             "#e6f5d0"
            ],
            [
             0.7,
             "#b8e186"
            ],
            [
             0.8,
             "#7fbc41"
            ],
            [
             0.9,
             "#4d9221"
            ],
            [
             1,
             "#276419"
            ]
           ],
           "sequential": [
            [
             0,
             "#0d0887"
            ],
            [
             0.1111111111111111,
             "#46039f"
            ],
            [
             0.2222222222222222,
             "#7201a8"
            ],
            [
             0.3333333333333333,
             "#9c179e"
            ],
            [
             0.4444444444444444,
             "#bd3786"
            ],
            [
             0.5555555555555556,
             "#d8576b"
            ],
            [
             0.6666666666666666,
             "#ed7953"
            ],
            [
             0.7777777777777778,
             "#fb9f3a"
            ],
            [
             0.8888888888888888,
             "#fdca26"
            ],
            [
             1,
             "#f0f921"
            ]
           ],
           "sequentialminus": [
            [
             0,
             "#0d0887"
            ],
            [
             0.1111111111111111,
             "#46039f"
            ],
            [
             0.2222222222222222,
             "#7201a8"
            ],
            [
             0.3333333333333333,
             "#9c179e"
            ],
            [
             0.4444444444444444,
             "#bd3786"
            ],
            [
             0.5555555555555556,
             "#d8576b"
            ],
            [
             0.6666666666666666,
             "#ed7953"
            ],
            [
             0.7777777777777778,
             "#fb9f3a"
            ],
            [
             0.8888888888888888,
             "#fdca26"
            ],
            [
             1,
             "#f0f921"
            ]
           ]
          },
          "colorway": [
           "#636efa",
           "#EF553B",
           "#00cc96",
           "#ab63fa",
           "#FFA15A",
           "#19d3f3",
           "#FF6692",
           "#B6E880",
           "#FF97FF",
           "#FECB52"
          ],
          "font": {
           "color": "#2a3f5f"
          },
          "geo": {
           "bgcolor": "white",
           "lakecolor": "white",
           "landcolor": "#E5ECF6",
           "showlakes": true,
           "showland": true,
           "subunitcolor": "white"
          },
          "hoverlabel": {
           "align": "left"
          },
          "hovermode": "closest",
          "mapbox": {
           "style": "light"
          },
          "paper_bgcolor": "white",
          "plot_bgcolor": "#E5ECF6",
          "polar": {
           "angularaxis": {
            "gridcolor": "white",
            "linecolor": "white",
            "ticks": ""
           },
           "bgcolor": "#E5ECF6",
           "radialaxis": {
            "gridcolor": "white",
            "linecolor": "white",
            "ticks": ""
           }
          },
          "scene": {
           "xaxis": {
            "backgroundcolor": "#E5ECF6",
            "gridcolor": "white",
            "gridwidth": 2,
            "linecolor": "white",
            "showbackground": true,
            "ticks": "",
            "zerolinecolor": "white"
           },
           "yaxis": {
            "backgroundcolor": "#E5ECF6",
            "gridcolor": "white",
            "gridwidth": 2,
            "linecolor": "white",
            "showbackground": true,
            "ticks": "",
            "zerolinecolor": "white"
           },
           "zaxis": {
            "backgroundcolor": "#E5ECF6",
            "gridcolor": "white",
            "gridwidth": 2,
            "linecolor": "white",
            "showbackground": true,
            "ticks": "",
            "zerolinecolor": "white"
           }
          },
          "shapedefaults": {
           "line": {
            "color": "#2a3f5f"
           }
          },
          "ternary": {
           "aaxis": {
            "gridcolor": "white",
            "linecolor": "white",
            "ticks": ""
           },
           "baxis": {
            "gridcolor": "white",
            "linecolor": "white",
            "ticks": ""
           },
           "bgcolor": "#E5ECF6",
           "caxis": {
            "gridcolor": "white",
            "linecolor": "white",
            "ticks": ""
           }
          },
          "title": {
           "x": 0.05
          },
          "xaxis": {
           "automargin": true,
           "gridcolor": "white",
           "linecolor": "white",
           "ticks": "",
           "title": {
            "standoff": 15
           },
           "zerolinecolor": "white",
           "zerolinewidth": 2
          },
          "yaxis": {
           "automargin": true,
           "gridcolor": "white",
           "linecolor": "white",
           "ticks": "",
           "title": {
            "standoff": 15
           },
           "zerolinecolor": "white",
           "zerolinewidth": 2
          }
         }
        },
        "title": {
         "text": "Trend of Coronavirus Cases in United States (Cumulative cases)"
        }
       }
      },
      "text/html": [
       "<div>\n",
       "        \n",
       "        \n",
       "            <div id=\"d691844c-855e-41b2-89ff-dc70f931ab93\" class=\"plotly-graph-div\" style=\"height:525px; width:100%;\"></div>\n",
       "            <script type=\"text/javascript\">\n",
       "                require([\"plotly\"], function(Plotly) {\n",
       "                    window.PLOTLYENV=window.PLOTLYENV || {};\n",
       "                    \n",
       "                if (document.getElementById(\"d691844c-855e-41b2-89ff-dc70f931ab93\")) {\n",
       "                    Plotly.newPlot(\n",
       "                        'd691844c-855e-41b2-89ff-dc70f931ab93',\n",
       "                        [{\"mode\": \"lines+markers\", \"name\": \"Total Cases\", \"type\": \"scatter\", \"x\": [\"2020-01-21\", \"2020-01-22\", \"2020-01-23\", \"2020-01-24\", \"2020-01-25\", \"2020-01-26\", \"2020-01-27\", \"2020-01-28\", \"2020-01-29\", \"2020-01-30\", \"2020-01-31\", \"2020-02-01\", \"2020-02-02\", \"2020-02-03\", \"2020-02-04\", \"2020-02-05\", \"2020-02-06\", \"2020-02-07\", \"2020-02-08\", \"2020-02-09\", \"2020-02-10\", \"2020-02-11\", \"2020-02-12\", \"2020-02-13\", \"2020-02-14\", \"2020-02-15\", \"2020-02-16\", \"2020-02-17\", \"2020-02-18\", \"2020-02-19\", \"2020-02-20\", \"2020-02-21\", \"2020-02-22\", \"2020-02-23\", \"2020-02-24\", \"2020-02-25\", \"2020-02-26\", \"2020-02-27\", \"2020-02-28\", \"2020-02-29\", \"2020-03-01\", \"2020-03-02\", \"2020-03-03\", \"2020-03-04\", \"2020-03-05\", \"2020-03-06\", \"2020-03-07\", \"2020-03-08\", \"2020-03-09\", \"2020-03-10\", \"2020-03-11\", \"2020-03-12\", \"2020-03-13\", \"2020-03-14\", \"2020-03-15\", \"2020-03-16\", \"2020-03-17\", \"2020-03-18\", \"2020-03-19\", \"2020-03-20\", \"2020-03-21\", \"2020-03-22\", \"2020-03-23\", \"2020-03-24\", \"2020-03-25\", \"2020-03-26\", \"2020-03-27\", \"2020-03-28\", \"2020-03-29\", \"2020-03-30\", \"2020-03-31\", \"2020-04-01\", \"2020-04-02\", \"2020-04-03\", \"2020-04-04\", \"2020-04-05\", \"2020-04-06\", \"2020-04-07\", \"2020-04-08\", \"2020-04-09\", \"2020-04-10\", \"2020-04-11\", \"2020-04-12\", \"2020-04-13\", \"2020-04-14\", \"2020-04-15\", \"2020-04-16\", \"2020-04-17\", \"2020-04-18\", \"2020-04-19\", \"2020-04-20\", \"2020-04-21\", \"2020-04-22\", \"2020-04-23\", \"2020-04-24\", \"2020-04-25\", \"2020-04-26\", \"2020-04-27\", \"2020-04-28\", \"2020-04-29\", \"2020-04-30\", \"2020-05-01\", \"2020-05-02\", \"2020-05-03\"], \"y\": [1, 1, 1, 2, 3, 5, 5, 5, 5, 6, 7, 8, 11, 11, 11, 12, 12, 12, 12, 12, 13, 13, 14, 15, 15, 15, 15, 25, 25, 25, 27, 30, 30, 30, 43, 45, 60, 60, 65, 70, 88, 104, 125, 161, 228, 311, 428, 547, 748, 1018, 1263, 1668, 2224, 2898, 3600, 4507, 5905, 8345, 12384, 17999, 24511, 33050, 43476, 54139, 68739, 85578, 102905, 123802, 142183, 163602, 187961, 215013, 244007, 276201, 310840, 336405, 369756, 397746, 429280, 463689, 496906, 528414, 555330, 580900, 607291, 636879, 668614, 699863, 728099, 753319, 780443, 805773, 833492, 867276, 904606, 938758, 965217, 988149, 1012767, 1039168, 1069561, 1103545, 1133143, 1158656]}],\n",
       "                        {\"plot_bgcolor\": \"rgb(230, 230, 230)\", \"template\": {\"data\": {\"bar\": [{\"error_x\": {\"color\": \"#2a3f5f\"}, \"error_y\": {\"color\": \"#2a3f5f\"}, \"marker\": {\"line\": {\"color\": \"#E5ECF6\", \"width\": 0.5}}, \"type\": \"bar\"}], \"barpolar\": [{\"marker\": {\"line\": {\"color\": \"#E5ECF6\", \"width\": 0.5}}, \"type\": \"barpolar\"}], \"carpet\": [{\"aaxis\": {\"endlinecolor\": \"#2a3f5f\", \"gridcolor\": \"white\", \"linecolor\": \"white\", \"minorgridcolor\": \"white\", \"startlinecolor\": \"#2a3f5f\"}, \"baxis\": {\"endlinecolor\": \"#2a3f5f\", \"gridcolor\": \"white\", \"linecolor\": \"white\", \"minorgridcolor\": \"white\", \"startlinecolor\": \"#2a3f5f\"}, \"type\": \"carpet\"}], \"choropleth\": [{\"colorbar\": {\"outlinewidth\": 0, \"ticks\": \"\"}, \"type\": \"choropleth\"}], \"contour\": [{\"colorbar\": {\"outlinewidth\": 0, \"ticks\": \"\"}, \"colorscale\": [[0.0, \"#0d0887\"], [0.1111111111111111, \"#46039f\"], [0.2222222222222222, \"#7201a8\"], [0.3333333333333333, \"#9c179e\"], [0.4444444444444444, \"#bd3786\"], [0.5555555555555556, \"#d8576b\"], [0.6666666666666666, \"#ed7953\"], [0.7777777777777778, \"#fb9f3a\"], [0.8888888888888888, \"#fdca26\"], [1.0, \"#f0f921\"]], \"type\": \"contour\"}], \"contourcarpet\": [{\"colorbar\": {\"outlinewidth\": 0, \"ticks\": \"\"}, \"type\": \"contourcarpet\"}], \"heatmap\": [{\"colorbar\": {\"outlinewidth\": 0, \"ticks\": \"\"}, \"colorscale\": [[0.0, \"#0d0887\"], [0.1111111111111111, \"#46039f\"], [0.2222222222222222, \"#7201a8\"], [0.3333333333333333, \"#9c179e\"], [0.4444444444444444, \"#bd3786\"], [0.5555555555555556, \"#d8576b\"], [0.6666666666666666, \"#ed7953\"], [0.7777777777777778, \"#fb9f3a\"], [0.8888888888888888, \"#fdca26\"], [1.0, \"#f0f921\"]], \"type\": \"heatmap\"}], \"heatmapgl\": [{\"colorbar\": {\"outlinewidth\": 0, \"ticks\": \"\"}, \"colorscale\": [[0.0, \"#0d0887\"], [0.1111111111111111, \"#46039f\"], [0.2222222222222222, \"#7201a8\"], [0.3333333333333333, \"#9c179e\"], [0.4444444444444444, \"#bd3786\"], [0.5555555555555556, \"#d8576b\"], [0.6666666666666666, \"#ed7953\"], [0.7777777777777778, \"#fb9f3a\"], [0.8888888888888888, \"#fdca26\"], [1.0, \"#f0f921\"]], \"type\": \"heatmapgl\"}], \"histogram\": [{\"marker\": {\"colorbar\": {\"outlinewidth\": 0, \"ticks\": \"\"}}, \"type\": \"histogram\"}], \"histogram2d\": [{\"colorbar\": {\"outlinewidth\": 0, \"ticks\": \"\"}, \"colorscale\": [[0.0, \"#0d0887\"], [0.1111111111111111, \"#46039f\"], [0.2222222222222222, \"#7201a8\"], [0.3333333333333333, \"#9c179e\"], [0.4444444444444444, \"#bd3786\"], [0.5555555555555556, \"#d8576b\"], [0.6666666666666666, \"#ed7953\"], [0.7777777777777778, \"#fb9f3a\"], [0.8888888888888888, \"#fdca26\"], [1.0, \"#f0f921\"]], \"type\": \"histogram2d\"}], \"histogram2dcontour\": [{\"colorbar\": {\"outlinewidth\": 0, \"ticks\": \"\"}, \"colorscale\": [[0.0, \"#0d0887\"], [0.1111111111111111, \"#46039f\"], [0.2222222222222222, \"#7201a8\"], [0.3333333333333333, \"#9c179e\"], [0.4444444444444444, \"#bd3786\"], [0.5555555555555556, \"#d8576b\"], [0.6666666666666666, \"#ed7953\"], [0.7777777777777778, \"#fb9f3a\"], [0.8888888888888888, \"#fdca26\"], [1.0, \"#f0f921\"]], \"type\": \"histogram2dcontour\"}], \"mesh3d\": [{\"colorbar\": {\"outlinewidth\": 0, \"ticks\": \"\"}, \"type\": \"mesh3d\"}], \"parcoords\": [{\"line\": {\"colorbar\": {\"outlinewidth\": 0, \"ticks\": \"\"}}, \"type\": \"parcoords\"}], \"pie\": [{\"automargin\": true, \"type\": \"pie\"}], \"scatter\": [{\"marker\": {\"colorbar\": {\"outlinewidth\": 0, \"ticks\": \"\"}}, \"type\": \"scatter\"}], \"scatter3d\": [{\"line\": {\"colorbar\": {\"outlinewidth\": 0, \"ticks\": \"\"}}, \"marker\": {\"colorbar\": {\"outlinewidth\": 0, \"ticks\": \"\"}}, \"type\": \"scatter3d\"}], \"scattercarpet\": [{\"marker\": {\"colorbar\": {\"outlinewidth\": 0, \"ticks\": \"\"}}, \"type\": \"scattercarpet\"}], \"scattergeo\": [{\"marker\": {\"colorbar\": {\"outlinewidth\": 0, \"ticks\": \"\"}}, \"type\": \"scattergeo\"}], \"scattergl\": [{\"marker\": {\"colorbar\": {\"outlinewidth\": 0, \"ticks\": \"\"}}, \"type\": \"scattergl\"}], \"scattermapbox\": [{\"marker\": {\"colorbar\": {\"outlinewidth\": 0, \"ticks\": \"\"}}, \"type\": \"scattermapbox\"}], \"scatterpolar\": [{\"marker\": {\"colorbar\": {\"outlinewidth\": 0, \"ticks\": \"\"}}, \"type\": \"scatterpolar\"}], \"scatterpolargl\": [{\"marker\": {\"colorbar\": {\"outlinewidth\": 0, \"ticks\": \"\"}}, \"type\": \"scatterpolargl\"}], \"scatterternary\": [{\"marker\": {\"colorbar\": {\"outlinewidth\": 0, \"ticks\": \"\"}}, \"type\": \"scatterternary\"}], \"surface\": [{\"colorbar\": {\"outlinewidth\": 0, \"ticks\": \"\"}, \"colorscale\": [[0.0, \"#0d0887\"], [0.1111111111111111, \"#46039f\"], [0.2222222222222222, \"#7201a8\"], [0.3333333333333333, \"#9c179e\"], [0.4444444444444444, \"#bd3786\"], [0.5555555555555556, \"#d8576b\"], [0.6666666666666666, \"#ed7953\"], [0.7777777777777778, \"#fb9f3a\"], [0.8888888888888888, \"#fdca26\"], [1.0, \"#f0f921\"]], \"type\": \"surface\"}], \"table\": [{\"cells\": {\"fill\": {\"color\": \"#EBF0F8\"}, \"line\": {\"color\": \"white\"}}, \"header\": {\"fill\": {\"color\": \"#C8D4E3\"}, \"line\": {\"color\": \"white\"}}, \"type\": \"table\"}]}, \"layout\": {\"annotationdefaults\": {\"arrowcolor\": \"#2a3f5f\", \"arrowhead\": 0, \"arrowwidth\": 1}, \"coloraxis\": {\"colorbar\": {\"outlinewidth\": 0, \"ticks\": \"\"}}, \"colorscale\": {\"diverging\": [[0, \"#8e0152\"], [0.1, \"#c51b7d\"], [0.2, \"#de77ae\"], [0.3, \"#f1b6da\"], [0.4, \"#fde0ef\"], [0.5, \"#f7f7f7\"], [0.6, \"#e6f5d0\"], [0.7, \"#b8e186\"], [0.8, \"#7fbc41\"], [0.9, \"#4d9221\"], [1, \"#276419\"]], \"sequential\": [[0.0, \"#0d0887\"], [0.1111111111111111, \"#46039f\"], [0.2222222222222222, \"#7201a8\"], [0.3333333333333333, \"#9c179e\"], [0.4444444444444444, \"#bd3786\"], [0.5555555555555556, \"#d8576b\"], [0.6666666666666666, \"#ed7953\"], [0.7777777777777778, \"#fb9f3a\"], [0.8888888888888888, \"#fdca26\"], [1.0, \"#f0f921\"]], \"sequentialminus\": [[0.0, \"#0d0887\"], [0.1111111111111111, \"#46039f\"], [0.2222222222222222, \"#7201a8\"], [0.3333333333333333, \"#9c179e\"], [0.4444444444444444, \"#bd3786\"], [0.5555555555555556, \"#d8576b\"], [0.6666666666666666, \"#ed7953\"], [0.7777777777777778, \"#fb9f3a\"], [0.8888888888888888, \"#fdca26\"], [1.0, \"#f0f921\"]]}, \"colorway\": [\"#636efa\", \"#EF553B\", \"#00cc96\", \"#ab63fa\", \"#FFA15A\", \"#19d3f3\", \"#FF6692\", \"#B6E880\", \"#FF97FF\", \"#FECB52\"], \"font\": {\"color\": \"#2a3f5f\"}, \"geo\": {\"bgcolor\": \"white\", \"lakecolor\": \"white\", \"landcolor\": \"#E5ECF6\", \"showlakes\": true, \"showland\": true, \"subunitcolor\": \"white\"}, \"hoverlabel\": {\"align\": \"left\"}, \"hovermode\": \"closest\", \"mapbox\": {\"style\": \"light\"}, \"paper_bgcolor\": \"white\", \"plot_bgcolor\": \"#E5ECF6\", \"polar\": {\"angularaxis\": {\"gridcolor\": \"white\", \"linecolor\": \"white\", \"ticks\": \"\"}, \"bgcolor\": \"#E5ECF6\", \"radialaxis\": {\"gridcolor\": \"white\", \"linecolor\": \"white\", \"ticks\": \"\"}}, \"scene\": {\"xaxis\": {\"backgroundcolor\": \"#E5ECF6\", \"gridcolor\": \"white\", \"gridwidth\": 2, \"linecolor\": \"white\", \"showbackground\": true, \"ticks\": \"\", \"zerolinecolor\": \"white\"}, \"yaxis\": {\"backgroundcolor\": \"#E5ECF6\", \"gridcolor\": \"white\", \"gridwidth\": 2, \"linecolor\": \"white\", \"showbackground\": true, \"ticks\": \"\", \"zerolinecolor\": \"white\"}, \"zaxis\": {\"backgroundcolor\": \"#E5ECF6\", \"gridcolor\": \"white\", \"gridwidth\": 2, \"linecolor\": \"white\", \"showbackground\": true, \"ticks\": \"\", \"zerolinecolor\": \"white\"}}, \"shapedefaults\": {\"line\": {\"color\": \"#2a3f5f\"}}, \"ternary\": {\"aaxis\": {\"gridcolor\": \"white\", \"linecolor\": \"white\", \"ticks\": \"\"}, \"baxis\": {\"gridcolor\": \"white\", \"linecolor\": \"white\", \"ticks\": \"\"}, \"bgcolor\": \"#E5ECF6\", \"caxis\": {\"gridcolor\": \"white\", \"linecolor\": \"white\", \"ticks\": \"\"}}, \"title\": {\"x\": 0.05}, \"xaxis\": {\"automargin\": true, \"gridcolor\": \"white\", \"linecolor\": \"white\", \"ticks\": \"\", \"title\": {\"standoff\": 15}, \"zerolinecolor\": \"white\", \"zerolinewidth\": 2}, \"yaxis\": {\"automargin\": true, \"gridcolor\": \"white\", \"linecolor\": \"white\", \"ticks\": \"\", \"title\": {\"standoff\": 15}, \"zerolinecolor\": \"white\", \"zerolinewidth\": 2}}}, \"title\": {\"text\": \"Trend of Coronavirus Cases in United States (Cumulative cases)\"}},\n",
       "                        {\"responsive\": true}\n",
       "                    ).then(function(){\n",
       "                            \n",
       "var gd = document.getElementById('d691844c-855e-41b2-89ff-dc70f931ab93');\n",
       "var x = new MutationObserver(function (mutations, observer) {{\n",
       "        var display = window.getComputedStyle(gd).display;\n",
       "        if (!display || display === 'none') {{\n",
       "            console.log([gd, 'removed!']);\n",
       "            Plotly.purge(gd);\n",
       "            observer.disconnect();\n",
       "        }}\n",
       "}});\n",
       "\n",
       "// Listen for the removal of the full notebook cells\n",
       "var notebookContainer = gd.closest('#notebook-container');\n",
       "if (notebookContainer) {{\n",
       "    x.observe(notebookContainer, {childList: true});\n",
       "}}\n",
       "\n",
       "// Listen for the clearing of the current output cell\n",
       "var outputEl = gd.closest('.output');\n",
       "if (outputEl) {{\n",
       "    x.observe(outputEl, {childList: true});\n",
       "}}\n",
       "\n",
       "                        })\n",
       "                };\n",
       "                });\n",
       "            </script>\n",
       "        </div>"
      ]
     },
     "metadata": {},
     "output_type": "display_data"
    },
    {
     "data": {
      "application/vnd.plotly.v1+json": {
       "config": {
        "plotlyServerURL": "https://plot.ly"
       },
       "data": [
        {
         "alignmentgroup": "True",
         "hovertemplate": "date=%{x}<br>NewCases=%{y}<extra></extra>",
         "legendgroup": "",
         "marker": {
          "color": "#636efa"
         },
         "name": "",
         "offsetgroup": "",
         "orientation": "v",
         "showlegend": false,
         "textposition": "auto",
         "type": "bar",
         "x": [
          "1/21/2020",
          "1/22/2020",
          "1/23/2020",
          "1/24/2020",
          "1/25/2020",
          "1/26/2020",
          "1/27/2020",
          "1/28/2020",
          "1/29/2020",
          "1/30/2020",
          "1/31/2020",
          "2/1/2020",
          "2/2/2020",
          "2/3/2020",
          "2/4/2020",
          "2/5/2020",
          "2/6/2020",
          "2/7/2020",
          "2/8/2020",
          "2/9/2020",
          "2/10/2020",
          "2/11/2020",
          "2/12/2020",
          "2/13/2020",
          "2/14/2020",
          "2/15/2020",
          "2/16/2020",
          "2/17/2020",
          "2/18/2020",
          "2/19/2020",
          "2/20/2020",
          "2/21/2020",
          "2/22/2020",
          "2/23/2020",
          "2/24/2020",
          "2/25/2020",
          "2/26/2020",
          "2/27/2020",
          "2/28/2020",
          "2/29/2020",
          "3/1/2020",
          "3/2/2020",
          "3/3/2020",
          "3/4/2020",
          "3/5/2020",
          "3/6/2020",
          "3/7/2020",
          "3/8/2020",
          "3/9/2020",
          "3/10/2020",
          "3/11/2020",
          "3/12/2020",
          "3/13/2020",
          "3/14/2020",
          "3/15/2020",
          "3/16/2020",
          "3/17/2020",
          "3/18/2020",
          "3/19/2020",
          "3/20/2020",
          "3/21/2020",
          "3/22/2020",
          "3/23/2020",
          "3/24/2020",
          "3/25/2020",
          "3/26/2020",
          "3/27/2020",
          "3/28/2020",
          "3/29/2020",
          "3/30/2020",
          "3/31/2020",
          "4/1/2020",
          "4/2/2020",
          "4/3/2020",
          "4/4/2020",
          "4/5/2020",
          "4/6/2020",
          "4/7/2020",
          "4/8/2020",
          "4/9/2020",
          "4/10/2020",
          "4/11/2020",
          "4/12/2020",
          "4/13/2020",
          "4/14/2020",
          "4/15/2020",
          "4/16/2020",
          "4/17/2020",
          "4/18/2020",
          "4/19/2020",
          "4/20/2020",
          "4/21/2020",
          "4/22/2020",
          "4/23/2020",
          "4/24/2020",
          "4/25/2020",
          "4/26/2020",
          "4/27/2020",
          "4/28/2020",
          "4/29/2020",
          "4/30/2020",
          "5/1/2020",
          "5/2/2020",
          "5/3/2020"
         ],
         "xaxis": "x",
         "y": [
          1,
          0,
          0,
          1,
          1,
          2,
          0,
          0,
          0,
          1,
          1,
          1,
          3,
          0,
          0,
          1,
          0,
          0,
          0,
          0,
          1,
          0,
          1,
          1,
          0,
          0,
          0,
          10,
          0,
          0,
          2,
          3,
          0,
          0,
          13,
          2,
          15,
          0,
          5,
          5,
          18,
          16,
          21,
          36,
          67,
          83,
          117,
          119,
          201,
          270,
          245,
          405,
          556,
          674,
          702,
          907,
          1398,
          2440,
          4039,
          5615,
          6512,
          8539,
          10426,
          10663,
          14600,
          16839,
          17327,
          20897,
          18381,
          21419,
          24359,
          27052,
          28994,
          32194,
          34639,
          25565,
          33351,
          27990,
          31534,
          34409,
          33217,
          31508,
          26916,
          25570,
          26391,
          29588,
          31735,
          31249,
          28236,
          25220,
          27124,
          25330,
          27719,
          33784,
          37330,
          34152,
          26459,
          22932,
          24618,
          26401,
          30393,
          33984,
          29598,
          25513
         ],
         "yaxis": "y"
        }
       ],
       "layout": {
        "barmode": "group",
        "height": 400,
        "legend": {
         "tracegroupgap": 0
        },
        "margin": {
         "t": 60
        },
        "plot_bgcolor": "rgb(230, 230, 230)",
        "template": {
         "data": {
          "bar": [
           {
            "error_x": {
             "color": "#2a3f5f"
            },
            "error_y": {
             "color": "#2a3f5f"
            },
            "marker": {
             "line": {
              "color": "#E5ECF6",
              "width": 0.5
             }
            },
            "type": "bar"
           }
          ],
          "barpolar": [
           {
            "marker": {
             "line": {
              "color": "#E5ECF6",
              "width": 0.5
             }
            },
            "type": "barpolar"
           }
          ],
          "carpet": [
           {
            "aaxis": {
             "endlinecolor": "#2a3f5f",
             "gridcolor": "white",
             "linecolor": "white",
             "minorgridcolor": "white",
             "startlinecolor": "#2a3f5f"
            },
            "baxis": {
             "endlinecolor": "#2a3f5f",
             "gridcolor": "white",
             "linecolor": "white",
             "minorgridcolor": "white",
             "startlinecolor": "#2a3f5f"
            },
            "type": "carpet"
           }
          ],
          "choropleth": [
           {
            "colorbar": {
             "outlinewidth": 0,
             "ticks": ""
            },
            "type": "choropleth"
           }
          ],
          "contour": [
           {
            "colorbar": {
             "outlinewidth": 0,
             "ticks": ""
            },
            "colorscale": [
             [
              0,
              "#0d0887"
             ],
             [
              0.1111111111111111,
              "#46039f"
             ],
             [
              0.2222222222222222,
              "#7201a8"
             ],
             [
              0.3333333333333333,
              "#9c179e"
             ],
             [
              0.4444444444444444,
              "#bd3786"
             ],
             [
              0.5555555555555556,
              "#d8576b"
             ],
             [
              0.6666666666666666,
              "#ed7953"
             ],
             [
              0.7777777777777778,
              "#fb9f3a"
             ],
             [
              0.8888888888888888,
              "#fdca26"
             ],
             [
              1,
              "#f0f921"
             ]
            ],
            "type": "contour"
           }
          ],
          "contourcarpet": [
           {
            "colorbar": {
             "outlinewidth": 0,
             "ticks": ""
            },
            "type": "contourcarpet"
           }
          ],
          "heatmap": [
           {
            "colorbar": {
             "outlinewidth": 0,
             "ticks": ""
            },
            "colorscale": [
             [
              0,
              "#0d0887"
             ],
             [
              0.1111111111111111,
              "#46039f"
             ],
             [
              0.2222222222222222,
              "#7201a8"
             ],
             [
              0.3333333333333333,
              "#9c179e"
             ],
             [
              0.4444444444444444,
              "#bd3786"
             ],
             [
              0.5555555555555556,
              "#d8576b"
             ],
             [
              0.6666666666666666,
              "#ed7953"
             ],
             [
              0.7777777777777778,
              "#fb9f3a"
             ],
             [
              0.8888888888888888,
              "#fdca26"
             ],
             [
              1,
              "#f0f921"
             ]
            ],
            "type": "heatmap"
           }
          ],
          "heatmapgl": [
           {
            "colorbar": {
             "outlinewidth": 0,
             "ticks": ""
            },
            "colorscale": [
             [
              0,
              "#0d0887"
             ],
             [
              0.1111111111111111,
              "#46039f"
             ],
             [
              0.2222222222222222,
              "#7201a8"
             ],
             [
              0.3333333333333333,
              "#9c179e"
             ],
             [
              0.4444444444444444,
              "#bd3786"
             ],
             [
              0.5555555555555556,
              "#d8576b"
             ],
             [
              0.6666666666666666,
              "#ed7953"
             ],
             [
              0.7777777777777778,
              "#fb9f3a"
             ],
             [
              0.8888888888888888,
              "#fdca26"
             ],
             [
              1,
              "#f0f921"
             ]
            ],
            "type": "heatmapgl"
           }
          ],
          "histogram": [
           {
            "marker": {
             "colorbar": {
              "outlinewidth": 0,
              "ticks": ""
             }
            },
            "type": "histogram"
           }
          ],
          "histogram2d": [
           {
            "colorbar": {
             "outlinewidth": 0,
             "ticks": ""
            },
            "colorscale": [
             [
              0,
              "#0d0887"
             ],
             [
              0.1111111111111111,
              "#46039f"
             ],
             [
              0.2222222222222222,
              "#7201a8"
             ],
             [
              0.3333333333333333,
              "#9c179e"
             ],
             [
              0.4444444444444444,
              "#bd3786"
             ],
             [
              0.5555555555555556,
              "#d8576b"
             ],
             [
              0.6666666666666666,
              "#ed7953"
             ],
             [
              0.7777777777777778,
              "#fb9f3a"
             ],
             [
              0.8888888888888888,
              "#fdca26"
             ],
             [
              1,
              "#f0f921"
             ]
            ],
            "type": "histogram2d"
           }
          ],
          "histogram2dcontour": [
           {
            "colorbar": {
             "outlinewidth": 0,
             "ticks": ""
            },
            "colorscale": [
             [
              0,
              "#0d0887"
             ],
             [
              0.1111111111111111,
              "#46039f"
             ],
             [
              0.2222222222222222,
              "#7201a8"
             ],
             [
              0.3333333333333333,
              "#9c179e"
             ],
             [
              0.4444444444444444,
              "#bd3786"
             ],
             [
              0.5555555555555556,
              "#d8576b"
             ],
             [
              0.6666666666666666,
              "#ed7953"
             ],
             [
              0.7777777777777778,
              "#fb9f3a"
             ],
             [
              0.8888888888888888,
              "#fdca26"
             ],
             [
              1,
              "#f0f921"
             ]
            ],
            "type": "histogram2dcontour"
           }
          ],
          "mesh3d": [
           {
            "colorbar": {
             "outlinewidth": 0,
             "ticks": ""
            },
            "type": "mesh3d"
           }
          ],
          "parcoords": [
           {
            "line": {
             "colorbar": {
              "outlinewidth": 0,
              "ticks": ""
             }
            },
            "type": "parcoords"
           }
          ],
          "pie": [
           {
            "automargin": true,
            "type": "pie"
           }
          ],
          "scatter": [
           {
            "marker": {
             "colorbar": {
              "outlinewidth": 0,
              "ticks": ""
             }
            },
            "type": "scatter"
           }
          ],
          "scatter3d": [
           {
            "line": {
             "colorbar": {
              "outlinewidth": 0,
              "ticks": ""
             }
            },
            "marker": {
             "colorbar": {
              "outlinewidth": 0,
              "ticks": ""
             }
            },
            "type": "scatter3d"
           }
          ],
          "scattercarpet": [
           {
            "marker": {
             "colorbar": {
              "outlinewidth": 0,
              "ticks": ""
             }
            },
            "type": "scattercarpet"
           }
          ],
          "scattergeo": [
           {
            "marker": {
             "colorbar": {
              "outlinewidth": 0,
              "ticks": ""
             }
            },
            "type": "scattergeo"
           }
          ],
          "scattergl": [
           {
            "marker": {
             "colorbar": {
              "outlinewidth": 0,
              "ticks": ""
             }
            },
            "type": "scattergl"
           }
          ],
          "scattermapbox": [
           {
            "marker": {
             "colorbar": {
              "outlinewidth": 0,
              "ticks": ""
             }
            },
            "type": "scattermapbox"
           }
          ],
          "scatterpolar": [
           {
            "marker": {
             "colorbar": {
              "outlinewidth": 0,
              "ticks": ""
             }
            },
            "type": "scatterpolar"
           }
          ],
          "scatterpolargl": [
           {
            "marker": {
             "colorbar": {
              "outlinewidth": 0,
              "ticks": ""
             }
            },
            "type": "scatterpolargl"
           }
          ],
          "scatterternary": [
           {
            "marker": {
             "colorbar": {
              "outlinewidth": 0,
              "ticks": ""
             }
            },
            "type": "scatterternary"
           }
          ],
          "surface": [
           {
            "colorbar": {
             "outlinewidth": 0,
             "ticks": ""
            },
            "colorscale": [
             [
              0,
              "#0d0887"
             ],
             [
              0.1111111111111111,
              "#46039f"
             ],
             [
              0.2222222222222222,
              "#7201a8"
             ],
             [
              0.3333333333333333,
              "#9c179e"
             ],
             [
              0.4444444444444444,
              "#bd3786"
             ],
             [
              0.5555555555555556,
              "#d8576b"
             ],
             [
              0.6666666666666666,
              "#ed7953"
             ],
             [
              0.7777777777777778,
              "#fb9f3a"
             ],
             [
              0.8888888888888888,
              "#fdca26"
             ],
             [
              1,
              "#f0f921"
             ]
            ],
            "type": "surface"
           }
          ],
          "table": [
           {
            "cells": {
             "fill": {
              "color": "#EBF0F8"
             },
             "line": {
              "color": "white"
             }
            },
            "header": {
             "fill": {
              "color": "#C8D4E3"
             },
             "line": {
              "color": "white"
             }
            },
            "type": "table"
           }
          ]
         },
         "layout": {
          "annotationdefaults": {
           "arrowcolor": "#2a3f5f",
           "arrowhead": 0,
           "arrowwidth": 1
          },
          "coloraxis": {
           "colorbar": {
            "outlinewidth": 0,
            "ticks": ""
           }
          },
          "colorscale": {
           "diverging": [
            [
             0,
             "#8e0152"
            ],
            [
             0.1,
             "#c51b7d"
            ],
            [
             0.2,
             "#de77ae"
            ],
            [
             0.3,
             "#f1b6da"
            ],
            [
             0.4,
             "#fde0ef"
            ],
            [
             0.5,
             "#f7f7f7"
            ],
            [
             0.6,
             "#e6f5d0"
            ],
            [
             0.7,
             "#b8e186"
            ],
            [
             0.8,
             "#7fbc41"
            ],
            [
             0.9,
             "#4d9221"
            ],
            [
             1,
             "#276419"
            ]
           ],
           "sequential": [
            [
             0,
             "#0d0887"
            ],
            [
             0.1111111111111111,
             "#46039f"
            ],
            [
             0.2222222222222222,
             "#7201a8"
            ],
            [
             0.3333333333333333,
             "#9c179e"
            ],
            [
             0.4444444444444444,
             "#bd3786"
            ],
            [
             0.5555555555555556,
             "#d8576b"
            ],
            [
             0.6666666666666666,
             "#ed7953"
            ],
            [
             0.7777777777777778,
             "#fb9f3a"
            ],
            [
             0.8888888888888888,
             "#fdca26"
            ],
            [
             1,
             "#f0f921"
            ]
           ],
           "sequentialminus": [
            [
             0,
             "#0d0887"
            ],
            [
             0.1111111111111111,
             "#46039f"
            ],
            [
             0.2222222222222222,
             "#7201a8"
            ],
            [
             0.3333333333333333,
             "#9c179e"
            ],
            [
             0.4444444444444444,
             "#bd3786"
            ],
            [
             0.5555555555555556,
             "#d8576b"
            ],
            [
             0.6666666666666666,
             "#ed7953"
            ],
            [
             0.7777777777777778,
             "#fb9f3a"
            ],
            [
             0.8888888888888888,
             "#fdca26"
            ],
            [
             1,
             "#f0f921"
            ]
           ]
          },
          "colorway": [
           "#636efa",
           "#EF553B",
           "#00cc96",
           "#ab63fa",
           "#FFA15A",
           "#19d3f3",
           "#FF6692",
           "#B6E880",
           "#FF97FF",
           "#FECB52"
          ],
          "font": {
           "color": "#2a3f5f"
          },
          "geo": {
           "bgcolor": "white",
           "lakecolor": "white",
           "landcolor": "#E5ECF6",
           "showlakes": true,
           "showland": true,
           "subunitcolor": "white"
          },
          "hoverlabel": {
           "align": "left"
          },
          "hovermode": "closest",
          "mapbox": {
           "style": "light"
          },
          "paper_bgcolor": "white",
          "plot_bgcolor": "#E5ECF6",
          "polar": {
           "angularaxis": {
            "gridcolor": "white",
            "linecolor": "white",
            "ticks": ""
           },
           "bgcolor": "#E5ECF6",
           "radialaxis": {
            "gridcolor": "white",
            "linecolor": "white",
            "ticks": ""
           }
          },
          "scene": {
           "xaxis": {
            "backgroundcolor": "#E5ECF6",
            "gridcolor": "white",
            "gridwidth": 2,
            "linecolor": "white",
            "showbackground": true,
            "ticks": "",
            "zerolinecolor": "white"
           },
           "yaxis": {
            "backgroundcolor": "#E5ECF6",
            "gridcolor": "white",
            "gridwidth": 2,
            "linecolor": "white",
            "showbackground": true,
            "ticks": "",
            "zerolinecolor": "white"
           },
           "zaxis": {
            "backgroundcolor": "#E5ECF6",
            "gridcolor": "white",
            "gridwidth": 2,
            "linecolor": "white",
            "showbackground": true,
            "ticks": "",
            "zerolinecolor": "white"
           }
          },
          "shapedefaults": {
           "line": {
            "color": "#2a3f5f"
           }
          },
          "ternary": {
           "aaxis": {
            "gridcolor": "white",
            "linecolor": "white",
            "ticks": ""
           },
           "baxis": {
            "gridcolor": "white",
            "linecolor": "white",
            "ticks": ""
           },
           "bgcolor": "#E5ECF6",
           "caxis": {
            "gridcolor": "white",
            "linecolor": "white",
            "ticks": ""
           }
          },
          "title": {
           "x": 0.05
          },
          "xaxis": {
           "automargin": true,
           "gridcolor": "white",
           "linecolor": "white",
           "ticks": "",
           "title": {
            "standoff": 15
           },
           "zerolinecolor": "white",
           "zerolinewidth": 2
          },
          "yaxis": {
           "automargin": true,
           "gridcolor": "white",
           "linecolor": "white",
           "ticks": "",
           "title": {
            "standoff": 15
           },
           "zerolinecolor": "white",
           "zerolinewidth": 2
          }
         }
        },
        "title": {
         "text": "Coronavirus Cases in United States on daily basis"
        },
        "xaxis": {
         "anchor": "y",
         "domain": [
          0,
          1
         ],
         "title": {
          "text": "date"
         }
        },
        "yaxis": {
         "anchor": "x",
         "domain": [
          0,
          1
         ],
         "title": {
          "text": "NewCases"
         }
        }
       }
      },
      "text/html": [
       "<div>\n",
       "        \n",
       "        \n",
       "            <div id=\"95af5c87-ac6b-4ebe-a492-834b3c3d6894\" class=\"plotly-graph-div\" style=\"height:400px; width:100%;\"></div>\n",
       "            <script type=\"text/javascript\">\n",
       "                require([\"plotly\"], function(Plotly) {\n",
       "                    window.PLOTLYENV=window.PLOTLYENV || {};\n",
       "                    \n",
       "                if (document.getElementById(\"95af5c87-ac6b-4ebe-a492-834b3c3d6894\")) {\n",
       "                    Plotly.newPlot(\n",
       "                        '95af5c87-ac6b-4ebe-a492-834b3c3d6894',\n",
       "                        [{\"alignmentgroup\": \"True\", \"hovertemplate\": \"date=%{x}<br>NewCases=%{y}<extra></extra>\", \"legendgroup\": \"\", \"marker\": {\"color\": \"#636efa\"}, \"name\": \"\", \"offsetgroup\": \"\", \"orientation\": \"v\", \"showlegend\": false, \"textposition\": \"auto\", \"type\": \"bar\", \"x\": [\"1/21/2020\", \"1/22/2020\", \"1/23/2020\", \"1/24/2020\", \"1/25/2020\", \"1/26/2020\", \"1/27/2020\", \"1/28/2020\", \"1/29/2020\", \"1/30/2020\", \"1/31/2020\", \"2/1/2020\", \"2/2/2020\", \"2/3/2020\", \"2/4/2020\", \"2/5/2020\", \"2/6/2020\", \"2/7/2020\", \"2/8/2020\", \"2/9/2020\", \"2/10/2020\", \"2/11/2020\", \"2/12/2020\", \"2/13/2020\", \"2/14/2020\", \"2/15/2020\", \"2/16/2020\", \"2/17/2020\", \"2/18/2020\", \"2/19/2020\", \"2/20/2020\", \"2/21/2020\", \"2/22/2020\", \"2/23/2020\", \"2/24/2020\", \"2/25/2020\", \"2/26/2020\", \"2/27/2020\", \"2/28/2020\", \"2/29/2020\", \"3/1/2020\", \"3/2/2020\", \"3/3/2020\", \"3/4/2020\", \"3/5/2020\", \"3/6/2020\", \"3/7/2020\", \"3/8/2020\", \"3/9/2020\", \"3/10/2020\", \"3/11/2020\", \"3/12/2020\", \"3/13/2020\", \"3/14/2020\", \"3/15/2020\", \"3/16/2020\", \"3/17/2020\", \"3/18/2020\", \"3/19/2020\", \"3/20/2020\", \"3/21/2020\", \"3/22/2020\", \"3/23/2020\", \"3/24/2020\", \"3/25/2020\", \"3/26/2020\", \"3/27/2020\", \"3/28/2020\", \"3/29/2020\", \"3/30/2020\", \"3/31/2020\", \"4/1/2020\", \"4/2/2020\", \"4/3/2020\", \"4/4/2020\", \"4/5/2020\", \"4/6/2020\", \"4/7/2020\", \"4/8/2020\", \"4/9/2020\", \"4/10/2020\", \"4/11/2020\", \"4/12/2020\", \"4/13/2020\", \"4/14/2020\", \"4/15/2020\", \"4/16/2020\", \"4/17/2020\", \"4/18/2020\", \"4/19/2020\", \"4/20/2020\", \"4/21/2020\", \"4/22/2020\", \"4/23/2020\", \"4/24/2020\", \"4/25/2020\", \"4/26/2020\", \"4/27/2020\", \"4/28/2020\", \"4/29/2020\", \"4/30/2020\", \"5/1/2020\", \"5/2/2020\", \"5/3/2020\"], \"xaxis\": \"x\", \"y\": [1, 0, 0, 1, 1, 2, 0, 0, 0, 1, 1, 1, 3, 0, 0, 1, 0, 0, 0, 0, 1, 0, 1, 1, 0, 0, 0, 10, 0, 0, 2, 3, 0, 0, 13, 2, 15, 0, 5, 5, 18, 16, 21, 36, 67, 83, 117, 119, 201, 270, 245, 405, 556, 674, 702, 907, 1398, 2440, 4039, 5615, 6512, 8539, 10426, 10663, 14600, 16839, 17327, 20897, 18381, 21419, 24359, 27052, 28994, 32194, 34639, 25565, 33351, 27990, 31534, 34409, 33217, 31508, 26916, 25570, 26391, 29588, 31735, 31249, 28236, 25220, 27124, 25330, 27719, 33784, 37330, 34152, 26459, 22932, 24618, 26401, 30393, 33984, 29598, 25513], \"yaxis\": \"y\"}],\n",
       "                        {\"barmode\": \"group\", \"height\": 400, \"legend\": {\"tracegroupgap\": 0}, \"margin\": {\"t\": 60}, \"plot_bgcolor\": \"rgb(230, 230, 230)\", \"template\": {\"data\": {\"bar\": [{\"error_x\": {\"color\": \"#2a3f5f\"}, \"error_y\": {\"color\": \"#2a3f5f\"}, \"marker\": {\"line\": {\"color\": \"#E5ECF6\", \"width\": 0.5}}, \"type\": \"bar\"}], \"barpolar\": [{\"marker\": {\"line\": {\"color\": \"#E5ECF6\", \"width\": 0.5}}, \"type\": \"barpolar\"}], \"carpet\": [{\"aaxis\": {\"endlinecolor\": \"#2a3f5f\", \"gridcolor\": \"white\", \"linecolor\": \"white\", \"minorgridcolor\": \"white\", \"startlinecolor\": \"#2a3f5f\"}, \"baxis\": {\"endlinecolor\": \"#2a3f5f\", \"gridcolor\": \"white\", \"linecolor\": \"white\", \"minorgridcolor\": \"white\", \"startlinecolor\": \"#2a3f5f\"}, \"type\": \"carpet\"}], \"choropleth\": [{\"colorbar\": {\"outlinewidth\": 0, \"ticks\": \"\"}, \"type\": \"choropleth\"}], \"contour\": [{\"colorbar\": {\"outlinewidth\": 0, \"ticks\": \"\"}, \"colorscale\": [[0.0, \"#0d0887\"], [0.1111111111111111, \"#46039f\"], [0.2222222222222222, \"#7201a8\"], [0.3333333333333333, \"#9c179e\"], [0.4444444444444444, \"#bd3786\"], [0.5555555555555556, \"#d8576b\"], [0.6666666666666666, \"#ed7953\"], [0.7777777777777778, \"#fb9f3a\"], [0.8888888888888888, \"#fdca26\"], [1.0, \"#f0f921\"]], \"type\": \"contour\"}], \"contourcarpet\": [{\"colorbar\": {\"outlinewidth\": 0, \"ticks\": \"\"}, \"type\": \"contourcarpet\"}], \"heatmap\": [{\"colorbar\": {\"outlinewidth\": 0, \"ticks\": \"\"}, \"colorscale\": [[0.0, \"#0d0887\"], [0.1111111111111111, \"#46039f\"], [0.2222222222222222, \"#7201a8\"], [0.3333333333333333, \"#9c179e\"], [0.4444444444444444, \"#bd3786\"], [0.5555555555555556, \"#d8576b\"], [0.6666666666666666, \"#ed7953\"], [0.7777777777777778, \"#fb9f3a\"], [0.8888888888888888, \"#fdca26\"], [1.0, \"#f0f921\"]], \"type\": \"heatmap\"}], \"heatmapgl\": [{\"colorbar\": {\"outlinewidth\": 0, \"ticks\": \"\"}, \"colorscale\": [[0.0, \"#0d0887\"], [0.1111111111111111, \"#46039f\"], [0.2222222222222222, \"#7201a8\"], [0.3333333333333333, \"#9c179e\"], [0.4444444444444444, \"#bd3786\"], [0.5555555555555556, \"#d8576b\"], [0.6666666666666666, \"#ed7953\"], [0.7777777777777778, \"#fb9f3a\"], [0.8888888888888888, \"#fdca26\"], [1.0, \"#f0f921\"]], \"type\": \"heatmapgl\"}], \"histogram\": [{\"marker\": {\"colorbar\": {\"outlinewidth\": 0, \"ticks\": \"\"}}, \"type\": \"histogram\"}], \"histogram2d\": [{\"colorbar\": {\"outlinewidth\": 0, \"ticks\": \"\"}, \"colorscale\": [[0.0, \"#0d0887\"], [0.1111111111111111, \"#46039f\"], [0.2222222222222222, \"#7201a8\"], [0.3333333333333333, \"#9c179e\"], [0.4444444444444444, \"#bd3786\"], [0.5555555555555556, \"#d8576b\"], [0.6666666666666666, \"#ed7953\"], [0.7777777777777778, \"#fb9f3a\"], [0.8888888888888888, \"#fdca26\"], [1.0, \"#f0f921\"]], \"type\": \"histogram2d\"}], \"histogram2dcontour\": [{\"colorbar\": {\"outlinewidth\": 0, \"ticks\": \"\"}, \"colorscale\": [[0.0, \"#0d0887\"], [0.1111111111111111, \"#46039f\"], [0.2222222222222222, \"#7201a8\"], [0.3333333333333333, \"#9c179e\"], [0.4444444444444444, \"#bd3786\"], [0.5555555555555556, \"#d8576b\"], [0.6666666666666666, \"#ed7953\"], [0.7777777777777778, \"#fb9f3a\"], [0.8888888888888888, \"#fdca26\"], [1.0, \"#f0f921\"]], \"type\": \"histogram2dcontour\"}], \"mesh3d\": [{\"colorbar\": {\"outlinewidth\": 0, \"ticks\": \"\"}, \"type\": \"mesh3d\"}], \"parcoords\": [{\"line\": {\"colorbar\": {\"outlinewidth\": 0, \"ticks\": \"\"}}, \"type\": \"parcoords\"}], \"pie\": [{\"automargin\": true, \"type\": \"pie\"}], \"scatter\": [{\"marker\": {\"colorbar\": {\"outlinewidth\": 0, \"ticks\": \"\"}}, \"type\": \"scatter\"}], \"scatter3d\": [{\"line\": {\"colorbar\": {\"outlinewidth\": 0, \"ticks\": \"\"}}, \"marker\": {\"colorbar\": {\"outlinewidth\": 0, \"ticks\": \"\"}}, \"type\": \"scatter3d\"}], \"scattercarpet\": [{\"marker\": {\"colorbar\": {\"outlinewidth\": 0, \"ticks\": \"\"}}, \"type\": \"scattercarpet\"}], \"scattergeo\": [{\"marker\": {\"colorbar\": {\"outlinewidth\": 0, \"ticks\": \"\"}}, \"type\": \"scattergeo\"}], \"scattergl\": [{\"marker\": {\"colorbar\": {\"outlinewidth\": 0, \"ticks\": \"\"}}, \"type\": \"scattergl\"}], \"scattermapbox\": [{\"marker\": {\"colorbar\": {\"outlinewidth\": 0, \"ticks\": \"\"}}, \"type\": \"scattermapbox\"}], \"scatterpolar\": [{\"marker\": {\"colorbar\": {\"outlinewidth\": 0, \"ticks\": \"\"}}, \"type\": \"scatterpolar\"}], \"scatterpolargl\": [{\"marker\": {\"colorbar\": {\"outlinewidth\": 0, \"ticks\": \"\"}}, \"type\": \"scatterpolargl\"}], \"scatterternary\": [{\"marker\": {\"colorbar\": {\"outlinewidth\": 0, \"ticks\": \"\"}}, \"type\": \"scatterternary\"}], \"surface\": [{\"colorbar\": {\"outlinewidth\": 0, \"ticks\": \"\"}, \"colorscale\": [[0.0, \"#0d0887\"], [0.1111111111111111, \"#46039f\"], [0.2222222222222222, \"#7201a8\"], [0.3333333333333333, \"#9c179e\"], [0.4444444444444444, \"#bd3786\"], [0.5555555555555556, \"#d8576b\"], [0.6666666666666666, \"#ed7953\"], [0.7777777777777778, \"#fb9f3a\"], [0.8888888888888888, \"#fdca26\"], [1.0, \"#f0f921\"]], \"type\": \"surface\"}], \"table\": [{\"cells\": {\"fill\": {\"color\": \"#EBF0F8\"}, \"line\": {\"color\": \"white\"}}, \"header\": {\"fill\": {\"color\": \"#C8D4E3\"}, \"line\": {\"color\": \"white\"}}, \"type\": \"table\"}]}, \"layout\": {\"annotationdefaults\": {\"arrowcolor\": \"#2a3f5f\", \"arrowhead\": 0, \"arrowwidth\": 1}, \"coloraxis\": {\"colorbar\": {\"outlinewidth\": 0, \"ticks\": \"\"}}, \"colorscale\": {\"diverging\": [[0, \"#8e0152\"], [0.1, \"#c51b7d\"], [0.2, \"#de77ae\"], [0.3, \"#f1b6da\"], [0.4, \"#fde0ef\"], [0.5, \"#f7f7f7\"], [0.6, \"#e6f5d0\"], [0.7, \"#b8e186\"], [0.8, \"#7fbc41\"], [0.9, \"#4d9221\"], [1, \"#276419\"]], \"sequential\": [[0.0, \"#0d0887\"], [0.1111111111111111, \"#46039f\"], [0.2222222222222222, \"#7201a8\"], [0.3333333333333333, \"#9c179e\"], [0.4444444444444444, \"#bd3786\"], [0.5555555555555556, \"#d8576b\"], [0.6666666666666666, \"#ed7953\"], [0.7777777777777778, \"#fb9f3a\"], [0.8888888888888888, \"#fdca26\"], [1.0, \"#f0f921\"]], \"sequentialminus\": [[0.0, \"#0d0887\"], [0.1111111111111111, \"#46039f\"], [0.2222222222222222, \"#7201a8\"], [0.3333333333333333, \"#9c179e\"], [0.4444444444444444, \"#bd3786\"], [0.5555555555555556, \"#d8576b\"], [0.6666666666666666, \"#ed7953\"], [0.7777777777777778, \"#fb9f3a\"], [0.8888888888888888, \"#fdca26\"], [1.0, \"#f0f921\"]]}, \"colorway\": [\"#636efa\", \"#EF553B\", \"#00cc96\", \"#ab63fa\", \"#FFA15A\", \"#19d3f3\", \"#FF6692\", \"#B6E880\", \"#FF97FF\", \"#FECB52\"], \"font\": {\"color\": \"#2a3f5f\"}, \"geo\": {\"bgcolor\": \"white\", \"lakecolor\": \"white\", \"landcolor\": \"#E5ECF6\", \"showlakes\": true, \"showland\": true, \"subunitcolor\": \"white\"}, \"hoverlabel\": {\"align\": \"left\"}, \"hovermode\": \"closest\", \"mapbox\": {\"style\": \"light\"}, \"paper_bgcolor\": \"white\", \"plot_bgcolor\": \"#E5ECF6\", \"polar\": {\"angularaxis\": {\"gridcolor\": \"white\", \"linecolor\": \"white\", \"ticks\": \"\"}, \"bgcolor\": \"#E5ECF6\", \"radialaxis\": {\"gridcolor\": \"white\", \"linecolor\": \"white\", \"ticks\": \"\"}}, \"scene\": {\"xaxis\": {\"backgroundcolor\": \"#E5ECF6\", \"gridcolor\": \"white\", \"gridwidth\": 2, \"linecolor\": \"white\", \"showbackground\": true, \"ticks\": \"\", \"zerolinecolor\": \"white\"}, \"yaxis\": {\"backgroundcolor\": \"#E5ECF6\", \"gridcolor\": \"white\", \"gridwidth\": 2, \"linecolor\": \"white\", \"showbackground\": true, \"ticks\": \"\", \"zerolinecolor\": \"white\"}, \"zaxis\": {\"backgroundcolor\": \"#E5ECF6\", \"gridcolor\": \"white\", \"gridwidth\": 2, \"linecolor\": \"white\", \"showbackground\": true, \"ticks\": \"\", \"zerolinecolor\": \"white\"}}, \"shapedefaults\": {\"line\": {\"color\": \"#2a3f5f\"}}, \"ternary\": {\"aaxis\": {\"gridcolor\": \"white\", \"linecolor\": \"white\", \"ticks\": \"\"}, \"baxis\": {\"gridcolor\": \"white\", \"linecolor\": \"white\", \"ticks\": \"\"}, \"bgcolor\": \"#E5ECF6\", \"caxis\": {\"gridcolor\": \"white\", \"linecolor\": \"white\", \"ticks\": \"\"}}, \"title\": {\"x\": 0.05}, \"xaxis\": {\"automargin\": true, \"gridcolor\": \"white\", \"linecolor\": \"white\", \"ticks\": \"\", \"title\": {\"standoff\": 15}, \"zerolinecolor\": \"white\", \"zerolinewidth\": 2}, \"yaxis\": {\"automargin\": true, \"gridcolor\": \"white\", \"linecolor\": \"white\", \"ticks\": \"\", \"title\": {\"standoff\": 15}, \"zerolinecolor\": \"white\", \"zerolinewidth\": 2}}}, \"title\": {\"text\": \"Coronavirus Cases in United States on daily basis\"}, \"xaxis\": {\"anchor\": \"y\", \"domain\": [0.0, 1.0], \"title\": {\"text\": \"date\"}}, \"yaxis\": {\"anchor\": \"x\", \"domain\": [0.0, 1.0], \"title\": {\"text\": \"NewCases\"}}},\n",
       "                        {\"responsive\": true}\n",
       "                    ).then(function(){\n",
       "                            \n",
       "var gd = document.getElementById('95af5c87-ac6b-4ebe-a492-834b3c3d6894');\n",
       "var x = new MutationObserver(function (mutations, observer) {{\n",
       "        var display = window.getComputedStyle(gd).display;\n",
       "        if (!display || display === 'none') {{\n",
       "            console.log([gd, 'removed!']);\n",
       "            Plotly.purge(gd);\n",
       "            observer.disconnect();\n",
       "        }}\n",
       "}});\n",
       "\n",
       "// Listen for the removal of the full notebook cells\n",
       "var notebookContainer = gd.closest('#notebook-container');\n",
       "if (notebookContainer) {{\n",
       "    x.observe(notebookContainer, {childList: true});\n",
       "}}\n",
       "\n",
       "// Listen for the clearing of the current output cell\n",
       "var outputEl = gd.closest('.output');\n",
       "if (outputEl) {{\n",
       "    x.observe(outputEl, {childList: true});\n",
       "}}\n",
       "\n",
       "                        })\n",
       "                };\n",
       "                });\n",
       "            </script>\n",
       "        </div>"
      ]
     },
     "metadata": {},
     "output_type": "display_data"
    }
   ],
   "source": [
    "# Rise of COVID-19 cases in US\n",
    "import plotly\n",
    "fig = go.Figure()\n",
    "fig.add_trace(go.Scatter(x = us_county_dates['date'],y = us_county_dates['cases'], mode='lines+markers',name='Total Cases'))\n",
    "fig.update_layout(title_text='Trend of Coronavirus Cases in United States (Cumulative cases)',plot_bgcolor='rgb(230, 230, 230)')\n",
    "fig.show()\n",
    "\n",
    "# New COVID-19 cases reported daily in US\n",
    "\n",
    "fig = px.bar(us_newcases, x = 'date',y = 'NewCases',  barmode='group', height=400)\n",
    "fig.update_layout(title_text='Coronavirus Cases in United States on daily basis',plot_bgcolor='rgb(230, 230, 230)')\n",
    "\n",
    "fig.show()"
   ]
  },
  {
   "cell_type": "code",
   "execution_count": 57,
   "metadata": {},
   "outputs": [],
   "source": [
    "us_newcases1 = us_newcases.copy()\n",
    "us_newcases1.columns = ['Date','NewCases']"
   ]
  },
  {
   "cell_type": "code",
   "execution_count": 58,
   "metadata": {},
   "outputs": [
    {
     "data": {
      "application/vnd.plotly.v1+json": {
       "config": {
        "plotlyServerURL": "https://plot.ly"
       },
       "data": [
        {
         "alignmentgroup": "True",
         "hovertemplate": "Date=%{x}<br>NewCases=%{marker.color}<extra></extra>",
         "legendgroup": "",
         "marker": {
          "color": [
           1,
           0,
           0,
           1,
           1,
           2,
           0,
           0,
           0,
           1,
           1,
           1,
           3,
           0,
           0,
           1,
           0,
           0,
           0,
           0,
           1,
           0,
           1,
           1,
           0,
           0,
           0,
           10,
           0,
           0,
           2,
           3,
           0,
           0,
           13,
           2,
           15,
           0,
           5,
           5,
           18,
           16,
           21,
           36,
           67,
           83,
           117,
           119,
           201,
           270,
           245,
           405,
           556,
           674,
           702,
           907,
           1398,
           2440,
           4039,
           5615,
           6512,
           8539,
           10426,
           10663,
           14600,
           16839,
           17327,
           20897,
           18381,
           21419,
           24359,
           27052,
           28994,
           32194,
           34639,
           25565,
           33351,
           27990,
           31534,
           34409,
           33217,
           31508,
           26916,
           25570,
           26391,
           29588,
           31735,
           31249,
           28236,
           25220,
           27124,
           25330,
           27719,
           33784,
           37330,
           34152,
           26459,
           22932,
           24618,
           26401,
           30393,
           33984,
           29598,
           25513
          ],
          "coloraxis": "coloraxis"
         },
         "name": "",
         "offsetgroup": "",
         "orientation": "v",
         "showlegend": false,
         "textposition": "auto",
         "type": "bar",
         "x": [
          "1/21/2020",
          "1/22/2020",
          "1/23/2020",
          "1/24/2020",
          "1/25/2020",
          "1/26/2020",
          "1/27/2020",
          "1/28/2020",
          "1/29/2020",
          "1/30/2020",
          "1/31/2020",
          "2/1/2020",
          "2/2/2020",
          "2/3/2020",
          "2/4/2020",
          "2/5/2020",
          "2/6/2020",
          "2/7/2020",
          "2/8/2020",
          "2/9/2020",
          "2/10/2020",
          "2/11/2020",
          "2/12/2020",
          "2/13/2020",
          "2/14/2020",
          "2/15/2020",
          "2/16/2020",
          "2/17/2020",
          "2/18/2020",
          "2/19/2020",
          "2/20/2020",
          "2/21/2020",
          "2/22/2020",
          "2/23/2020",
          "2/24/2020",
          "2/25/2020",
          "2/26/2020",
          "2/27/2020",
          "2/28/2020",
          "2/29/2020",
          "3/1/2020",
          "3/2/2020",
          "3/3/2020",
          "3/4/2020",
          "3/5/2020",
          "3/6/2020",
          "3/7/2020",
          "3/8/2020",
          "3/9/2020",
          "3/10/2020",
          "3/11/2020",
          "3/12/2020",
          "3/13/2020",
          "3/14/2020",
          "3/15/2020",
          "3/16/2020",
          "3/17/2020",
          "3/18/2020",
          "3/19/2020",
          "3/20/2020",
          "3/21/2020",
          "3/22/2020",
          "3/23/2020",
          "3/24/2020",
          "3/25/2020",
          "3/26/2020",
          "3/27/2020",
          "3/28/2020",
          "3/29/2020",
          "3/30/2020",
          "3/31/2020",
          "4/1/2020",
          "4/2/2020",
          "4/3/2020",
          "4/4/2020",
          "4/5/2020",
          "4/6/2020",
          "4/7/2020",
          "4/8/2020",
          "4/9/2020",
          "4/10/2020",
          "4/11/2020",
          "4/12/2020",
          "4/13/2020",
          "4/14/2020",
          "4/15/2020",
          "4/16/2020",
          "4/17/2020",
          "4/18/2020",
          "4/19/2020",
          "4/20/2020",
          "4/21/2020",
          "4/22/2020",
          "4/23/2020",
          "4/24/2020",
          "4/25/2020",
          "4/26/2020",
          "4/27/2020",
          "4/28/2020",
          "4/29/2020",
          "4/30/2020",
          "5/1/2020",
          "5/2/2020",
          "5/3/2020"
         ],
         "xaxis": "x",
         "y": [
          1,
          0,
          0,
          1,
          1,
          2,
          0,
          0,
          0,
          1,
          1,
          1,
          3,
          0,
          0,
          1,
          0,
          0,
          0,
          0,
          1,
          0,
          1,
          1,
          0,
          0,
          0,
          10,
          0,
          0,
          2,
          3,
          0,
          0,
          13,
          2,
          15,
          0,
          5,
          5,
          18,
          16,
          21,
          36,
          67,
          83,
          117,
          119,
          201,
          270,
          245,
          405,
          556,
          674,
          702,
          907,
          1398,
          2440,
          4039,
          5615,
          6512,
          8539,
          10426,
          10663,
          14600,
          16839,
          17327,
          20897,
          18381,
          21419,
          24359,
          27052,
          28994,
          32194,
          34639,
          25565,
          33351,
          27990,
          31534,
          34409,
          33217,
          31508,
          26916,
          25570,
          26391,
          29588,
          31735,
          31249,
          28236,
          25220,
          27124,
          25330,
          27719,
          33784,
          37330,
          34152,
          26459,
          22932,
          24618,
          26401,
          30393,
          33984,
          29598,
          25513
         ],
         "yaxis": "y"
        }
       ],
       "layout": {
        "barmode": "relative",
        "coloraxis": {
         "colorbar": {
          "title": {
           "text": "NewCases"
          }
         },
         "colorscale": [
          [
           0,
           "#0d0887"
          ],
          [
           0.1111111111111111,
           "#46039f"
          ],
          [
           0.2222222222222222,
           "#7201a8"
          ],
          [
           0.3333333333333333,
           "#9c179e"
          ],
          [
           0.4444444444444444,
           "#bd3786"
          ],
          [
           0.5555555555555556,
           "#d8576b"
          ],
          [
           0.6666666666666666,
           "#ed7953"
          ],
          [
           0.7777777777777778,
           "#fb9f3a"
          ],
          [
           0.8888888888888888,
           "#fdca26"
          ],
          [
           1,
           "#f0f921"
          ]
         ]
        },
        "height": 600,
        "legend": {
         "tracegroupgap": 0
        },
        "plot_bgcolor": "rgb(230, 230, 230)",
        "template": {
         "data": {
          "bar": [
           {
            "error_x": {
             "color": "#2a3f5f"
            },
            "error_y": {
             "color": "#2a3f5f"
            },
            "marker": {
             "line": {
              "color": "#E5ECF6",
              "width": 0.5
             }
            },
            "type": "bar"
           }
          ],
          "barpolar": [
           {
            "marker": {
             "line": {
              "color": "#E5ECF6",
              "width": 0.5
             }
            },
            "type": "barpolar"
           }
          ],
          "carpet": [
           {
            "aaxis": {
             "endlinecolor": "#2a3f5f",
             "gridcolor": "white",
             "linecolor": "white",
             "minorgridcolor": "white",
             "startlinecolor": "#2a3f5f"
            },
            "baxis": {
             "endlinecolor": "#2a3f5f",
             "gridcolor": "white",
             "linecolor": "white",
             "minorgridcolor": "white",
             "startlinecolor": "#2a3f5f"
            },
            "type": "carpet"
           }
          ],
          "choropleth": [
           {
            "colorbar": {
             "outlinewidth": 0,
             "ticks": ""
            },
            "type": "choropleth"
           }
          ],
          "contour": [
           {
            "colorbar": {
             "outlinewidth": 0,
             "ticks": ""
            },
            "colorscale": [
             [
              0,
              "#0d0887"
             ],
             [
              0.1111111111111111,
              "#46039f"
             ],
             [
              0.2222222222222222,
              "#7201a8"
             ],
             [
              0.3333333333333333,
              "#9c179e"
             ],
             [
              0.4444444444444444,
              "#bd3786"
             ],
             [
              0.5555555555555556,
              "#d8576b"
             ],
             [
              0.6666666666666666,
              "#ed7953"
             ],
             [
              0.7777777777777778,
              "#fb9f3a"
             ],
             [
              0.8888888888888888,
              "#fdca26"
             ],
             [
              1,
              "#f0f921"
             ]
            ],
            "type": "contour"
           }
          ],
          "contourcarpet": [
           {
            "colorbar": {
             "outlinewidth": 0,
             "ticks": ""
            },
            "type": "contourcarpet"
           }
          ],
          "heatmap": [
           {
            "colorbar": {
             "outlinewidth": 0,
             "ticks": ""
            },
            "colorscale": [
             [
              0,
              "#0d0887"
             ],
             [
              0.1111111111111111,
              "#46039f"
             ],
             [
              0.2222222222222222,
              "#7201a8"
             ],
             [
              0.3333333333333333,
              "#9c179e"
             ],
             [
              0.4444444444444444,
              "#bd3786"
             ],
             [
              0.5555555555555556,
              "#d8576b"
             ],
             [
              0.6666666666666666,
              "#ed7953"
             ],
             [
              0.7777777777777778,
              "#fb9f3a"
             ],
             [
              0.8888888888888888,
              "#fdca26"
             ],
             [
              1,
              "#f0f921"
             ]
            ],
            "type": "heatmap"
           }
          ],
          "heatmapgl": [
           {
            "colorbar": {
             "outlinewidth": 0,
             "ticks": ""
            },
            "colorscale": [
             [
              0,
              "#0d0887"
             ],
             [
              0.1111111111111111,
              "#46039f"
             ],
             [
              0.2222222222222222,
              "#7201a8"
             ],
             [
              0.3333333333333333,
              "#9c179e"
             ],
             [
              0.4444444444444444,
              "#bd3786"
             ],
             [
              0.5555555555555556,
              "#d8576b"
             ],
             [
              0.6666666666666666,
              "#ed7953"
             ],
             [
              0.7777777777777778,
              "#fb9f3a"
             ],
             [
              0.8888888888888888,
              "#fdca26"
             ],
             [
              1,
              "#f0f921"
             ]
            ],
            "type": "heatmapgl"
           }
          ],
          "histogram": [
           {
            "marker": {
             "colorbar": {
              "outlinewidth": 0,
              "ticks": ""
             }
            },
            "type": "histogram"
           }
          ],
          "histogram2d": [
           {
            "colorbar": {
             "outlinewidth": 0,
             "ticks": ""
            },
            "colorscale": [
             [
              0,
              "#0d0887"
             ],
             [
              0.1111111111111111,
              "#46039f"
             ],
             [
              0.2222222222222222,
              "#7201a8"
             ],
             [
              0.3333333333333333,
              "#9c179e"
             ],
             [
              0.4444444444444444,
              "#bd3786"
             ],
             [
              0.5555555555555556,
              "#d8576b"
             ],
             [
              0.6666666666666666,
              "#ed7953"
             ],
             [
              0.7777777777777778,
              "#fb9f3a"
             ],
             [
              0.8888888888888888,
              "#fdca26"
             ],
             [
              1,
              "#f0f921"
             ]
            ],
            "type": "histogram2d"
           }
          ],
          "histogram2dcontour": [
           {
            "colorbar": {
             "outlinewidth": 0,
             "ticks": ""
            },
            "colorscale": [
             [
              0,
              "#0d0887"
             ],
             [
              0.1111111111111111,
              "#46039f"
             ],
             [
              0.2222222222222222,
              "#7201a8"
             ],
             [
              0.3333333333333333,
              "#9c179e"
             ],
             [
              0.4444444444444444,
              "#bd3786"
             ],
             [
              0.5555555555555556,
              "#d8576b"
             ],
             [
              0.6666666666666666,
              "#ed7953"
             ],
             [
              0.7777777777777778,
              "#fb9f3a"
             ],
             [
              0.8888888888888888,
              "#fdca26"
             ],
             [
              1,
              "#f0f921"
             ]
            ],
            "type": "histogram2dcontour"
           }
          ],
          "mesh3d": [
           {
            "colorbar": {
             "outlinewidth": 0,
             "ticks": ""
            },
            "type": "mesh3d"
           }
          ],
          "parcoords": [
           {
            "line": {
             "colorbar": {
              "outlinewidth": 0,
              "ticks": ""
             }
            },
            "type": "parcoords"
           }
          ],
          "pie": [
           {
            "automargin": true,
            "type": "pie"
           }
          ],
          "scatter": [
           {
            "marker": {
             "colorbar": {
              "outlinewidth": 0,
              "ticks": ""
             }
            },
            "type": "scatter"
           }
          ],
          "scatter3d": [
           {
            "line": {
             "colorbar": {
              "outlinewidth": 0,
              "ticks": ""
             }
            },
            "marker": {
             "colorbar": {
              "outlinewidth": 0,
              "ticks": ""
             }
            },
            "type": "scatter3d"
           }
          ],
          "scattercarpet": [
           {
            "marker": {
             "colorbar": {
              "outlinewidth": 0,
              "ticks": ""
             }
            },
            "type": "scattercarpet"
           }
          ],
          "scattergeo": [
           {
            "marker": {
             "colorbar": {
              "outlinewidth": 0,
              "ticks": ""
             }
            },
            "type": "scattergeo"
           }
          ],
          "scattergl": [
           {
            "marker": {
             "colorbar": {
              "outlinewidth": 0,
              "ticks": ""
             }
            },
            "type": "scattergl"
           }
          ],
          "scattermapbox": [
           {
            "marker": {
             "colorbar": {
              "outlinewidth": 0,
              "ticks": ""
             }
            },
            "type": "scattermapbox"
           }
          ],
          "scatterpolar": [
           {
            "marker": {
             "colorbar": {
              "outlinewidth": 0,
              "ticks": ""
             }
            },
            "type": "scatterpolar"
           }
          ],
          "scatterpolargl": [
           {
            "marker": {
             "colorbar": {
              "outlinewidth": 0,
              "ticks": ""
             }
            },
            "type": "scatterpolargl"
           }
          ],
          "scatterternary": [
           {
            "marker": {
             "colorbar": {
              "outlinewidth": 0,
              "ticks": ""
             }
            },
            "type": "scatterternary"
           }
          ],
          "surface": [
           {
            "colorbar": {
             "outlinewidth": 0,
             "ticks": ""
            },
            "colorscale": [
             [
              0,
              "#0d0887"
             ],
             [
              0.1111111111111111,
              "#46039f"
             ],
             [
              0.2222222222222222,
              "#7201a8"
             ],
             [
              0.3333333333333333,
              "#9c179e"
             ],
             [
              0.4444444444444444,
              "#bd3786"
             ],
             [
              0.5555555555555556,
              "#d8576b"
             ],
             [
              0.6666666666666666,
              "#ed7953"
             ],
             [
              0.7777777777777778,
              "#fb9f3a"
             ],
             [
              0.8888888888888888,
              "#fdca26"
             ],
             [
              1,
              "#f0f921"
             ]
            ],
            "type": "surface"
           }
          ],
          "table": [
           {
            "cells": {
             "fill": {
              "color": "#EBF0F8"
             },
             "line": {
              "color": "white"
             }
            },
            "header": {
             "fill": {
              "color": "#C8D4E3"
             },
             "line": {
              "color": "white"
             }
            },
            "type": "table"
           }
          ]
         },
         "layout": {
          "annotationdefaults": {
           "arrowcolor": "#2a3f5f",
           "arrowhead": 0,
           "arrowwidth": 1
          },
          "coloraxis": {
           "colorbar": {
            "outlinewidth": 0,
            "ticks": ""
           }
          },
          "colorscale": {
           "diverging": [
            [
             0,
             "#8e0152"
            ],
            [
             0.1,
             "#c51b7d"
            ],
            [
             0.2,
             "#de77ae"
            ],
            [
             0.3,
             "#f1b6da"
            ],
            [
             0.4,
             "#fde0ef"
            ],
            [
             0.5,
             "#f7f7f7"
            ],
            [
             0.6,
             "#e6f5d0"
            ],
            [
             0.7,
             "#b8e186"
            ],
            [
             0.8,
             "#7fbc41"
            ],
            [
             0.9,
             "#4d9221"
            ],
            [
             1,
             "#276419"
            ]
           ],
           "sequential": [
            [
             0,
             "#0d0887"
            ],
            [
             0.1111111111111111,
             "#46039f"
            ],
            [
             0.2222222222222222,
             "#7201a8"
            ],
            [
             0.3333333333333333,
             "#9c179e"
            ],
            [
             0.4444444444444444,
             "#bd3786"
            ],
            [
             0.5555555555555556,
             "#d8576b"
            ],
            [
             0.6666666666666666,
             "#ed7953"
            ],
            [
             0.7777777777777778,
             "#fb9f3a"
            ],
            [
             0.8888888888888888,
             "#fdca26"
            ],
            [
             1,
             "#f0f921"
            ]
           ],
           "sequentialminus": [
            [
             0,
             "#0d0887"
            ],
            [
             0.1111111111111111,
             "#46039f"
            ],
            [
             0.2222222222222222,
             "#7201a8"
            ],
            [
             0.3333333333333333,
             "#9c179e"
            ],
            [
             0.4444444444444444,
             "#bd3786"
            ],
            [
             0.5555555555555556,
             "#d8576b"
            ],
            [
             0.6666666666666666,
             "#ed7953"
            ],
            [
             0.7777777777777778,
             "#fb9f3a"
            ],
            [
             0.8888888888888888,
             "#fdca26"
            ],
            [
             1,
             "#f0f921"
            ]
           ]
          },
          "colorway": [
           "#636efa",
           "#EF553B",
           "#00cc96",
           "#ab63fa",
           "#FFA15A",
           "#19d3f3",
           "#FF6692",
           "#B6E880",
           "#FF97FF",
           "#FECB52"
          ],
          "font": {
           "color": "#2a3f5f"
          },
          "geo": {
           "bgcolor": "white",
           "lakecolor": "white",
           "landcolor": "#E5ECF6",
           "showlakes": true,
           "showland": true,
           "subunitcolor": "white"
          },
          "hoverlabel": {
           "align": "left"
          },
          "hovermode": "closest",
          "mapbox": {
           "style": "light"
          },
          "paper_bgcolor": "white",
          "plot_bgcolor": "#E5ECF6",
          "polar": {
           "angularaxis": {
            "gridcolor": "white",
            "linecolor": "white",
            "ticks": ""
           },
           "bgcolor": "#E5ECF6",
           "radialaxis": {
            "gridcolor": "white",
            "linecolor": "white",
            "ticks": ""
           }
          },
          "scene": {
           "xaxis": {
            "backgroundcolor": "#E5ECF6",
            "gridcolor": "white",
            "gridwidth": 2,
            "linecolor": "white",
            "showbackground": true,
            "ticks": "",
            "zerolinecolor": "white"
           },
           "yaxis": {
            "backgroundcolor": "#E5ECF6",
            "gridcolor": "white",
            "gridwidth": 2,
            "linecolor": "white",
            "showbackground": true,
            "ticks": "",
            "zerolinecolor": "white"
           },
           "zaxis": {
            "backgroundcolor": "#E5ECF6",
            "gridcolor": "white",
            "gridwidth": 2,
            "linecolor": "white",
            "showbackground": true,
            "ticks": "",
            "zerolinecolor": "white"
           }
          },
          "shapedefaults": {
           "line": {
            "color": "#2a3f5f"
           }
          },
          "ternary": {
           "aaxis": {
            "gridcolor": "white",
            "linecolor": "white",
            "ticks": ""
           },
           "baxis": {
            "gridcolor": "white",
            "linecolor": "white",
            "ticks": ""
           },
           "bgcolor": "#E5ECF6",
           "caxis": {
            "gridcolor": "white",
            "linecolor": "white",
            "ticks": ""
           }
          },
          "title": {
           "x": 0.05
          },
          "xaxis": {
           "automargin": true,
           "gridcolor": "white",
           "linecolor": "white",
           "ticks": "",
           "title": {
            "standoff": 15
           },
           "zerolinecolor": "white",
           "zerolinewidth": 2
          },
          "yaxis": {
           "automargin": true,
           "gridcolor": "white",
           "linecolor": "white",
           "ticks": "",
           "title": {
            "standoff": 15
           },
           "zerolinecolor": "white",
           "zerolinewidth": 2
          }
         }
        },
        "title": {
         "text": "New Coronavirus Cases in the US"
        },
        "xaxis": {
         "anchor": "y",
         "domain": [
          0,
          1
         ],
         "title": {
          "text": "Date"
         }
        },
        "yaxis": {
         "anchor": "x",
         "domain": [
          0,
          1
         ],
         "title": {
          "text": "NewCases"
         }
        }
       }
      },
      "text/html": [
       "<div>\n",
       "        \n",
       "        \n",
       "            <div id=\"1cd2216e-fc54-43ee-80c2-0a4a112d749c\" class=\"plotly-graph-div\" style=\"height:600px; width:100%;\"></div>\n",
       "            <script type=\"text/javascript\">\n",
       "                require([\"plotly\"], function(Plotly) {\n",
       "                    window.PLOTLYENV=window.PLOTLYENV || {};\n",
       "                    \n",
       "                if (document.getElementById(\"1cd2216e-fc54-43ee-80c2-0a4a112d749c\")) {\n",
       "                    Plotly.newPlot(\n",
       "                        '1cd2216e-fc54-43ee-80c2-0a4a112d749c',\n",
       "                        [{\"alignmentgroup\": \"True\", \"hovertemplate\": \"Date=%{x}<br>NewCases=%{marker.color}<extra></extra>\", \"legendgroup\": \"\", \"marker\": {\"color\": [1, 0, 0, 1, 1, 2, 0, 0, 0, 1, 1, 1, 3, 0, 0, 1, 0, 0, 0, 0, 1, 0, 1, 1, 0, 0, 0, 10, 0, 0, 2, 3, 0, 0, 13, 2, 15, 0, 5, 5, 18, 16, 21, 36, 67, 83, 117, 119, 201, 270, 245, 405, 556, 674, 702, 907, 1398, 2440, 4039, 5615, 6512, 8539, 10426, 10663, 14600, 16839, 17327, 20897, 18381, 21419, 24359, 27052, 28994, 32194, 34639, 25565, 33351, 27990, 31534, 34409, 33217, 31508, 26916, 25570, 26391, 29588, 31735, 31249, 28236, 25220, 27124, 25330, 27719, 33784, 37330, 34152, 26459, 22932, 24618, 26401, 30393, 33984, 29598, 25513], \"coloraxis\": \"coloraxis\"}, \"name\": \"\", \"offsetgroup\": \"\", \"orientation\": \"v\", \"showlegend\": false, \"textposition\": \"auto\", \"type\": \"bar\", \"x\": [\"1/21/2020\", \"1/22/2020\", \"1/23/2020\", \"1/24/2020\", \"1/25/2020\", \"1/26/2020\", \"1/27/2020\", \"1/28/2020\", \"1/29/2020\", \"1/30/2020\", \"1/31/2020\", \"2/1/2020\", \"2/2/2020\", \"2/3/2020\", \"2/4/2020\", \"2/5/2020\", \"2/6/2020\", \"2/7/2020\", \"2/8/2020\", \"2/9/2020\", \"2/10/2020\", \"2/11/2020\", \"2/12/2020\", \"2/13/2020\", \"2/14/2020\", \"2/15/2020\", \"2/16/2020\", \"2/17/2020\", \"2/18/2020\", \"2/19/2020\", \"2/20/2020\", \"2/21/2020\", \"2/22/2020\", \"2/23/2020\", \"2/24/2020\", \"2/25/2020\", \"2/26/2020\", \"2/27/2020\", \"2/28/2020\", \"2/29/2020\", \"3/1/2020\", \"3/2/2020\", \"3/3/2020\", \"3/4/2020\", \"3/5/2020\", \"3/6/2020\", \"3/7/2020\", \"3/8/2020\", \"3/9/2020\", \"3/10/2020\", \"3/11/2020\", \"3/12/2020\", \"3/13/2020\", \"3/14/2020\", \"3/15/2020\", \"3/16/2020\", \"3/17/2020\", \"3/18/2020\", \"3/19/2020\", \"3/20/2020\", \"3/21/2020\", \"3/22/2020\", \"3/23/2020\", \"3/24/2020\", \"3/25/2020\", \"3/26/2020\", \"3/27/2020\", \"3/28/2020\", \"3/29/2020\", \"3/30/2020\", \"3/31/2020\", \"4/1/2020\", \"4/2/2020\", \"4/3/2020\", \"4/4/2020\", \"4/5/2020\", \"4/6/2020\", \"4/7/2020\", \"4/8/2020\", \"4/9/2020\", \"4/10/2020\", \"4/11/2020\", \"4/12/2020\", \"4/13/2020\", \"4/14/2020\", \"4/15/2020\", \"4/16/2020\", \"4/17/2020\", \"4/18/2020\", \"4/19/2020\", \"4/20/2020\", \"4/21/2020\", \"4/22/2020\", \"4/23/2020\", \"4/24/2020\", \"4/25/2020\", \"4/26/2020\", \"4/27/2020\", \"4/28/2020\", \"4/29/2020\", \"4/30/2020\", \"5/1/2020\", \"5/2/2020\", \"5/3/2020\"], \"xaxis\": \"x\", \"y\": [1, 0, 0, 1, 1, 2, 0, 0, 0, 1, 1, 1, 3, 0, 0, 1, 0, 0, 0, 0, 1, 0, 1, 1, 0, 0, 0, 10, 0, 0, 2, 3, 0, 0, 13, 2, 15, 0, 5, 5, 18, 16, 21, 36, 67, 83, 117, 119, 201, 270, 245, 405, 556, 674, 702, 907, 1398, 2440, 4039, 5615, 6512, 8539, 10426, 10663, 14600, 16839, 17327, 20897, 18381, 21419, 24359, 27052, 28994, 32194, 34639, 25565, 33351, 27990, 31534, 34409, 33217, 31508, 26916, 25570, 26391, 29588, 31735, 31249, 28236, 25220, 27124, 25330, 27719, 33784, 37330, 34152, 26459, 22932, 24618, 26401, 30393, 33984, 29598, 25513], \"yaxis\": \"y\"}],\n",
       "                        {\"barmode\": \"relative\", \"coloraxis\": {\"colorbar\": {\"title\": {\"text\": \"NewCases\"}}, \"colorscale\": [[0.0, \"#0d0887\"], [0.1111111111111111, \"#46039f\"], [0.2222222222222222, \"#7201a8\"], [0.3333333333333333, \"#9c179e\"], [0.4444444444444444, \"#bd3786\"], [0.5555555555555556, \"#d8576b\"], [0.6666666666666666, \"#ed7953\"], [0.7777777777777778, \"#fb9f3a\"], [0.8888888888888888, \"#fdca26\"], [1.0, \"#f0f921\"]]}, \"height\": 600, \"legend\": {\"tracegroupgap\": 0}, \"plot_bgcolor\": \"rgb(230, 230, 230)\", \"template\": {\"data\": {\"bar\": [{\"error_x\": {\"color\": \"#2a3f5f\"}, \"error_y\": {\"color\": \"#2a3f5f\"}, \"marker\": {\"line\": {\"color\": \"#E5ECF6\", \"width\": 0.5}}, \"type\": \"bar\"}], \"barpolar\": [{\"marker\": {\"line\": {\"color\": \"#E5ECF6\", \"width\": 0.5}}, \"type\": \"barpolar\"}], \"carpet\": [{\"aaxis\": {\"endlinecolor\": \"#2a3f5f\", \"gridcolor\": \"white\", \"linecolor\": \"white\", \"minorgridcolor\": \"white\", \"startlinecolor\": \"#2a3f5f\"}, \"baxis\": {\"endlinecolor\": \"#2a3f5f\", \"gridcolor\": \"white\", \"linecolor\": \"white\", \"minorgridcolor\": \"white\", \"startlinecolor\": \"#2a3f5f\"}, \"type\": \"carpet\"}], \"choropleth\": [{\"colorbar\": {\"outlinewidth\": 0, \"ticks\": \"\"}, \"type\": \"choropleth\"}], \"contour\": [{\"colorbar\": {\"outlinewidth\": 0, \"ticks\": \"\"}, \"colorscale\": [[0.0, \"#0d0887\"], [0.1111111111111111, \"#46039f\"], [0.2222222222222222, \"#7201a8\"], [0.3333333333333333, \"#9c179e\"], [0.4444444444444444, \"#bd3786\"], [0.5555555555555556, \"#d8576b\"], [0.6666666666666666, \"#ed7953\"], [0.7777777777777778, \"#fb9f3a\"], [0.8888888888888888, \"#fdca26\"], [1.0, \"#f0f921\"]], \"type\": \"contour\"}], \"contourcarpet\": [{\"colorbar\": {\"outlinewidth\": 0, \"ticks\": \"\"}, \"type\": \"contourcarpet\"}], \"heatmap\": [{\"colorbar\": {\"outlinewidth\": 0, \"ticks\": \"\"}, \"colorscale\": [[0.0, \"#0d0887\"], [0.1111111111111111, \"#46039f\"], [0.2222222222222222, \"#7201a8\"], [0.3333333333333333, \"#9c179e\"], [0.4444444444444444, \"#bd3786\"], [0.5555555555555556, \"#d8576b\"], [0.6666666666666666, \"#ed7953\"], [0.7777777777777778, \"#fb9f3a\"], [0.8888888888888888, \"#fdca26\"], [1.0, \"#f0f921\"]], \"type\": \"heatmap\"}], \"heatmapgl\": [{\"colorbar\": {\"outlinewidth\": 0, \"ticks\": \"\"}, \"colorscale\": [[0.0, \"#0d0887\"], [0.1111111111111111, \"#46039f\"], [0.2222222222222222, \"#7201a8\"], [0.3333333333333333, \"#9c179e\"], [0.4444444444444444, \"#bd3786\"], [0.5555555555555556, \"#d8576b\"], [0.6666666666666666, \"#ed7953\"], [0.7777777777777778, \"#fb9f3a\"], [0.8888888888888888, \"#fdca26\"], [1.0, \"#f0f921\"]], \"type\": \"heatmapgl\"}], \"histogram\": [{\"marker\": {\"colorbar\": {\"outlinewidth\": 0, \"ticks\": \"\"}}, \"type\": \"histogram\"}], \"histogram2d\": [{\"colorbar\": {\"outlinewidth\": 0, \"ticks\": \"\"}, \"colorscale\": [[0.0, \"#0d0887\"], [0.1111111111111111, \"#46039f\"], [0.2222222222222222, \"#7201a8\"], [0.3333333333333333, \"#9c179e\"], [0.4444444444444444, \"#bd3786\"], [0.5555555555555556, \"#d8576b\"], [0.6666666666666666, \"#ed7953\"], [0.7777777777777778, \"#fb9f3a\"], [0.8888888888888888, \"#fdca26\"], [1.0, \"#f0f921\"]], \"type\": \"histogram2d\"}], \"histogram2dcontour\": [{\"colorbar\": {\"outlinewidth\": 0, \"ticks\": \"\"}, \"colorscale\": [[0.0, \"#0d0887\"], [0.1111111111111111, \"#46039f\"], [0.2222222222222222, \"#7201a8\"], [0.3333333333333333, \"#9c179e\"], [0.4444444444444444, \"#bd3786\"], [0.5555555555555556, \"#d8576b\"], [0.6666666666666666, \"#ed7953\"], [0.7777777777777778, \"#fb9f3a\"], [0.8888888888888888, \"#fdca26\"], [1.0, \"#f0f921\"]], \"type\": \"histogram2dcontour\"}], \"mesh3d\": [{\"colorbar\": {\"outlinewidth\": 0, \"ticks\": \"\"}, \"type\": \"mesh3d\"}], \"parcoords\": [{\"line\": {\"colorbar\": {\"outlinewidth\": 0, \"ticks\": \"\"}}, \"type\": \"parcoords\"}], \"pie\": [{\"automargin\": true, \"type\": \"pie\"}], \"scatter\": [{\"marker\": {\"colorbar\": {\"outlinewidth\": 0, \"ticks\": \"\"}}, \"type\": \"scatter\"}], \"scatter3d\": [{\"line\": {\"colorbar\": {\"outlinewidth\": 0, \"ticks\": \"\"}}, \"marker\": {\"colorbar\": {\"outlinewidth\": 0, \"ticks\": \"\"}}, \"type\": \"scatter3d\"}], \"scattercarpet\": [{\"marker\": {\"colorbar\": {\"outlinewidth\": 0, \"ticks\": \"\"}}, \"type\": \"scattercarpet\"}], \"scattergeo\": [{\"marker\": {\"colorbar\": {\"outlinewidth\": 0, \"ticks\": \"\"}}, \"type\": \"scattergeo\"}], \"scattergl\": [{\"marker\": {\"colorbar\": {\"outlinewidth\": 0, \"ticks\": \"\"}}, \"type\": \"scattergl\"}], \"scattermapbox\": [{\"marker\": {\"colorbar\": {\"outlinewidth\": 0, \"ticks\": \"\"}}, \"type\": \"scattermapbox\"}], \"scatterpolar\": [{\"marker\": {\"colorbar\": {\"outlinewidth\": 0, \"ticks\": \"\"}}, \"type\": \"scatterpolar\"}], \"scatterpolargl\": [{\"marker\": {\"colorbar\": {\"outlinewidth\": 0, \"ticks\": \"\"}}, \"type\": \"scatterpolargl\"}], \"scatterternary\": [{\"marker\": {\"colorbar\": {\"outlinewidth\": 0, \"ticks\": \"\"}}, \"type\": \"scatterternary\"}], \"surface\": [{\"colorbar\": {\"outlinewidth\": 0, \"ticks\": \"\"}, \"colorscale\": [[0.0, \"#0d0887\"], [0.1111111111111111, \"#46039f\"], [0.2222222222222222, \"#7201a8\"], [0.3333333333333333, \"#9c179e\"], [0.4444444444444444, \"#bd3786\"], [0.5555555555555556, \"#d8576b\"], [0.6666666666666666, \"#ed7953\"], [0.7777777777777778, \"#fb9f3a\"], [0.8888888888888888, \"#fdca26\"], [1.0, \"#f0f921\"]], \"type\": \"surface\"}], \"table\": [{\"cells\": {\"fill\": {\"color\": \"#EBF0F8\"}, \"line\": {\"color\": \"white\"}}, \"header\": {\"fill\": {\"color\": \"#C8D4E3\"}, \"line\": {\"color\": \"white\"}}, \"type\": \"table\"}]}, \"layout\": {\"annotationdefaults\": {\"arrowcolor\": \"#2a3f5f\", \"arrowhead\": 0, \"arrowwidth\": 1}, \"coloraxis\": {\"colorbar\": {\"outlinewidth\": 0, \"ticks\": \"\"}}, \"colorscale\": {\"diverging\": [[0, \"#8e0152\"], [0.1, \"#c51b7d\"], [0.2, \"#de77ae\"], [0.3, \"#f1b6da\"], [0.4, \"#fde0ef\"], [0.5, \"#f7f7f7\"], [0.6, \"#e6f5d0\"], [0.7, \"#b8e186\"], [0.8, \"#7fbc41\"], [0.9, \"#4d9221\"], [1, \"#276419\"]], \"sequential\": [[0.0, \"#0d0887\"], [0.1111111111111111, \"#46039f\"], [0.2222222222222222, \"#7201a8\"], [0.3333333333333333, \"#9c179e\"], [0.4444444444444444, \"#bd3786\"], [0.5555555555555556, \"#d8576b\"], [0.6666666666666666, \"#ed7953\"], [0.7777777777777778, \"#fb9f3a\"], [0.8888888888888888, \"#fdca26\"], [1.0, \"#f0f921\"]], \"sequentialminus\": [[0.0, \"#0d0887\"], [0.1111111111111111, \"#46039f\"], [0.2222222222222222, \"#7201a8\"], [0.3333333333333333, \"#9c179e\"], [0.4444444444444444, \"#bd3786\"], [0.5555555555555556, \"#d8576b\"], [0.6666666666666666, \"#ed7953\"], [0.7777777777777778, \"#fb9f3a\"], [0.8888888888888888, \"#fdca26\"], [1.0, \"#f0f921\"]]}, \"colorway\": [\"#636efa\", \"#EF553B\", \"#00cc96\", \"#ab63fa\", \"#FFA15A\", \"#19d3f3\", \"#FF6692\", \"#B6E880\", \"#FF97FF\", \"#FECB52\"], \"font\": {\"color\": \"#2a3f5f\"}, \"geo\": {\"bgcolor\": \"white\", \"lakecolor\": \"white\", \"landcolor\": \"#E5ECF6\", \"showlakes\": true, \"showland\": true, \"subunitcolor\": \"white\"}, \"hoverlabel\": {\"align\": \"left\"}, \"hovermode\": \"closest\", \"mapbox\": {\"style\": \"light\"}, \"paper_bgcolor\": \"white\", \"plot_bgcolor\": \"#E5ECF6\", \"polar\": {\"angularaxis\": {\"gridcolor\": \"white\", \"linecolor\": \"white\", \"ticks\": \"\"}, \"bgcolor\": \"#E5ECF6\", \"radialaxis\": {\"gridcolor\": \"white\", \"linecolor\": \"white\", \"ticks\": \"\"}}, \"scene\": {\"xaxis\": {\"backgroundcolor\": \"#E5ECF6\", \"gridcolor\": \"white\", \"gridwidth\": 2, \"linecolor\": \"white\", \"showbackground\": true, \"ticks\": \"\", \"zerolinecolor\": \"white\"}, \"yaxis\": {\"backgroundcolor\": \"#E5ECF6\", \"gridcolor\": \"white\", \"gridwidth\": 2, \"linecolor\": \"white\", \"showbackground\": true, \"ticks\": \"\", \"zerolinecolor\": \"white\"}, \"zaxis\": {\"backgroundcolor\": \"#E5ECF6\", \"gridcolor\": \"white\", \"gridwidth\": 2, \"linecolor\": \"white\", \"showbackground\": true, \"ticks\": \"\", \"zerolinecolor\": \"white\"}}, \"shapedefaults\": {\"line\": {\"color\": \"#2a3f5f\"}}, \"ternary\": {\"aaxis\": {\"gridcolor\": \"white\", \"linecolor\": \"white\", \"ticks\": \"\"}, \"baxis\": {\"gridcolor\": \"white\", \"linecolor\": \"white\", \"ticks\": \"\"}, \"bgcolor\": \"#E5ECF6\", \"caxis\": {\"gridcolor\": \"white\", \"linecolor\": \"white\", \"ticks\": \"\"}}, \"title\": {\"x\": 0.05}, \"xaxis\": {\"automargin\": true, \"gridcolor\": \"white\", \"linecolor\": \"white\", \"ticks\": \"\", \"title\": {\"standoff\": 15}, \"zerolinecolor\": \"white\", \"zerolinewidth\": 2}, \"yaxis\": {\"automargin\": true, \"gridcolor\": \"white\", \"linecolor\": \"white\", \"ticks\": \"\", \"title\": {\"standoff\": 15}, \"zerolinecolor\": \"white\", \"zerolinewidth\": 2}}}, \"title\": {\"text\": \"New Coronavirus Cases in the US\"}, \"xaxis\": {\"anchor\": \"y\", \"domain\": [0.0, 1.0], \"title\": {\"text\": \"Date\"}}, \"yaxis\": {\"anchor\": \"x\", \"domain\": [0.0, 1.0], \"title\": {\"text\": \"NewCases\"}}},\n",
       "                        {\"responsive\": true}\n",
       "                    ).then(function(){\n",
       "                            \n",
       "var gd = document.getElementById('1cd2216e-fc54-43ee-80c2-0a4a112d749c');\n",
       "var x = new MutationObserver(function (mutations, observer) {{\n",
       "        var display = window.getComputedStyle(gd).display;\n",
       "        if (!display || display === 'none') {{\n",
       "            console.log([gd, 'removed!']);\n",
       "            Plotly.purge(gd);\n",
       "            observer.disconnect();\n",
       "        }}\n",
       "}});\n",
       "\n",
       "// Listen for the removal of the full notebook cells\n",
       "var notebookContainer = gd.closest('#notebook-container');\n",
       "if (notebookContainer) {{\n",
       "    x.observe(notebookContainer, {childList: true});\n",
       "}}\n",
       "\n",
       "// Listen for the clearing of the current output cell\n",
       "var outputEl = gd.closest('.output');\n",
       "if (outputEl) {{\n",
       "    x.observe(outputEl, {childList: true});\n",
       "}}\n",
       "\n",
       "                        })\n",
       "                };\n",
       "                });\n",
       "            </script>\n",
       "        </div>"
      ]
     },
     "metadata": {},
     "output_type": "display_data"
    }
   ],
   "source": [
    "# import plotly.express as px\n",
    "fig = px.bar(us_newcases1, x=\"Date\", y=\"NewCases\", color='NewCases', orientation='v', height=600,\n",
    "             title='New Coronavirus Cases in the US', color_discrete_sequence = px.colors.cyclical.IceFire)\n",
    "\n",
    "fig.update_layout(plot_bgcolor='rgb(230, 230, 230)')\n",
    "fig.show()"
   ]
  },
  {
   "cell_type": "markdown",
   "metadata": {},
   "source": [
    "### 4.4 Multiparameter Visualizations"
   ]
  },
  {
   "cell_type": "code",
   "execution_count": 59,
   "metadata": {},
   "outputs": [
    {
     "data": {
      "text/html": [
       "<div>\n",
       "<style scoped>\n",
       "    .dataframe tbody tr th:only-of-type {\n",
       "        vertical-align: middle;\n",
       "    }\n",
       "\n",
       "    .dataframe tbody tr th {\n",
       "        vertical-align: top;\n",
       "    }\n",
       "\n",
       "    .dataframe thead th {\n",
       "        text-align: right;\n",
       "    }\n",
       "</style>\n",
       "<table border=\"1\" class=\"dataframe\">\n",
       "  <thead>\n",
       "    <tr style=\"text-align: right;\">\n",
       "      <th></th>\n",
       "      <th>date</th>\n",
       "      <th>states</th>\n",
       "      <th>positive</th>\n",
       "      <th>negative</th>\n",
       "      <th>pending</th>\n",
       "      <th>hospitalizedCurrently</th>\n",
       "      <th>hospitalizedCumulative</th>\n",
       "      <th>inIcuCurrently</th>\n",
       "      <th>inIcuCumulative</th>\n",
       "      <th>onVentilatorCurrently</th>\n",
       "      <th>...</th>\n",
       "      <th>hospitalized</th>\n",
       "      <th>total</th>\n",
       "      <th>totalTestResults</th>\n",
       "      <th>posNeg</th>\n",
       "      <th>fips</th>\n",
       "      <th>deathIncrease</th>\n",
       "      <th>hospitalizedIncrease</th>\n",
       "      <th>negativeIncrease</th>\n",
       "      <th>positiveIncrease</th>\n",
       "      <th>totalTestResultsIncrease</th>\n",
       "    </tr>\n",
       "  </thead>\n",
       "  <tbody>\n",
       "    <tr>\n",
       "      <th>0</th>\n",
       "      <td>20200505</td>\n",
       "      <td>56</td>\n",
       "      <td>1195605</td>\n",
       "      <td>6348723.0</td>\n",
       "      <td>2633.0</td>\n",
       "      <td>50906.0</td>\n",
       "      <td>129357.0</td>\n",
       "      <td>9348.0</td>\n",
       "      <td>4794.0</td>\n",
       "      <td>4818.0</td>\n",
       "      <td>...</td>\n",
       "      <td>129357.0</td>\n",
       "      <td>7546961</td>\n",
       "      <td>7544328</td>\n",
       "      <td>7544328</td>\n",
       "      <td>NaN</td>\n",
       "      <td>2527.0</td>\n",
       "      <td>1960.0</td>\n",
       "      <td>236802.0</td>\n",
       "      <td>22152.0</td>\n",
       "      <td>258954.0</td>\n",
       "    </tr>\n",
       "    <tr>\n",
       "      <th>1</th>\n",
       "      <td>20200504</td>\n",
       "      <td>56</td>\n",
       "      <td>1173453</td>\n",
       "      <td>6111921.0</td>\n",
       "      <td>2791.0</td>\n",
       "      <td>50062.0</td>\n",
       "      <td>127397.0</td>\n",
       "      <td>9366.0</td>\n",
       "      <td>4579.0</td>\n",
       "      <td>4848.0</td>\n",
       "      <td>...</td>\n",
       "      <td>127397.0</td>\n",
       "      <td>7288165</td>\n",
       "      <td>7285374</td>\n",
       "      <td>7285374</td>\n",
       "      <td>NaN</td>\n",
       "      <td>912.0</td>\n",
       "      <td>1601.0</td>\n",
       "      <td>210561.0</td>\n",
       "      <td>21447.0</td>\n",
       "      <td>232008.0</td>\n",
       "    </tr>\n",
       "    <tr>\n",
       "      <th>2</th>\n",
       "      <td>20200503</td>\n",
       "      <td>56</td>\n",
       "      <td>1152006</td>\n",
       "      <td>5901360.0</td>\n",
       "      <td>2812.0</td>\n",
       "      <td>50312.0</td>\n",
       "      <td>125796.0</td>\n",
       "      <td>9292.0</td>\n",
       "      <td>4502.0</td>\n",
       "      <td>4761.0</td>\n",
       "      <td>...</td>\n",
       "      <td>125796.0</td>\n",
       "      <td>7056178</td>\n",
       "      <td>7053366</td>\n",
       "      <td>7053366</td>\n",
       "      <td>NaN</td>\n",
       "      <td>1158.0</td>\n",
       "      <td>1936.0</td>\n",
       "      <td>221838.0</td>\n",
       "      <td>26287.0</td>\n",
       "      <td>248125.0</td>\n",
       "    </tr>\n",
       "    <tr>\n",
       "      <th>3</th>\n",
       "      <td>20200502</td>\n",
       "      <td>56</td>\n",
       "      <td>1125719</td>\n",
       "      <td>5679522.0</td>\n",
       "      <td>1578.0</td>\n",
       "      <td>51734.0</td>\n",
       "      <td>123860.0</td>\n",
       "      <td>9403.0</td>\n",
       "      <td>4386.0</td>\n",
       "      <td>4845.0</td>\n",
       "      <td>...</td>\n",
       "      <td>123860.0</td>\n",
       "      <td>6806819</td>\n",
       "      <td>6805241</td>\n",
       "      <td>6805241</td>\n",
       "      <td>NaN</td>\n",
       "      <td>1651.0</td>\n",
       "      <td>2112.0</td>\n",
       "      <td>223393.0</td>\n",
       "      <td>30038.0</td>\n",
       "      <td>253431.0</td>\n",
       "    </tr>\n",
       "    <tr>\n",
       "      <th>4</th>\n",
       "      <td>20200501</td>\n",
       "      <td>56</td>\n",
       "      <td>1095681</td>\n",
       "      <td>5456129.0</td>\n",
       "      <td>1639.0</td>\n",
       "      <td>52370.0</td>\n",
       "      <td>121748.0</td>\n",
       "      <td>9205.0</td>\n",
       "      <td>4300.0</td>\n",
       "      <td>4707.0</td>\n",
       "      <td>...</td>\n",
       "      <td>121748.0</td>\n",
       "      <td>6553449</td>\n",
       "      <td>6551810</td>\n",
       "      <td>6551810</td>\n",
       "      <td>NaN</td>\n",
       "      <td>1739.0</td>\n",
       "      <td>9761.0</td>\n",
       "      <td>262863.0</td>\n",
       "      <td>33178.0</td>\n",
       "      <td>296041.0</td>\n",
       "    </tr>\n",
       "  </tbody>\n",
       "</table>\n",
       "<p>5 rows × 25 columns</p>\n",
       "</div>"
      ],
      "text/plain": [
       "       date  states  positive   negative  pending  hospitalizedCurrently  \\\n",
       "0  20200505      56   1195605  6348723.0   2633.0                50906.0   \n",
       "1  20200504      56   1173453  6111921.0   2791.0                50062.0   \n",
       "2  20200503      56   1152006  5901360.0   2812.0                50312.0   \n",
       "3  20200502      56   1125719  5679522.0   1578.0                51734.0   \n",
       "4  20200501      56   1095681  5456129.0   1639.0                52370.0   \n",
       "\n",
       "   hospitalizedCumulative  inIcuCurrently  inIcuCumulative  \\\n",
       "0                129357.0          9348.0           4794.0   \n",
       "1                127397.0          9366.0           4579.0   \n",
       "2                125796.0          9292.0           4502.0   \n",
       "3                123860.0          9403.0           4386.0   \n",
       "4                121748.0          9205.0           4300.0   \n",
       "\n",
       "   onVentilatorCurrently  ...  hospitalized    total totalTestResults  \\\n",
       "0                 4818.0  ...      129357.0  7546961          7544328   \n",
       "1                 4848.0  ...      127397.0  7288165          7285374   \n",
       "2                 4761.0  ...      125796.0  7056178          7053366   \n",
       "3                 4845.0  ...      123860.0  6806819          6805241   \n",
       "4                 4707.0  ...      121748.0  6553449          6551810   \n",
       "\n",
       "    posNeg  fips  deathIncrease  hospitalizedIncrease  negativeIncrease  \\\n",
       "0  7544328   NaN         2527.0                1960.0          236802.0   \n",
       "1  7285374   NaN          912.0                1601.0          210561.0   \n",
       "2  7053366   NaN         1158.0                1936.0          221838.0   \n",
       "3  6805241   NaN         1651.0                2112.0          223393.0   \n",
       "4  6551810   NaN         1739.0                9761.0          262863.0   \n",
       "\n",
       "   positiveIncrease  totalTestResultsIncrease  \n",
       "0           22152.0                  258954.0  \n",
       "1           21447.0                  232008.0  \n",
       "2           26287.0                  248125.0  \n",
       "3           30038.0                  253431.0  \n",
       "4           33178.0                  296041.0  \n",
       "\n",
       "[5 rows x 25 columns]"
      ]
     },
     "execution_count": 59,
     "metadata": {},
     "output_type": "execute_result"
    }
   ],
   "source": [
    "df3 = pd.read_csv(\"./Resources/us_daily.csv\")\n",
    "df3.head()"
   ]
  },
  {
   "cell_type": "code",
   "execution_count": 60,
   "metadata": {},
   "outputs": [
    {
     "data": {
      "text/plain": [
       "['date',\n",
       " 'states',\n",
       " 'positive',\n",
       " 'negative',\n",
       " 'pending',\n",
       " 'hospitalizedCurrently',\n",
       " 'hospitalizedCumulative',\n",
       " 'inIcuCurrently',\n",
       " 'inIcuCumulative',\n",
       " 'onVentilatorCurrently',\n",
       " 'onVentilatorCumulative',\n",
       " 'recovered',\n",
       " 'hash',\n",
       " 'dateChecked',\n",
       " 'death',\n",
       " 'hospitalized',\n",
       " 'total',\n",
       " 'totalTestResults',\n",
       " 'posNeg',\n",
       " 'fips',\n",
       " 'deathIncrease',\n",
       " 'hospitalizedIncrease',\n",
       " 'negativeIncrease',\n",
       " 'positiveIncrease',\n",
       " 'totalTestResultsIncrease']"
      ]
     },
     "execution_count": 60,
     "metadata": {},
     "output_type": "execute_result"
    }
   ],
   "source": [
    "list(df3.columns)"
   ]
  },
  {
   "cell_type": "code",
   "execution_count": 61,
   "metadata": {},
   "outputs": [],
   "source": [
    "confirmed = df3.groupby('date').sum()['positive'].reset_index()\n",
    "deaths = df3.groupby('date').sum()['death'].reset_index()\n",
    "recovered = df3.groupby('date').sum()['recovered'].reset_index()"
   ]
  },
  {
   "cell_type": "code",
   "execution_count": 62,
   "metadata": {},
   "outputs": [],
   "source": [
    "confirmed['date'] = confirmed.apply(lambda x: pd.to_datetime(confirmed['date'], format='%Y%m%d'))\n",
    "recovered['date'] = recovered.apply(lambda x: pd.to_datetime(recovered['date'], format='%Y%m%d'))\n",
    "deaths['date'] = deaths.apply(lambda x: pd.to_datetime(deaths['date'], format='%Y%m%d'))"
   ]
  },
  {
   "cell_type": "code",
   "execution_count": 63,
   "metadata": {},
   "outputs": [
    {
     "data": {
      "application/vnd.plotly.v1+json": {
       "config": {
        "plotlyServerURL": "https://plot.ly"
       },
       "data": [
        {
         "line": {
          "color": "blue",
          "width": 2
         },
         "mode": "lines+markers",
         "name": "Confirmed",
         "type": "scatter",
         "x": [
          "2020-01-22T00:00:00",
          "2020-01-23T00:00:00",
          "2020-01-24T00:00:00",
          "2020-01-25T00:00:00",
          "2020-01-26T00:00:00",
          "2020-01-27T00:00:00",
          "2020-01-28T00:00:00",
          "2020-01-29T00:00:00",
          "2020-01-30T00:00:00",
          "2020-01-31T00:00:00",
          "2020-02-01T00:00:00",
          "2020-02-02T00:00:00",
          "2020-02-03T00:00:00",
          "2020-02-04T00:00:00",
          "2020-02-05T00:00:00",
          "2020-02-06T00:00:00",
          "2020-02-07T00:00:00",
          "2020-02-08T00:00:00",
          "2020-02-09T00:00:00",
          "2020-02-10T00:00:00",
          "2020-02-11T00:00:00",
          "2020-02-12T00:00:00",
          "2020-02-13T00:00:00",
          "2020-02-14T00:00:00",
          "2020-02-15T00:00:00",
          "2020-02-16T00:00:00",
          "2020-02-17T00:00:00",
          "2020-02-18T00:00:00",
          "2020-02-19T00:00:00",
          "2020-02-20T00:00:00",
          "2020-02-21T00:00:00",
          "2020-02-22T00:00:00",
          "2020-02-23T00:00:00",
          "2020-02-24T00:00:00",
          "2020-02-25T00:00:00",
          "2020-02-26T00:00:00",
          "2020-02-27T00:00:00",
          "2020-02-28T00:00:00",
          "2020-02-29T00:00:00",
          "2020-03-01T00:00:00",
          "2020-03-02T00:00:00",
          "2020-03-03T00:00:00",
          "2020-03-04T00:00:00",
          "2020-03-05T00:00:00",
          "2020-03-06T00:00:00",
          "2020-03-07T00:00:00",
          "2020-03-08T00:00:00",
          "2020-03-09T00:00:00",
          "2020-03-10T00:00:00",
          "2020-03-11T00:00:00",
          "2020-03-12T00:00:00",
          "2020-03-13T00:00:00",
          "2020-03-14T00:00:00",
          "2020-03-15T00:00:00",
          "2020-03-16T00:00:00",
          "2020-03-17T00:00:00",
          "2020-03-18T00:00:00",
          "2020-03-19T00:00:00",
          "2020-03-20T00:00:00",
          "2020-03-21T00:00:00",
          "2020-03-22T00:00:00",
          "2020-03-23T00:00:00",
          "2020-03-24T00:00:00",
          "2020-03-25T00:00:00",
          "2020-03-26T00:00:00",
          "2020-03-27T00:00:00",
          "2020-03-28T00:00:00",
          "2020-03-29T00:00:00",
          "2020-03-30T00:00:00",
          "2020-03-31T00:00:00",
          "2020-04-01T00:00:00",
          "2020-04-02T00:00:00",
          "2020-04-03T00:00:00",
          "2020-04-04T00:00:00",
          "2020-04-05T00:00:00",
          "2020-04-06T00:00:00",
          "2020-04-07T00:00:00",
          "2020-04-08T00:00:00",
          "2020-04-09T00:00:00",
          "2020-04-10T00:00:00",
          "2020-04-11T00:00:00",
          "2020-04-12T00:00:00",
          "2020-04-13T00:00:00",
          "2020-04-14T00:00:00",
          "2020-04-15T00:00:00",
          "2020-04-16T00:00:00",
          "2020-04-17T00:00:00",
          "2020-04-18T00:00:00",
          "2020-04-19T00:00:00",
          "2020-04-20T00:00:00",
          "2020-04-21T00:00:00",
          "2020-04-22T00:00:00",
          "2020-04-23T00:00:00",
          "2020-04-24T00:00:00",
          "2020-04-25T00:00:00",
          "2020-04-26T00:00:00",
          "2020-04-27T00:00:00",
          "2020-04-28T00:00:00",
          "2020-04-29T00:00:00",
          "2020-04-30T00:00:00",
          "2020-05-01T00:00:00",
          "2020-05-02T00:00:00",
          "2020-05-03T00:00:00",
          "2020-05-04T00:00:00",
          "2020-05-05T00:00:00"
         ],
         "y": [
          1,
          1,
          1,
          1,
          1,
          1,
          1,
          1,
          1,
          1,
          1,
          1,
          1,
          1,
          1,
          1,
          2,
          2,
          2,
          2,
          2,
          2,
          2,
          2,
          2,
          2,
          2,
          2,
          2,
          2,
          2,
          2,
          2,
          2,
          2,
          2,
          2,
          9,
          18,
          40,
          53,
          94,
          207,
          275,
          387,
          538,
          721,
          1013,
          1280,
          1672,
          2142,
          3004,
          3759,
          4843,
          6130,
          8288,
          10865,
          15063,
          20840,
          27372,
          36334,
          47013,
          57179,
          69473,
          86789,
          105462,
          124815,
          144297,
          165521,
          189998,
          215177,
          243235,
          275234,
          308752,
          334718,
          363465,
          393874,
          424045,
          458260,
          492848,
          522750,
          551906,
          576875,
          602795,
          633112,
          664129,
          696010,
          724047,
          751646,
          776830,
          802772,
          831374,
          862752,
          896894,
          932846,
          959861,
          981760,
          1005789,
          1033157,
          1062503,
          1095681,
          1125719,
          1152006,
          1173453,
          1195605
         ]
        },
        {
         "line": {
          "color": "Red",
          "width": 2
         },
         "mode": "lines+markers",
         "name": "Deaths",
         "type": "scatter",
         "x": [
          "2020-01-22T00:00:00",
          "2020-01-23T00:00:00",
          "2020-01-24T00:00:00",
          "2020-01-25T00:00:00",
          "2020-01-26T00:00:00",
          "2020-01-27T00:00:00",
          "2020-01-28T00:00:00",
          "2020-01-29T00:00:00",
          "2020-01-30T00:00:00",
          "2020-01-31T00:00:00",
          "2020-02-01T00:00:00",
          "2020-02-02T00:00:00",
          "2020-02-03T00:00:00",
          "2020-02-04T00:00:00",
          "2020-02-05T00:00:00",
          "2020-02-06T00:00:00",
          "2020-02-07T00:00:00",
          "2020-02-08T00:00:00",
          "2020-02-09T00:00:00",
          "2020-02-10T00:00:00",
          "2020-02-11T00:00:00",
          "2020-02-12T00:00:00",
          "2020-02-13T00:00:00",
          "2020-02-14T00:00:00",
          "2020-02-15T00:00:00",
          "2020-02-16T00:00:00",
          "2020-02-17T00:00:00",
          "2020-02-18T00:00:00",
          "2020-02-19T00:00:00",
          "2020-02-20T00:00:00",
          "2020-02-21T00:00:00",
          "2020-02-22T00:00:00",
          "2020-02-23T00:00:00",
          "2020-02-24T00:00:00",
          "2020-02-25T00:00:00",
          "2020-02-26T00:00:00",
          "2020-02-27T00:00:00",
          "2020-02-28T00:00:00",
          "2020-02-29T00:00:00",
          "2020-03-01T00:00:00",
          "2020-03-02T00:00:00",
          "2020-03-03T00:00:00",
          "2020-03-04T00:00:00",
          "2020-03-05T00:00:00",
          "2020-03-06T00:00:00",
          "2020-03-07T00:00:00",
          "2020-03-08T00:00:00",
          "2020-03-09T00:00:00",
          "2020-03-10T00:00:00",
          "2020-03-11T00:00:00",
          "2020-03-12T00:00:00",
          "2020-03-13T00:00:00",
          "2020-03-14T00:00:00",
          "2020-03-15T00:00:00",
          "2020-03-16T00:00:00",
          "2020-03-17T00:00:00",
          "2020-03-18T00:00:00",
          "2020-03-19T00:00:00",
          "2020-03-20T00:00:00",
          "2020-03-21T00:00:00",
          "2020-03-22T00:00:00",
          "2020-03-23T00:00:00",
          "2020-03-24T00:00:00",
          "2020-03-25T00:00:00",
          "2020-03-26T00:00:00",
          "2020-03-27T00:00:00",
          "2020-03-28T00:00:00",
          "2020-03-29T00:00:00",
          "2020-03-30T00:00:00",
          "2020-03-31T00:00:00",
          "2020-04-01T00:00:00",
          "2020-04-02T00:00:00",
          "2020-04-03T00:00:00",
          "2020-04-04T00:00:00",
          "2020-04-05T00:00:00",
          "2020-04-06T00:00:00",
          "2020-04-07T00:00:00",
          "2020-04-08T00:00:00",
          "2020-04-09T00:00:00",
          "2020-04-10T00:00:00",
          "2020-04-11T00:00:00",
          "2020-04-12T00:00:00",
          "2020-04-13T00:00:00",
          "2020-04-14T00:00:00",
          "2020-04-15T00:00:00",
          "2020-04-16T00:00:00",
          "2020-04-17T00:00:00",
          "2020-04-18T00:00:00",
          "2020-04-19T00:00:00",
          "2020-04-20T00:00:00",
          "2020-04-21T00:00:00",
          "2020-04-22T00:00:00",
          "2020-04-23T00:00:00",
          "2020-04-24T00:00:00",
          "2020-04-25T00:00:00",
          "2020-04-26T00:00:00",
          "2020-04-27T00:00:00",
          "2020-04-28T00:00:00",
          "2020-04-29T00:00:00",
          "2020-04-30T00:00:00",
          "2020-05-01T00:00:00",
          "2020-05-02T00:00:00",
          "2020-05-03T00:00:00",
          "2020-05-04T00:00:00",
          "2020-05-05T00:00:00"
         ],
         "y": [
          0,
          0,
          0,
          0,
          0,
          0,
          0,
          0,
          0,
          0,
          0,
          0,
          0,
          0,
          0,
          0,
          0,
          0,
          0,
          0,
          0,
          0,
          0,
          0,
          0,
          0,
          0,
          0,
          0,
          0,
          0,
          0,
          0,
          0,
          0,
          2,
          2,
          4,
          5,
          8,
          11,
          14,
          16,
          20,
          26,
          27,
          31,
          35,
          37,
          43,
          51,
          55,
          63,
          77,
          98,
          120,
          145,
          189,
          253,
          306,
          436,
          521,
          725,
          953,
          1231,
          1604,
          2038,
          2527,
          3060,
          3877,
          4823,
          5924,
          7112,
          8487,
          9714,
          10937,
          12841,
          14737,
          16659,
          18751,
          20686,
          22237,
          23754,
          26066,
          28564,
          30722,
          32785,
          34570,
          36238,
          37933,
          40486,
          42528,
          44409,
          46251,
          48069,
          49164,
          50327,
          52525,
          55225,
          57320,
          59059,
          60710,
          61868,
          62780,
          65307
         ]
        },
        {
         "line": {
          "color": "Green",
          "width": 2
         },
         "mode": "lines+markers",
         "name": "Recovered",
         "type": "scatter",
         "x": [
          "2020-01-22T00:00:00",
          "2020-01-23T00:00:00",
          "2020-01-24T00:00:00",
          "2020-01-25T00:00:00",
          "2020-01-26T00:00:00",
          "2020-01-27T00:00:00",
          "2020-01-28T00:00:00",
          "2020-01-29T00:00:00",
          "2020-01-30T00:00:00",
          "2020-01-31T00:00:00",
          "2020-02-01T00:00:00",
          "2020-02-02T00:00:00",
          "2020-02-03T00:00:00",
          "2020-02-04T00:00:00",
          "2020-02-05T00:00:00",
          "2020-02-06T00:00:00",
          "2020-02-07T00:00:00",
          "2020-02-08T00:00:00",
          "2020-02-09T00:00:00",
          "2020-02-10T00:00:00",
          "2020-02-11T00:00:00",
          "2020-02-12T00:00:00",
          "2020-02-13T00:00:00",
          "2020-02-14T00:00:00",
          "2020-02-15T00:00:00",
          "2020-02-16T00:00:00",
          "2020-02-17T00:00:00",
          "2020-02-18T00:00:00",
          "2020-02-19T00:00:00",
          "2020-02-20T00:00:00",
          "2020-02-21T00:00:00",
          "2020-02-22T00:00:00",
          "2020-02-23T00:00:00",
          "2020-02-24T00:00:00",
          "2020-02-25T00:00:00",
          "2020-02-26T00:00:00",
          "2020-02-27T00:00:00",
          "2020-02-28T00:00:00",
          "2020-02-29T00:00:00",
          "2020-03-01T00:00:00",
          "2020-03-02T00:00:00",
          "2020-03-03T00:00:00",
          "2020-03-04T00:00:00",
          "2020-03-05T00:00:00",
          "2020-03-06T00:00:00",
          "2020-03-07T00:00:00",
          "2020-03-08T00:00:00",
          "2020-03-09T00:00:00",
          "2020-03-10T00:00:00",
          "2020-03-11T00:00:00",
          "2020-03-12T00:00:00",
          "2020-03-13T00:00:00",
          "2020-03-14T00:00:00",
          "2020-03-15T00:00:00",
          "2020-03-16T00:00:00",
          "2020-03-17T00:00:00",
          "2020-03-18T00:00:00",
          "2020-03-19T00:00:00",
          "2020-03-20T00:00:00",
          "2020-03-21T00:00:00",
          "2020-03-22T00:00:00",
          "2020-03-23T00:00:00",
          "2020-03-24T00:00:00",
          "2020-03-25T00:00:00",
          "2020-03-26T00:00:00",
          "2020-03-27T00:00:00",
          "2020-03-28T00:00:00",
          "2020-03-29T00:00:00",
          "2020-03-30T00:00:00",
          "2020-03-31T00:00:00",
          "2020-04-01T00:00:00",
          "2020-04-02T00:00:00",
          "2020-04-03T00:00:00",
          "2020-04-04T00:00:00",
          "2020-04-05T00:00:00",
          "2020-04-06T00:00:00",
          "2020-04-07T00:00:00",
          "2020-04-08T00:00:00",
          "2020-04-09T00:00:00",
          "2020-04-10T00:00:00",
          "2020-04-11T00:00:00",
          "2020-04-12T00:00:00",
          "2020-04-13T00:00:00",
          "2020-04-14T00:00:00",
          "2020-04-15T00:00:00",
          "2020-04-16T00:00:00",
          "2020-04-17T00:00:00",
          "2020-04-18T00:00:00",
          "2020-04-19T00:00:00",
          "2020-04-20T00:00:00",
          "2020-04-21T00:00:00",
          "2020-04-22T00:00:00",
          "2020-04-23T00:00:00",
          "2020-04-24T00:00:00",
          "2020-04-25T00:00:00",
          "2020-04-26T00:00:00",
          "2020-04-27T00:00:00",
          "2020-04-28T00:00:00",
          "2020-04-29T00:00:00",
          "2020-04-30T00:00:00",
          "2020-05-01T00:00:00",
          "2020-05-02T00:00:00",
          "2020-05-03T00:00:00",
          "2020-05-04T00:00:00",
          "2020-05-05T00:00:00"
         ],
         "y": [
          0,
          0,
          0,
          0,
          0,
          0,
          0,
          0,
          0,
          0,
          0,
          0,
          0,
          0,
          0,
          0,
          0,
          0,
          0,
          0,
          0,
          0,
          0,
          0,
          0,
          0,
          0,
          0,
          0,
          0,
          0,
          0,
          0,
          0,
          0,
          0,
          0,
          0,
          0,
          0,
          0,
          0,
          0,
          0,
          0,
          0,
          0,
          0,
          0,
          0,
          0,
          0,
          0,
          0,
          0,
          0,
          0,
          0,
          0,
          0,
          0,
          0,
          0,
          147,
          97,
          2422,
          3148,
          4061,
          4560,
          5666,
          7084,
          8586,
          10861,
          12840,
          14542,
          16584,
          18477,
          21141,
          24869,
          29054,
          31631,
          34151,
          35442,
          39347,
          43522,
          48945,
          53644,
          62961,
          67339,
          69636,
          73002,
          78230,
          82194,
          101517,
          112783,
          116801,
          121609,
          139342,
          147484,
          154991,
          164015,
          175382,
          180152,
          187180,
          189791
         ]
        }
       ],
       "layout": {
        "template": {
         "data": {
          "bar": [
           {
            "error_x": {
             "color": "#2a3f5f"
            },
            "error_y": {
             "color": "#2a3f5f"
            },
            "marker": {
             "line": {
              "color": "#E5ECF6",
              "width": 0.5
             }
            },
            "type": "bar"
           }
          ],
          "barpolar": [
           {
            "marker": {
             "line": {
              "color": "#E5ECF6",
              "width": 0.5
             }
            },
            "type": "barpolar"
           }
          ],
          "carpet": [
           {
            "aaxis": {
             "endlinecolor": "#2a3f5f",
             "gridcolor": "white",
             "linecolor": "white",
             "minorgridcolor": "white",
             "startlinecolor": "#2a3f5f"
            },
            "baxis": {
             "endlinecolor": "#2a3f5f",
             "gridcolor": "white",
             "linecolor": "white",
             "minorgridcolor": "white",
             "startlinecolor": "#2a3f5f"
            },
            "type": "carpet"
           }
          ],
          "choropleth": [
           {
            "colorbar": {
             "outlinewidth": 0,
             "ticks": ""
            },
            "type": "choropleth"
           }
          ],
          "contour": [
           {
            "colorbar": {
             "outlinewidth": 0,
             "ticks": ""
            },
            "colorscale": [
             [
              0,
              "#0d0887"
             ],
             [
              0.1111111111111111,
              "#46039f"
             ],
             [
              0.2222222222222222,
              "#7201a8"
             ],
             [
              0.3333333333333333,
              "#9c179e"
             ],
             [
              0.4444444444444444,
              "#bd3786"
             ],
             [
              0.5555555555555556,
              "#d8576b"
             ],
             [
              0.6666666666666666,
              "#ed7953"
             ],
             [
              0.7777777777777778,
              "#fb9f3a"
             ],
             [
              0.8888888888888888,
              "#fdca26"
             ],
             [
              1,
              "#f0f921"
             ]
            ],
            "type": "contour"
           }
          ],
          "contourcarpet": [
           {
            "colorbar": {
             "outlinewidth": 0,
             "ticks": ""
            },
            "type": "contourcarpet"
           }
          ],
          "heatmap": [
           {
            "colorbar": {
             "outlinewidth": 0,
             "ticks": ""
            },
            "colorscale": [
             [
              0,
              "#0d0887"
             ],
             [
              0.1111111111111111,
              "#46039f"
             ],
             [
              0.2222222222222222,
              "#7201a8"
             ],
             [
              0.3333333333333333,
              "#9c179e"
             ],
             [
              0.4444444444444444,
              "#bd3786"
             ],
             [
              0.5555555555555556,
              "#d8576b"
             ],
             [
              0.6666666666666666,
              "#ed7953"
             ],
             [
              0.7777777777777778,
              "#fb9f3a"
             ],
             [
              0.8888888888888888,
              "#fdca26"
             ],
             [
              1,
              "#f0f921"
             ]
            ],
            "type": "heatmap"
           }
          ],
          "heatmapgl": [
           {
            "colorbar": {
             "outlinewidth": 0,
             "ticks": ""
            },
            "colorscale": [
             [
              0,
              "#0d0887"
             ],
             [
              0.1111111111111111,
              "#46039f"
             ],
             [
              0.2222222222222222,
              "#7201a8"
             ],
             [
              0.3333333333333333,
              "#9c179e"
             ],
             [
              0.4444444444444444,
              "#bd3786"
             ],
             [
              0.5555555555555556,
              "#d8576b"
             ],
             [
              0.6666666666666666,
              "#ed7953"
             ],
             [
              0.7777777777777778,
              "#fb9f3a"
             ],
             [
              0.8888888888888888,
              "#fdca26"
             ],
             [
              1,
              "#f0f921"
             ]
            ],
            "type": "heatmapgl"
           }
          ],
          "histogram": [
           {
            "marker": {
             "colorbar": {
              "outlinewidth": 0,
              "ticks": ""
             }
            },
            "type": "histogram"
           }
          ],
          "histogram2d": [
           {
            "colorbar": {
             "outlinewidth": 0,
             "ticks": ""
            },
            "colorscale": [
             [
              0,
              "#0d0887"
             ],
             [
              0.1111111111111111,
              "#46039f"
             ],
             [
              0.2222222222222222,
              "#7201a8"
             ],
             [
              0.3333333333333333,
              "#9c179e"
             ],
             [
              0.4444444444444444,
              "#bd3786"
             ],
             [
              0.5555555555555556,
              "#d8576b"
             ],
             [
              0.6666666666666666,
              "#ed7953"
             ],
             [
              0.7777777777777778,
              "#fb9f3a"
             ],
             [
              0.8888888888888888,
              "#fdca26"
             ],
             [
              1,
              "#f0f921"
             ]
            ],
            "type": "histogram2d"
           }
          ],
          "histogram2dcontour": [
           {
            "colorbar": {
             "outlinewidth": 0,
             "ticks": ""
            },
            "colorscale": [
             [
              0,
              "#0d0887"
             ],
             [
              0.1111111111111111,
              "#46039f"
             ],
             [
              0.2222222222222222,
              "#7201a8"
             ],
             [
              0.3333333333333333,
              "#9c179e"
             ],
             [
              0.4444444444444444,
              "#bd3786"
             ],
             [
              0.5555555555555556,
              "#d8576b"
             ],
             [
              0.6666666666666666,
              "#ed7953"
             ],
             [
              0.7777777777777778,
              "#fb9f3a"
             ],
             [
              0.8888888888888888,
              "#fdca26"
             ],
             [
              1,
              "#f0f921"
             ]
            ],
            "type": "histogram2dcontour"
           }
          ],
          "mesh3d": [
           {
            "colorbar": {
             "outlinewidth": 0,
             "ticks": ""
            },
            "type": "mesh3d"
           }
          ],
          "parcoords": [
           {
            "line": {
             "colorbar": {
              "outlinewidth": 0,
              "ticks": ""
             }
            },
            "type": "parcoords"
           }
          ],
          "pie": [
           {
            "automargin": true,
            "type": "pie"
           }
          ],
          "scatter": [
           {
            "marker": {
             "colorbar": {
              "outlinewidth": 0,
              "ticks": ""
             }
            },
            "type": "scatter"
           }
          ],
          "scatter3d": [
           {
            "line": {
             "colorbar": {
              "outlinewidth": 0,
              "ticks": ""
             }
            },
            "marker": {
             "colorbar": {
              "outlinewidth": 0,
              "ticks": ""
             }
            },
            "type": "scatter3d"
           }
          ],
          "scattercarpet": [
           {
            "marker": {
             "colorbar": {
              "outlinewidth": 0,
              "ticks": ""
             }
            },
            "type": "scattercarpet"
           }
          ],
          "scattergeo": [
           {
            "marker": {
             "colorbar": {
              "outlinewidth": 0,
              "ticks": ""
             }
            },
            "type": "scattergeo"
           }
          ],
          "scattergl": [
           {
            "marker": {
             "colorbar": {
              "outlinewidth": 0,
              "ticks": ""
             }
            },
            "type": "scattergl"
           }
          ],
          "scattermapbox": [
           {
            "marker": {
             "colorbar": {
              "outlinewidth": 0,
              "ticks": ""
             }
            },
            "type": "scattermapbox"
           }
          ],
          "scatterpolar": [
           {
            "marker": {
             "colorbar": {
              "outlinewidth": 0,
              "ticks": ""
             }
            },
            "type": "scatterpolar"
           }
          ],
          "scatterpolargl": [
           {
            "marker": {
             "colorbar": {
              "outlinewidth": 0,
              "ticks": ""
             }
            },
            "type": "scatterpolargl"
           }
          ],
          "scatterternary": [
           {
            "marker": {
             "colorbar": {
              "outlinewidth": 0,
              "ticks": ""
             }
            },
            "type": "scatterternary"
           }
          ],
          "surface": [
           {
            "colorbar": {
             "outlinewidth": 0,
             "ticks": ""
            },
            "colorscale": [
             [
              0,
              "#0d0887"
             ],
             [
              0.1111111111111111,
              "#46039f"
             ],
             [
              0.2222222222222222,
              "#7201a8"
             ],
             [
              0.3333333333333333,
              "#9c179e"
             ],
             [
              0.4444444444444444,
              "#bd3786"
             ],
             [
              0.5555555555555556,
              "#d8576b"
             ],
             [
              0.6666666666666666,
              "#ed7953"
             ],
             [
              0.7777777777777778,
              "#fb9f3a"
             ],
             [
              0.8888888888888888,
              "#fdca26"
             ],
             [
              1,
              "#f0f921"
             ]
            ],
            "type": "surface"
           }
          ],
          "table": [
           {
            "cells": {
             "fill": {
              "color": "#EBF0F8"
             },
             "line": {
              "color": "white"
             }
            },
            "header": {
             "fill": {
              "color": "#C8D4E3"
             },
             "line": {
              "color": "white"
             }
            },
            "type": "table"
           }
          ]
         },
         "layout": {
          "annotationdefaults": {
           "arrowcolor": "#2a3f5f",
           "arrowhead": 0,
           "arrowwidth": 1
          },
          "coloraxis": {
           "colorbar": {
            "outlinewidth": 0,
            "ticks": ""
           }
          },
          "colorscale": {
           "diverging": [
            [
             0,
             "#8e0152"
            ],
            [
             0.1,
             "#c51b7d"
            ],
            [
             0.2,
             "#de77ae"
            ],
            [
             0.3,
             "#f1b6da"
            ],
            [
             0.4,
             "#fde0ef"
            ],
            [
             0.5,
             "#f7f7f7"
            ],
            [
             0.6,
             "#e6f5d0"
            ],
            [
             0.7,
             "#b8e186"
            ],
            [
             0.8,
             "#7fbc41"
            ],
            [
             0.9,
             "#4d9221"
            ],
            [
             1,
             "#276419"
            ]
           ],
           "sequential": [
            [
             0,
             "#0d0887"
            ],
            [
             0.1111111111111111,
             "#46039f"
            ],
            [
             0.2222222222222222,
             "#7201a8"
            ],
            [
             0.3333333333333333,
             "#9c179e"
            ],
            [
             0.4444444444444444,
             "#bd3786"
            ],
            [
             0.5555555555555556,
             "#d8576b"
            ],
            [
             0.6666666666666666,
             "#ed7953"
            ],
            [
             0.7777777777777778,
             "#fb9f3a"
            ],
            [
             0.8888888888888888,
             "#fdca26"
            ],
            [
             1,
             "#f0f921"
            ]
           ],
           "sequentialminus": [
            [
             0,
             "#0d0887"
            ],
            [
             0.1111111111111111,
             "#46039f"
            ],
            [
             0.2222222222222222,
             "#7201a8"
            ],
            [
             0.3333333333333333,
             "#9c179e"
            ],
            [
             0.4444444444444444,
             "#bd3786"
            ],
            [
             0.5555555555555556,
             "#d8576b"
            ],
            [
             0.6666666666666666,
             "#ed7953"
            ],
            [
             0.7777777777777778,
             "#fb9f3a"
            ],
            [
             0.8888888888888888,
             "#fdca26"
            ],
            [
             1,
             "#f0f921"
            ]
           ]
          },
          "colorway": [
           "#636efa",
           "#EF553B",
           "#00cc96",
           "#ab63fa",
           "#FFA15A",
           "#19d3f3",
           "#FF6692",
           "#B6E880",
           "#FF97FF",
           "#FECB52"
          ],
          "font": {
           "color": "#2a3f5f"
          },
          "geo": {
           "bgcolor": "white",
           "lakecolor": "white",
           "landcolor": "#E5ECF6",
           "showlakes": true,
           "showland": true,
           "subunitcolor": "white"
          },
          "hoverlabel": {
           "align": "left"
          },
          "hovermode": "closest",
          "mapbox": {
           "style": "light"
          },
          "paper_bgcolor": "white",
          "plot_bgcolor": "#E5ECF6",
          "polar": {
           "angularaxis": {
            "gridcolor": "white",
            "linecolor": "white",
            "ticks": ""
           },
           "bgcolor": "#E5ECF6",
           "radialaxis": {
            "gridcolor": "white",
            "linecolor": "white",
            "ticks": ""
           }
          },
          "scene": {
           "xaxis": {
            "backgroundcolor": "#E5ECF6",
            "gridcolor": "white",
            "gridwidth": 2,
            "linecolor": "white",
            "showbackground": true,
            "ticks": "",
            "zerolinecolor": "white"
           },
           "yaxis": {
            "backgroundcolor": "#E5ECF6",
            "gridcolor": "white",
            "gridwidth": 2,
            "linecolor": "white",
            "showbackground": true,
            "ticks": "",
            "zerolinecolor": "white"
           },
           "zaxis": {
            "backgroundcolor": "#E5ECF6",
            "gridcolor": "white",
            "gridwidth": 2,
            "linecolor": "white",
            "showbackground": true,
            "ticks": "",
            "zerolinecolor": "white"
           }
          },
          "shapedefaults": {
           "line": {
            "color": "#2a3f5f"
           }
          },
          "ternary": {
           "aaxis": {
            "gridcolor": "white",
            "linecolor": "white",
            "ticks": ""
           },
           "baxis": {
            "gridcolor": "white",
            "linecolor": "white",
            "ticks": ""
           },
           "bgcolor": "#E5ECF6",
           "caxis": {
            "gridcolor": "white",
            "linecolor": "white",
            "ticks": ""
           }
          },
          "title": {
           "x": 0.05
          },
          "xaxis": {
           "automargin": true,
           "gridcolor": "white",
           "linecolor": "white",
           "ticks": "",
           "title": {
            "standoff": 15
           },
           "zerolinecolor": "white",
           "zerolinewidth": 2
          },
          "yaxis": {
           "automargin": true,
           "gridcolor": "white",
           "linecolor": "white",
           "ticks": "",
           "title": {
            "standoff": 15
           },
           "zerolinecolor": "white",
           "zerolinewidth": 2
          }
         }
        },
        "title": {
         "text": "Worldwide NCOVID-19 Cases"
        },
        "xaxis": {
         "tickfont": {
          "size": 14
         }
        },
        "yaxis": {
         "title": {
          "text": "Number of Cases"
         }
        }
       }
      },
      "text/html": [
       "<div>\n",
       "        \n",
       "        \n",
       "            <div id=\"636dca94-8cbe-48e2-9664-a7450d613a63\" class=\"plotly-graph-div\" style=\"height:525px; width:100%;\"></div>\n",
       "            <script type=\"text/javascript\">\n",
       "                require([\"plotly\"], function(Plotly) {\n",
       "                    window.PLOTLYENV=window.PLOTLYENV || {};\n",
       "                    \n",
       "                if (document.getElementById(\"636dca94-8cbe-48e2-9664-a7450d613a63\")) {\n",
       "                    Plotly.newPlot(\n",
       "                        '636dca94-8cbe-48e2-9664-a7450d613a63',\n",
       "                        [{\"line\": {\"color\": \"blue\", \"width\": 2}, \"mode\": \"lines+markers\", \"name\": \"Confirmed\", \"type\": \"scatter\", \"x\": [\"2020-01-22T00:00:00\", \"2020-01-23T00:00:00\", \"2020-01-24T00:00:00\", \"2020-01-25T00:00:00\", \"2020-01-26T00:00:00\", \"2020-01-27T00:00:00\", \"2020-01-28T00:00:00\", \"2020-01-29T00:00:00\", \"2020-01-30T00:00:00\", \"2020-01-31T00:00:00\", \"2020-02-01T00:00:00\", \"2020-02-02T00:00:00\", \"2020-02-03T00:00:00\", \"2020-02-04T00:00:00\", \"2020-02-05T00:00:00\", \"2020-02-06T00:00:00\", \"2020-02-07T00:00:00\", \"2020-02-08T00:00:00\", \"2020-02-09T00:00:00\", \"2020-02-10T00:00:00\", \"2020-02-11T00:00:00\", \"2020-02-12T00:00:00\", \"2020-02-13T00:00:00\", \"2020-02-14T00:00:00\", \"2020-02-15T00:00:00\", \"2020-02-16T00:00:00\", \"2020-02-17T00:00:00\", \"2020-02-18T00:00:00\", \"2020-02-19T00:00:00\", \"2020-02-20T00:00:00\", \"2020-02-21T00:00:00\", \"2020-02-22T00:00:00\", \"2020-02-23T00:00:00\", \"2020-02-24T00:00:00\", \"2020-02-25T00:00:00\", \"2020-02-26T00:00:00\", \"2020-02-27T00:00:00\", \"2020-02-28T00:00:00\", \"2020-02-29T00:00:00\", \"2020-03-01T00:00:00\", \"2020-03-02T00:00:00\", \"2020-03-03T00:00:00\", \"2020-03-04T00:00:00\", \"2020-03-05T00:00:00\", \"2020-03-06T00:00:00\", \"2020-03-07T00:00:00\", \"2020-03-08T00:00:00\", \"2020-03-09T00:00:00\", \"2020-03-10T00:00:00\", \"2020-03-11T00:00:00\", \"2020-03-12T00:00:00\", \"2020-03-13T00:00:00\", \"2020-03-14T00:00:00\", \"2020-03-15T00:00:00\", \"2020-03-16T00:00:00\", \"2020-03-17T00:00:00\", \"2020-03-18T00:00:00\", \"2020-03-19T00:00:00\", \"2020-03-20T00:00:00\", \"2020-03-21T00:00:00\", \"2020-03-22T00:00:00\", \"2020-03-23T00:00:00\", \"2020-03-24T00:00:00\", \"2020-03-25T00:00:00\", \"2020-03-26T00:00:00\", \"2020-03-27T00:00:00\", \"2020-03-28T00:00:00\", \"2020-03-29T00:00:00\", \"2020-03-30T00:00:00\", \"2020-03-31T00:00:00\", \"2020-04-01T00:00:00\", \"2020-04-02T00:00:00\", \"2020-04-03T00:00:00\", \"2020-04-04T00:00:00\", \"2020-04-05T00:00:00\", \"2020-04-06T00:00:00\", \"2020-04-07T00:00:00\", \"2020-04-08T00:00:00\", \"2020-04-09T00:00:00\", \"2020-04-10T00:00:00\", \"2020-04-11T00:00:00\", \"2020-04-12T00:00:00\", \"2020-04-13T00:00:00\", \"2020-04-14T00:00:00\", \"2020-04-15T00:00:00\", \"2020-04-16T00:00:00\", \"2020-04-17T00:00:00\", \"2020-04-18T00:00:00\", \"2020-04-19T00:00:00\", \"2020-04-20T00:00:00\", \"2020-04-21T00:00:00\", \"2020-04-22T00:00:00\", \"2020-04-23T00:00:00\", \"2020-04-24T00:00:00\", \"2020-04-25T00:00:00\", \"2020-04-26T00:00:00\", \"2020-04-27T00:00:00\", \"2020-04-28T00:00:00\", \"2020-04-29T00:00:00\", \"2020-04-30T00:00:00\", \"2020-05-01T00:00:00\", \"2020-05-02T00:00:00\", \"2020-05-03T00:00:00\", \"2020-05-04T00:00:00\", \"2020-05-05T00:00:00\"], \"y\": [1, 1, 1, 1, 1, 1, 1, 1, 1, 1, 1, 1, 1, 1, 1, 1, 2, 2, 2, 2, 2, 2, 2, 2, 2, 2, 2, 2, 2, 2, 2, 2, 2, 2, 2, 2, 2, 9, 18, 40, 53, 94, 207, 275, 387, 538, 721, 1013, 1280, 1672, 2142, 3004, 3759, 4843, 6130, 8288, 10865, 15063, 20840, 27372, 36334, 47013, 57179, 69473, 86789, 105462, 124815, 144297, 165521, 189998, 215177, 243235, 275234, 308752, 334718, 363465, 393874, 424045, 458260, 492848, 522750, 551906, 576875, 602795, 633112, 664129, 696010, 724047, 751646, 776830, 802772, 831374, 862752, 896894, 932846, 959861, 981760, 1005789, 1033157, 1062503, 1095681, 1125719, 1152006, 1173453, 1195605]}, {\"line\": {\"color\": \"Red\", \"width\": 2}, \"mode\": \"lines+markers\", \"name\": \"Deaths\", \"type\": \"scatter\", \"x\": [\"2020-01-22T00:00:00\", \"2020-01-23T00:00:00\", \"2020-01-24T00:00:00\", \"2020-01-25T00:00:00\", \"2020-01-26T00:00:00\", \"2020-01-27T00:00:00\", \"2020-01-28T00:00:00\", \"2020-01-29T00:00:00\", \"2020-01-30T00:00:00\", \"2020-01-31T00:00:00\", \"2020-02-01T00:00:00\", \"2020-02-02T00:00:00\", \"2020-02-03T00:00:00\", \"2020-02-04T00:00:00\", \"2020-02-05T00:00:00\", \"2020-02-06T00:00:00\", \"2020-02-07T00:00:00\", \"2020-02-08T00:00:00\", \"2020-02-09T00:00:00\", \"2020-02-10T00:00:00\", \"2020-02-11T00:00:00\", \"2020-02-12T00:00:00\", \"2020-02-13T00:00:00\", \"2020-02-14T00:00:00\", \"2020-02-15T00:00:00\", \"2020-02-16T00:00:00\", \"2020-02-17T00:00:00\", \"2020-02-18T00:00:00\", \"2020-02-19T00:00:00\", \"2020-02-20T00:00:00\", \"2020-02-21T00:00:00\", \"2020-02-22T00:00:00\", \"2020-02-23T00:00:00\", \"2020-02-24T00:00:00\", \"2020-02-25T00:00:00\", \"2020-02-26T00:00:00\", \"2020-02-27T00:00:00\", \"2020-02-28T00:00:00\", \"2020-02-29T00:00:00\", \"2020-03-01T00:00:00\", \"2020-03-02T00:00:00\", \"2020-03-03T00:00:00\", \"2020-03-04T00:00:00\", \"2020-03-05T00:00:00\", \"2020-03-06T00:00:00\", \"2020-03-07T00:00:00\", \"2020-03-08T00:00:00\", \"2020-03-09T00:00:00\", \"2020-03-10T00:00:00\", \"2020-03-11T00:00:00\", \"2020-03-12T00:00:00\", \"2020-03-13T00:00:00\", \"2020-03-14T00:00:00\", \"2020-03-15T00:00:00\", \"2020-03-16T00:00:00\", \"2020-03-17T00:00:00\", \"2020-03-18T00:00:00\", \"2020-03-19T00:00:00\", \"2020-03-20T00:00:00\", \"2020-03-21T00:00:00\", \"2020-03-22T00:00:00\", \"2020-03-23T00:00:00\", \"2020-03-24T00:00:00\", \"2020-03-25T00:00:00\", \"2020-03-26T00:00:00\", \"2020-03-27T00:00:00\", \"2020-03-28T00:00:00\", \"2020-03-29T00:00:00\", \"2020-03-30T00:00:00\", \"2020-03-31T00:00:00\", \"2020-04-01T00:00:00\", \"2020-04-02T00:00:00\", \"2020-04-03T00:00:00\", \"2020-04-04T00:00:00\", \"2020-04-05T00:00:00\", \"2020-04-06T00:00:00\", \"2020-04-07T00:00:00\", \"2020-04-08T00:00:00\", \"2020-04-09T00:00:00\", \"2020-04-10T00:00:00\", \"2020-04-11T00:00:00\", \"2020-04-12T00:00:00\", \"2020-04-13T00:00:00\", \"2020-04-14T00:00:00\", \"2020-04-15T00:00:00\", \"2020-04-16T00:00:00\", \"2020-04-17T00:00:00\", \"2020-04-18T00:00:00\", \"2020-04-19T00:00:00\", \"2020-04-20T00:00:00\", \"2020-04-21T00:00:00\", \"2020-04-22T00:00:00\", \"2020-04-23T00:00:00\", \"2020-04-24T00:00:00\", \"2020-04-25T00:00:00\", \"2020-04-26T00:00:00\", \"2020-04-27T00:00:00\", \"2020-04-28T00:00:00\", \"2020-04-29T00:00:00\", \"2020-04-30T00:00:00\", \"2020-05-01T00:00:00\", \"2020-05-02T00:00:00\", \"2020-05-03T00:00:00\", \"2020-05-04T00:00:00\", \"2020-05-05T00:00:00\"], \"y\": [0.0, 0.0, 0.0, 0.0, 0.0, 0.0, 0.0, 0.0, 0.0, 0.0, 0.0, 0.0, 0.0, 0.0, 0.0, 0.0, 0.0, 0.0, 0.0, 0.0, 0.0, 0.0, 0.0, 0.0, 0.0, 0.0, 0.0, 0.0, 0.0, 0.0, 0.0, 0.0, 0.0, 0.0, 0.0, 2.0, 2.0, 4.0, 5.0, 8.0, 11.0, 14.0, 16.0, 20.0, 26.0, 27.0, 31.0, 35.0, 37.0, 43.0, 51.0, 55.0, 63.0, 77.0, 98.0, 120.0, 145.0, 189.0, 253.0, 306.0, 436.0, 521.0, 725.0, 953.0, 1231.0, 1604.0, 2038.0, 2527.0, 3060.0, 3877.0, 4823.0, 5924.0, 7112.0, 8487.0, 9714.0, 10937.0, 12841.0, 14737.0, 16659.0, 18751.0, 20686.0, 22237.0, 23754.0, 26066.0, 28564.0, 30722.0, 32785.0, 34570.0, 36238.0, 37933.0, 40486.0, 42528.0, 44409.0, 46251.0, 48069.0, 49164.0, 50327.0, 52525.0, 55225.0, 57320.0, 59059.0, 60710.0, 61868.0, 62780.0, 65307.0]}, {\"line\": {\"color\": \"Green\", \"width\": 2}, \"mode\": \"lines+markers\", \"name\": \"Recovered\", \"type\": \"scatter\", \"x\": [\"2020-01-22T00:00:00\", \"2020-01-23T00:00:00\", \"2020-01-24T00:00:00\", \"2020-01-25T00:00:00\", \"2020-01-26T00:00:00\", \"2020-01-27T00:00:00\", \"2020-01-28T00:00:00\", \"2020-01-29T00:00:00\", \"2020-01-30T00:00:00\", \"2020-01-31T00:00:00\", \"2020-02-01T00:00:00\", \"2020-02-02T00:00:00\", \"2020-02-03T00:00:00\", \"2020-02-04T00:00:00\", \"2020-02-05T00:00:00\", \"2020-02-06T00:00:00\", \"2020-02-07T00:00:00\", \"2020-02-08T00:00:00\", \"2020-02-09T00:00:00\", \"2020-02-10T00:00:00\", \"2020-02-11T00:00:00\", \"2020-02-12T00:00:00\", \"2020-02-13T00:00:00\", \"2020-02-14T00:00:00\", \"2020-02-15T00:00:00\", \"2020-02-16T00:00:00\", \"2020-02-17T00:00:00\", \"2020-02-18T00:00:00\", \"2020-02-19T00:00:00\", \"2020-02-20T00:00:00\", \"2020-02-21T00:00:00\", \"2020-02-22T00:00:00\", \"2020-02-23T00:00:00\", \"2020-02-24T00:00:00\", \"2020-02-25T00:00:00\", \"2020-02-26T00:00:00\", \"2020-02-27T00:00:00\", \"2020-02-28T00:00:00\", \"2020-02-29T00:00:00\", \"2020-03-01T00:00:00\", \"2020-03-02T00:00:00\", \"2020-03-03T00:00:00\", \"2020-03-04T00:00:00\", \"2020-03-05T00:00:00\", \"2020-03-06T00:00:00\", \"2020-03-07T00:00:00\", \"2020-03-08T00:00:00\", \"2020-03-09T00:00:00\", \"2020-03-10T00:00:00\", \"2020-03-11T00:00:00\", \"2020-03-12T00:00:00\", \"2020-03-13T00:00:00\", \"2020-03-14T00:00:00\", \"2020-03-15T00:00:00\", \"2020-03-16T00:00:00\", \"2020-03-17T00:00:00\", \"2020-03-18T00:00:00\", \"2020-03-19T00:00:00\", \"2020-03-20T00:00:00\", \"2020-03-21T00:00:00\", \"2020-03-22T00:00:00\", \"2020-03-23T00:00:00\", \"2020-03-24T00:00:00\", \"2020-03-25T00:00:00\", \"2020-03-26T00:00:00\", \"2020-03-27T00:00:00\", \"2020-03-28T00:00:00\", \"2020-03-29T00:00:00\", \"2020-03-30T00:00:00\", \"2020-03-31T00:00:00\", \"2020-04-01T00:00:00\", \"2020-04-02T00:00:00\", \"2020-04-03T00:00:00\", \"2020-04-04T00:00:00\", \"2020-04-05T00:00:00\", \"2020-04-06T00:00:00\", \"2020-04-07T00:00:00\", \"2020-04-08T00:00:00\", \"2020-04-09T00:00:00\", \"2020-04-10T00:00:00\", \"2020-04-11T00:00:00\", \"2020-04-12T00:00:00\", \"2020-04-13T00:00:00\", \"2020-04-14T00:00:00\", \"2020-04-15T00:00:00\", \"2020-04-16T00:00:00\", \"2020-04-17T00:00:00\", \"2020-04-18T00:00:00\", \"2020-04-19T00:00:00\", \"2020-04-20T00:00:00\", \"2020-04-21T00:00:00\", \"2020-04-22T00:00:00\", \"2020-04-23T00:00:00\", \"2020-04-24T00:00:00\", \"2020-04-25T00:00:00\", \"2020-04-26T00:00:00\", \"2020-04-27T00:00:00\", \"2020-04-28T00:00:00\", \"2020-04-29T00:00:00\", \"2020-04-30T00:00:00\", \"2020-05-01T00:00:00\", \"2020-05-02T00:00:00\", \"2020-05-03T00:00:00\", \"2020-05-04T00:00:00\", \"2020-05-05T00:00:00\"], \"y\": [0.0, 0.0, 0.0, 0.0, 0.0, 0.0, 0.0, 0.0, 0.0, 0.0, 0.0, 0.0, 0.0, 0.0, 0.0, 0.0, 0.0, 0.0, 0.0, 0.0, 0.0, 0.0, 0.0, 0.0, 0.0, 0.0, 0.0, 0.0, 0.0, 0.0, 0.0, 0.0, 0.0, 0.0, 0.0, 0.0, 0.0, 0.0, 0.0, 0.0, 0.0, 0.0, 0.0, 0.0, 0.0, 0.0, 0.0, 0.0, 0.0, 0.0, 0.0, 0.0, 0.0, 0.0, 0.0, 0.0, 0.0, 0.0, 0.0, 0.0, 0.0, 0.0, 0.0, 147.0, 97.0, 2422.0, 3148.0, 4061.0, 4560.0, 5666.0, 7084.0, 8586.0, 10861.0, 12840.0, 14542.0, 16584.0, 18477.0, 21141.0, 24869.0, 29054.0, 31631.0, 34151.0, 35442.0, 39347.0, 43522.0, 48945.0, 53644.0, 62961.0, 67339.0, 69636.0, 73002.0, 78230.0, 82194.0, 101517.0, 112783.0, 116801.0, 121609.0, 139342.0, 147484.0, 154991.0, 164015.0, 175382.0, 180152.0, 187180.0, 189791.0]}],\n",
       "                        {\"template\": {\"data\": {\"bar\": [{\"error_x\": {\"color\": \"#2a3f5f\"}, \"error_y\": {\"color\": \"#2a3f5f\"}, \"marker\": {\"line\": {\"color\": \"#E5ECF6\", \"width\": 0.5}}, \"type\": \"bar\"}], \"barpolar\": [{\"marker\": {\"line\": {\"color\": \"#E5ECF6\", \"width\": 0.5}}, \"type\": \"barpolar\"}], \"carpet\": [{\"aaxis\": {\"endlinecolor\": \"#2a3f5f\", \"gridcolor\": \"white\", \"linecolor\": \"white\", \"minorgridcolor\": \"white\", \"startlinecolor\": \"#2a3f5f\"}, \"baxis\": {\"endlinecolor\": \"#2a3f5f\", \"gridcolor\": \"white\", \"linecolor\": \"white\", \"minorgridcolor\": \"white\", \"startlinecolor\": \"#2a3f5f\"}, \"type\": \"carpet\"}], \"choropleth\": [{\"colorbar\": {\"outlinewidth\": 0, \"ticks\": \"\"}, \"type\": \"choropleth\"}], \"contour\": [{\"colorbar\": {\"outlinewidth\": 0, \"ticks\": \"\"}, \"colorscale\": [[0.0, \"#0d0887\"], [0.1111111111111111, \"#46039f\"], [0.2222222222222222, \"#7201a8\"], [0.3333333333333333, \"#9c179e\"], [0.4444444444444444, \"#bd3786\"], [0.5555555555555556, \"#d8576b\"], [0.6666666666666666, \"#ed7953\"], [0.7777777777777778, \"#fb9f3a\"], [0.8888888888888888, \"#fdca26\"], [1.0, \"#f0f921\"]], \"type\": \"contour\"}], \"contourcarpet\": [{\"colorbar\": {\"outlinewidth\": 0, \"ticks\": \"\"}, \"type\": \"contourcarpet\"}], \"heatmap\": [{\"colorbar\": {\"outlinewidth\": 0, \"ticks\": \"\"}, \"colorscale\": [[0.0, \"#0d0887\"], [0.1111111111111111, \"#46039f\"], [0.2222222222222222, \"#7201a8\"], [0.3333333333333333, \"#9c179e\"], [0.4444444444444444, \"#bd3786\"], [0.5555555555555556, \"#d8576b\"], [0.6666666666666666, \"#ed7953\"], [0.7777777777777778, \"#fb9f3a\"], [0.8888888888888888, \"#fdca26\"], [1.0, \"#f0f921\"]], \"type\": \"heatmap\"}], \"heatmapgl\": [{\"colorbar\": {\"outlinewidth\": 0, \"ticks\": \"\"}, \"colorscale\": [[0.0, \"#0d0887\"], [0.1111111111111111, \"#46039f\"], [0.2222222222222222, \"#7201a8\"], [0.3333333333333333, \"#9c179e\"], [0.4444444444444444, \"#bd3786\"], [0.5555555555555556, \"#d8576b\"], [0.6666666666666666, \"#ed7953\"], [0.7777777777777778, \"#fb9f3a\"], [0.8888888888888888, \"#fdca26\"], [1.0, \"#f0f921\"]], \"type\": \"heatmapgl\"}], \"histogram\": [{\"marker\": {\"colorbar\": {\"outlinewidth\": 0, \"ticks\": \"\"}}, \"type\": \"histogram\"}], \"histogram2d\": [{\"colorbar\": {\"outlinewidth\": 0, \"ticks\": \"\"}, \"colorscale\": [[0.0, \"#0d0887\"], [0.1111111111111111, \"#46039f\"], [0.2222222222222222, \"#7201a8\"], [0.3333333333333333, \"#9c179e\"], [0.4444444444444444, \"#bd3786\"], [0.5555555555555556, \"#d8576b\"], [0.6666666666666666, \"#ed7953\"], [0.7777777777777778, \"#fb9f3a\"], [0.8888888888888888, \"#fdca26\"], [1.0, \"#f0f921\"]], \"type\": \"histogram2d\"}], \"histogram2dcontour\": [{\"colorbar\": {\"outlinewidth\": 0, \"ticks\": \"\"}, \"colorscale\": [[0.0, \"#0d0887\"], [0.1111111111111111, \"#46039f\"], [0.2222222222222222, \"#7201a8\"], [0.3333333333333333, \"#9c179e\"], [0.4444444444444444, \"#bd3786\"], [0.5555555555555556, \"#d8576b\"], [0.6666666666666666, \"#ed7953\"], [0.7777777777777778, \"#fb9f3a\"], [0.8888888888888888, \"#fdca26\"], [1.0, \"#f0f921\"]], \"type\": \"histogram2dcontour\"}], \"mesh3d\": [{\"colorbar\": {\"outlinewidth\": 0, \"ticks\": \"\"}, \"type\": \"mesh3d\"}], \"parcoords\": [{\"line\": {\"colorbar\": {\"outlinewidth\": 0, \"ticks\": \"\"}}, \"type\": \"parcoords\"}], \"pie\": [{\"automargin\": true, \"type\": \"pie\"}], \"scatter\": [{\"marker\": {\"colorbar\": {\"outlinewidth\": 0, \"ticks\": \"\"}}, \"type\": \"scatter\"}], \"scatter3d\": [{\"line\": {\"colorbar\": {\"outlinewidth\": 0, \"ticks\": \"\"}}, \"marker\": {\"colorbar\": {\"outlinewidth\": 0, \"ticks\": \"\"}}, \"type\": \"scatter3d\"}], \"scattercarpet\": [{\"marker\": {\"colorbar\": {\"outlinewidth\": 0, \"ticks\": \"\"}}, \"type\": \"scattercarpet\"}], \"scattergeo\": [{\"marker\": {\"colorbar\": {\"outlinewidth\": 0, \"ticks\": \"\"}}, \"type\": \"scattergeo\"}], \"scattergl\": [{\"marker\": {\"colorbar\": {\"outlinewidth\": 0, \"ticks\": \"\"}}, \"type\": \"scattergl\"}], \"scattermapbox\": [{\"marker\": {\"colorbar\": {\"outlinewidth\": 0, \"ticks\": \"\"}}, \"type\": \"scattermapbox\"}], \"scatterpolar\": [{\"marker\": {\"colorbar\": {\"outlinewidth\": 0, \"ticks\": \"\"}}, \"type\": \"scatterpolar\"}], \"scatterpolargl\": [{\"marker\": {\"colorbar\": {\"outlinewidth\": 0, \"ticks\": \"\"}}, \"type\": \"scatterpolargl\"}], \"scatterternary\": [{\"marker\": {\"colorbar\": {\"outlinewidth\": 0, \"ticks\": \"\"}}, \"type\": \"scatterternary\"}], \"surface\": [{\"colorbar\": {\"outlinewidth\": 0, \"ticks\": \"\"}, \"colorscale\": [[0.0, \"#0d0887\"], [0.1111111111111111, \"#46039f\"], [0.2222222222222222, \"#7201a8\"], [0.3333333333333333, \"#9c179e\"], [0.4444444444444444, \"#bd3786\"], [0.5555555555555556, \"#d8576b\"], [0.6666666666666666, \"#ed7953\"], [0.7777777777777778, \"#fb9f3a\"], [0.8888888888888888, \"#fdca26\"], [1.0, \"#f0f921\"]], \"type\": \"surface\"}], \"table\": [{\"cells\": {\"fill\": {\"color\": \"#EBF0F8\"}, \"line\": {\"color\": \"white\"}}, \"header\": {\"fill\": {\"color\": \"#C8D4E3\"}, \"line\": {\"color\": \"white\"}}, \"type\": \"table\"}]}, \"layout\": {\"annotationdefaults\": {\"arrowcolor\": \"#2a3f5f\", \"arrowhead\": 0, \"arrowwidth\": 1}, \"coloraxis\": {\"colorbar\": {\"outlinewidth\": 0, \"ticks\": \"\"}}, \"colorscale\": {\"diverging\": [[0, \"#8e0152\"], [0.1, \"#c51b7d\"], [0.2, \"#de77ae\"], [0.3, \"#f1b6da\"], [0.4, \"#fde0ef\"], [0.5, \"#f7f7f7\"], [0.6, \"#e6f5d0\"], [0.7, \"#b8e186\"], [0.8, \"#7fbc41\"], [0.9, \"#4d9221\"], [1, \"#276419\"]], \"sequential\": [[0.0, \"#0d0887\"], [0.1111111111111111, \"#46039f\"], [0.2222222222222222, \"#7201a8\"], [0.3333333333333333, \"#9c179e\"], [0.4444444444444444, \"#bd3786\"], [0.5555555555555556, \"#d8576b\"], [0.6666666666666666, \"#ed7953\"], [0.7777777777777778, \"#fb9f3a\"], [0.8888888888888888, \"#fdca26\"], [1.0, \"#f0f921\"]], \"sequentialminus\": [[0.0, \"#0d0887\"], [0.1111111111111111, \"#46039f\"], [0.2222222222222222, \"#7201a8\"], [0.3333333333333333, \"#9c179e\"], [0.4444444444444444, \"#bd3786\"], [0.5555555555555556, \"#d8576b\"], [0.6666666666666666, \"#ed7953\"], [0.7777777777777778, \"#fb9f3a\"], [0.8888888888888888, \"#fdca26\"], [1.0, \"#f0f921\"]]}, \"colorway\": [\"#636efa\", \"#EF553B\", \"#00cc96\", \"#ab63fa\", \"#FFA15A\", \"#19d3f3\", \"#FF6692\", \"#B6E880\", \"#FF97FF\", \"#FECB52\"], \"font\": {\"color\": \"#2a3f5f\"}, \"geo\": {\"bgcolor\": \"white\", \"lakecolor\": \"white\", \"landcolor\": \"#E5ECF6\", \"showlakes\": true, \"showland\": true, \"subunitcolor\": \"white\"}, \"hoverlabel\": {\"align\": \"left\"}, \"hovermode\": \"closest\", \"mapbox\": {\"style\": \"light\"}, \"paper_bgcolor\": \"white\", \"plot_bgcolor\": \"#E5ECF6\", \"polar\": {\"angularaxis\": {\"gridcolor\": \"white\", \"linecolor\": \"white\", \"ticks\": \"\"}, \"bgcolor\": \"#E5ECF6\", \"radialaxis\": {\"gridcolor\": \"white\", \"linecolor\": \"white\", \"ticks\": \"\"}}, \"scene\": {\"xaxis\": {\"backgroundcolor\": \"#E5ECF6\", \"gridcolor\": \"white\", \"gridwidth\": 2, \"linecolor\": \"white\", \"showbackground\": true, \"ticks\": \"\", \"zerolinecolor\": \"white\"}, \"yaxis\": {\"backgroundcolor\": \"#E5ECF6\", \"gridcolor\": \"white\", \"gridwidth\": 2, \"linecolor\": \"white\", \"showbackground\": true, \"ticks\": \"\", \"zerolinecolor\": \"white\"}, \"zaxis\": {\"backgroundcolor\": \"#E5ECF6\", \"gridcolor\": \"white\", \"gridwidth\": 2, \"linecolor\": \"white\", \"showbackground\": true, \"ticks\": \"\", \"zerolinecolor\": \"white\"}}, \"shapedefaults\": {\"line\": {\"color\": \"#2a3f5f\"}}, \"ternary\": {\"aaxis\": {\"gridcolor\": \"white\", \"linecolor\": \"white\", \"ticks\": \"\"}, \"baxis\": {\"gridcolor\": \"white\", \"linecolor\": \"white\", \"ticks\": \"\"}, \"bgcolor\": \"#E5ECF6\", \"caxis\": {\"gridcolor\": \"white\", \"linecolor\": \"white\", \"ticks\": \"\"}}, \"title\": {\"x\": 0.05}, \"xaxis\": {\"automargin\": true, \"gridcolor\": \"white\", \"linecolor\": \"white\", \"ticks\": \"\", \"title\": {\"standoff\": 15}, \"zerolinecolor\": \"white\", \"zerolinewidth\": 2}, \"yaxis\": {\"automargin\": true, \"gridcolor\": \"white\", \"linecolor\": \"white\", \"ticks\": \"\", \"title\": {\"standoff\": 15}, \"zerolinecolor\": \"white\", \"zerolinewidth\": 2}}}, \"title\": {\"text\": \"Worldwide NCOVID-19 Cases\"}, \"xaxis\": {\"tickfont\": {\"size\": 14}}, \"yaxis\": {\"title\": {\"text\": \"Number of Cases\"}}},\n",
       "                        {\"responsive\": true}\n",
       "                    ).then(function(){\n",
       "                            \n",
       "var gd = document.getElementById('636dca94-8cbe-48e2-9664-a7450d613a63');\n",
       "var x = new MutationObserver(function (mutations, observer) {{\n",
       "        var display = window.getComputedStyle(gd).display;\n",
       "        if (!display || display === 'none') {{\n",
       "            console.log([gd, 'removed!']);\n",
       "            Plotly.purge(gd);\n",
       "            observer.disconnect();\n",
       "        }}\n",
       "}});\n",
       "\n",
       "// Listen for the removal of the full notebook cells\n",
       "var notebookContainer = gd.closest('#notebook-container');\n",
       "if (notebookContainer) {{\n",
       "    x.observe(notebookContainer, {childList: true});\n",
       "}}\n",
       "\n",
       "// Listen for the clearing of the current output cell\n",
       "var outputEl = gd.closest('.output');\n",
       "if (outputEl) {{\n",
       "    x.observe(outputEl, {childList: true});\n",
       "}}\n",
       "\n",
       "                        })\n",
       "                };\n",
       "                });\n",
       "            </script>\n",
       "        </div>"
      ]
     },
     "metadata": {},
     "output_type": "display_data"
    }
   ],
   "source": [
    "fig = go.Figure()\n",
    "#Plotting datewise confirmed cases\n",
    "fig.add_trace(go.Scatter(x=confirmed['date'], y=confirmed['positive'], mode='lines+markers', name='Confirmed',line=dict(color='blue', width=2)))\n",
    "fig.add_trace(go.Scatter(x=deaths['date'], y=deaths['death'], mode='lines+markers', name='Deaths', line=dict(color='Red', width=2)))\n",
    "fig.add_trace(go.Scatter(x=recovered['date'], y=recovered['recovered'], mode='lines+markers', name='Recovered', line=dict(color='Green', width=2)))\n",
    "fig.update_layout(title='Worldwide NCOVID-19 Cases', xaxis_tickfont_size=14,yaxis=dict(title='Number of Cases'))\n",
    "\n",
    "fig.show()"
   ]
  },
  {
   "cell_type": "markdown",
   "metadata": {},
   "source": [
    "## 5.0 Forecasting Total Number of Cases in the United States"
   ]
  },
  {
   "cell_type": "markdown",
   "metadata": {},
   "source": [
    "#### Prophet is a procedure for forecasting time series data based on an additive model where non-linear trends are fit with yearly, weekly, and daily seasonality, plus holiday effects. (source: https://facebook.github.io/prophet/)\n",
    "\n",
    "#### In this last exercise, we use Prophet's forecasting model to predict the rise (and hopefully fall) of COVID cases.  We start with a baseline model that trains the date, then make forecasts seven days and fourteen days out.\n"
   ]
  },
  {
   "cell_type": "markdown",
   "metadata": {},
   "source": [
    "### 5.1 Confirm Dataset is suitable for Prophet"
   ]
  },
  {
   "cell_type": "code",
   "execution_count": 64,
   "metadata": {},
   "outputs": [
    {
     "data": {
      "text/plain": [
       "date        datetime64[ns]\n",
       "positive             int64\n",
       "dtype: object"
      ]
     },
     "execution_count": 64,
     "metadata": {},
     "output_type": "execute_result"
    }
   ],
   "source": [
    "confirmed.dtypes"
   ]
  },
  {
   "cell_type": "code",
   "execution_count": 69,
   "metadata": {},
   "outputs": [],
   "source": [
    "#Change numeric value to timestamp\n",
    "confirmed1 = confirmed.copy()\n",
    "confirmed1.columns = ['ds','y']\n",
    "#confirmed1['ds'] = confirmed1.apply(lambda x: pd.to_datetime(confirmed['ds'], format='%Y%m%d'))"
   ]
  },
  {
   "cell_type": "code",
   "execution_count": 70,
   "metadata": {},
   "outputs": [
    {
     "data": {
      "text/html": [
       "<div>\n",
       "<style scoped>\n",
       "    .dataframe tbody tr th:only-of-type {\n",
       "        vertical-align: middle;\n",
       "    }\n",
       "\n",
       "    .dataframe tbody tr th {\n",
       "        vertical-align: top;\n",
       "    }\n",
       "\n",
       "    .dataframe thead th {\n",
       "        text-align: right;\n",
       "    }\n",
       "</style>\n",
       "<table border=\"1\" class=\"dataframe\">\n",
       "  <thead>\n",
       "    <tr style=\"text-align: right;\">\n",
       "      <th></th>\n",
       "      <th>ds</th>\n",
       "      <th>y</th>\n",
       "    </tr>\n",
       "  </thead>\n",
       "  <tbody>\n",
       "    <tr>\n",
       "      <th>100</th>\n",
       "      <td>2020-05-01</td>\n",
       "      <td>1095681</td>\n",
       "    </tr>\n",
       "    <tr>\n",
       "      <th>101</th>\n",
       "      <td>2020-05-02</td>\n",
       "      <td>1125719</td>\n",
       "    </tr>\n",
       "    <tr>\n",
       "      <th>102</th>\n",
       "      <td>2020-05-03</td>\n",
       "      <td>1152006</td>\n",
       "    </tr>\n",
       "    <tr>\n",
       "      <th>103</th>\n",
       "      <td>2020-05-04</td>\n",
       "      <td>1173453</td>\n",
       "    </tr>\n",
       "    <tr>\n",
       "      <th>104</th>\n",
       "      <td>2020-05-05</td>\n",
       "      <td>1195605</td>\n",
       "    </tr>\n",
       "  </tbody>\n",
       "</table>\n",
       "</div>"
      ],
      "text/plain": [
       "            ds        y\n",
       "100 2020-05-01  1095681\n",
       "101 2020-05-02  1125719\n",
       "102 2020-05-03  1152006\n",
       "103 2020-05-04  1173453\n",
       "104 2020-05-05  1195605"
      ]
     },
     "execution_count": 70,
     "metadata": {},
     "output_type": "execute_result"
    }
   ],
   "source": [
    "confirmed1.tail()"
   ]
  },
  {
   "cell_type": "markdown",
   "metadata": {},
   "source": [
    "### 5.2 Forecasting Confirmed COVID-19 Cases in the U.S. (Base model)"
   ]
  },
  {
   "cell_type": "code",
   "execution_count": 71,
   "metadata": {},
   "outputs": [
    {
     "name": "stderr",
     "output_type": "stream",
     "text": [
      "INFO:fbprophet:Disabling yearly seasonality. Run prophet with yearly_seasonality=True to override this.\n",
      "INFO:fbprophet:Disabling daily seasonality. Run prophet with daily_seasonality=True to override this.\n"
     ]
    },
    {
     "data": {
      "text/html": [
       "<div>\n",
       "<style scoped>\n",
       "    .dataframe tbody tr th:only-of-type {\n",
       "        vertical-align: middle;\n",
       "    }\n",
       "\n",
       "    .dataframe tbody tr th {\n",
       "        vertical-align: top;\n",
       "    }\n",
       "\n",
       "    .dataframe thead th {\n",
       "        text-align: right;\n",
       "    }\n",
       "</style>\n",
       "<table border=\"1\" class=\"dataframe\">\n",
       "  <thead>\n",
       "    <tr style=\"text-align: right;\">\n",
       "      <th></th>\n",
       "      <th>ds</th>\n",
       "    </tr>\n",
       "  </thead>\n",
       "  <tbody>\n",
       "    <tr>\n",
       "      <th>107</th>\n",
       "      <td>2020-05-08</td>\n",
       "    </tr>\n",
       "    <tr>\n",
       "      <th>108</th>\n",
       "      <td>2020-05-09</td>\n",
       "    </tr>\n",
       "    <tr>\n",
       "      <th>109</th>\n",
       "      <td>2020-05-10</td>\n",
       "    </tr>\n",
       "    <tr>\n",
       "      <th>110</th>\n",
       "      <td>2020-05-11</td>\n",
       "    </tr>\n",
       "    <tr>\n",
       "      <th>111</th>\n",
       "      <td>2020-05-12</td>\n",
       "    </tr>\n",
       "  </tbody>\n",
       "</table>\n",
       "</div>"
      ],
      "text/plain": [
       "            ds\n",
       "107 2020-05-08\n",
       "108 2020-05-09\n",
       "109 2020-05-10\n",
       "110 2020-05-11\n",
       "111 2020-05-12"
      ]
     },
     "execution_count": 71,
     "metadata": {},
     "output_type": "execute_result"
    }
   ],
   "source": [
    "m = Prophet(interval_width=0.95)\n",
    "m.fit(confirmed1)\n",
    "future = m.make_future_dataframe(periods=7)\n",
    "future.tail()"
   ]
  },
  {
   "cell_type": "code",
   "execution_count": 74,
   "metadata": {},
   "outputs": [
    {
     "data": {
      "text/html": [
       "<div>\n",
       "<style scoped>\n",
       "    .dataframe tbody tr th:only-of-type {\n",
       "        vertical-align: middle;\n",
       "    }\n",
       "\n",
       "    .dataframe tbody tr th {\n",
       "        vertical-align: top;\n",
       "    }\n",
       "\n",
       "    .dataframe thead th {\n",
       "        text-align: right;\n",
       "    }\n",
       "</style>\n",
       "<table border=\"1\" class=\"dataframe\">\n",
       "  <thead>\n",
       "    <tr style=\"text-align: right;\">\n",
       "      <th></th>\n",
       "      <th>ds</th>\n",
       "      <th>yhat</th>\n",
       "      <th>yhat_lower</th>\n",
       "      <th>yhat_upper</th>\n",
       "    </tr>\n",
       "  </thead>\n",
       "  <tbody>\n",
       "    <tr>\n",
       "      <th>107</th>\n",
       "      <td>2020-05-08</td>\n",
       "      <td>1.293310e+06</td>\n",
       "      <td>1.285041e+06</td>\n",
       "      <td>1.299260e+06</td>\n",
       "    </tr>\n",
       "    <tr>\n",
       "      <th>108</th>\n",
       "      <td>2020-05-09</td>\n",
       "      <td>1.322809e+06</td>\n",
       "      <td>1.311589e+06</td>\n",
       "      <td>1.331917e+06</td>\n",
       "    </tr>\n",
       "    <tr>\n",
       "      <th>109</th>\n",
       "      <td>2020-05-10</td>\n",
       "      <td>1.350656e+06</td>\n",
       "      <td>1.336387e+06</td>\n",
       "      <td>1.362574e+06</td>\n",
       "    </tr>\n",
       "    <tr>\n",
       "      <th>110</th>\n",
       "      <td>2020-05-11</td>\n",
       "      <td>1.377295e+06</td>\n",
       "      <td>1.357900e+06</td>\n",
       "      <td>1.392623e+06</td>\n",
       "    </tr>\n",
       "    <tr>\n",
       "      <th>111</th>\n",
       "      <td>2020-05-12</td>\n",
       "      <td>1.404587e+06</td>\n",
       "      <td>1.379900e+06</td>\n",
       "      <td>1.423928e+06</td>\n",
       "    </tr>\n",
       "  </tbody>\n",
       "</table>\n",
       "</div>"
      ],
      "text/plain": [
       "            ds          yhat    yhat_lower    yhat_upper\n",
       "107 2020-05-08  1.293310e+06  1.285041e+06  1.299260e+06\n",
       "108 2020-05-09  1.322809e+06  1.311589e+06  1.331917e+06\n",
       "109 2020-05-10  1.350656e+06  1.336387e+06  1.362574e+06\n",
       "110 2020-05-11  1.377295e+06  1.357900e+06  1.392623e+06\n",
       "111 2020-05-12  1.404587e+06  1.379900e+06  1.423928e+06"
      ]
     },
     "execution_count": 74,
     "metadata": {},
     "output_type": "execute_result"
    }
   ],
   "source": [
    "#Predicting the future with date, and upper and lower limit of y value \n",
    "forecast = m.predict(future)\n",
    "forecast[['ds','yhat','yhat_lower','yhat_upper']].tail()"
   ]
  },
  {
   "cell_type": "code",
   "execution_count": 75,
   "metadata": {},
   "outputs": [
    {
     "data": {
      "text/plain": [
       "ds                            datetime64[ns]\n",
       "trend                                float64\n",
       "yhat_lower                           float64\n",
       "yhat_upper                           float64\n",
       "trend_lower                          float64\n",
       "trend_upper                          float64\n",
       "additive_terms                       float64\n",
       "additive_terms_lower                 float64\n",
       "additive_terms_upper                 float64\n",
       "weekly                               float64\n",
       "weekly_lower                         float64\n",
       "weekly_upper                         float64\n",
       "multiplicative_terms                 float64\n",
       "multiplicative_terms_lower           float64\n",
       "multiplicative_terms_upper           float64\n",
       "yhat                                 float64\n",
       "dtype: object"
      ]
     },
     "execution_count": 75,
     "metadata": {},
     "output_type": "execute_result"
    }
   ],
   "source": [
    "forecast.dtypes"
   ]
  },
  {
   "cell_type": "code",
   "execution_count": 78,
   "metadata": {},
   "outputs": [
    {
     "data": {
      "text/html": [
       "<div>\n",
       "<style scoped>\n",
       "    .dataframe tbody tr th:only-of-type {\n",
       "        vertical-align: middle;\n",
       "    }\n",
       "\n",
       "    .dataframe tbody tr th {\n",
       "        vertical-align: top;\n",
       "    }\n",
       "\n",
       "    .dataframe thead th {\n",
       "        text-align: right;\n",
       "    }\n",
       "</style>\n",
       "<table border=\"1\" class=\"dataframe\">\n",
       "  <thead>\n",
       "    <tr style=\"text-align: right;\">\n",
       "      <th></th>\n",
       "      <th>ds</th>\n",
       "      <th>trend</th>\n",
       "      <th>yhat_lower</th>\n",
       "      <th>yhat_upper</th>\n",
       "      <th>trend_lower</th>\n",
       "      <th>trend_upper</th>\n",
       "      <th>additive_terms</th>\n",
       "      <th>additive_terms_lower</th>\n",
       "      <th>additive_terms_upper</th>\n",
       "      <th>weekly</th>\n",
       "      <th>weekly_lower</th>\n",
       "      <th>weekly_upper</th>\n",
       "      <th>multiplicative_terms</th>\n",
       "      <th>multiplicative_terms_lower</th>\n",
       "      <th>multiplicative_terms_upper</th>\n",
       "      <th>yhat</th>\n",
       "    </tr>\n",
       "  </thead>\n",
       "  <tbody>\n",
       "    <tr>\n",
       "      <th>97</th>\n",
       "      <td>2020-04-28</td>\n",
       "      <td>1.007204e+06</td>\n",
       "      <td>1.000873e+06</td>\n",
       "      <td>1.009710e+06</td>\n",
       "      <td>1.007204e+06</td>\n",
       "      <td>1.007204e+06</td>\n",
       "      <td>-1882.394719</td>\n",
       "      <td>-1882.394719</td>\n",
       "      <td>-1882.394719</td>\n",
       "      <td>-1882.394719</td>\n",
       "      <td>-1882.394719</td>\n",
       "      <td>-1882.394719</td>\n",
       "      <td>0.0</td>\n",
       "      <td>0.0</td>\n",
       "      <td>0.0</td>\n",
       "      <td>1.005321e+06</td>\n",
       "    </tr>\n",
       "    <tr>\n",
       "      <th>98</th>\n",
       "      <td>2020-04-29</td>\n",
       "      <td>1.035723e+06</td>\n",
       "      <td>1.030440e+06</td>\n",
       "      <td>1.039198e+06</td>\n",
       "      <td>1.035723e+06</td>\n",
       "      <td>1.035723e+06</td>\n",
       "      <td>-968.516886</td>\n",
       "      <td>-968.516886</td>\n",
       "      <td>-968.516886</td>\n",
       "      <td>-968.516886</td>\n",
       "      <td>-968.516886</td>\n",
       "      <td>-968.516886</td>\n",
       "      <td>0.0</td>\n",
       "      <td>0.0</td>\n",
       "      <td>0.0</td>\n",
       "      <td>1.034754e+06</td>\n",
       "    </tr>\n",
       "    <tr>\n",
       "      <th>99</th>\n",
       "      <td>2020-04-30</td>\n",
       "      <td>1.064242e+06</td>\n",
       "      <td>1.059496e+06</td>\n",
       "      <td>1.068083e+06</td>\n",
       "      <td>1.064242e+06</td>\n",
       "      <td>1.064242e+06</td>\n",
       "      <td>-530.749566</td>\n",
       "      <td>-530.749566</td>\n",
       "      <td>-530.749566</td>\n",
       "      <td>-530.749566</td>\n",
       "      <td>-530.749566</td>\n",
       "      <td>-530.749566</td>\n",
       "      <td>0.0</td>\n",
       "      <td>0.0</td>\n",
       "      <td>0.0</td>\n",
       "      <td>1.063711e+06</td>\n",
       "    </tr>\n",
       "    <tr>\n",
       "      <th>100</th>\n",
       "      <td>2020-05-01</td>\n",
       "      <td>1.092761e+06</td>\n",
       "      <td>1.089255e+06</td>\n",
       "      <td>1.097873e+06</td>\n",
       "      <td>1.092761e+06</td>\n",
       "      <td>1.092761e+06</td>\n",
       "      <td>916.902648</td>\n",
       "      <td>916.902648</td>\n",
       "      <td>916.902648</td>\n",
       "      <td>916.902648</td>\n",
       "      <td>916.902648</td>\n",
       "      <td>916.902648</td>\n",
       "      <td>0.0</td>\n",
       "      <td>0.0</td>\n",
       "      <td>0.0</td>\n",
       "      <td>1.093677e+06</td>\n",
       "    </tr>\n",
       "    <tr>\n",
       "      <th>101</th>\n",
       "      <td>2020-05-02</td>\n",
       "      <td>1.121280e+06</td>\n",
       "      <td>1.119194e+06</td>\n",
       "      <td>1.127561e+06</td>\n",
       "      <td>1.121280e+06</td>\n",
       "      <td>1.121280e+06</td>\n",
       "      <td>1896.154819</td>\n",
       "      <td>1896.154819</td>\n",
       "      <td>1896.154819</td>\n",
       "      <td>1896.154819</td>\n",
       "      <td>1896.154819</td>\n",
       "      <td>1896.154819</td>\n",
       "      <td>0.0</td>\n",
       "      <td>0.0</td>\n",
       "      <td>0.0</td>\n",
       "      <td>1.123176e+06</td>\n",
       "    </tr>\n",
       "    <tr>\n",
       "      <th>102</th>\n",
       "      <td>2020-05-03</td>\n",
       "      <td>1.149799e+06</td>\n",
       "      <td>1.146890e+06</td>\n",
       "      <td>1.155131e+06</td>\n",
       "      <td>1.149799e+06</td>\n",
       "      <td>1.149799e+06</td>\n",
       "      <td>1224.579762</td>\n",
       "      <td>1224.579762</td>\n",
       "      <td>1224.579762</td>\n",
       "      <td>1224.579762</td>\n",
       "      <td>1224.579762</td>\n",
       "      <td>1224.579762</td>\n",
       "      <td>0.0</td>\n",
       "      <td>0.0</td>\n",
       "      <td>0.0</td>\n",
       "      <td>1.151023e+06</td>\n",
       "    </tr>\n",
       "    <tr>\n",
       "      <th>103</th>\n",
       "      <td>2020-05-04</td>\n",
       "      <td>1.178318e+06</td>\n",
       "      <td>1.173735e+06</td>\n",
       "      <td>1.181824e+06</td>\n",
       "      <td>1.178318e+06</td>\n",
       "      <td>1.178318e+06</td>\n",
       "      <td>-655.976058</td>\n",
       "      <td>-655.976058</td>\n",
       "      <td>-655.976058</td>\n",
       "      <td>-655.976058</td>\n",
       "      <td>-655.976058</td>\n",
       "      <td>-655.976058</td>\n",
       "      <td>0.0</td>\n",
       "      <td>0.0</td>\n",
       "      <td>0.0</td>\n",
       "      <td>1.177662e+06</td>\n",
       "    </tr>\n",
       "    <tr>\n",
       "      <th>104</th>\n",
       "      <td>2020-05-05</td>\n",
       "      <td>1.206837e+06</td>\n",
       "      <td>1.200541e+06</td>\n",
       "      <td>1.209358e+06</td>\n",
       "      <td>1.206837e+06</td>\n",
       "      <td>1.206837e+06</td>\n",
       "      <td>-1882.394719</td>\n",
       "      <td>-1882.394719</td>\n",
       "      <td>-1882.394719</td>\n",
       "      <td>-1882.394719</td>\n",
       "      <td>-1882.394719</td>\n",
       "      <td>-1882.394719</td>\n",
       "      <td>0.0</td>\n",
       "      <td>0.0</td>\n",
       "      <td>0.0</td>\n",
       "      <td>1.204954e+06</td>\n",
       "    </tr>\n",
       "    <tr>\n",
       "      <th>105</th>\n",
       "      <td>2020-05-06</td>\n",
       "      <td>1.235356e+06</td>\n",
       "      <td>1.229950e+06</td>\n",
       "      <td>1.238602e+06</td>\n",
       "      <td>1.234152e+06</td>\n",
       "      <td>1.236317e+06</td>\n",
       "      <td>-968.516886</td>\n",
       "      <td>-968.516886</td>\n",
       "      <td>-968.516886</td>\n",
       "      <td>-968.516886</td>\n",
       "      <td>-968.516886</td>\n",
       "      <td>-968.516886</td>\n",
       "      <td>0.0</td>\n",
       "      <td>0.0</td>\n",
       "      <td>0.0</td>\n",
       "      <td>1.234387e+06</td>\n",
       "    </tr>\n",
       "    <tr>\n",
       "      <th>106</th>\n",
       "      <td>2020-05-07</td>\n",
       "      <td>1.263875e+06</td>\n",
       "      <td>1.257496e+06</td>\n",
       "      <td>1.268013e+06</td>\n",
       "      <td>1.259845e+06</td>\n",
       "      <td>1.266979e+06</td>\n",
       "      <td>-530.749566</td>\n",
       "      <td>-530.749566</td>\n",
       "      <td>-530.749566</td>\n",
       "      <td>-530.749566</td>\n",
       "      <td>-530.749566</td>\n",
       "      <td>-530.749566</td>\n",
       "      <td>0.0</td>\n",
       "      <td>0.0</td>\n",
       "      <td>0.0</td>\n",
       "      <td>1.263344e+06</td>\n",
       "    </tr>\n",
       "    <tr>\n",
       "      <th>107</th>\n",
       "      <td>2020-05-08</td>\n",
       "      <td>1.292394e+06</td>\n",
       "      <td>1.285041e+06</td>\n",
       "      <td>1.299260e+06</td>\n",
       "      <td>1.285075e+06</td>\n",
       "      <td>1.298961e+06</td>\n",
       "      <td>916.902648</td>\n",
       "      <td>916.902648</td>\n",
       "      <td>916.902648</td>\n",
       "      <td>916.902648</td>\n",
       "      <td>916.902648</td>\n",
       "      <td>916.902648</td>\n",
       "      <td>0.0</td>\n",
       "      <td>0.0</td>\n",
       "      <td>0.0</td>\n",
       "      <td>1.293310e+06</td>\n",
       "    </tr>\n",
       "    <tr>\n",
       "      <th>108</th>\n",
       "      <td>2020-05-09</td>\n",
       "      <td>1.320913e+06</td>\n",
       "      <td>1.311589e+06</td>\n",
       "      <td>1.331917e+06</td>\n",
       "      <td>1.309743e+06</td>\n",
       "      <td>1.329472e+06</td>\n",
       "      <td>1896.154819</td>\n",
       "      <td>1896.154819</td>\n",
       "      <td>1896.154819</td>\n",
       "      <td>1896.154819</td>\n",
       "      <td>1896.154819</td>\n",
       "      <td>1896.154819</td>\n",
       "      <td>0.0</td>\n",
       "      <td>0.0</td>\n",
       "      <td>0.0</td>\n",
       "      <td>1.322809e+06</td>\n",
       "    </tr>\n",
       "    <tr>\n",
       "      <th>109</th>\n",
       "      <td>2020-05-10</td>\n",
       "      <td>1.349432e+06</td>\n",
       "      <td>1.336387e+06</td>\n",
       "      <td>1.362574e+06</td>\n",
       "      <td>1.335660e+06</td>\n",
       "      <td>1.360626e+06</td>\n",
       "      <td>1224.579762</td>\n",
       "      <td>1224.579762</td>\n",
       "      <td>1224.579762</td>\n",
       "      <td>1224.579762</td>\n",
       "      <td>1224.579762</td>\n",
       "      <td>1224.579762</td>\n",
       "      <td>0.0</td>\n",
       "      <td>0.0</td>\n",
       "      <td>0.0</td>\n",
       "      <td>1.350656e+06</td>\n",
       "    </tr>\n",
       "    <tr>\n",
       "      <th>110</th>\n",
       "      <td>2020-05-11</td>\n",
       "      <td>1.377951e+06</td>\n",
       "      <td>1.357900e+06</td>\n",
       "      <td>1.392623e+06</td>\n",
       "      <td>1.358828e+06</td>\n",
       "      <td>1.393207e+06</td>\n",
       "      <td>-655.976058</td>\n",
       "      <td>-655.976058</td>\n",
       "      <td>-655.976058</td>\n",
       "      <td>-655.976058</td>\n",
       "      <td>-655.976058</td>\n",
       "      <td>-655.976058</td>\n",
       "      <td>0.0</td>\n",
       "      <td>0.0</td>\n",
       "      <td>0.0</td>\n",
       "      <td>1.377295e+06</td>\n",
       "    </tr>\n",
       "    <tr>\n",
       "      <th>111</th>\n",
       "      <td>2020-05-12</td>\n",
       "      <td>1.406470e+06</td>\n",
       "      <td>1.379900e+06</td>\n",
       "      <td>1.423928e+06</td>\n",
       "      <td>1.382454e+06</td>\n",
       "      <td>1.426556e+06</td>\n",
       "      <td>-1882.394719</td>\n",
       "      <td>-1882.394719</td>\n",
       "      <td>-1882.394719</td>\n",
       "      <td>-1882.394719</td>\n",
       "      <td>-1882.394719</td>\n",
       "      <td>-1882.394719</td>\n",
       "      <td>0.0</td>\n",
       "      <td>0.0</td>\n",
       "      <td>0.0</td>\n",
       "      <td>1.404587e+06</td>\n",
       "    </tr>\n",
       "  </tbody>\n",
       "</table>\n",
       "</div>"
      ],
      "text/plain": [
       "            ds         trend    yhat_lower    yhat_upper   trend_lower  \\\n",
       "97  2020-04-28  1.007204e+06  1.000873e+06  1.009710e+06  1.007204e+06   \n",
       "98  2020-04-29  1.035723e+06  1.030440e+06  1.039198e+06  1.035723e+06   \n",
       "99  2020-04-30  1.064242e+06  1.059496e+06  1.068083e+06  1.064242e+06   \n",
       "100 2020-05-01  1.092761e+06  1.089255e+06  1.097873e+06  1.092761e+06   \n",
       "101 2020-05-02  1.121280e+06  1.119194e+06  1.127561e+06  1.121280e+06   \n",
       "102 2020-05-03  1.149799e+06  1.146890e+06  1.155131e+06  1.149799e+06   \n",
       "103 2020-05-04  1.178318e+06  1.173735e+06  1.181824e+06  1.178318e+06   \n",
       "104 2020-05-05  1.206837e+06  1.200541e+06  1.209358e+06  1.206837e+06   \n",
       "105 2020-05-06  1.235356e+06  1.229950e+06  1.238602e+06  1.234152e+06   \n",
       "106 2020-05-07  1.263875e+06  1.257496e+06  1.268013e+06  1.259845e+06   \n",
       "107 2020-05-08  1.292394e+06  1.285041e+06  1.299260e+06  1.285075e+06   \n",
       "108 2020-05-09  1.320913e+06  1.311589e+06  1.331917e+06  1.309743e+06   \n",
       "109 2020-05-10  1.349432e+06  1.336387e+06  1.362574e+06  1.335660e+06   \n",
       "110 2020-05-11  1.377951e+06  1.357900e+06  1.392623e+06  1.358828e+06   \n",
       "111 2020-05-12  1.406470e+06  1.379900e+06  1.423928e+06  1.382454e+06   \n",
       "\n",
       "      trend_upper  additive_terms  additive_terms_lower  additive_terms_upper  \\\n",
       "97   1.007204e+06    -1882.394719          -1882.394719          -1882.394719   \n",
       "98   1.035723e+06     -968.516886           -968.516886           -968.516886   \n",
       "99   1.064242e+06     -530.749566           -530.749566           -530.749566   \n",
       "100  1.092761e+06      916.902648            916.902648            916.902648   \n",
       "101  1.121280e+06     1896.154819           1896.154819           1896.154819   \n",
       "102  1.149799e+06     1224.579762           1224.579762           1224.579762   \n",
       "103  1.178318e+06     -655.976058           -655.976058           -655.976058   \n",
       "104  1.206837e+06    -1882.394719          -1882.394719          -1882.394719   \n",
       "105  1.236317e+06     -968.516886           -968.516886           -968.516886   \n",
       "106  1.266979e+06     -530.749566           -530.749566           -530.749566   \n",
       "107  1.298961e+06      916.902648            916.902648            916.902648   \n",
       "108  1.329472e+06     1896.154819           1896.154819           1896.154819   \n",
       "109  1.360626e+06     1224.579762           1224.579762           1224.579762   \n",
       "110  1.393207e+06     -655.976058           -655.976058           -655.976058   \n",
       "111  1.426556e+06    -1882.394719          -1882.394719          -1882.394719   \n",
       "\n",
       "          weekly  weekly_lower  weekly_upper  multiplicative_terms  \\\n",
       "97  -1882.394719  -1882.394719  -1882.394719                   0.0   \n",
       "98   -968.516886   -968.516886   -968.516886                   0.0   \n",
       "99   -530.749566   -530.749566   -530.749566                   0.0   \n",
       "100   916.902648    916.902648    916.902648                   0.0   \n",
       "101  1896.154819   1896.154819   1896.154819                   0.0   \n",
       "102  1224.579762   1224.579762   1224.579762                   0.0   \n",
       "103  -655.976058   -655.976058   -655.976058                   0.0   \n",
       "104 -1882.394719  -1882.394719  -1882.394719                   0.0   \n",
       "105  -968.516886   -968.516886   -968.516886                   0.0   \n",
       "106  -530.749566   -530.749566   -530.749566                   0.0   \n",
       "107   916.902648    916.902648    916.902648                   0.0   \n",
       "108  1896.154819   1896.154819   1896.154819                   0.0   \n",
       "109  1224.579762   1224.579762   1224.579762                   0.0   \n",
       "110  -655.976058   -655.976058   -655.976058                   0.0   \n",
       "111 -1882.394719  -1882.394719  -1882.394719                   0.0   \n",
       "\n",
       "     multiplicative_terms_lower  multiplicative_terms_upper          yhat  \n",
       "97                          0.0                         0.0  1.005321e+06  \n",
       "98                          0.0                         0.0  1.034754e+06  \n",
       "99                          0.0                         0.0  1.063711e+06  \n",
       "100                         0.0                         0.0  1.093677e+06  \n",
       "101                         0.0                         0.0  1.123176e+06  \n",
       "102                         0.0                         0.0  1.151023e+06  \n",
       "103                         0.0                         0.0  1.177662e+06  \n",
       "104                         0.0                         0.0  1.204954e+06  \n",
       "105                         0.0                         0.0  1.234387e+06  \n",
       "106                         0.0                         0.0  1.263344e+06  \n",
       "107                         0.0                         0.0  1.293310e+06  \n",
       "108                         0.0                         0.0  1.322809e+06  \n",
       "109                         0.0                         0.0  1.350656e+06  \n",
       "110                         0.0                         0.0  1.377295e+06  \n",
       "111                         0.0                         0.0  1.404587e+06  "
      ]
     },
     "execution_count": 78,
     "metadata": {},
     "output_type": "execute_result"
    }
   ],
   "source": [
    "forecast.tail(15)"
   ]
  },
  {
   "cell_type": "code",
   "execution_count": 79,
   "metadata": {},
   "outputs": [],
   "source": [
    "#Convert data from scienctific notation to integers\n",
    "forecast2 = forecast.copy()\n",
    "forecast2 = forecast2.drop('ds', axis=1)\n",
    "forecast3 = forecast2.astype(int)\n",
    "date = forecast['ds']\n",
    "date = pd.DataFrame(date)\n",
    "forecast4 = date.join(forecast3)\n"
   ]
  },
  {
   "cell_type": "code",
   "execution_count": 80,
   "metadata": {},
   "outputs": [
    {
     "data": {
      "text/html": [
       "<div>\n",
       "<style scoped>\n",
       "    .dataframe tbody tr th:only-of-type {\n",
       "        vertical-align: middle;\n",
       "    }\n",
       "\n",
       "    .dataframe tbody tr th {\n",
       "        vertical-align: top;\n",
       "    }\n",
       "\n",
       "    .dataframe thead th {\n",
       "        text-align: right;\n",
       "    }\n",
       "</style>\n",
       "<table border=\"1\" class=\"dataframe\">\n",
       "  <thead>\n",
       "    <tr style=\"text-align: right;\">\n",
       "      <th></th>\n",
       "      <th>ds</th>\n",
       "      <th>trend</th>\n",
       "      <th>yhat_lower</th>\n",
       "      <th>yhat_upper</th>\n",
       "      <th>trend_lower</th>\n",
       "      <th>trend_upper</th>\n",
       "      <th>additive_terms</th>\n",
       "      <th>additive_terms_lower</th>\n",
       "      <th>additive_terms_upper</th>\n",
       "      <th>weekly</th>\n",
       "      <th>weekly_lower</th>\n",
       "      <th>weekly_upper</th>\n",
       "      <th>multiplicative_terms</th>\n",
       "      <th>multiplicative_terms_lower</th>\n",
       "      <th>multiplicative_terms_upper</th>\n",
       "      <th>yhat</th>\n",
       "    </tr>\n",
       "  </thead>\n",
       "  <tbody>\n",
       "    <tr>\n",
       "      <th>97</th>\n",
       "      <td>2020-04-28</td>\n",
       "      <td>1007203</td>\n",
       "      <td>1000873</td>\n",
       "      <td>1009710</td>\n",
       "      <td>1007203</td>\n",
       "      <td>1007203</td>\n",
       "      <td>-1882</td>\n",
       "      <td>-1882</td>\n",
       "      <td>-1882</td>\n",
       "      <td>-1882</td>\n",
       "      <td>-1882</td>\n",
       "      <td>-1882</td>\n",
       "      <td>0</td>\n",
       "      <td>0</td>\n",
       "      <td>0</td>\n",
       "      <td>1005321</td>\n",
       "    </tr>\n",
       "    <tr>\n",
       "      <th>98</th>\n",
       "      <td>2020-04-29</td>\n",
       "      <td>1035722</td>\n",
       "      <td>1030440</td>\n",
       "      <td>1039198</td>\n",
       "      <td>1035722</td>\n",
       "      <td>1035722</td>\n",
       "      <td>-968</td>\n",
       "      <td>-968</td>\n",
       "      <td>-968</td>\n",
       "      <td>-968</td>\n",
       "      <td>-968</td>\n",
       "      <td>-968</td>\n",
       "      <td>0</td>\n",
       "      <td>0</td>\n",
       "      <td>0</td>\n",
       "      <td>1034754</td>\n",
       "    </tr>\n",
       "    <tr>\n",
       "      <th>99</th>\n",
       "      <td>2020-04-30</td>\n",
       "      <td>1064241</td>\n",
       "      <td>1059495</td>\n",
       "      <td>1068083</td>\n",
       "      <td>1064241</td>\n",
       "      <td>1064241</td>\n",
       "      <td>-530</td>\n",
       "      <td>-530</td>\n",
       "      <td>-530</td>\n",
       "      <td>-530</td>\n",
       "      <td>-530</td>\n",
       "      <td>-530</td>\n",
       "      <td>0</td>\n",
       "      <td>0</td>\n",
       "      <td>0</td>\n",
       "      <td>1063710</td>\n",
       "    </tr>\n",
       "    <tr>\n",
       "      <th>100</th>\n",
       "      <td>2020-05-01</td>\n",
       "      <td>1092760</td>\n",
       "      <td>1089254</td>\n",
       "      <td>1097873</td>\n",
       "      <td>1092760</td>\n",
       "      <td>1092760</td>\n",
       "      <td>916</td>\n",
       "      <td>916</td>\n",
       "      <td>916</td>\n",
       "      <td>916</td>\n",
       "      <td>916</td>\n",
       "      <td>916</td>\n",
       "      <td>0</td>\n",
       "      <td>0</td>\n",
       "      <td>0</td>\n",
       "      <td>1093677</td>\n",
       "    </tr>\n",
       "    <tr>\n",
       "      <th>101</th>\n",
       "      <td>2020-05-02</td>\n",
       "      <td>1121279</td>\n",
       "      <td>1119193</td>\n",
       "      <td>1127561</td>\n",
       "      <td>1121279</td>\n",
       "      <td>1121279</td>\n",
       "      <td>1896</td>\n",
       "      <td>1896</td>\n",
       "      <td>1896</td>\n",
       "      <td>1896</td>\n",
       "      <td>1896</td>\n",
       "      <td>1896</td>\n",
       "      <td>0</td>\n",
       "      <td>0</td>\n",
       "      <td>0</td>\n",
       "      <td>1123175</td>\n",
       "    </tr>\n",
       "    <tr>\n",
       "      <th>102</th>\n",
       "      <td>2020-05-03</td>\n",
       "      <td>1149798</td>\n",
       "      <td>1146890</td>\n",
       "      <td>1155130</td>\n",
       "      <td>1149798</td>\n",
       "      <td>1149798</td>\n",
       "      <td>1224</td>\n",
       "      <td>1224</td>\n",
       "      <td>1224</td>\n",
       "      <td>1224</td>\n",
       "      <td>1224</td>\n",
       "      <td>1224</td>\n",
       "      <td>0</td>\n",
       "      <td>0</td>\n",
       "      <td>0</td>\n",
       "      <td>1151023</td>\n",
       "    </tr>\n",
       "    <tr>\n",
       "      <th>103</th>\n",
       "      <td>2020-05-04</td>\n",
       "      <td>1178317</td>\n",
       "      <td>1173735</td>\n",
       "      <td>1181823</td>\n",
       "      <td>1178317</td>\n",
       "      <td>1178317</td>\n",
       "      <td>-655</td>\n",
       "      <td>-655</td>\n",
       "      <td>-655</td>\n",
       "      <td>-655</td>\n",
       "      <td>-655</td>\n",
       "      <td>-655</td>\n",
       "      <td>0</td>\n",
       "      <td>0</td>\n",
       "      <td>0</td>\n",
       "      <td>1177661</td>\n",
       "    </tr>\n",
       "    <tr>\n",
       "      <th>104</th>\n",
       "      <td>2020-05-05</td>\n",
       "      <td>1206836</td>\n",
       "      <td>1200541</td>\n",
       "      <td>1209358</td>\n",
       "      <td>1206836</td>\n",
       "      <td>1206836</td>\n",
       "      <td>-1882</td>\n",
       "      <td>-1882</td>\n",
       "      <td>-1882</td>\n",
       "      <td>-1882</td>\n",
       "      <td>-1882</td>\n",
       "      <td>-1882</td>\n",
       "      <td>0</td>\n",
       "      <td>0</td>\n",
       "      <td>0</td>\n",
       "      <td>1204954</td>\n",
       "    </tr>\n",
       "    <tr>\n",
       "      <th>105</th>\n",
       "      <td>2020-05-06</td>\n",
       "      <td>1235355</td>\n",
       "      <td>1229950</td>\n",
       "      <td>1238601</td>\n",
       "      <td>1234152</td>\n",
       "      <td>1236317</td>\n",
       "      <td>-968</td>\n",
       "      <td>-968</td>\n",
       "      <td>-968</td>\n",
       "      <td>-968</td>\n",
       "      <td>-968</td>\n",
       "      <td>-968</td>\n",
       "      <td>0</td>\n",
       "      <td>0</td>\n",
       "      <td>0</td>\n",
       "      <td>1234387</td>\n",
       "    </tr>\n",
       "    <tr>\n",
       "      <th>106</th>\n",
       "      <td>2020-05-07</td>\n",
       "      <td>1263874</td>\n",
       "      <td>1257495</td>\n",
       "      <td>1268013</td>\n",
       "      <td>1259844</td>\n",
       "      <td>1266979</td>\n",
       "      <td>-530</td>\n",
       "      <td>-530</td>\n",
       "      <td>-530</td>\n",
       "      <td>-530</td>\n",
       "      <td>-530</td>\n",
       "      <td>-530</td>\n",
       "      <td>0</td>\n",
       "      <td>0</td>\n",
       "      <td>0</td>\n",
       "      <td>1263343</td>\n",
       "    </tr>\n",
       "    <tr>\n",
       "      <th>107</th>\n",
       "      <td>2020-05-08</td>\n",
       "      <td>1292393</td>\n",
       "      <td>1285040</td>\n",
       "      <td>1299260</td>\n",
       "      <td>1285074</td>\n",
       "      <td>1298961</td>\n",
       "      <td>916</td>\n",
       "      <td>916</td>\n",
       "      <td>916</td>\n",
       "      <td>916</td>\n",
       "      <td>916</td>\n",
       "      <td>916</td>\n",
       "      <td>0</td>\n",
       "      <td>0</td>\n",
       "      <td>0</td>\n",
       "      <td>1293310</td>\n",
       "    </tr>\n",
       "    <tr>\n",
       "      <th>108</th>\n",
       "      <td>2020-05-09</td>\n",
       "      <td>1320912</td>\n",
       "      <td>1311589</td>\n",
       "      <td>1331917</td>\n",
       "      <td>1309743</td>\n",
       "      <td>1329472</td>\n",
       "      <td>1896</td>\n",
       "      <td>1896</td>\n",
       "      <td>1896</td>\n",
       "      <td>1896</td>\n",
       "      <td>1896</td>\n",
       "      <td>1896</td>\n",
       "      <td>0</td>\n",
       "      <td>0</td>\n",
       "      <td>0</td>\n",
       "      <td>1322808</td>\n",
       "    </tr>\n",
       "    <tr>\n",
       "      <th>109</th>\n",
       "      <td>2020-05-10</td>\n",
       "      <td>1349431</td>\n",
       "      <td>1336386</td>\n",
       "      <td>1362574</td>\n",
       "      <td>1335660</td>\n",
       "      <td>1360626</td>\n",
       "      <td>1224</td>\n",
       "      <td>1224</td>\n",
       "      <td>1224</td>\n",
       "      <td>1224</td>\n",
       "      <td>1224</td>\n",
       "      <td>1224</td>\n",
       "      <td>0</td>\n",
       "      <td>0</td>\n",
       "      <td>0</td>\n",
       "      <td>1350656</td>\n",
       "    </tr>\n",
       "    <tr>\n",
       "      <th>110</th>\n",
       "      <td>2020-05-11</td>\n",
       "      <td>1377950</td>\n",
       "      <td>1357899</td>\n",
       "      <td>1392622</td>\n",
       "      <td>1358827</td>\n",
       "      <td>1393206</td>\n",
       "      <td>-655</td>\n",
       "      <td>-655</td>\n",
       "      <td>-655</td>\n",
       "      <td>-655</td>\n",
       "      <td>-655</td>\n",
       "      <td>-655</td>\n",
       "      <td>0</td>\n",
       "      <td>0</td>\n",
       "      <td>0</td>\n",
       "      <td>1377294</td>\n",
       "    </tr>\n",
       "    <tr>\n",
       "      <th>111</th>\n",
       "      <td>2020-05-12</td>\n",
       "      <td>1406469</td>\n",
       "      <td>1379899</td>\n",
       "      <td>1423928</td>\n",
       "      <td>1382453</td>\n",
       "      <td>1426555</td>\n",
       "      <td>-1882</td>\n",
       "      <td>-1882</td>\n",
       "      <td>-1882</td>\n",
       "      <td>-1882</td>\n",
       "      <td>-1882</td>\n",
       "      <td>-1882</td>\n",
       "      <td>0</td>\n",
       "      <td>0</td>\n",
       "      <td>0</td>\n",
       "      <td>1404587</td>\n",
       "    </tr>\n",
       "  </tbody>\n",
       "</table>\n",
       "</div>"
      ],
      "text/plain": [
       "            ds    trend  yhat_lower  yhat_upper  trend_lower  trend_upper  \\\n",
       "97  2020-04-28  1007203     1000873     1009710      1007203      1007203   \n",
       "98  2020-04-29  1035722     1030440     1039198      1035722      1035722   \n",
       "99  2020-04-30  1064241     1059495     1068083      1064241      1064241   \n",
       "100 2020-05-01  1092760     1089254     1097873      1092760      1092760   \n",
       "101 2020-05-02  1121279     1119193     1127561      1121279      1121279   \n",
       "102 2020-05-03  1149798     1146890     1155130      1149798      1149798   \n",
       "103 2020-05-04  1178317     1173735     1181823      1178317      1178317   \n",
       "104 2020-05-05  1206836     1200541     1209358      1206836      1206836   \n",
       "105 2020-05-06  1235355     1229950     1238601      1234152      1236317   \n",
       "106 2020-05-07  1263874     1257495     1268013      1259844      1266979   \n",
       "107 2020-05-08  1292393     1285040     1299260      1285074      1298961   \n",
       "108 2020-05-09  1320912     1311589     1331917      1309743      1329472   \n",
       "109 2020-05-10  1349431     1336386     1362574      1335660      1360626   \n",
       "110 2020-05-11  1377950     1357899     1392622      1358827      1393206   \n",
       "111 2020-05-12  1406469     1379899     1423928      1382453      1426555   \n",
       "\n",
       "     additive_terms  additive_terms_lower  additive_terms_upper  weekly  \\\n",
       "97            -1882                 -1882                 -1882   -1882   \n",
       "98             -968                  -968                  -968    -968   \n",
       "99             -530                  -530                  -530    -530   \n",
       "100             916                   916                   916     916   \n",
       "101            1896                  1896                  1896    1896   \n",
       "102            1224                  1224                  1224    1224   \n",
       "103            -655                  -655                  -655    -655   \n",
       "104           -1882                 -1882                 -1882   -1882   \n",
       "105            -968                  -968                  -968    -968   \n",
       "106            -530                  -530                  -530    -530   \n",
       "107             916                   916                   916     916   \n",
       "108            1896                  1896                  1896    1896   \n",
       "109            1224                  1224                  1224    1224   \n",
       "110            -655                  -655                  -655    -655   \n",
       "111           -1882                 -1882                 -1882   -1882   \n",
       "\n",
       "     weekly_lower  weekly_upper  multiplicative_terms  \\\n",
       "97          -1882         -1882                     0   \n",
       "98           -968          -968                     0   \n",
       "99           -530          -530                     0   \n",
       "100           916           916                     0   \n",
       "101          1896          1896                     0   \n",
       "102          1224          1224                     0   \n",
       "103          -655          -655                     0   \n",
       "104         -1882         -1882                     0   \n",
       "105          -968          -968                     0   \n",
       "106          -530          -530                     0   \n",
       "107           916           916                     0   \n",
       "108          1896          1896                     0   \n",
       "109          1224          1224                     0   \n",
       "110          -655          -655                     0   \n",
       "111         -1882         -1882                     0   \n",
       "\n",
       "     multiplicative_terms_lower  multiplicative_terms_upper     yhat  \n",
       "97                            0                           0  1005321  \n",
       "98                            0                           0  1034754  \n",
       "99                            0                           0  1063710  \n",
       "100                           0                           0  1093677  \n",
       "101                           0                           0  1123175  \n",
       "102                           0                           0  1151023  \n",
       "103                           0                           0  1177661  \n",
       "104                           0                           0  1204954  \n",
       "105                           0                           0  1234387  \n",
       "106                           0                           0  1263343  \n",
       "107                           0                           0  1293310  \n",
       "108                           0                           0  1322808  \n",
       "109                           0                           0  1350656  \n",
       "110                           0                           0  1377294  \n",
       "111                           0                           0  1404587  "
      ]
     },
     "execution_count": 80,
     "metadata": {},
     "output_type": "execute_result"
    }
   ],
   "source": [
    "forecast4.tail(15)"
   ]
  },
  {
   "cell_type": "code",
   "execution_count": 81,
   "metadata": {},
   "outputs": [
    {
     "data": {
      "image/png": "[encoded data removed]",
      "text/plain": [
       "<Figure size 720x432 with 1 Axes>"
      ]
     },
     "metadata": {},
     "output_type": "display_data"
    }
   ],
   "source": [
    "#Forecast plot calling Prophet.plot method and passing forecast dataframe\n",
    "confirmed_forecast_plot = m.plot(forecast4)"
   ]
  },
  {
   "cell_type": "code",
   "execution_count": 82,
   "metadata": {},
   "outputs": [
    {
     "data": {
      "image/png": "[encoded data removed]",
      "text/plain": [
       "<Figure size 648x432 with 2 Axes>"
      ]
     },
     "metadata": {},
     "output_type": "display_data"
    }
   ],
   "source": [
    "#Plot components\n",
    "confirmed_forecast_plot =m.plot_components(forecast4)"
   ]
  },
  {
   "cell_type": "markdown",
   "metadata": {},
   "source": [
    "### 5.3 New Cases Prediction - 7 Days"
   ]
  },
  {
   "cell_type": "code",
   "execution_count": 83,
   "metadata": {},
   "outputs": [
    {
     "data": {
      "text/html": [
       "<div>\n",
       "<style scoped>\n",
       "    .dataframe tbody tr th:only-of-type {\n",
       "        vertical-align: middle;\n",
       "    }\n",
       "\n",
       "    .dataframe tbody tr th {\n",
       "        vertical-align: top;\n",
       "    }\n",
       "\n",
       "    .dataframe thead th {\n",
       "        text-align: right;\n",
       "    }\n",
       "</style>\n",
       "<table border=\"1\" class=\"dataframe\">\n",
       "  <thead>\n",
       "    <tr style=\"text-align: right;\">\n",
       "      <th></th>\n",
       "      <th>date</th>\n",
       "      <th>NewCases</th>\n",
       "    </tr>\n",
       "  </thead>\n",
       "  <tbody>\n",
       "    <tr>\n",
       "      <th>0</th>\n",
       "      <td>1/21/2020</td>\n",
       "      <td>1</td>\n",
       "    </tr>\n",
       "    <tr>\n",
       "      <th>1</th>\n",
       "      <td>1/22/2020</td>\n",
       "      <td>0</td>\n",
       "    </tr>\n",
       "    <tr>\n",
       "      <th>2</th>\n",
       "      <td>1/23/2020</td>\n",
       "      <td>0</td>\n",
       "    </tr>\n",
       "    <tr>\n",
       "      <th>3</th>\n",
       "      <td>1/24/2020</td>\n",
       "      <td>1</td>\n",
       "    </tr>\n",
       "    <tr>\n",
       "      <th>4</th>\n",
       "      <td>1/25/2020</td>\n",
       "      <td>1</td>\n",
       "    </tr>\n",
       "    <tr>\n",
       "      <th>...</th>\n",
       "      <td>...</td>\n",
       "      <td>...</td>\n",
       "    </tr>\n",
       "    <tr>\n",
       "      <th>99</th>\n",
       "      <td>4/29/2020</td>\n",
       "      <td>26401</td>\n",
       "    </tr>\n",
       "    <tr>\n",
       "      <th>100</th>\n",
       "      <td>4/30/2020</td>\n",
       "      <td>30393</td>\n",
       "    </tr>\n",
       "    <tr>\n",
       "      <th>101</th>\n",
       "      <td>5/1/2020</td>\n",
       "      <td>33984</td>\n",
       "    </tr>\n",
       "    <tr>\n",
       "      <th>102</th>\n",
       "      <td>5/2/2020</td>\n",
       "      <td>29598</td>\n",
       "    </tr>\n",
       "    <tr>\n",
       "      <th>103</th>\n",
       "      <td>5/3/2020</td>\n",
       "      <td>25513</td>\n",
       "    </tr>\n",
       "  </tbody>\n",
       "</table>\n",
       "<p>104 rows × 2 columns</p>\n",
       "</div>"
      ],
      "text/plain": [
       "          date  NewCases\n",
       "0    1/21/2020         1\n",
       "1    1/22/2020         0\n",
       "2    1/23/2020         0\n",
       "3    1/24/2020         1\n",
       "4    1/25/2020         1\n",
       "..         ...       ...\n",
       "99   4/29/2020     26401\n",
       "100  4/30/2020     30393\n",
       "101   5/1/2020     33984\n",
       "102   5/2/2020     29598\n",
       "103   5/3/2020     25513\n",
       "\n",
       "[104 rows x 2 columns]"
      ]
     },
     "execution_count": 83,
     "metadata": {},
     "output_type": "execute_result"
    }
   ],
   "source": [
    "us_newcases"
   ]
  },
  {
   "cell_type": "code",
   "execution_count": 84,
   "metadata": {},
   "outputs": [
    {
     "data": {
      "text/plain": [
       "ds    object\n",
       "y      int64\n",
       "dtype: object"
      ]
     },
     "execution_count": 84,
     "metadata": {},
     "output_type": "execute_result"
    }
   ],
   "source": [
    "us_newcases.columns=['ds','y']\n",
    "us_newcases.dtypes"
   ]
  },
  {
   "cell_type": "code",
   "execution_count": 85,
   "metadata": {},
   "outputs": [],
   "source": [
    "us_newcases['ds']=pd.to_datetime(us_newcases['ds'])"
   ]
  },
  {
   "cell_type": "code",
   "execution_count": 86,
   "metadata": {},
   "outputs": [
    {
     "data": {
      "text/plain": [
       "ds    datetime64[ns]\n",
       "y              int64\n",
       "dtype: object"
      ]
     },
     "execution_count": 86,
     "metadata": {},
     "output_type": "execute_result"
    }
   ],
   "source": [
    "us_newcases.dtypes"
   ]
  },
  {
   "cell_type": "code",
   "execution_count": 87,
   "metadata": {},
   "outputs": [
    {
     "name": "stderr",
     "output_type": "stream",
     "text": [
      "INFO:fbprophet:Disabling yearly seasonality. Run prophet with yearly_seasonality=True to override this.\n",
      "INFO:fbprophet:Disabling daily seasonality. Run prophet with daily_seasonality=True to override this.\n"
     ]
    },
    {
     "data": {
      "text/html": [
       "<div>\n",
       "<style scoped>\n",
       "    .dataframe tbody tr th:only-of-type {\n",
       "        vertical-align: middle;\n",
       "    }\n",
       "\n",
       "    .dataframe tbody tr th {\n",
       "        vertical-align: top;\n",
       "    }\n",
       "\n",
       "    .dataframe thead th {\n",
       "        text-align: right;\n",
       "    }\n",
       "</style>\n",
       "<table border=\"1\" class=\"dataframe\">\n",
       "  <thead>\n",
       "    <tr style=\"text-align: right;\">\n",
       "      <th></th>\n",
       "      <th>ds</th>\n",
       "    </tr>\n",
       "  </thead>\n",
       "  <tbody>\n",
       "    <tr>\n",
       "      <th>106</th>\n",
       "      <td>2020-05-06</td>\n",
       "    </tr>\n",
       "    <tr>\n",
       "      <th>107</th>\n",
       "      <td>2020-05-07</td>\n",
       "    </tr>\n",
       "    <tr>\n",
       "      <th>108</th>\n",
       "      <td>2020-05-08</td>\n",
       "    </tr>\n",
       "    <tr>\n",
       "      <th>109</th>\n",
       "      <td>2020-05-09</td>\n",
       "    </tr>\n",
       "    <tr>\n",
       "      <th>110</th>\n",
       "      <td>2020-05-10</td>\n",
       "    </tr>\n",
       "  </tbody>\n",
       "</table>\n",
       "</div>"
      ],
      "text/plain": [
       "            ds\n",
       "106 2020-05-06\n",
       "107 2020-05-07\n",
       "108 2020-05-08\n",
       "109 2020-05-09\n",
       "110 2020-05-10"
      ]
     },
     "execution_count": 87,
     "metadata": {},
     "output_type": "execute_result"
    }
   ],
   "source": [
    "m1 = Prophet(interval_width=0.95)\n",
    "m1.fit(us_newcases)\n",
    "future1 = m1.make_future_dataframe(periods=7)\n",
    "future1.tail()"
   ]
  },
  {
   "cell_type": "code",
   "execution_count": 88,
   "metadata": {},
   "outputs": [
    {
     "data": {
      "text/html": [
       "<div>\n",
       "<style scoped>\n",
       "    .dataframe tbody tr th:only-of-type {\n",
       "        vertical-align: middle;\n",
       "    }\n",
       "\n",
       "    .dataframe tbody tr th {\n",
       "        vertical-align: top;\n",
       "    }\n",
       "\n",
       "    .dataframe thead th {\n",
       "        text-align: right;\n",
       "    }\n",
       "</style>\n",
       "<table border=\"1\" class=\"dataframe\">\n",
       "  <thead>\n",
       "    <tr style=\"text-align: right;\">\n",
       "      <th></th>\n",
       "      <th>ds</th>\n",
       "      <th>yhat</th>\n",
       "      <th>yhat_lower</th>\n",
       "      <th>yhat_upper</th>\n",
       "    </tr>\n",
       "  </thead>\n",
       "  <tbody>\n",
       "    <tr>\n",
       "      <th>102</th>\n",
       "      <td>2020-05-03</td>\n",
       "      <td>1.151023e+06</td>\n",
       "      <td>1.146976e+06</td>\n",
       "      <td>1.155434e+06</td>\n",
       "    </tr>\n",
       "    <tr>\n",
       "      <th>103</th>\n",
       "      <td>2020-05-04</td>\n",
       "      <td>1.177662e+06</td>\n",
       "      <td>1.173645e+06</td>\n",
       "      <td>1.182244e+06</td>\n",
       "    </tr>\n",
       "    <tr>\n",
       "      <th>104</th>\n",
       "      <td>2020-05-05</td>\n",
       "      <td>1.204954e+06</td>\n",
       "      <td>1.200837e+06</td>\n",
       "      <td>1.209474e+06</td>\n",
       "    </tr>\n",
       "    <tr>\n",
       "      <th>105</th>\n",
       "      <td>2020-05-06</td>\n",
       "      <td>1.234387e+06</td>\n",
       "      <td>1.229704e+06</td>\n",
       "      <td>1.238946e+06</td>\n",
       "    </tr>\n",
       "    <tr>\n",
       "      <th>106</th>\n",
       "      <td>2020-05-07</td>\n",
       "      <td>1.263344e+06</td>\n",
       "      <td>1.258447e+06</td>\n",
       "      <td>1.268575e+06</td>\n",
       "    </tr>\n",
       "    <tr>\n",
       "      <th>107</th>\n",
       "      <td>2020-05-08</td>\n",
       "      <td>1.293310e+06</td>\n",
       "      <td>1.287020e+06</td>\n",
       "      <td>1.300295e+06</td>\n",
       "    </tr>\n",
       "    <tr>\n",
       "      <th>108</th>\n",
       "      <td>2020-05-09</td>\n",
       "      <td>1.322809e+06</td>\n",
       "      <td>1.313459e+06</td>\n",
       "      <td>1.333489e+06</td>\n",
       "    </tr>\n",
       "    <tr>\n",
       "      <th>109</th>\n",
       "      <td>2020-05-10</td>\n",
       "      <td>1.350656e+06</td>\n",
       "      <td>1.337816e+06</td>\n",
       "      <td>1.366560e+06</td>\n",
       "    </tr>\n",
       "    <tr>\n",
       "      <th>110</th>\n",
       "      <td>2020-05-11</td>\n",
       "      <td>1.377295e+06</td>\n",
       "      <td>1.360750e+06</td>\n",
       "      <td>1.396234e+06</td>\n",
       "    </tr>\n",
       "    <tr>\n",
       "      <th>111</th>\n",
       "      <td>2020-05-12</td>\n",
       "      <td>1.404587e+06</td>\n",
       "      <td>1.382857e+06</td>\n",
       "      <td>1.428822e+06</td>\n",
       "    </tr>\n",
       "  </tbody>\n",
       "</table>\n",
       "</div>"
      ],
      "text/plain": [
       "            ds          yhat    yhat_lower    yhat_upper\n",
       "102 2020-05-03  1.151023e+06  1.146976e+06  1.155434e+06\n",
       "103 2020-05-04  1.177662e+06  1.173645e+06  1.182244e+06\n",
       "104 2020-05-05  1.204954e+06  1.200837e+06  1.209474e+06\n",
       "105 2020-05-06  1.234387e+06  1.229704e+06  1.238946e+06\n",
       "106 2020-05-07  1.263344e+06  1.258447e+06  1.268575e+06\n",
       "107 2020-05-08  1.293310e+06  1.287020e+06  1.300295e+06\n",
       "108 2020-05-09  1.322809e+06  1.313459e+06  1.333489e+06\n",
       "109 2020-05-10  1.350656e+06  1.337816e+06  1.366560e+06\n",
       "110 2020-05-11  1.377295e+06  1.360750e+06  1.396234e+06\n",
       "111 2020-05-12  1.404587e+06  1.382857e+06  1.428822e+06"
      ]
     },
     "execution_count": 88,
     "metadata": {},
     "output_type": "execute_result"
    }
   ],
   "source": [
    "#Predicting the future with date, and upper and lower limit of y value \n",
    "forecast_dailyNcases = m.predict(future)\n",
    "forecast_dailyNcases[['ds','yhat','yhat_lower','yhat_upper']].tail(10)"
   ]
  },
  {
   "cell_type": "code",
   "execution_count": 89,
   "metadata": {},
   "outputs": [
    {
     "data": {
      "image/png": "[encoded data removed]",
      "text/plain": [
       "<Figure size 720x432 with 1 Axes>"
      ]
     },
     "metadata": {},
     "output_type": "display_data"
    }
   ],
   "source": [
    "#Forecast plot calling Prophet.plot method and passing forecast dataframe\n",
    "newcases_forecast_plot = m.plot(forecast_dailyNcases)"
   ]
  },
  {
   "cell_type": "markdown",
   "metadata": {},
   "source": [
    "### 5.4 New Case Prediction - 14 Days"
   ]
  },
  {
   "cell_type": "code",
   "execution_count": 90,
   "metadata": {},
   "outputs": [
    {
     "name": "stderr",
     "output_type": "stream",
     "text": [
      "INFO:fbprophet:Disabling yearly seasonality. Run prophet with yearly_seasonality=True to override this.\n",
      "INFO:fbprophet:Disabling daily seasonality. Run prophet with daily_seasonality=True to override this.\n"
     ]
    },
    {
     "data": {
      "text/html": [
       "<div>\n",
       "<style scoped>\n",
       "    .dataframe tbody tr th:only-of-type {\n",
       "        vertical-align: middle;\n",
       "    }\n",
       "\n",
       "    .dataframe tbody tr th {\n",
       "        vertical-align: top;\n",
       "    }\n",
       "\n",
       "    .dataframe thead th {\n",
       "        text-align: right;\n",
       "    }\n",
       "</style>\n",
       "<table border=\"1\" class=\"dataframe\">\n",
       "  <thead>\n",
       "    <tr style=\"text-align: right;\">\n",
       "      <th></th>\n",
       "      <th>ds</th>\n",
       "    </tr>\n",
       "  </thead>\n",
       "  <tbody>\n",
       "    <tr>\n",
       "      <th>113</th>\n",
       "      <td>2020-05-13</td>\n",
       "    </tr>\n",
       "    <tr>\n",
       "      <th>114</th>\n",
       "      <td>2020-05-14</td>\n",
       "    </tr>\n",
       "    <tr>\n",
       "      <th>115</th>\n",
       "      <td>2020-05-15</td>\n",
       "    </tr>\n",
       "    <tr>\n",
       "      <th>116</th>\n",
       "      <td>2020-05-16</td>\n",
       "    </tr>\n",
       "    <tr>\n",
       "      <th>117</th>\n",
       "      <td>2020-05-17</td>\n",
       "    </tr>\n",
       "  </tbody>\n",
       "</table>\n",
       "</div>"
      ],
      "text/plain": [
       "            ds\n",
       "113 2020-05-13\n",
       "114 2020-05-14\n",
       "115 2020-05-15\n",
       "116 2020-05-16\n",
       "117 2020-05-17"
      ]
     },
     "execution_count": 90,
     "metadata": {},
     "output_type": "execute_result"
    }
   ],
   "source": [
    "m2 = Prophet(interval_width=0.95)\n",
    "m2.fit(us_newcases)\n",
    "future1 = m1.make_future_dataframe(periods=14)\n",
    "future1.tail()"
   ]
  },
  {
   "cell_type": "code",
   "execution_count": 91,
   "metadata": {},
   "outputs": [
    {
     "data": {
      "text/html": [
       "<div>\n",
       "<style scoped>\n",
       "    .dataframe tbody tr th:only-of-type {\n",
       "        vertical-align: middle;\n",
       "    }\n",
       "\n",
       "    .dataframe tbody tr th {\n",
       "        vertical-align: top;\n",
       "    }\n",
       "\n",
       "    .dataframe thead th {\n",
       "        text-align: right;\n",
       "    }\n",
       "</style>\n",
       "<table border=\"1\" class=\"dataframe\">\n",
       "  <thead>\n",
       "    <tr style=\"text-align: right;\">\n",
       "      <th></th>\n",
       "      <th>ds</th>\n",
       "      <th>yhat</th>\n",
       "      <th>yhat_lower</th>\n",
       "      <th>yhat_upper</th>\n",
       "    </tr>\n",
       "  </thead>\n",
       "  <tbody>\n",
       "    <tr>\n",
       "      <th>102</th>\n",
       "      <td>2020-05-03</td>\n",
       "      <td>1.151023e+06</td>\n",
       "      <td>1.146863e+06</td>\n",
       "      <td>1.155026e+06</td>\n",
       "    </tr>\n",
       "    <tr>\n",
       "      <th>103</th>\n",
       "      <td>2020-05-04</td>\n",
       "      <td>1.177662e+06</td>\n",
       "      <td>1.173304e+06</td>\n",
       "      <td>1.181998e+06</td>\n",
       "    </tr>\n",
       "    <tr>\n",
       "      <th>104</th>\n",
       "      <td>2020-05-05</td>\n",
       "      <td>1.204954e+06</td>\n",
       "      <td>1.200570e+06</td>\n",
       "      <td>1.209078e+06</td>\n",
       "    </tr>\n",
       "    <tr>\n",
       "      <th>105</th>\n",
       "      <td>2020-05-06</td>\n",
       "      <td>1.234387e+06</td>\n",
       "      <td>1.229936e+06</td>\n",
       "      <td>1.238915e+06</td>\n",
       "    </tr>\n",
       "    <tr>\n",
       "      <th>106</th>\n",
       "      <td>2020-05-07</td>\n",
       "      <td>1.263344e+06</td>\n",
       "      <td>1.258685e+06</td>\n",
       "      <td>1.268555e+06</td>\n",
       "    </tr>\n",
       "    <tr>\n",
       "      <th>107</th>\n",
       "      <td>2020-05-08</td>\n",
       "      <td>1.293310e+06</td>\n",
       "      <td>1.286558e+06</td>\n",
       "      <td>1.300228e+06</td>\n",
       "    </tr>\n",
       "    <tr>\n",
       "      <th>108</th>\n",
       "      <td>2020-05-09</td>\n",
       "      <td>1.322809e+06</td>\n",
       "      <td>1.313191e+06</td>\n",
       "      <td>1.332317e+06</td>\n",
       "    </tr>\n",
       "    <tr>\n",
       "      <th>109</th>\n",
       "      <td>2020-05-10</td>\n",
       "      <td>1.350656e+06</td>\n",
       "      <td>1.336017e+06</td>\n",
       "      <td>1.363390e+06</td>\n",
       "    </tr>\n",
       "    <tr>\n",
       "      <th>110</th>\n",
       "      <td>2020-05-11</td>\n",
       "      <td>1.377295e+06</td>\n",
       "      <td>1.358253e+06</td>\n",
       "      <td>1.394056e+06</td>\n",
       "    </tr>\n",
       "    <tr>\n",
       "      <th>111</th>\n",
       "      <td>2020-05-12</td>\n",
       "      <td>1.404587e+06</td>\n",
       "      <td>1.382692e+06</td>\n",
       "      <td>1.425083e+06</td>\n",
       "    </tr>\n",
       "  </tbody>\n",
       "</table>\n",
       "</div>"
      ],
      "text/plain": [
       "            ds          yhat    yhat_lower    yhat_upper\n",
       "102 2020-05-03  1.151023e+06  1.146863e+06  1.155026e+06\n",
       "103 2020-05-04  1.177662e+06  1.173304e+06  1.181998e+06\n",
       "104 2020-05-05  1.204954e+06  1.200570e+06  1.209078e+06\n",
       "105 2020-05-06  1.234387e+06  1.229936e+06  1.238915e+06\n",
       "106 2020-05-07  1.263344e+06  1.258685e+06  1.268555e+06\n",
       "107 2020-05-08  1.293310e+06  1.286558e+06  1.300228e+06\n",
       "108 2020-05-09  1.322809e+06  1.313191e+06  1.332317e+06\n",
       "109 2020-05-10  1.350656e+06  1.336017e+06  1.363390e+06\n",
       "110 2020-05-11  1.377295e+06  1.358253e+06  1.394056e+06\n",
       "111 2020-05-12  1.404587e+06  1.382692e+06  1.425083e+06"
      ]
     },
     "execution_count": 91,
     "metadata": {},
     "output_type": "execute_result"
    }
   ],
   "source": [
    "#Predicting the future with date, and upper and lower limit of y value \n",
    "forecast_dailyNcases1 = m.predict(future)\n",
    "forecast_dailyNcases1[['ds','yhat','yhat_lower','yhat_upper']].tail(10)"
   ]
  },
  {
   "cell_type": "code",
   "execution_count": 92,
   "metadata": {},
   "outputs": [
    {
     "data": {
      "image/png": "[encoded data removed]",
      "text/plain": [
       "<Figure size 720x432 with 1 Axes>"
      ]
     },
     "metadata": {},
     "output_type": "display_data"
    }
   ],
   "source": [
    "#Forecast plot calling Prophet.plot method and passing forecast dataframe\n",
    "newcases_forecast_plot = m.plot(forecast_dailyNcases)"
   ]
  },
  {
   "cell_type": "code",
   "execution_count": 93,
   "metadata": {},
   "outputs": [],
   "source": [
    "forecast_dailyNcases2=forecast_dailyNcases1.copy()\n",
    "forecast_dailyNcases2=forecast_dailyNcases2.drop(['yhat_lower','yhat_upper','trend','trend_lower','trend_upper','additive_terms','additive_terms_lower','additive_terms_upper','weekly','weekly_lower','weekly_upper','multiplicative_terms','multiplicative_terms_lower','multiplicative_terms_upper'], axis=1)\n",
    "forecast_dailyNcases2 = forecast_dailyNcases2.rename(columns={'ds':'Date','yhat':'ForecastedNewCases'})"
   ]
  },
  {
   "cell_type": "code",
   "execution_count": 94,
   "metadata": {},
   "outputs": [
    {
     "data": {
      "text/html": [
       "<div>\n",
       "<style scoped>\n",
       "    .dataframe tbody tr th:only-of-type {\n",
       "        vertical-align: middle;\n",
       "    }\n",
       "\n",
       "    .dataframe tbody tr th {\n",
       "        vertical-align: top;\n",
       "    }\n",
       "\n",
       "    .dataframe thead th {\n",
       "        text-align: right;\n",
       "    }\n",
       "</style>\n",
       "<table border=\"1\" class=\"dataframe\">\n",
       "  <thead>\n",
       "    <tr style=\"text-align: right;\">\n",
       "      <th></th>\n",
       "      <th>Date</th>\n",
       "      <th>ForecastedNewCases</th>\n",
       "    </tr>\n",
       "  </thead>\n",
       "  <tbody>\n",
       "    <tr>\n",
       "      <th>102</th>\n",
       "      <td>2020-05-03</td>\n",
       "      <td>1.151023e+06</td>\n",
       "    </tr>\n",
       "    <tr>\n",
       "      <th>103</th>\n",
       "      <td>2020-05-04</td>\n",
       "      <td>1.177662e+06</td>\n",
       "    </tr>\n",
       "    <tr>\n",
       "      <th>104</th>\n",
       "      <td>2020-05-05</td>\n",
       "      <td>1.204954e+06</td>\n",
       "    </tr>\n",
       "    <tr>\n",
       "      <th>105</th>\n",
       "      <td>2020-05-06</td>\n",
       "      <td>1.234387e+06</td>\n",
       "    </tr>\n",
       "    <tr>\n",
       "      <th>106</th>\n",
       "      <td>2020-05-07</td>\n",
       "      <td>1.263344e+06</td>\n",
       "    </tr>\n",
       "    <tr>\n",
       "      <th>107</th>\n",
       "      <td>2020-05-08</td>\n",
       "      <td>1.293310e+06</td>\n",
       "    </tr>\n",
       "    <tr>\n",
       "      <th>108</th>\n",
       "      <td>2020-05-09</td>\n",
       "      <td>1.322809e+06</td>\n",
       "    </tr>\n",
       "    <tr>\n",
       "      <th>109</th>\n",
       "      <td>2020-05-10</td>\n",
       "      <td>1.350656e+06</td>\n",
       "    </tr>\n",
       "    <tr>\n",
       "      <th>110</th>\n",
       "      <td>2020-05-11</td>\n",
       "      <td>1.377295e+06</td>\n",
       "    </tr>\n",
       "    <tr>\n",
       "      <th>111</th>\n",
       "      <td>2020-05-12</td>\n",
       "      <td>1.404587e+06</td>\n",
       "    </tr>\n",
       "  </tbody>\n",
       "</table>\n",
       "</div>"
      ],
      "text/plain": [
       "          Date  ForecastedNewCases\n",
       "102 2020-05-03        1.151023e+06\n",
       "103 2020-05-04        1.177662e+06\n",
       "104 2020-05-05        1.204954e+06\n",
       "105 2020-05-06        1.234387e+06\n",
       "106 2020-05-07        1.263344e+06\n",
       "107 2020-05-08        1.293310e+06\n",
       "108 2020-05-09        1.322809e+06\n",
       "109 2020-05-10        1.350656e+06\n",
       "110 2020-05-11        1.377295e+06\n",
       "111 2020-05-12        1.404587e+06"
      ]
     },
     "execution_count": 94,
     "metadata": {},
     "output_type": "execute_result"
    }
   ],
   "source": [
    "forecast_dailyNcases2.tail(10)"
   ]
  },
  {
   "cell_type": "code",
   "execution_count": 95,
   "metadata": {},
   "outputs": [
    {
     "data": {
      "application/vnd.plotly.v1+json": {
       "config": {
        "plotlyServerURL": "https://plot.ly"
       },
       "data": [
        {
         "alignmentgroup": "True",
         "hovertemplate": "Date=%{x}<br>ForecastedNewCases=%{marker.color}<extra></extra>",
         "legendgroup": "",
         "marker": {
          "color": [
           -1006.1081445197368,
           -567.4880745332952,
           881.0168889165976,
           1861.1218104759662,
           1190.3995262292076,
           -689.3035202697982,
           -1914.8694079116094,
           -1000.1388019308616,
           -561.5185804493292,
           886.9865344898636,
           1867.0916075500336,
           1196.369466323094,
           -683.3334371472876,
           -1908.8991817748567,
           -994.1684959665693,
           -555.5483231432692,
           892.9567431444784,
           1873.0617675493081,
           1202.3396444861319,
           -677.363240817461,
           -1902.9289672756468,
           -988.1983011951986,
           -549.5781481009728,
           898.9268984587629,
           1879.0319024073294,
           1208.3096775285871,
           -671.3933095908471,
           -1896.9591378645885,
           -982.2283390096906,
           -543.6080531408717,
           904.8971261932132,
           1885.004104039695,
           1214.28385305924,
           -665.4171601594642,
           -1890.980993459403,
           -976.2483331313695,
           -537.6261857947353,
           910.8808550153597,
           1943.9490106996377,
           1326.1899375659923,
           -500.54989782134743,
           -1665.2243165620393,
           -689.6022416794389,
           -190.09067978106316,
           1321.063442189139,
           2363.817522266269,
           1755.7443735230706,
           349.04161161379204,
           -403.52399145260506,
           984.2068991114404,
           1895.8272766901448,
           3821.312789507918,
           5278.398260432729,
           5084.656502536706,
           5408.001012319159,
           6385.482680945559,
           9503.26084320097,
           15893.211361579699,
           23293.046773424547,
           30224.48214338486,
           35505.0902845177,
           45560.01616007433,
           56269.07919447688,
           69118.43872250516,
           86569.77219376323,
           105030.99055848272,
           123023.80888131847,
           145893.51259629242,
           167554.23554902832,
           189869.09566060887,
           214324.2522658156,
           244404.83107080378,
           275495.2947692557,
           306117.3584258187,
           336239.6106866852,
           365152.88218529633,
           394720.29084276315,
           426427.996002379,
           457659.5906490133,
           489901.07018911024,
           521674.14968731906,
           550389.1197154607,
           577895.1089813501,
           606055.2354060968,
           635488.1086525696,
           664444.8713860576,
           694411.519013016,
           723909.7665980824,
           751757.1869543254,
           778395.6265483176,
           805688.203301169,
           835121.0765476429,
           864077.839281131,
           894044.4869080911,
           923542.7344931543,
           951390.1548493964,
           978028.5944433967,
           1005321.1711962421,
           1034754.044442716,
           1063710.807176204,
           1093677.4548031578,
           1123175.7023882258,
           1151023.122744467,
           1177661.5623384684,
           1204954.139091314,
           1234387.0123377894,
           1263343.7750712773,
           1293310.4226982319,
           1322808.6702832978,
           1350656.0906395386,
           1377294.5302335387,
           1404587.1069863872
          ],
          "coloraxis": "coloraxis"
         },
         "name": "",
         "offsetgroup": "",
         "orientation": "v",
         "showlegend": false,
         "textposition": "auto",
         "type": "bar",
         "x": [
          "2020-01-22T00:00:00",
          "2020-01-23T00:00:00",
          "2020-01-24T00:00:00",
          "2020-01-25T00:00:00",
          "2020-01-26T00:00:00",
          "2020-01-27T00:00:00",
          "2020-01-28T00:00:00",
          "2020-01-29T00:00:00",
          "2020-01-30T00:00:00",
          "2020-01-31T00:00:00",
          "2020-02-01T00:00:00",
          "2020-02-02T00:00:00",
          "2020-02-03T00:00:00",
          "2020-02-04T00:00:00",
          "2020-02-05T00:00:00",
          "2020-02-06T00:00:00",
          "2020-02-07T00:00:00",
          "2020-02-08T00:00:00",
          "2020-02-09T00:00:00",
          "2020-02-10T00:00:00",
          "2020-02-11T00:00:00",
          "2020-02-12T00:00:00",
          "2020-02-13T00:00:00",
          "2020-02-14T00:00:00",
          "2020-02-15T00:00:00",
          "2020-02-16T00:00:00",
          "2020-02-17T00:00:00",
          "2020-02-18T00:00:00",
          "2020-02-19T00:00:00",
          "2020-02-20T00:00:00",
          "2020-02-21T00:00:00",
          "2020-02-22T00:00:00",
          "2020-02-23T00:00:00",
          "2020-02-24T00:00:00",
          "2020-02-25T00:00:00",
          "2020-02-26T00:00:00",
          "2020-02-27T00:00:00",
          "2020-02-28T00:00:00",
          "2020-02-29T00:00:00",
          "2020-03-01T00:00:00",
          "2020-03-02T00:00:00",
          "2020-03-03T00:00:00",
          "2020-03-04T00:00:00",
          "2020-03-05T00:00:00",
          "2020-03-06T00:00:00",
          "2020-03-07T00:00:00",
          "2020-03-08T00:00:00",
          "2020-03-09T00:00:00",
          "2020-03-10T00:00:00",
          "2020-03-11T00:00:00",
          "2020-03-12T00:00:00",
          "2020-03-13T00:00:00",
          "2020-03-14T00:00:00",
          "2020-03-15T00:00:00",
          "2020-03-16T00:00:00",
          "2020-03-17T00:00:00",
          "2020-03-18T00:00:00",
          "2020-03-19T00:00:00",
          "2020-03-20T00:00:00",
          "2020-03-21T00:00:00",
          "2020-03-22T00:00:00",
          "2020-03-23T00:00:00",
          "2020-03-24T00:00:00",
          "2020-03-25T00:00:00",
          "2020-03-26T00:00:00",
          "2020-03-27T00:00:00",
          "2020-03-28T00:00:00",
          "2020-03-29T00:00:00",
          "2020-03-30T00:00:00",
          "2020-03-31T00:00:00",
          "2020-04-01T00:00:00",
          "2020-04-02T00:00:00",
          "2020-04-03T00:00:00",
          "2020-04-04T00:00:00",
          "2020-04-05T00:00:00",
          "2020-04-06T00:00:00",
          "2020-04-07T00:00:00",
          "2020-04-08T00:00:00",
          "2020-04-09T00:00:00",
          "2020-04-10T00:00:00",
          "2020-04-11T00:00:00",
          "2020-04-12T00:00:00",
          "2020-04-13T00:00:00",
          "2020-04-14T00:00:00",
          "2020-04-15T00:00:00",
          "2020-04-16T00:00:00",
          "2020-04-17T00:00:00",
          "2020-04-18T00:00:00",
          "2020-04-19T00:00:00",
          "2020-04-20T00:00:00",
          "2020-04-21T00:00:00",
          "2020-04-22T00:00:00",
          "2020-04-23T00:00:00",
          "2020-04-24T00:00:00",
          "2020-04-25T00:00:00",
          "2020-04-26T00:00:00",
          "2020-04-27T00:00:00",
          "2020-04-28T00:00:00",
          "2020-04-29T00:00:00",
          "2020-04-30T00:00:00",
          "2020-05-01T00:00:00",
          "2020-05-02T00:00:00",
          "2020-05-03T00:00:00",
          "2020-05-04T00:00:00",
          "2020-05-05T00:00:00",
          "2020-05-06T00:00:00",
          "2020-05-07T00:00:00",
          "2020-05-08T00:00:00",
          "2020-05-09T00:00:00",
          "2020-05-10T00:00:00",
          "2020-05-11T00:00:00",
          "2020-05-12T00:00:00"
         ],
         "xaxis": "x",
         "y": [
          -1006.1081445197368,
          -567.4880745332952,
          881.0168889165976,
          1861.1218104759662,
          1190.3995262292076,
          -689.3035202697982,
          -1914.8694079116094,
          -1000.1388019308616,
          -561.5185804493292,
          886.9865344898636,
          1867.0916075500336,
          1196.369466323094,
          -683.3334371472876,
          -1908.8991817748567,
          -994.1684959665693,
          -555.5483231432692,
          892.9567431444784,
          1873.0617675493081,
          1202.3396444861319,
          -677.363240817461,
          -1902.9289672756468,
          -988.1983011951986,
          -549.5781481009728,
          898.9268984587629,
          1879.0319024073294,
          1208.3096775285871,
          -671.3933095908471,
          -1896.9591378645885,
          -982.2283390096906,
          -543.6080531408717,
          904.8971261932132,
          1885.004104039695,
          1214.28385305924,
          -665.4171601594642,
          -1890.980993459403,
          -976.2483331313695,
          -537.6261857947353,
          910.8808550153597,
          1943.9490106996377,
          1326.1899375659923,
          -500.54989782134743,
          -1665.2243165620393,
          -689.6022416794389,
          -190.09067978106316,
          1321.063442189139,
          2363.817522266269,
          1755.7443735230706,
          349.04161161379204,
          -403.52399145260506,
          984.2068991114404,
          1895.8272766901448,
          3821.312789507918,
          5278.398260432729,
          5084.656502536706,
          5408.001012319159,
          6385.482680945559,
          9503.26084320097,
          15893.211361579699,
          23293.046773424547,
          30224.48214338486,
          35505.0902845177,
          45560.01616007433,
          56269.07919447688,
          69118.43872250516,
          86569.77219376323,
          105030.99055848272,
          123023.80888131847,
          145893.51259629242,
          167554.23554902832,
          189869.09566060887,
          214324.2522658156,
          244404.83107080378,
          275495.2947692557,
          306117.3584258187,
          336239.6106866852,
          365152.88218529633,
          394720.29084276315,
          426427.996002379,
          457659.5906490133,
          489901.07018911024,
          521674.14968731906,
          550389.1197154607,
          577895.1089813501,
          606055.2354060968,
          635488.1086525696,
          664444.8713860576,
          694411.519013016,
          723909.7665980824,
          751757.1869543254,
          778395.6265483176,
          805688.203301169,
          835121.0765476429,
          864077.839281131,
          894044.4869080911,
          923542.7344931543,
          951390.1548493964,
          978028.5944433967,
          1005321.1711962421,
          1034754.044442716,
          1063710.807176204,
          1093677.4548031578,
          1123175.7023882258,
          1151023.122744467,
          1177661.5623384684,
          1204954.139091314,
          1234387.0123377894,
          1263343.7750712773,
          1293310.4226982319,
          1322808.6702832978,
          1350656.0906395386,
          1377294.5302335387,
          1404587.1069863872
         ],
         "yaxis": "y"
        }
       ],
       "layout": {
        "barmode": "relative",
        "coloraxis": {
         "colorbar": {
          "title": {
           "text": "ForecastedNewCases"
          }
         },
         "colorscale": [
          [
           0,
           "#0d0887"
          ],
          [
           0.1111111111111111,
           "#46039f"
          ],
          [
           0.2222222222222222,
           "#7201a8"
          ],
          [
           0.3333333333333333,
           "#9c179e"
          ],
          [
           0.4444444444444444,
           "#bd3786"
          ],
          [
           0.5555555555555556,
           "#d8576b"
          ],
          [
           0.6666666666666666,
           "#ed7953"
          ],
          [
           0.7777777777777778,
           "#fb9f3a"
          ],
          [
           0.8888888888888888,
           "#fdca26"
          ],
          [
           1,
           "#f0f921"
          ]
         ]
        },
        "height": 600,
        "legend": {
         "tracegroupgap": 0
        },
        "plot_bgcolor": "rgb(230, 230, 230)",
        "template": {
         "data": {
          "bar": [
           {
            "error_x": {
             "color": "#2a3f5f"
            },
            "error_y": {
             "color": "#2a3f5f"
            },
            "marker": {
             "line": {
              "color": "#E5ECF6",
              "width": 0.5
             }
            },
            "type": "bar"
           }
          ],
          "barpolar": [
           {
            "marker": {
             "line": {
              "color": "#E5ECF6",
              "width": 0.5
             }
            },
            "type": "barpolar"
           }
          ],
          "carpet": [
           {
            "aaxis": {
             "endlinecolor": "#2a3f5f",
             "gridcolor": "white",
             "linecolor": "white",
             "minorgridcolor": "white",
             "startlinecolor": "#2a3f5f"
            },
            "baxis": {
             "endlinecolor": "#2a3f5f",
             "gridcolor": "white",
             "linecolor": "white",
             "minorgridcolor": "white",
             "startlinecolor": "#2a3f5f"
            },
            "type": "carpet"
           }
          ],
          "choropleth": [
           {
            "colorbar": {
             "outlinewidth": 0,
             "ticks": ""
            },
            "type": "choropleth"
           }
          ],
          "contour": [
           {
            "colorbar": {
             "outlinewidth": 0,
             "ticks": ""
            },
            "colorscale": [
             [
              0,
              "#0d0887"
             ],
             [
              0.1111111111111111,
              "#46039f"
             ],
             [
              0.2222222222222222,
              "#7201a8"
             ],
             [
              0.3333333333333333,
              "#9c179e"
             ],
             [
              0.4444444444444444,
              "#bd3786"
             ],
             [
              0.5555555555555556,
              "#d8576b"
             ],
             [
              0.6666666666666666,
              "#ed7953"
             ],
             [
              0.7777777777777778,
              "#fb9f3a"
             ],
             [
              0.8888888888888888,
              "#fdca26"
             ],
             [
              1,
              "#f0f921"
             ]
            ],
            "type": "contour"
           }
          ],
          "contourcarpet": [
           {
            "colorbar": {
             "outlinewidth": 0,
             "ticks": ""
            },
            "type": "contourcarpet"
           }
          ],
          "heatmap": [
           {
            "colorbar": {
             "outlinewidth": 0,
             "ticks": ""
            },
            "colorscale": [
             [
              0,
              "#0d0887"
             ],
             [
              0.1111111111111111,
              "#46039f"
             ],
             [
              0.2222222222222222,
              "#7201a8"
             ],
             [
              0.3333333333333333,
              "#9c179e"
             ],
             [
              0.4444444444444444,
              "#bd3786"
             ],
             [
              0.5555555555555556,
              "#d8576b"
             ],
             [
              0.6666666666666666,
              "#ed7953"
             ],
             [
              0.7777777777777778,
              "#fb9f3a"
             ],
             [
              0.8888888888888888,
              "#fdca26"
             ],
             [
              1,
              "#f0f921"
             ]
            ],
            "type": "heatmap"
           }
          ],
          "heatmapgl": [
           {
            "colorbar": {
             "outlinewidth": 0,
             "ticks": ""
            },
            "colorscale": [
             [
              0,
              "#0d0887"
             ],
             [
              0.1111111111111111,
              "#46039f"
             ],
             [
              0.2222222222222222,
              "#7201a8"
             ],
             [
              0.3333333333333333,
              "#9c179e"
             ],
             [
              0.4444444444444444,
              "#bd3786"
             ],
             [
              0.5555555555555556,
              "#d8576b"
             ],
             [
              0.6666666666666666,
              "#ed7953"
             ],
             [
              0.7777777777777778,
              "#fb9f3a"
             ],
             [
              0.8888888888888888,
              "#fdca26"
             ],
             [
              1,
              "#f0f921"
             ]
            ],
            "type": "heatmapgl"
           }
          ],
          "histogram": [
           {
            "marker": {
             "colorbar": {
              "outlinewidth": 0,
              "ticks": ""
             }
            },
            "type": "histogram"
           }
          ],
          "histogram2d": [
           {
            "colorbar": {
             "outlinewidth": 0,
             "ticks": ""
            },
            "colorscale": [
             [
              0,
              "#0d0887"
             ],
             [
              0.1111111111111111,
              "#46039f"
             ],
             [
              0.2222222222222222,
              "#7201a8"
             ],
             [
              0.3333333333333333,
              "#9c179e"
             ],
             [
              0.4444444444444444,
              "#bd3786"
             ],
             [
              0.5555555555555556,
              "#d8576b"
             ],
             [
              0.6666666666666666,
              "#ed7953"
             ],
             [
              0.7777777777777778,
              "#fb9f3a"
             ],
             [
              0.8888888888888888,
              "#fdca26"
             ],
             [
              1,
              "#f0f921"
             ]
            ],
            "type": "histogram2d"
           }
          ],
          "histogram2dcontour": [
           {
            "colorbar": {
             "outlinewidth": 0,
             "ticks": ""
            },
            "colorscale": [
             [
              0,
              "#0d0887"
             ],
             [
              0.1111111111111111,
              "#46039f"
             ],
             [
              0.2222222222222222,
              "#7201a8"
             ],
             [
              0.3333333333333333,
              "#9c179e"
             ],
             [
              0.4444444444444444,
              "#bd3786"
             ],
             [
              0.5555555555555556,
              "#d8576b"
             ],
             [
              0.6666666666666666,
              "#ed7953"
             ],
             [
              0.7777777777777778,
              "#fb9f3a"
             ],
             [
              0.8888888888888888,
              "#fdca26"
             ],
             [
              1,
              "#f0f921"
             ]
            ],
            "type": "histogram2dcontour"
           }
          ],
          "mesh3d": [
           {
            "colorbar": {
             "outlinewidth": 0,
             "ticks": ""
            },
            "type": "mesh3d"
           }
          ],
          "parcoords": [
           {
            "line": {
             "colorbar": {
              "outlinewidth": 0,
              "ticks": ""
             }
            },
            "type": "parcoords"
           }
          ],
          "pie": [
           {
            "automargin": true,
            "type": "pie"
           }
          ],
          "scatter": [
           {
            "marker": {
             "colorbar": {
              "outlinewidth": 0,
              "ticks": ""
             }
            },
            "type": "scatter"
           }
          ],
          "scatter3d": [
           {
            "line": {
             "colorbar": {
              "outlinewidth": 0,
              "ticks": ""
             }
            },
            "marker": {
             "colorbar": {
              "outlinewidth": 0,
              "ticks": ""
             }
            },
            "type": "scatter3d"
           }
          ],
          "scattercarpet": [
           {
            "marker": {
             "colorbar": {
              "outlinewidth": 0,
              "ticks": ""
             }
            },
            "type": "scattercarpet"
           }
          ],
          "scattergeo": [
           {
            "marker": {
             "colorbar": {
              "outlinewidth": 0,
              "ticks": ""
             }
            },
            "type": "scattergeo"
           }
          ],
          "scattergl": [
           {
            "marker": {
             "colorbar": {
              "outlinewidth": 0,
              "ticks": ""
             }
            },
            "type": "scattergl"
           }
          ],
          "scattermapbox": [
           {
            "marker": {
             "colorbar": {
              "outlinewidth": 0,
              "ticks": ""
             }
            },
            "type": "scattermapbox"
           }
          ],
          "scatterpolar": [
           {
            "marker": {
             "colorbar": {
              "outlinewidth": 0,
              "ticks": ""
             }
            },
            "type": "scatterpolar"
           }
          ],
          "scatterpolargl": [
           {
            "marker": {
             "colorbar": {
              "outlinewidth": 0,
              "ticks": ""
             }
            },
            "type": "scatterpolargl"
           }
          ],
          "scatterternary": [
           {
            "marker": {
             "colorbar": {
              "outlinewidth": 0,
              "ticks": ""
             }
            },
            "type": "scatterternary"
           }
          ],
          "surface": [
           {
            "colorbar": {
             "outlinewidth": 0,
             "ticks": ""
            },
            "colorscale": [
             [
              0,
              "#0d0887"
             ],
             [
              0.1111111111111111,
              "#46039f"
             ],
             [
              0.2222222222222222,
              "#7201a8"
             ],
             [
              0.3333333333333333,
              "#9c179e"
             ],
             [
              0.4444444444444444,
              "#bd3786"
             ],
             [
              0.5555555555555556,
              "#d8576b"
             ],
             [
              0.6666666666666666,
              "#ed7953"
             ],
             [
              0.7777777777777778,
              "#fb9f3a"
             ],
             [
              0.8888888888888888,
              "#fdca26"
             ],
             [
              1,
              "#f0f921"
             ]
            ],
            "type": "surface"
           }
          ],
          "table": [
           {
            "cells": {
             "fill": {
              "color": "#EBF0F8"
             },
             "line": {
              "color": "white"
             }
            },
            "header": {
             "fill": {
              "color": "#C8D4E3"
             },
             "line": {
              "color": "white"
             }
            },
            "type": "table"
           }
          ]
         },
         "layout": {
          "annotationdefaults": {
           "arrowcolor": "#2a3f5f",
           "arrowhead": 0,
           "arrowwidth": 1
          },
          "coloraxis": {
           "colorbar": {
            "outlinewidth": 0,
            "ticks": ""
           }
          },
          "colorscale": {
           "diverging": [
            [
             0,
             "#8e0152"
            ],
            [
             0.1,
             "#c51b7d"
            ],
            [
             0.2,
             "#de77ae"
            ],
            [
             0.3,
             "#f1b6da"
            ],
            [
             0.4,
             "#fde0ef"
            ],
            [
             0.5,
             "#f7f7f7"
            ],
            [
             0.6,
             "#e6f5d0"
            ],
            [
             0.7,
             "#b8e186"
            ],
            [
             0.8,
             "#7fbc41"
            ],
            [
             0.9,
             "#4d9221"
            ],
            [
             1,
             "#276419"
            ]
           ],
           "sequential": [
            [
             0,
             "#0d0887"
            ],
            [
             0.1111111111111111,
             "#46039f"
            ],
            [
             0.2222222222222222,
             "#7201a8"
            ],
            [
             0.3333333333333333,
             "#9c179e"
            ],
            [
             0.4444444444444444,
             "#bd3786"
            ],
            [
             0.5555555555555556,
             "#d8576b"
            ],
            [
             0.6666666666666666,
             "#ed7953"
            ],
            [
             0.7777777777777778,
             "#fb9f3a"
            ],
            [
             0.8888888888888888,
             "#fdca26"
            ],
            [
             1,
             "#f0f921"
            ]
           ],
           "sequentialminus": [
            [
             0,
             "#0d0887"
            ],
            [
             0.1111111111111111,
             "#46039f"
            ],
            [
             0.2222222222222222,
             "#7201a8"
            ],
            [
             0.3333333333333333,
             "#9c179e"
            ],
            [
             0.4444444444444444,
             "#bd3786"
            ],
            [
             0.5555555555555556,
             "#d8576b"
            ],
            [
             0.6666666666666666,
             "#ed7953"
            ],
            [
             0.7777777777777778,
             "#fb9f3a"
            ],
            [
             0.8888888888888888,
             "#fdca26"
            ],
            [
             1,
             "#f0f921"
            ]
           ]
          },
          "colorway": [
           "#636efa",
           "#EF553B",
           "#00cc96",
           "#ab63fa",
           "#FFA15A",
           "#19d3f3",
           "#FF6692",
           "#B6E880",
           "#FF97FF",
           "#FECB52"
          ],
          "font": {
           "color": "#2a3f5f"
          },
          "geo": {
           "bgcolor": "white",
           "lakecolor": "white",
           "landcolor": "#E5ECF6",
           "showlakes": true,
           "showland": true,
           "subunitcolor": "white"
          },
          "hoverlabel": {
           "align": "left"
          },
          "hovermode": "closest",
          "mapbox": {
           "style": "light"
          },
          "paper_bgcolor": "white",
          "plot_bgcolor": "#E5ECF6",
          "polar": {
           "angularaxis": {
            "gridcolor": "white",
            "linecolor": "white",
            "ticks": ""
           },
           "bgcolor": "#E5ECF6",
           "radialaxis": {
            "gridcolor": "white",
            "linecolor": "white",
            "ticks": ""
           }
          },
          "scene": {
           "xaxis": {
            "backgroundcolor": "#E5ECF6",
            "gridcolor": "white",
            "gridwidth": 2,
            "linecolor": "white",
            "showbackground": true,
            "ticks": "",
            "zerolinecolor": "white"
           },
           "yaxis": {
            "backgroundcolor": "#E5ECF6",
            "gridcolor": "white",
            "gridwidth": 2,
            "linecolor": "white",
            "showbackground": true,
            "ticks": "",
            "zerolinecolor": "white"
           },
           "zaxis": {
            "backgroundcolor": "#E5ECF6",
            "gridcolor": "white",
            "gridwidth": 2,
            "linecolor": "white",
            "showbackground": true,
            "ticks": "",
            "zerolinecolor": "white"
           }
          },
          "shapedefaults": {
           "line": {
            "color": "#2a3f5f"
           }
          },
          "ternary": {
           "aaxis": {
            "gridcolor": "white",
            "linecolor": "white",
            "ticks": ""
           },
           "baxis": {
            "gridcolor": "white",
            "linecolor": "white",
            "ticks": ""
           },
           "bgcolor": "#E5ECF6",
           "caxis": {
            "gridcolor": "white",
            "linecolor": "white",
            "ticks": ""
           }
          },
          "title": {
           "x": 0.05
          },
          "xaxis": {
           "automargin": true,
           "gridcolor": "white",
           "linecolor": "white",
           "ticks": "",
           "title": {
            "standoff": 15
           },
           "zerolinecolor": "white",
           "zerolinewidth": 2
          },
          "yaxis": {
           "automargin": true,
           "gridcolor": "white",
           "linecolor": "white",
           "ticks": "",
           "title": {
            "standoff": 15
           },
           "zerolinecolor": "white",
           "zerolinewidth": 2
          }
         }
        },
        "title": {
         "text": "New Coronavirus Cases in the US"
        },
        "xaxis": {
         "anchor": "y",
         "domain": [
          0,
          1
         ],
         "title": {
          "text": "Date"
         }
        },
        "yaxis": {
         "anchor": "x",
         "domain": [
          0,
          1
         ],
         "title": {
          "text": "ForecastedNewCases"
         }
        }
       }
      },
      "text/html": [
       "<div>\n",
       "        \n",
       "        \n",
       "            <div id=\"c656ae91-6c2c-4c6c-96a7-84ec88d0bad2\" class=\"plotly-graph-div\" style=\"height:600px; width:100%;\"></div>\n",
       "            <script type=\"text/javascript\">\n",
       "                require([\"plotly\"], function(Plotly) {\n",
       "                    window.PLOTLYENV=window.PLOTLYENV || {};\n",
       "                    \n",
       "                if (document.getElementById(\"c656ae91-6c2c-4c6c-96a7-84ec88d0bad2\")) {\n",
       "                    Plotly.newPlot(\n",
       "                        'c656ae91-6c2c-4c6c-96a7-84ec88d0bad2',\n",
       "                        [{\"alignmentgroup\": \"True\", \"hovertemplate\": \"Date=%{x}<br>ForecastedNewCases=%{marker.color}<extra></extra>\", \"legendgroup\": \"\", \"marker\": {\"color\": [-1006.1081445197368, -567.4880745332952, 881.0168889165976, 1861.1218104759662, 1190.3995262292076, -689.3035202697982, -1914.8694079116094, -1000.1388019308616, -561.5185804493292, 886.9865344898636, 1867.0916075500336, 1196.369466323094, -683.3334371472876, -1908.8991817748567, -994.1684959665693, -555.5483231432692, 892.9567431444784, 1873.0617675493081, 1202.3396444861319, -677.363240817461, -1902.9289672756468, -988.1983011951986, -549.5781481009728, 898.9268984587629, 1879.0319024073294, 1208.3096775285871, -671.3933095908471, -1896.9591378645885, -982.2283390096906, -543.6080531408717, 904.8971261932132, 1885.004104039695, 1214.28385305924, -665.4171601594642, -1890.980993459403, -976.2483331313695, -537.6261857947353, 910.8808550153597, 1943.9490106996377, 1326.1899375659923, -500.54989782134743, -1665.2243165620393, -689.6022416794389, -190.09067978106316, 1321.063442189139, 2363.817522266269, 1755.7443735230706, 349.04161161379204, -403.52399145260506, 984.2068991114404, 1895.8272766901448, 3821.312789507918, 5278.398260432729, 5084.656502536706, 5408.001012319159, 6385.482680945559, 9503.26084320097, 15893.211361579699, 23293.046773424547, 30224.48214338486, 35505.0902845177, 45560.01616007433, 56269.07919447688, 69118.43872250516, 86569.77219376323, 105030.99055848272, 123023.80888131847, 145893.51259629242, 167554.23554902832, 189869.09566060887, 214324.2522658156, 244404.83107080378, 275495.2947692557, 306117.3584258187, 336239.6106866852, 365152.88218529633, 394720.29084276315, 426427.996002379, 457659.5906490133, 489901.07018911024, 521674.14968731906, 550389.1197154607, 577895.1089813501, 606055.2354060968, 635488.1086525696, 664444.8713860576, 694411.519013016, 723909.7665980824, 751757.1869543254, 778395.6265483176, 805688.203301169, 835121.0765476429, 864077.839281131, 894044.4869080911, 923542.7344931543, 951390.1548493964, 978028.5944433967, 1005321.1711962421, 1034754.044442716, 1063710.807176204, 1093677.4548031578, 1123175.7023882258, 1151023.122744467, 1177661.5623384684, 1204954.139091314, 1234387.0123377894, 1263343.7750712773, 1293310.4226982319, 1322808.6702832978, 1350656.0906395386, 1377294.5302335387, 1404587.1069863872], \"coloraxis\": \"coloraxis\"}, \"name\": \"\", \"offsetgroup\": \"\", \"orientation\": \"v\", \"showlegend\": false, \"textposition\": \"auto\", \"type\": \"bar\", \"x\": [\"2020-01-22T00:00:00\", \"2020-01-23T00:00:00\", \"2020-01-24T00:00:00\", \"2020-01-25T00:00:00\", \"2020-01-26T00:00:00\", \"2020-01-27T00:00:00\", \"2020-01-28T00:00:00\", \"2020-01-29T00:00:00\", \"2020-01-30T00:00:00\", \"2020-01-31T00:00:00\", \"2020-02-01T00:00:00\", \"2020-02-02T00:00:00\", \"2020-02-03T00:00:00\", \"2020-02-04T00:00:00\", \"2020-02-05T00:00:00\", \"2020-02-06T00:00:00\", \"2020-02-07T00:00:00\", \"2020-02-08T00:00:00\", \"2020-02-09T00:00:00\", \"2020-02-10T00:00:00\", \"2020-02-11T00:00:00\", \"2020-02-12T00:00:00\", \"2020-02-13T00:00:00\", \"2020-02-14T00:00:00\", \"2020-02-15T00:00:00\", \"2020-02-16T00:00:00\", \"2020-02-17T00:00:00\", \"2020-02-18T00:00:00\", \"2020-02-19T00:00:00\", \"2020-02-20T00:00:00\", \"2020-02-21T00:00:00\", \"2020-02-22T00:00:00\", \"2020-02-23T00:00:00\", \"2020-02-24T00:00:00\", \"2020-02-25T00:00:00\", \"2020-02-26T00:00:00\", \"2020-02-27T00:00:00\", \"2020-02-28T00:00:00\", \"2020-02-29T00:00:00\", \"2020-03-01T00:00:00\", \"2020-03-02T00:00:00\", \"2020-03-03T00:00:00\", \"2020-03-04T00:00:00\", \"2020-03-05T00:00:00\", \"2020-03-06T00:00:00\", \"2020-03-07T00:00:00\", \"2020-03-08T00:00:00\", \"2020-03-09T00:00:00\", \"2020-03-10T00:00:00\", \"2020-03-11T00:00:00\", \"2020-03-12T00:00:00\", \"2020-03-13T00:00:00\", \"2020-03-14T00:00:00\", \"2020-03-15T00:00:00\", \"2020-03-16T00:00:00\", \"2020-03-17T00:00:00\", \"2020-03-18T00:00:00\", \"2020-03-19T00:00:00\", \"2020-03-20T00:00:00\", \"2020-03-21T00:00:00\", \"2020-03-22T00:00:00\", \"2020-03-23T00:00:00\", \"2020-03-24T00:00:00\", \"2020-03-25T00:00:00\", \"2020-03-26T00:00:00\", \"2020-03-27T00:00:00\", \"2020-03-28T00:00:00\", \"2020-03-29T00:00:00\", \"2020-03-30T00:00:00\", \"2020-03-31T00:00:00\", \"2020-04-01T00:00:00\", \"2020-04-02T00:00:00\", \"2020-04-03T00:00:00\", \"2020-04-04T00:00:00\", \"2020-04-05T00:00:00\", \"2020-04-06T00:00:00\", \"2020-04-07T00:00:00\", \"2020-04-08T00:00:00\", \"2020-04-09T00:00:00\", \"2020-04-10T00:00:00\", \"2020-04-11T00:00:00\", \"2020-04-12T00:00:00\", \"2020-04-13T00:00:00\", \"2020-04-14T00:00:00\", \"2020-04-15T00:00:00\", \"2020-04-16T00:00:00\", \"2020-04-17T00:00:00\", \"2020-04-18T00:00:00\", \"2020-04-19T00:00:00\", \"2020-04-20T00:00:00\", \"2020-04-21T00:00:00\", \"2020-04-22T00:00:00\", \"2020-04-23T00:00:00\", \"2020-04-24T00:00:00\", \"2020-04-25T00:00:00\", \"2020-04-26T00:00:00\", \"2020-04-27T00:00:00\", \"2020-04-28T00:00:00\", \"2020-04-29T00:00:00\", \"2020-04-30T00:00:00\", \"2020-05-01T00:00:00\", \"2020-05-02T00:00:00\", \"2020-05-03T00:00:00\", \"2020-05-04T00:00:00\", \"2020-05-05T00:00:00\", \"2020-05-06T00:00:00\", \"2020-05-07T00:00:00\", \"2020-05-08T00:00:00\", \"2020-05-09T00:00:00\", \"2020-05-10T00:00:00\", \"2020-05-11T00:00:00\", \"2020-05-12T00:00:00\"], \"xaxis\": \"x\", \"y\": [-1006.1081445197368, -567.4880745332952, 881.0168889165976, 1861.1218104759662, 1190.3995262292076, -689.3035202697982, -1914.8694079116094, -1000.1388019308616, -561.5185804493292, 886.9865344898636, 1867.0916075500336, 1196.369466323094, -683.3334371472876, -1908.8991817748567, -994.1684959665693, -555.5483231432692, 892.9567431444784, 1873.0617675493081, 1202.3396444861319, -677.363240817461, -1902.9289672756468, -988.1983011951986, -549.5781481009728, 898.9268984587629, 1879.0319024073294, 1208.3096775285871, -671.3933095908471, -1896.9591378645885, -982.2283390096906, -543.6080531408717, 904.8971261932132, 1885.004104039695, 1214.28385305924, -665.4171601594642, -1890.980993459403, -976.2483331313695, -537.6261857947353, 910.8808550153597, 1943.9490106996377, 1326.1899375659923, -500.54989782134743, -1665.2243165620393, -689.6022416794389, -190.09067978106316, 1321.063442189139, 2363.817522266269, 1755.7443735230706, 349.04161161379204, -403.52399145260506, 984.2068991114404, 1895.8272766901448, 3821.312789507918, 5278.398260432729, 5084.656502536706, 5408.001012319159, 6385.482680945559, 9503.26084320097, 15893.211361579699, 23293.046773424547, 30224.48214338486, 35505.0902845177, 45560.01616007433, 56269.07919447688, 69118.43872250516, 86569.77219376323, 105030.99055848272, 123023.80888131847, 145893.51259629242, 167554.23554902832, 189869.09566060887, 214324.2522658156, 244404.83107080378, 275495.2947692557, 306117.3584258187, 336239.6106866852, 365152.88218529633, 394720.29084276315, 426427.996002379, 457659.5906490133, 489901.07018911024, 521674.14968731906, 550389.1197154607, 577895.1089813501, 606055.2354060968, 635488.1086525696, 664444.8713860576, 694411.519013016, 723909.7665980824, 751757.1869543254, 778395.6265483176, 805688.203301169, 835121.0765476429, 864077.839281131, 894044.4869080911, 923542.7344931543, 951390.1548493964, 978028.5944433967, 1005321.1711962421, 1034754.044442716, 1063710.807176204, 1093677.4548031578, 1123175.7023882258, 1151023.122744467, 1177661.5623384684, 1204954.139091314, 1234387.0123377894, 1263343.7750712773, 1293310.4226982319, 1322808.6702832978, 1350656.0906395386, 1377294.5302335387, 1404587.1069863872], \"yaxis\": \"y\"}],\n",
       "                        {\"barmode\": \"relative\", \"coloraxis\": {\"colorbar\": {\"title\": {\"text\": \"ForecastedNewCases\"}}, \"colorscale\": [[0.0, \"#0d0887\"], [0.1111111111111111, \"#46039f\"], [0.2222222222222222, \"#7201a8\"], [0.3333333333333333, \"#9c179e\"], [0.4444444444444444, \"#bd3786\"], [0.5555555555555556, \"#d8576b\"], [0.6666666666666666, \"#ed7953\"], [0.7777777777777778, \"#fb9f3a\"], [0.8888888888888888, \"#fdca26\"], [1.0, \"#f0f921\"]]}, \"height\": 600, \"legend\": {\"tracegroupgap\": 0}, \"plot_bgcolor\": \"rgb(230, 230, 230)\", \"template\": {\"data\": {\"bar\": [{\"error_x\": {\"color\": \"#2a3f5f\"}, \"error_y\": {\"color\": \"#2a3f5f\"}, \"marker\": {\"line\": {\"color\": \"#E5ECF6\", \"width\": 0.5}}, \"type\": \"bar\"}], \"barpolar\": [{\"marker\": {\"line\": {\"color\": \"#E5ECF6\", \"width\": 0.5}}, \"type\": \"barpolar\"}], \"carpet\": [{\"aaxis\": {\"endlinecolor\": \"#2a3f5f\", \"gridcolor\": \"white\", \"linecolor\": \"white\", \"minorgridcolor\": \"white\", \"startlinecolor\": \"#2a3f5f\"}, \"baxis\": {\"endlinecolor\": \"#2a3f5f\", \"gridcolor\": \"white\", \"linecolor\": \"white\", \"minorgridcolor\": \"white\", \"startlinecolor\": \"#2a3f5f\"}, \"type\": \"carpet\"}], \"choropleth\": [{\"colorbar\": {\"outlinewidth\": 0, \"ticks\": \"\"}, \"type\": \"choropleth\"}], \"contour\": [{\"colorbar\": {\"outlinewidth\": 0, \"ticks\": \"\"}, \"colorscale\": [[0.0, \"#0d0887\"], [0.1111111111111111, \"#46039f\"], [0.2222222222222222, \"#7201a8\"], [0.3333333333333333, \"#9c179e\"], [0.4444444444444444, \"#bd3786\"], [0.5555555555555556, \"#d8576b\"], [0.6666666666666666, \"#ed7953\"], [0.7777777777777778, \"#fb9f3a\"], [0.8888888888888888, \"#fdca26\"], [1.0, \"#f0f921\"]], \"type\": \"contour\"}], \"contourcarpet\": [{\"colorbar\": {\"outlinewidth\": 0, \"ticks\": \"\"}, \"type\": \"contourcarpet\"}], \"heatmap\": [{\"colorbar\": {\"outlinewidth\": 0, \"ticks\": \"\"}, \"colorscale\": [[0.0, \"#0d0887\"], [0.1111111111111111, \"#46039f\"], [0.2222222222222222, \"#7201a8\"], [0.3333333333333333, \"#9c179e\"], [0.4444444444444444, \"#bd3786\"], [0.5555555555555556, \"#d8576b\"], [0.6666666666666666, \"#ed7953\"], [0.7777777777777778, \"#fb9f3a\"], [0.8888888888888888, \"#fdca26\"], [1.0, \"#f0f921\"]], \"type\": \"heatmap\"}], \"heatmapgl\": [{\"colorbar\": {\"outlinewidth\": 0, \"ticks\": \"\"}, \"colorscale\": [[0.0, \"#0d0887\"], [0.1111111111111111, \"#46039f\"], [0.2222222222222222, \"#7201a8\"], [0.3333333333333333, \"#9c179e\"], [0.4444444444444444, \"#bd3786\"], [0.5555555555555556, \"#d8576b\"], [0.6666666666666666, \"#ed7953\"], [0.7777777777777778, \"#fb9f3a\"], [0.8888888888888888, \"#fdca26\"], [1.0, \"#f0f921\"]], \"type\": \"heatmapgl\"}], \"histogram\": [{\"marker\": {\"colorbar\": {\"outlinewidth\": 0, \"ticks\": \"\"}}, \"type\": \"histogram\"}], \"histogram2d\": [{\"colorbar\": {\"outlinewidth\": 0, \"ticks\": \"\"}, \"colorscale\": [[0.0, \"#0d0887\"], [0.1111111111111111, \"#46039f\"], [0.2222222222222222, \"#7201a8\"], [0.3333333333333333, \"#9c179e\"], [0.4444444444444444, \"#bd3786\"], [0.5555555555555556, \"#d8576b\"], [0.6666666666666666, \"#ed7953\"], [0.7777777777777778, \"#fb9f3a\"], [0.8888888888888888, \"#fdca26\"], [1.0, \"#f0f921\"]], \"type\": \"histogram2d\"}], \"histogram2dcontour\": [{\"colorbar\": {\"outlinewidth\": 0, \"ticks\": \"\"}, \"colorscale\": [[0.0, \"#0d0887\"], [0.1111111111111111, \"#46039f\"], [0.2222222222222222, \"#7201a8\"], [0.3333333333333333, \"#9c179e\"], [0.4444444444444444, \"#bd3786\"], [0.5555555555555556, \"#d8576b\"], [0.6666666666666666, \"#ed7953\"], [0.7777777777777778, \"#fb9f3a\"], [0.8888888888888888, \"#fdca26\"], [1.0, \"#f0f921\"]], \"type\": \"histogram2dcontour\"}], \"mesh3d\": [{\"colorbar\": {\"outlinewidth\": 0, \"ticks\": \"\"}, \"type\": \"mesh3d\"}], \"parcoords\": [{\"line\": {\"colorbar\": {\"outlinewidth\": 0, \"ticks\": \"\"}}, \"type\": \"parcoords\"}], \"pie\": [{\"automargin\": true, \"type\": \"pie\"}], \"scatter\": [{\"marker\": {\"colorbar\": {\"outlinewidth\": 0, \"ticks\": \"\"}}, \"type\": \"scatter\"}], \"scatter3d\": [{\"line\": {\"colorbar\": {\"outlinewidth\": 0, \"ticks\": \"\"}}, \"marker\": {\"colorbar\": {\"outlinewidth\": 0, \"ticks\": \"\"}}, \"type\": \"scatter3d\"}], \"scattercarpet\": [{\"marker\": {\"colorbar\": {\"outlinewidth\": 0, \"ticks\": \"\"}}, \"type\": \"scattercarpet\"}], \"scattergeo\": [{\"marker\": {\"colorbar\": {\"outlinewidth\": 0, \"ticks\": \"\"}}, \"type\": \"scattergeo\"}], \"scattergl\": [{\"marker\": {\"colorbar\": {\"outlinewidth\": 0, \"ticks\": \"\"}}, \"type\": \"scattergl\"}], \"scattermapbox\": [{\"marker\": {\"colorbar\": {\"outlinewidth\": 0, \"ticks\": \"\"}}, \"type\": \"scattermapbox\"}], \"scatterpolar\": [{\"marker\": {\"colorbar\": {\"outlinewidth\": 0, \"ticks\": \"\"}}, \"type\": \"scatterpolar\"}], \"scatterpolargl\": [{\"marker\": {\"colorbar\": {\"outlinewidth\": 0, \"ticks\": \"\"}}, \"type\": \"scatterpolargl\"}], \"scatterternary\": [{\"marker\": {\"colorbar\": {\"outlinewidth\": 0, \"ticks\": \"\"}}, \"type\": \"scatterternary\"}], \"surface\": [{\"colorbar\": {\"outlinewidth\": 0, \"ticks\": \"\"}, \"colorscale\": [[0.0, \"#0d0887\"], [0.1111111111111111, \"#46039f\"], [0.2222222222222222, \"#7201a8\"], [0.3333333333333333, \"#9c179e\"], [0.4444444444444444, \"#bd3786\"], [0.5555555555555556, \"#d8576b\"], [0.6666666666666666, \"#ed7953\"], [0.7777777777777778, \"#fb9f3a\"], [0.8888888888888888, \"#fdca26\"], [1.0, \"#f0f921\"]], \"type\": \"surface\"}], \"table\": [{\"cells\": {\"fill\": {\"color\": \"#EBF0F8\"}, \"line\": {\"color\": \"white\"}}, \"header\": {\"fill\": {\"color\": \"#C8D4E3\"}, \"line\": {\"color\": \"white\"}}, \"type\": \"table\"}]}, \"layout\": {\"annotationdefaults\": {\"arrowcolor\": \"#2a3f5f\", \"arrowhead\": 0, \"arrowwidth\": 1}, \"coloraxis\": {\"colorbar\": {\"outlinewidth\": 0, \"ticks\": \"\"}}, \"colorscale\": {\"diverging\": [[0, \"#8e0152\"], [0.1, \"#c51b7d\"], [0.2, \"#de77ae\"], [0.3, \"#f1b6da\"], [0.4, \"#fde0ef\"], [0.5, \"#f7f7f7\"], [0.6, \"#e6f5d0\"], [0.7, \"#b8e186\"], [0.8, \"#7fbc41\"], [0.9, \"#4d9221\"], [1, \"#276419\"]], \"sequential\": [[0.0, \"#0d0887\"], [0.1111111111111111, \"#46039f\"], [0.2222222222222222, \"#7201a8\"], [0.3333333333333333, \"#9c179e\"], [0.4444444444444444, \"#bd3786\"], [0.5555555555555556, \"#d8576b\"], [0.6666666666666666, \"#ed7953\"], [0.7777777777777778, \"#fb9f3a\"], [0.8888888888888888, \"#fdca26\"], [1.0, \"#f0f921\"]], \"sequentialminus\": [[0.0, \"#0d0887\"], [0.1111111111111111, \"#46039f\"], [0.2222222222222222, \"#7201a8\"], [0.3333333333333333, \"#9c179e\"], [0.4444444444444444, \"#bd3786\"], [0.5555555555555556, \"#d8576b\"], [0.6666666666666666, \"#ed7953\"], [0.7777777777777778, \"#fb9f3a\"], [0.8888888888888888, \"#fdca26\"], [1.0, \"#f0f921\"]]}, \"colorway\": [\"#636efa\", \"#EF553B\", \"#00cc96\", \"#ab63fa\", \"#FFA15A\", \"#19d3f3\", \"#FF6692\", \"#B6E880\", \"#FF97FF\", \"#FECB52\"], \"font\": {\"color\": \"#2a3f5f\"}, \"geo\": {\"bgcolor\": \"white\", \"lakecolor\": \"white\", \"landcolor\": \"#E5ECF6\", \"showlakes\": true, \"showland\": true, \"subunitcolor\": \"white\"}, \"hoverlabel\": {\"align\": \"left\"}, \"hovermode\": \"closest\", \"mapbox\": {\"style\": \"light\"}, \"paper_bgcolor\": \"white\", \"plot_bgcolor\": \"#E5ECF6\", \"polar\": {\"angularaxis\": {\"gridcolor\": \"white\", \"linecolor\": \"white\", \"ticks\": \"\"}, \"bgcolor\": \"#E5ECF6\", \"radialaxis\": {\"gridcolor\": \"white\", \"linecolor\": \"white\", \"ticks\": \"\"}}, \"scene\": {\"xaxis\": {\"backgroundcolor\": \"#E5ECF6\", \"gridcolor\": \"white\", \"gridwidth\": 2, \"linecolor\": \"white\", \"showbackground\": true, \"ticks\": \"\", \"zerolinecolor\": \"white\"}, \"yaxis\": {\"backgroundcolor\": \"#E5ECF6\", \"gridcolor\": \"white\", \"gridwidth\": 2, \"linecolor\": \"white\", \"showbackground\": true, \"ticks\": \"\", \"zerolinecolor\": \"white\"}, \"zaxis\": {\"backgroundcolor\": \"#E5ECF6\", \"gridcolor\": \"white\", \"gridwidth\": 2, \"linecolor\": \"white\", \"showbackground\": true, \"ticks\": \"\", \"zerolinecolor\": \"white\"}}, \"shapedefaults\": {\"line\": {\"color\": \"#2a3f5f\"}}, \"ternary\": {\"aaxis\": {\"gridcolor\": \"white\", \"linecolor\": \"white\", \"ticks\": \"\"}, \"baxis\": {\"gridcolor\": \"white\", \"linecolor\": \"white\", \"ticks\": \"\"}, \"bgcolor\": \"#E5ECF6\", \"caxis\": {\"gridcolor\": \"white\", \"linecolor\": \"white\", \"ticks\": \"\"}}, \"title\": {\"x\": 0.05}, \"xaxis\": {\"automargin\": true, \"gridcolor\": \"white\", \"linecolor\": \"white\", \"ticks\": \"\", \"title\": {\"standoff\": 15}, \"zerolinecolor\": \"white\", \"zerolinewidth\": 2}, \"yaxis\": {\"automargin\": true, \"gridcolor\": \"white\", \"linecolor\": \"white\", \"ticks\": \"\", \"title\": {\"standoff\": 15}, \"zerolinecolor\": \"white\", \"zerolinewidth\": 2}}}, \"title\": {\"text\": \"New Coronavirus Cases in the US\"}, \"xaxis\": {\"anchor\": \"y\", \"domain\": [0.0, 1.0], \"title\": {\"text\": \"Date\"}}, \"yaxis\": {\"anchor\": \"x\", \"domain\": [0.0, 1.0], \"title\": {\"text\": \"ForecastedNewCases\"}}},\n",
       "                        {\"responsive\": true}\n",
       "                    ).then(function(){\n",
       "                            \n",
       "var gd = document.getElementById('c656ae91-6c2c-4c6c-96a7-84ec88d0bad2');\n",
       "var x = new MutationObserver(function (mutations, observer) {{\n",
       "        var display = window.getComputedStyle(gd).display;\n",
       "        if (!display || display === 'none') {{\n",
       "            console.log([gd, 'removed!']);\n",
       "            Plotly.purge(gd);\n",
       "            observer.disconnect();\n",
       "        }}\n",
       "}});\n",
       "\n",
       "// Listen for the removal of the full notebook cells\n",
       "var notebookContainer = gd.closest('#notebook-container');\n",
       "if (notebookContainer) {{\n",
       "    x.observe(notebookContainer, {childList: true});\n",
       "}}\n",
       "\n",
       "// Listen for the clearing of the current output cell\n",
       "var outputEl = gd.closest('.output');\n",
       "if (outputEl) {{\n",
       "    x.observe(outputEl, {childList: true});\n",
       "}}\n",
       "\n",
       "                        })\n",
       "                };\n",
       "                });\n",
       "            </script>\n",
       "        </div>"
      ]
     },
     "metadata": {},
     "output_type": "display_data"
    }
   ],
   "source": [
    "fig = px.bar(forecast_dailyNcases2, x=\"Date\", y=\"ForecastedNewCases\", color='ForecastedNewCases', orientation='v', height=600,\n",
    "             title='New Coronavirus Cases in the US', color_discrete_sequence = px.colors.cyclical.IceFire)\n",
    "\n",
    "fig.update_layout(plot_bgcolor='rgb(230, 230, 230)')\n",
    "fig.show()"
   ]
  },
  {
   "cell_type": "markdown",
   "metadata": {},
   "source": [
    "### Reference\n",
    "us_daily.csv - https://github.com/COVID19Tracking/covid-tracking-data/blob/master/data/us_daily.csv\n",
    "worldmetersUS1.csv - https://www.worldometers.info/coronavirus/country/us/\n",
    "Notebook Reference - https://colab.research.google.com/drive/1_I9hdYF9tE4EKI9WEuojYdUYXHXG04I9#scrollTo=UDv_-qMRepkF"
   ]
  },
  {
   "cell_type": "code",
   "execution_count": null,
   "metadata": {},
   "outputs": [],
   "source": []
  }
 ],
 "metadata": {
  "kernelspec": {
   "display_name": "Python 3",
   "language": "python",
   "name": "python3"
  },
  "language_info": {
   "codemirror_mode": {
    "name": "ipython",
    "version": 3
   },
   "file_extension": ".py",
   "mimetype": "text/x-python",
   "name": "python",
   "nbconvert_exporter": "python",
   "pygments_lexer": "ipython3",
   "version": "3.7.7"
  }
 },
 "nbformat": 4,
 "nbformat_minor": 4
}
